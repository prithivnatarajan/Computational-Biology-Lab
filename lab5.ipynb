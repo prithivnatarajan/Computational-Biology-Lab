{
 "cells": [
  {
   "cell_type": "markdown",
   "metadata": {},
   "source": [
    "# LAB 5\n",
    "# function description mentioned as comments"
   ]
  },
  {
   "cell_type": "code",
   "execution_count": 1,
   "metadata": {
    "collapsed": true
   },
   "outputs": [],
   "source": [
    "import sqlite3"
   ]
  },
  {
   "cell_type": "code",
   "execution_count": 2,
   "metadata": {},
   "outputs": [
    {
     "data": {
      "text/plain": [
       "<sqlite3.Cursor at 0x10f8ea6c0>"
      ]
     },
     "execution_count": 2,
     "metadata": {},
     "output_type": "execute_result"
    }
   ],
   "source": [
    "conn = sqlite3.connect('lab5.db')\n",
    "c=conn.cursor()\n",
    "c.execute(\"\"\"CREATE TABLE ribo (name TEXT, start_obs1 TEXT, end_obs1 TEXT, start_obs2 TEXT, end_obs2 TEXT, start_red TEXT, end_red TEXT);\"\"\")\n",
    "\n",
    "\n",
    "\n",
    "\n",
    "\n",
    "\n"
   ]
  },
  {
   "cell_type": "code",
   "execution_count": 8,
   "metadata": {},
   "outputs": [
    {
     "data": {
      "text/plain": [
       "<sqlite3.Cursor at 0x10f8ea6c0>"
      ]
     },
     "execution_count": 8,
     "metadata": {},
     "output_type": "execute_result"
    }
   ],
   "source": [
    "c.execute(\"\"\"DROP TABLE ribo\"\"\")\n",
    "c.execute(\"\"\"CREATE TABLE ribo (name TEXT, start_obs1 TEXT, end_obs1 TEXT, start_obs2 TEXT, end_obs2 TEXT, start_red TEXT, end_red TEXT, seq TEXT);\"\"\")\n",
    "#c.execute(\"\"\"INSERT INTO pathway (name, start_obs1, end_obs1,start_obs2,end_obs2,start_red,end_red,seq) VALUES ('','','','','','');\"\"\")\n",
    "c.execute(\"\"\"DROP TABLE ribo\"\"\")\n",
    "c.execute(\"\"\"CREATE TABLE ribo (name TEXT, start_obs1 TEXT, end_obs1 TEXT, start_obs2 TEXT, end_obs2 TEXT, start_red TEXT, end_red TEXT,start_red2 TEXT, end_red2 TEXT, seq TEXT);\"\"\")\n",
    "\n"
   ]
  },
  {
   "cell_type": "markdown",
   "metadata": {},
   "source": [
    "# Creating Tables using SQL for name, obs1, obs2, red1 and red2"
   ]
  },
  {
   "cell_type": "code",
   "execution_count": 9,
   "metadata": {},
   "outputs": [
    {
     "data": {
      "text/plain": [
       "<sqlite3.Cursor at 0x10f8ea6c0>"
      ]
     },
     "execution_count": 9,
     "metadata": {},
     "output_type": "execute_result"
    }
   ],
   "source": [
    "c.execute(\"\"\"INSERT INTO ribo (name, start_obs1, end_obs1,start_obs2,end_obs2,start_red,end_red,start_red2,end_red2,seq) VALUES ('YES-1','26','47','','','16','21','49','54','GGGCGACCCUGAUGAGCUUGGUUUAGCUCGUCACUGUCCAGGUUCAAUCAGGCGAAACGGUGAAAGCCGUAGGUUGCCC');\"\"\")\n",
    "c.execute(\"\"\"INSERT INTO ribo (name, start_obs1, end_obs1,start_obs2,end_obs2,start_red,end_red,start_red2,end_red2,seq) VALUES ('NOT-1','44','66','','','40','43','74','77','GGCAGGUACAUACAGCUGAUGAGUCCCAAAUAGGACGAAACGCGACACACACCACUAAACCGUGCAGUGUUUUGCGUCCUGUAUUCCACUGC');\"\"\")\n",
    "c.execute(\"\"\"INSERT INTO ribo (name, start_obs1, end_obs1,start_obs2,end_obs2,start_red,end_red,start_red2,end_red2,seq) VALUES ('AND-1','30','45','49','64','16','23','70','77','GGGCGACCCUGAUGAGCUUGGUUUAGUAUUUACAGCUCCAUACAUGAGGUGUUAUCCCUAUGCAAGUUCGAUCAGGCGAAACGGUGAAAGCCGUAGGUUGCCCAGAGACAAU');\"\"\")\n",
    "c.execute(\"\"\"INSERT INTO ribo (name, start_obs1, end_obs1,start_obs2,end_obs2,start_red,end_red,start_red2,end_red2,seq) VALUES ('OR-1','27','46','47','66','16','26','67','77','GGGCGACCCUGAUGAGCUUGGUUGAGUAUUUACAGCUCCAUACAUGAGGUGUUCUCCCUACGCAAGUUCGAUCAGGCGAAACGGUGAAAGCCGUAGGUUGCCC');\"\"\")\n",
    "\n",
    "\n",
    "\n",
    "\n",
    "\n"
   ]
  },
  {
   "cell_type": "code",
   "execution_count": 2,
   "metadata": {
    "collapsed": true
   },
   "outputs": [],
   "source": [
    "yes1 = 'GGGCGACCCUGAUGAGCUUGAGUUUAGCUCGUCACUGUCCAGGUUCAAUCAGGCGAAACGGUGAAAGCCGUAGGUUGCCC'\n",
    "not1='GGCAGGUACAUACAGCUGAUGAGUCCCAAAUAGGACGAAACGCGACACACACCACUAAACCGUGCAGUGUUUUGCGUCCUGUAUUCCACUGC'\n",
    "or1='GGGCGACCCUGAUGAGCUUGGUUGAGUAUUUACAGCUCCAUACAUGAGGUGUUCUCCCUACGCAAGUUCGAUCAGGCGAAACGGUGAAAGCCGUAGGUUGCCC'\n",
    "and1='GGGCGACCCUGAUGAGCUUGGUUUAGUAUUUACAGCUCCAUACAUGAGGUGUUAUCCCUAUGCAAGUUCGAUCAGGCGAAACGGUGAAAGCCGUAGGUUGCCCAGAGACAAU'"
   ]
  },
  {
   "cell_type": "code",
   "execution_count": 6,
   "metadata": {},
   "outputs": [
    {
     "data": {
      "text/plain": [
       "80"
      ]
     },
     "execution_count": 6,
     "metadata": {},
     "output_type": "execute_result"
    }
   ],
   "source": [
    "len(yes1)"
   ]
  },
  {
   "cell_type": "code",
   "execution_count": 11,
   "metadata": {
    "collapsed": true
   },
   "outputs": [],
   "source": [
    "def convert(list1,list2):\n",
    "    for i in list1:\n",
    "        list2.append(i)"
   ]
  },
  {
   "cell_type": "code",
   "execution_count": 22,
   "metadata": {},
   "outputs": [],
   "source": [
    "YES1=[]\n",
    "OR1=[]\n",
    "NOT1=[]\n",
    "AND1=[]\n",
    "convert(yes1,YES1)\n",
    "convert(or1,OR1)\n",
    "convert(not1,NOT1)\n",
    "convert(and1,AND1)\n",
    "yes_c=YES1\n",
    "or_c=OR1\n",
    "not_c=NOT1\n",
    "and_c=AND1"
   ]
  },
  {
   "cell_type": "markdown",
   "metadata": {},
   "source": [
    "# Defining a function to output a constraint format with . and x for a sequence"
   ]
  },
  {
   "cell_type": "code",
   "execution_count": 19,
   "metadata": {},
   "outputs": [],
   "source": [
    "def constraint(list1,a,b):\n",
    "    for i in range(len(list1)):#26/47\n",
    "        if i>=a and i<=b:\n",
    "            list1[i]='x'\n",
    "        else:\n",
    "            list1[i]='.'\n",
    "    blank=''\n",
    "    for j in list1:\n",
    "        blank = blank+j\n",
    "    return blank\n",
    "    \n",
    "        \n",
    "    \n",
    "    "
   ]
  },
  {
   "cell_type": "code",
   "execution_count": 20,
   "metadata": {},
   "outputs": [],
   "source": [
    "yes_constraint= constraint(yes_c,25,46)"
   ]
  },
  {
   "cell_type": "code",
   "execution_count": 21,
   "metadata": {},
   "outputs": [
    {
     "name": "stdout",
     "output_type": "stream",
     "text": [
      ".........................xxxxxxxxxxxxxxxxxxxxxx.................................\n"
     ]
    }
   ],
   "source": [
    "print(yes_constraint)"
   ]
  },
  {
   "cell_type": "code",
   "execution_count": 23,
   "metadata": {
    "collapsed": true
   },
   "outputs": [],
   "source": [
    "not_constraint = constraint(not_c,43,65)"
   ]
  },
  {
   "cell_type": "code",
   "execution_count": 24,
   "metadata": {
    "collapsed": true
   },
   "outputs": [],
   "source": [
    "and_constraint_1 = constraint(and_c, 29,44)"
   ]
  },
  {
   "cell_type": "code",
   "execution_count": 25,
   "metadata": {
    "collapsed": true
   },
   "outputs": [],
   "source": [
    "and_constraint_2 = constraint(and_c, 48,63)"
   ]
  },
  {
   "cell_type": "markdown",
   "metadata": {},
   "source": [
    "# for Or1 and And1 when both OBS1 and OBS2 are on"
   ]
  },
  {
   "cell_type": "code",
   "execution_count": 26,
   "metadata": {
    "collapsed": true
   },
   "outputs": [],
   "source": [
    "def constraint_multi(list1,a,b,c,d):\n",
    "    for i in range(len(list1)):#26/47\n",
    "        if i>=a and i<=b:\n",
    "            list1[i]='x'\n",
    "        elif i>=c and i<=d:\n",
    "            list1[i]='x'\n",
    "        else:\n",
    "            list1[i]='.'\n",
    "    blank=''\n",
    "    for j in list1:\n",
    "        blank = blank+j\n",
    "    return blank"
   ]
  },
  {
   "cell_type": "code",
   "execution_count": 27,
   "metadata": {
    "collapsed": true
   },
   "outputs": [],
   "source": [
    "and_constraint_3 = constraint_multi(and_c,29,44,48,63)"
   ]
  },
  {
   "cell_type": "code",
   "execution_count": 28,
   "metadata": {
    "collapsed": true
   },
   "outputs": [],
   "source": [
    "or_constraint_1 = constraint(or_c, 26,45)\n",
    "or_constraint_2 = constraint(or_c, 46,65)\n",
    "or_constraint_3 = constraint_multi(or_c,26,45,46,65)"
   ]
  },
  {
   "cell_type": "code",
   "execution_count": 29,
   "metadata": {},
   "outputs": [
    {
     "name": "stdout",
     "output_type": "stream",
     "text": [
      ".............................xxxxxxxxxxxxxxxx...xxxxxxxxxxxxxxxx................................................\n"
     ]
    }
   ],
   "source": [
    "print(and_constraint_3)"
   ]
  },
  {
   "cell_type": "code",
   "execution_count": 30,
   "metadata": {
    "collapsed": true
   },
   "outputs": [],
   "source": [
    "with open(\"test.seq\", \"w\") as text_file:\n",
    "    text_file.write(\"%s\" % yes1)"
   ]
  },
  {
   "cell_type": "markdown",
   "metadata": {},
   "source": [
    "# using subprocess to run RNAfold along with XQuartz to display RNAplot from rna.ps file made by default by running RNAfold\n",
    "\n",
    "# Running for YES1\n",
    "# the first red region(half of it) is bonded\n",
    "# the second region is bonded with one nuclotide unbonded"
   ]
  },
  {
   "cell_type": "code",
   "execution_count": 56,
   "metadata": {},
   "outputs": [
    {
     "name": "stdout",
     "output_type": "stream",
     "text": [
      "output 1\n",
      "\n",
      "output2\n",
      "GGGCGACCCUGAUGAGCUUGAGUUUAGCUCGUCACUGUCCAGGUUCAAUCAGGCGAAACGGUGAAAGCCGUAGGUUGCCC\n",
      "((((((((.(((((((((.......))))))))).((.((.(((...))).))))..(((((....))))).)))))))) (-33.00)\n",
      "((((((((.(((((((((.......))))))))).{(.{{.{{{...,}).))},..(((((....))))).)))))))) [-34.58]\n",
      "((((((((.(((((((((.......)))))))))..(................)...(((((....))))).)))))))) {-27.70 d=7.98}\n",
      " frequency of mfe structure in ensemble 0.0773552; ensemble diversity 12.30 \n",
      "\n",
      "output 1\n",
      "Warning: locale not supported by Xlib, locale set to C\n",
      "\n",
      "output2\n",
      "\n"
     ]
    }
   ],
   "source": [
    "test1=yes1\n",
    "import sys\n",
    "import subprocess\n",
    "test2=subprocess.run(['RNAfold','-p'],input=bytes(test1,'ascii'),stdout=subprocess.PIPE,stderr=subprocess.PIPE)\n",
    "\n",
    "print(\"output 1\")\n",
    "print(test2.stderr.decode())\n",
    "\n",
    "print(\"output2\")\n",
    "print(test2.stdout.decode())\n",
    "test2=subprocess.run(['gv','rna.ps'],stdout=subprocess.PIPE,stderr=subprocess.PIPE)\n",
    "\n",
    "print(\"output 1\")\n",
    "print(test2.stderr.decode())\n",
    "\n",
    "print(\"output2\")\n",
    "print(test2.stdout.decode())\n",
    "\n",
    "\n"
   ]
  },
  {
   "cell_type": "markdown",
   "metadata": {},
   "source": [
    "\n",
    "![YES1](http://localhost:8888/notebooks/BIOE231/YES1_without.png)"
   ]
  },
  {
   "cell_type": "markdown",
   "metadata": {},
   "source": [
    "# Making the constraint file for how it will read in command line"
   ]
  },
  {
   "cell_type": "code",
   "execution_count": 57,
   "metadata": {},
   "outputs": [
    {
     "data": {
      "text/plain": [
       "'GGGCGACCCUGAUGAGCUUGAGUUUAGCUCGUCACUGUCCAGGUUCAAUCAGGCGAAACGGUGAAAGCCGUAGGUUGCCC\\n.........................xxxxxxxxxxxxxxxxxxxxxx.................................'"
      ]
     },
     "execution_count": 57,
     "metadata": {},
     "output_type": "execute_result"
    }
   ],
   "source": [
    "test_c=yes1+'\\n'+yes_constraint\n",
    "test_c = \"\"\"GGGCGACCCUGAUGAGCUUGAGUUUAGCUCGUCACUGUCCAGGUUCAAUCAGGCGAAACGGUGAAAGCCGUAGGUUGCCC\n",
    ".........................xxxxxxxxxxxxxxxxxxxxxx.................................\"\"\"\n",
    "test_c"
   ]
  },
  {
   "cell_type": "markdown",
   "metadata": {},
   "source": [
    "# testing RNAfold -C"
   ]
  },
  {
   "cell_type": "code",
   "execution_count": 58,
   "metadata": {},
   "outputs": [
    {
     "name": "stdout",
     "output_type": "stream",
     "text": [
      "output 1\n",
      "\n",
      "output2\n",
      "GGGCGACCCUGAUGAGCUUGAGUUUAGCUCGUCACUGUCCAGGUUCAAUCAGGCGAAACGGUGAAAGCCGUAGGUUGCCC\n",
      "((((((((.......((((((...........................))))))...(((((....))))).)))))))) (-24.50)\n",
      "((((((((.......((((((...........................))))))...(((((....))))).)))))))) [-24.86]\n",
      "((((((((.......((((((...........................))))))...(((((....))))).)))))))) {-24.50 d=0.85}\n",
      " frequency of mfe structure in ensemble 0.560984; ensemble diversity 1.59  \n",
      "\n"
     ]
    }
   ],
   "source": [
    "testc=yes_constraint\n",
    "test2=subprocess.run(['RNAfold','-p','-C'],input=bytes(test_c,'ascii'),stdout=subprocess.PIPE,stderr=subprocess.PIPE)\n",
    "\n",
    "print(\"output 1\")\n",
    "print(test2.stderr.decode())\n",
    "\n",
    "print(\"output2\")\n",
    "print(test2.stdout.decode())"
   ]
  },
  {
   "cell_type": "markdown",
   "metadata": {},
   "source": [
    "# YES1 with Constraint in OBS1\n",
    "# red regions are bonded with each other"
   ]
  },
  {
   "cell_type": "code",
   "execution_count": 59,
   "metadata": {},
   "outputs": [
    {
     "name": "stdout",
     "output_type": "stream",
     "text": [
      "output 1\n",
      "Warning: locale not supported by Xlib, locale set to C\n",
      "\n",
      "output2\n",
      "\n"
     ]
    }
   ],
   "source": [
    "test2=subprocess.run(['gv','rna.ps'],stdout=subprocess.PIPE,stderr=subprocess.PIPE)\n",
    "\n",
    "print(\"output 1\")\n",
    "print(test2.stderr.decode())\n",
    "\n",
    "print(\"output2\")\n",
    "print(test2.stdout.decode())"
   ]
  },
  {
   "cell_type": "markdown",
   "metadata": {},
   "source": [
    "![yes1_constraint](yes1_c.png)"
   ]
  },
  {
   "cell_type": "code",
   "execution_count": 70,
   "metadata": {
    "collapsed": true
   },
   "outputs": [],
   "source": [
    "\n",
    "def print_without_constraint(t1):\n",
    "    test2=subprocess.run(['RNAfold','-p'],input=bytes(t1,'ascii'),stdout=subprocess.PIPE,stderr=subprocess.PIPE)\n",
    "\n",
    "    print(\"output 1\")\n",
    "    print(test2.stderr.decode())\n",
    "\n",
    "    print(\"output2\")\n",
    "    print(test2.stdout.decode())\n",
    "    test2=subprocess.run(['gv','rna.ps'],stdout=subprocess.PIPE,stderr=subprocess.PIPE)\n",
    "\n",
    "    print(\"output 3\")\n",
    "    print(test2.stderr.decode())\n",
    "\n",
    "    print(\"output 4\")\n",
    "    print(test2.stdout.decode())\n",
    "\n"
   ]
  },
  {
   "cell_type": "code",
   "execution_count": 71,
   "metadata": {
    "collapsed": true
   },
   "outputs": [],
   "source": [
    "not_test=not1+'\\n'+not_constraint"
   ]
  },
  {
   "cell_type": "code",
   "execution_count": 72,
   "metadata": {
    "collapsed": true
   },
   "outputs": [],
   "source": [
    "def with_constraint(t1):\n",
    "    test2=subprocess.run(['RNAfold','-p','-C'],input=bytes(t1,'ascii'),stdout=subprocess.PIPE,stderr=subprocess.PIPE)\n",
    "\n",
    "    print(\"output 1\")\n",
    "    print(test2.stderr.decode())\n",
    "\n",
    "    print(\"output2\")\n",
    "    print(test2.stdout.decode())\n",
    "    test2=subprocess.run(['gv','rna.ps'],stdout=subprocess.PIPE,stderr=subprocess.PIPE)\n",
    "\n",
    "    print(\"output 3\")\n",
    "    print(test2.stderr.decode())\n",
    "\n",
    "    print(\"output 4\")\n",
    "    print(test2.stdout.decode())"
   ]
  },
  {
   "cell_type": "markdown",
   "metadata": {},
   "source": [
    "# running for NOT1 where the red regions are initially bonded\n",
    "# CG, GC, CG, AU"
   ]
  },
  {
   "cell_type": "code",
   "execution_count": 73,
   "metadata": {},
   "outputs": [
    {
     "name": "stdout",
     "output_type": "stream",
     "text": [
      "output 1\n",
      "\n",
      "output2\n",
      "GGCAGGUACAUACAGCUGAUGAGUCCCAAAUAGGACGAAACGCGACACACACCACUAAACCGUGCAGUGUUUUGCGUCCUGUAUUCCACUGC\n",
      ".((((....((((((.......((((......))))...((((((.((((..(((......)))..)))).)))))).))))))....)))) (-28.10)\n",
      ".((((....((((((.......((((......))))...((((((.((((..(((......)))..)))).)))))).))))))....)))) [-28.67]\n",
      ".((((....((((((.......((((......))))...((((((.((((..(((......)))..)))).)))))).))))))....)))) {-28.10 d=1.46}\n",
      " frequency of mfe structure in ensemble 0.396939; ensemble diversity 2.74  \n",
      "\n",
      "output 3\n",
      "Warning: locale not supported by Xlib, locale set to C\n",
      "\n",
      "output 4\n",
      "\n"
     ]
    }
   ],
   "source": [
    "print_without_constraint(not1) # NOT1 without constraint"
   ]
  },
  {
   "cell_type": "markdown",
   "metadata": {},
   "source": [
    "![not1](not1.png)"
   ]
  },
  {
   "cell_type": "markdown",
   "metadata": {},
   "source": [
    "# red regions are bonded with different regions and not to each other\n",
    "# CG, GC, AU, AU, AU, GU"
   ]
  },
  {
   "cell_type": "code",
   "execution_count": 74,
   "metadata": {},
   "outputs": [
    {
     "name": "stdout",
     "output_type": "stream",
     "text": [
      "output 1\n",
      "\n",
      "output2\n",
      "GGCAGGUACAUACAGCUGAUGAGUCCCAAAUAGGACGAAACGCGACACACACCACUAAACCGUGCAGUGUUUUGCGUCCUGUAUUCCACUGC\n",
      ".((((....((((((..((((.((((......))))(((((((.......................))))))).))))))))))....)))) (-20.80)\n",
      ".((((....((((((..((((.((((......))))(((((((.......................))))))).))))))))))....)))) [-21.26]\n",
      ".((((....((((((..((((.((((......))))(((((((.......................))))))).))))))))))....)))) {-20.80 d=3.28}\n",
      " frequency of mfe structure in ensemble 0.475598; ensemble diversity 5.92  \n",
      "\n",
      "output 3\n",
      "Warning: locale not supported by Xlib, locale set to C\n",
      "\n",
      "output 4\n",
      "\n"
     ]
    }
   ],
   "source": [
    "with_constraint(not_test) # NOT1 with constraint"
   ]
  },
  {
   "cell_type": "markdown",
   "metadata": {},
   "source": [
    "![not1_constraint](not1_c.png)"
   ]
  },
  {
   "cell_type": "markdown",
   "metadata": {},
   "source": [
    "# Printing for OR1 without constraint\n",
    "# OBS1 constraint\n",
    "# OBS 2 constraint\n",
    "# OBS1 and OBS2 constraint"
   ]
  },
  {
   "cell_type": "code",
   "execution_count": 75,
   "metadata": {},
   "outputs": [
    {
     "name": "stdout",
     "output_type": "stream",
     "text": [
      "output 1\n",
      "\n",
      "output2\n",
      "GGGCGACCCUGAUGAGCUUGGUUGAGUAUUUACAGCUCCAUACAUGAGGUGUUCUCCCUACGCAAGUUCGAUCAGGCGAAACGGUGAAAGCCGUAGGUUGCCC\n",
      "((((((((((((((((((((((.(((.....(((.(((.......))).))).)))...)).))))))).))))).....(((((....))))).)))))))) (-40.00)\n",
      "((((((((((((((((((((({.{((.....(((.(((.......))).))).,,,.,,)).))))))),})))).....(((((....))))).)))))))) [-41.56]\n",
      "((((((((((((((((((((((.........(((.(((.......))).))).......)).))))))).))))).....(((((....))))).)))))))) {-39.20 d=4.80}\n",
      " frequency of mfe structure in ensemble 0.0801932; ensemble diversity 7.03  \n",
      "\n",
      "output 3\n",
      "Warning: locale not supported by Xlib, locale set to C\n",
      "\n",
      "output 4\n",
      "\n"
     ]
    }
   ],
   "source": [
    "print_without_constraint(or1) "
   ]
  },
  {
   "cell_type": "markdown",
   "metadata": {},
   "source": [
    "![or1](or1.png)"
   ]
  },
  {
   "cell_type": "code",
   "execution_count": 77,
   "metadata": {
    "collapsed": true
   },
   "outputs": [],
   "source": [
    "or_test_1=or1+'\\n'+or_constraint_1\n",
    "or_test_2=or1+'\\n'+or_constraint_2\n",
    "or_test_3=or1+'\\n'+or_constraint_3"
   ]
  },
  {
   "cell_type": "code",
   "execution_count": 78,
   "metadata": {},
   "outputs": [
    {
     "name": "stdout",
     "output_type": "stream",
     "text": [
      "output 1\n",
      "\n",
      "output2\n",
      "GGGCGACCCUGAUGAGCUUGGUUGAGUAUUUACAGCUCCAUACAUGAGGUGUUCUCCCUACGCAAGUUCGAUCAGGCGAAACGGUGAAAGCCGUAGGUUGCCC\n",
      "((((((((((((((((((((((.(((...........................)))...)).))))))).))))).....(((((....))))).)))))))) (-34.20)\n",
      "((((((((((((((((((((((.(((...........................)))...)).))))))),})))).....(((((....))))).)))))))) [-34.94]\n",
      "((((((((((((((((((((((.(((...........................)))...)).))))))).))))).....(((((....))))).)))))))) {-34.20 d=3.48}\n",
      " frequency of mfe structure in ensemble 0.298636; ensemble diversity 5.70  \n",
      "\n",
      "output 3\n",
      "Warning: locale not supported by Xlib, locale set to C\n",
      "\n",
      "output 4\n",
      "\n"
     ]
    }
   ],
   "source": [
    "with_constraint(or_test_1) # OBS1"
   ]
  },
  {
   "cell_type": "markdown",
   "metadata": {},
   "source": [
    "![or1con1](or1con1.png)"
   ]
  },
  {
   "cell_type": "code",
   "execution_count": 85,
   "metadata": {},
   "outputs": [
    {
     "name": "stdout",
     "output_type": "stream",
     "text": [
      "output 1\n",
      "\n",
      "output2\n",
      "GGGCGACCCUGAUGAGCUUGGUUGAGUAUUUACAGCUCCAUACAUGAGGUGUUCUCCCUACGCAAGUUCGAUCAGGCGAAACGGUGAAAGCCGUAGGUUGCCC\n",
      "((((((((.......(((((((((((........................................)))))))))))...(((((....))))).)))))))) (-29.09)\n",
      "((((((((.......(((((((((({........................................,))))))))))...(((((....))))).)))))))) [-30.03]\n",
      "((((((((.......((((((((((..........................................))))))))))...(((((....))))).)))))))) {-28.84 d=5.07}\n",
      " frequency of mfe structure in ensemble 0.218661; ensemble diversity 8.88  \n",
      "\n",
      "output 3\n",
      "Warning: locale not supported by Xlib, locale set to C\n",
      "\n",
      "output 4\n",
      "\n"
     ]
    }
   ],
   "source": [
    "with_constraint(or_test_2) #OBS2"
   ]
  },
  {
   "cell_type": "markdown",
   "metadata": {},
   "source": [
    "![or1con2nc](or1con2.png)"
   ]
  },
  {
   "cell_type": "markdown",
   "metadata": {},
   "source": [
    "# for the both OBS1 and OBS2 in OR1 the red regions are perfectly\n",
    "# matching the paper where both regions are bonded to each other"
   ]
  },
  {
   "cell_type": "code",
   "execution_count": 89,
   "metadata": {},
   "outputs": [
    {
     "name": "stdout",
     "output_type": "stream",
     "text": [
      "output 1\n",
      "\n",
      "output2\n",
      "GGGCGACCCUGAUGAGCUUGGUUGAGUAUUUACAGCUCCAUACAUGAGGUGUUCUCCCUACGCAAGUUCGAUCAGGCGAAACGGUGAAAGCCGUAGGUUGCCC\n",
      "((((((((.......(((((((((((........................................)))))))))))...(((((....))))).)))))))) (-29.09)\n",
      "((((((((.......(((((((((({........................................}))))))))))...(((((....))))).)))))))) [-29.76]\n",
      "((((((((.......(((((((((((........................................)))))))))))...(((((....))))).)))))))) {-29.09 d=1.14}\n",
      " frequency of mfe structure in ensemble 0.337333; ensemble diversity 1.82  \n",
      "\n",
      "output 3\n",
      "Warning: locale not supported by Xlib, locale set to C\n",
      "\n",
      "output 4\n",
      "\n"
     ]
    }
   ],
   "source": [
    "with_constraint(or_test_3) # when both OBS positions are constrained"
   ]
  },
  {
   "cell_type": "markdown",
   "metadata": {},
   "source": [
    "![or1con3](or1con3.png)"
   ]
  },
  {
   "cell_type": "markdown",
   "metadata": {},
   "source": [
    "# AND1 w/o constraint\n",
    "# AND1 w/ OBS1\n",
    "# AND1 w/ OBS2\n",
    "# AND1 w/ OBS1 & OBS2"
   ]
  },
  {
   "cell_type": "code",
   "execution_count": 90,
   "metadata": {},
   "outputs": [
    {
     "name": "stdout",
     "output_type": "stream",
     "text": [
      "output 1\n",
      "\n",
      "output2\n",
      "GGGCGACCCUGAUGAGCUUGGUUUAGUAUUUACAGCUCCAUACAUGAGGUGUUAUCCCUAUGCAAGUUCGAUCAGGCGAAACGGUGAAAGCCGUAGGUUGCCCAGAGACAAU\n",
      "((((((((((((((((((((...(((.....(((.(((.......))).))).....)))..))))))).))))).....(((((....))))).))))))))......... (-42.10)\n",
      "((((((((((((((((((((.,.(((.....(((.(((.......))).))).....))).,))))))),})))).....(((((....))))).))))))))......... [-43.28]\n",
      "((((((((((((((((((((...(((.....(((.(((.......))).))).....)))..))))))).))))).....(((((....))))).))))))))......... {-42.10 d=2.98}\n",
      " frequency of mfe structure in ensemble 0.14638; ensemble diversity 4.63  \n",
      "\n",
      "output 3\n",
      "Warning: locale not supported by Xlib, locale set to C\n",
      "\n",
      "output 4\n",
      "\n"
     ]
    }
   ],
   "source": [
    "print_without_constraint(and1)"
   ]
  },
  {
   "cell_type": "markdown",
   "metadata": {},
   "source": [
    "![and1](and1.png)"
   ]
  },
  {
   "cell_type": "code",
   "execution_count": 91,
   "metadata": {
    "collapsed": true
   },
   "outputs": [],
   "source": [
    "and_test_1=and1+'\\n'+and_constraint_1\n",
    "and_test_2=and1+'\\n'+and_constraint_2\n",
    "and_test_3=and1+'\\n'+and_constraint_3"
   ]
  },
  {
   "cell_type": "code",
   "execution_count": 92,
   "metadata": {},
   "outputs": [
    {
     "name": "stdout",
     "output_type": "stream",
     "text": [
      "output 1\n",
      "\n",
      "output2\n",
      "GGGCGACCCUGAUGAGCUUGGUUUAGUAUUUACAGCUCCAUACAUGAGGUGUUAUCCCUAUGCAAGUUCGAUCAGGCGAAACGGUGAAAGCCGUAGGUUGCCCAGAGACAAU\n",
      "((((((((((((((((((((..........................(((.(....))))...))))))).))))).....(((((....))))).))))))))......... (-33.90)\n",
      "((((((((((((((((((((...,,,....................,((......}))),..))))))),})))).....(((((....))))).))))))))......... [-35.24]\n",
      "((((((((((((((((((((..........................................))))))).))))).....(((((....))))).))))))))......... {-32.74 d=5.66}\n",
      " frequency of mfe structure in ensemble 0.113042; ensemble diversity 7.57  \n",
      "\n",
      "output 3\n",
      "Warning: locale not supported by Xlib, locale set to C\n",
      "\n",
      "output 4\n",
      "\n"
     ]
    }
   ],
   "source": [
    "with_constraint(and_test_1) # OBS1"
   ]
  },
  {
   "cell_type": "markdown",
   "metadata": {},
   "source": [
    "![and1c1](and1c1.png)"
   ]
  },
  {
   "cell_type": "code",
   "execution_count": 93,
   "metadata": {},
   "outputs": [
    {
     "name": "stdout",
     "output_type": "stream",
     "text": [
      "output 1\n",
      "\n",
      "output2\n",
      "GGGCGACCCUGAUGAGCUUGGUUUAGUAUUUACAGCUCCAUACAUGAGGUGUUAUCCCUAUGCAAGUUCGAUCAGGCGAAACGGUGAAAGCCGUAGGUUGCCCAGAGACAAU\n",
      "(((((((((((((((((((((...(((.......))))))........................))))).))))).....(((((....))))).))))))))......... (-29.60)\n",
      "(((((((((((((((((({({....,,....,,,}}})}}.......,................}}}|||,}}}}.,,,.(((((....))))).))))))))......... [-31.28]\n",
      "((((((((((((.(((((..............................................)))))..)))).....(((((....))))).))))))))......... {-25.24 d=13.46}\n",
      " frequency of mfe structure in ensemble 0.0654841; ensemble diversity 19.00 \n",
      "\n",
      "output 3\n",
      "Warning: locale not supported by Xlib, locale set to C\n",
      "\n",
      "output 4\n",
      "\n"
     ]
    }
   ],
   "source": [
    "with_constraint(and_test_2) #OBS2"
   ]
  },
  {
   "cell_type": "markdown",
   "metadata": {},
   "source": [
    "![and1c2](and1c2.png)"
   ]
  },
  {
   "cell_type": "code",
   "execution_count": 94,
   "metadata": {},
   "outputs": [
    {
     "name": "stdout",
     "output_type": "stream",
     "text": [
      "output 1\n",
      "\n",
      "output2\n",
      "GGGCGACCCUGAUGAGCUUGGUUUAGUAUUUACAGCUCCAUACAUGAGGUGUUAUCCCUAUGCAAGUUCGAUCAGGCGAAACGGUGAAAGCCGUAGGUUGCCCAGAGACAAU\n",
      "((((((((((((((((((..............................................))))).))))).....(((((....))))).))))))))......... (-27.64)\n",
      "((((((((((((((((((..............................................))))),))))).....(((((....))))).))))))))......... [-28.31]\n",
      "((((((((((((((((((..............................................))))).))))).....(((((....))))).))))))))......... {-27.64 d=3.61}\n",
      " frequency of mfe structure in ensemble 0.33853; ensemble diversity 5.94  \n",
      "\n",
      "output 3\n",
      "Warning: locale not supported by Xlib, locale set to C\n",
      "\n",
      "output 4\n",
      "\n"
     ]
    }
   ],
   "source": [
    "with_constraint(and_test_3) #OBS1 and OBS2"
   ]
  },
  {
   "cell_type": "markdown",
   "metadata": {},
   "source": [
    "# the red region according to the paper for both OBS1and OBS2\n",
    "# should be bonded however, some of the red regions from the\n",
    "# simulations show that a part of it is unbonded"
   ]
  },
  {
   "cell_type": "markdown",
   "metadata": {},
   "source": [
    "![and1c3](and1c3.png)"
   ]
  },
  {
   "cell_type": "markdown",
   "metadata": {},
   "source": [
    "# The OR riboswitch shows the same conformation in both environments while the AND shows a different conformation for F/F, T/F and T/T.\n"
   ]
  }
 ],
 "metadata": {
  "kernelspec": {
   "display_name": "Python 3",
   "language": "python",
   "name": "python3"
  },
  "language_info": {
   "codemirror_mode": {
    "name": "ipython",
    "version": 3
   },
   "file_extension": ".py",
   "mimetype": "text/x-python",
   "name": "python",
   "nbconvert_exporter": "python",
   "pygments_lexer": "ipython3",
   "version": "3.6.1"
  }
 },
 "nbformat": 4,
 "nbformat_minor": 2
}
