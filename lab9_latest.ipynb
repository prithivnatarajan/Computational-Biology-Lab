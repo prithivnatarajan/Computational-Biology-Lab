{
 "cells": [
  {
   "cell_type": "code",
   "execution_count": null,
   "metadata": {},
   "outputs": [],
   "source": [
    "from Bio import SeqIO\n",
    "record_dict = SeqIO.to_dict(SeqIO.parse(\"contigs.fasta\", \"fasta\"))\n"
   ]
  },
  {
   "cell_type": "markdown",
   "metadata": {},
   "source": [
    "![1](https://github.com/prithivnatarajan/compbio/blob/master/scaffolds_contigs.png?raw=true)"
   ]
  },
  {
   "cell_type": "markdown",
   "metadata": {},
   "source": [
    "#### N50 is a statistic that is widely used to describe genome assemblies. It describes an average length of a set of sequences, but the average is not the mean or median length. Rather it is the length of the sequence that takes the sum length of all sequences — when summing from longest to shortest — past 50% of the total size of the assembly.  N50 is a better way of calculating an average sequence length from a set of sequences. it would be extremely easy to deliberately exclude shorter contigs (no matter their utility) just to increase the average contig length but the N50 normalizes it which makes is useful."
   ]
  },
  {
   "cell_type": "code",
   "execution_count": 13,
   "metadata": {},
   "outputs": [
    {
     "data": {
      "text/plain": [
       "{'NODE_1_length_414008_cov_7.740928': SeqRecord(seq=Seq('GGGAAGTGGTGAAAACGAGCATAAGGGAACTACTGTCGTAGAGTGGATGTTGTG...CGG', SingleLetterAlphabet()), id='NODE_1_length_414008_cov_7.740928', name='NODE_1_length_414008_cov_7.740928', description='NODE_1_length_414008_cov_7.740928', dbxrefs=[]),\n",
       " 'NODE_2_length_378948_cov_10.006665': SeqRecord(seq=Seq('CACAAAGCACCATGTGAAATGGAGCCCATGGAAGACCGAAGGTGGGCGCGGGCG...CGC', SingleLetterAlphabet()), id='NODE_2_length_378948_cov_10.006665', name='NODE_2_length_378948_cov_10.006665', description='NODE_2_length_378948_cov_10.006665', dbxrefs=[]),\n",
       " 'NODE_3_length_360689_cov_7.539874': SeqRecord(seq=Seq('GCAAAAGGCCCCCTTCCACCGGGCGGGGGCGTGGTGGGATGAGTTGCGGGTTGA...CCC', SingleLetterAlphabet()), id='NODE_3_length_360689_cov_7.539874', name='NODE_3_length_360689_cov_7.539874', description='NODE_3_length_360689_cov_7.539874', dbxrefs=[]),\n",
       " 'NODE_4_length_332509_cov_9.114046': SeqRecord(seq=Seq('GTGAACACTCGAGATCCAATGTGGGAGCGGGCTTGCTCGCGAAGACGGCATCAC...GAC', SingleLetterAlphabet()), id='NODE_4_length_332509_cov_9.114046', name='NODE_4_length_332509_cov_9.114046', description='NODE_4_length_332509_cov_9.114046', dbxrefs=[]),\n",
       " 'NODE_5_length_327223_cov_9.241629': SeqRecord(seq=Seq('GTTGAATCGCCATCGCCGTATACCGATGCGGCCCTTCCAGATACCCCGCAAAAT...CCC', SingleLetterAlphabet()), id='NODE_5_length_327223_cov_9.241629', name='NODE_5_length_327223_cov_9.241629', description='NODE_5_length_327223_cov_9.241629', dbxrefs=[]),\n",
       " 'NODE_6_length_298784_cov_8.918606': SeqRecord(seq=Seq('GAGGCGACTGCAAGTGACGTGTTGGCAGGAACGGGAAACCAAGTGGTTGTGGGG...GCG', SingleLetterAlphabet()), id='NODE_6_length_298784_cov_8.918606', name='NODE_6_length_298784_cov_8.918606', description='NODE_6_length_298784_cov_8.918606', dbxrefs=[]),\n",
       " 'NODE_7_length_297812_cov_8.126053': SeqRecord(seq=Seq('GAGGCTGCCCCGGGCCTGGACCCCGAGTTGCGACAGGGTCCCGGCCAAGCGCTG...TCG', SingleLetterAlphabet()), id='NODE_7_length_297812_cov_8.126053', name='NODE_7_length_297812_cov_8.126053', description='NODE_7_length_297812_cov_8.126053', dbxrefs=[]),\n",
       " 'NODE_8_length_273249_cov_8.706677': SeqRecord(seq=Seq('AATGATGAAGTTGCTTGTCCGCTCTGACGAAAAGGCGCGGTGACGGCGGTGGGG...CAT', SingleLetterAlphabet()), id='NODE_8_length_273249_cov_8.706677', name='NODE_8_length_273249_cov_8.706677', description='NODE_8_length_273249_cov_8.706677', dbxrefs=[]),\n",
       " 'NODE_9_length_261613_cov_7.455302': SeqRecord(seq=Seq('GGTACATCCAACATCCATGTGCCAGACAGACCGCTATCGCGGGCAAGCCCGCTC...CCA', SingleLetterAlphabet()), id='NODE_9_length_261613_cov_7.455302', name='NODE_9_length_261613_cov_7.455302', description='NODE_9_length_261613_cov_7.455302', dbxrefs=[]),\n",
       " 'NODE_10_length_235234_cov_7.139043': SeqRecord(seq=Seq('ACACATGGGCCAGCAGGTCCTGCTCGGCGAGCAGGCCGGCTTCGATGGTCAGGG...CGC', SingleLetterAlphabet()), id='NODE_10_length_235234_cov_7.139043', name='NODE_10_length_235234_cov_7.139043', description='NODE_10_length_235234_cov_7.139043', dbxrefs=[]),\n",
       " 'NODE_11_length_234690_cov_8.642510': SeqRecord(seq=Seq('CGCTGGAGCAATACACGCCTCAGGAGCTGGCGGGTTTCGCTAAAGAAGCCATCG...CCC', SingleLetterAlphabet()), id='NODE_11_length_234690_cov_8.642510', name='NODE_11_length_234690_cov_8.642510', description='NODE_11_length_234690_cov_8.642510', dbxrefs=[]),\n",
       " 'NODE_12_length_213896_cov_7.910328': SeqRecord(seq=Seq('CGGCGTCGGGTTGTGTCTGAGGCCGGTTTGGACAGATGAGTGCCTCTCGGATGA...TCG', SingleLetterAlphabet()), id='NODE_12_length_213896_cov_7.910328', name='NODE_12_length_213896_cov_7.910328', description='NODE_12_length_213896_cov_7.910328', dbxrefs=[]),\n",
       " 'NODE_13_length_207869_cov_6.973549': SeqRecord(seq=Seq('CGCCGGCCGAAGACCGGGACTCGGGATACCCCGCTGCGGTGCCGGCCATGTCCC...GCC', SingleLetterAlphabet()), id='NODE_13_length_207869_cov_6.973549', name='NODE_13_length_207869_cov_6.973549', description='NODE_13_length_207869_cov_6.973549', dbxrefs=[]),\n",
       " 'NODE_14_length_202142_cov_8.264545': SeqRecord(seq=Seq('GCTTTAAGGCACAACCCGAAGGGCCGGGCCTGCTGTTGTGCAGGGCTGCGTTGC...GCC', SingleLetterAlphabet()), id='NODE_14_length_202142_cov_8.264545', name='NODE_14_length_202142_cov_8.264545', description='NODE_14_length_202142_cov_8.264545', dbxrefs=[]),\n",
       " 'NODE_15_length_198699_cov_7.418715': SeqRecord(seq=Seq('GTTTGTTTTTGGGAGAGGAGGGTGTTTTTGCAGTTGGGGGTTTTTTTTGATTTA...TTT', SingleLetterAlphabet()), id='NODE_15_length_198699_cov_7.418715', name='NODE_15_length_198699_cov_7.418715', description='NODE_15_length_198699_cov_7.418715', dbxrefs=[]),\n",
       " 'NODE_16_length_177897_cov_8.846256': SeqRecord(seq=Seq('AGGTATGTTTTCCGAGGTCGATGGCGGCGATAGCTACGTTGTTCATGGCAATGA...GAT', SingleLetterAlphabet()), id='NODE_16_length_177897_cov_8.846256', name='NODE_16_length_177897_cov_8.846256', description='NODE_16_length_177897_cov_8.846256', dbxrefs=[]),\n",
       " 'NODE_17_length_167686_cov_8.577110': SeqRecord(seq=Seq('AGATGCGATTCGGCGTATGCGGCCAGAATCGAGCGTGGCAACCCTTGCCGGGTG...CCC', SingleLetterAlphabet()), id='NODE_17_length_167686_cov_8.577110', name='NODE_17_length_167686_cov_8.577110', description='NODE_17_length_167686_cov_8.577110', dbxrefs=[]),\n",
       " 'NODE_18_length_154232_cov_9.584186': SeqRecord(seq=Seq('CCCGCTCCCACAGGTAATGCGCAAGTTTTAAAATAGCGCTAATCCTGTGGGAGC...GAT', SingleLetterAlphabet()), id='NODE_18_length_154232_cov_9.584186', name='NODE_18_length_154232_cov_9.584186', description='NODE_18_length_154232_cov_9.584186', dbxrefs=[]),\n",
       " 'NODE_19_length_148556_cov_8.773953': SeqRecord(seq=Seq('GGCGCGCGGGCGGCGCGGGTGTGCGGATGACCGGGCTGGGCGCACGACCGGGCA...CCT', SingleLetterAlphabet()), id='NODE_19_length_148556_cov_8.773953', name='NODE_19_length_148556_cov_8.773953', description='NODE_19_length_148556_cov_8.773953', dbxrefs=[]),\n",
       " 'NODE_20_length_145425_cov_7.418265': SeqRecord(seq=Seq('CGCGCCGATGTGGGGATTTGGCGGGCGCTTCTCCTGGTCCTGAGTGTCGGACTT...CGC', SingleLetterAlphabet()), id='NODE_20_length_145425_cov_7.418265', name='NODE_20_length_145425_cov_7.418265', description='NODE_20_length_145425_cov_7.418265', dbxrefs=[]),\n",
       " 'NODE_21_length_135414_cov_7.113839': SeqRecord(seq=Seq('GGCGGGCCCACGGAGCAGGACCGGAGCGAGGGCATGCCGAGCCTGGGCGAGGCA...CAC', SingleLetterAlphabet()), id='NODE_21_length_135414_cov_7.113839', name='NODE_21_length_135414_cov_7.113839', description='NODE_21_length_135414_cov_7.113839', dbxrefs=[]),\n",
       " 'NODE_22_length_124085_cov_8.039997': SeqRecord(seq=Seq('CCCAAGGCAAAGAAAATGGAGGGGGTGGAAGTGGGTAAGGGTCTGGGTGTCTTG...TAT', SingleLetterAlphabet()), id='NODE_22_length_124085_cov_8.039997', name='NODE_22_length_124085_cov_8.039997', description='NODE_22_length_124085_cov_8.039997', dbxrefs=[]),\n",
       " 'NODE_23_length_103367_cov_10.081286': SeqRecord(seq=Seq('AAGGTATGTTTTCCGAGGTCGATGGCGGCGATAGCTACGTTGTTCATGGCAATG...TCG', SingleLetterAlphabet()), id='NODE_23_length_103367_cov_10.081286', name='NODE_23_length_103367_cov_10.081286', description='NODE_23_length_103367_cov_10.081286', dbxrefs=[]),\n",
       " 'NODE_24_length_102993_cov_7.785886': SeqRecord(seq=Seq('GCGCTTTTCGAAAGTGACTCGCTGTAAAAACGAAACCACCAGCCGCCGTGACCG...GTT', SingleLetterAlphabet()), id='NODE_24_length_102993_cov_7.785886', name='NODE_24_length_102993_cov_7.785886', description='NODE_24_length_102993_cov_7.785886', dbxrefs=[]),\n",
       " 'NODE_25_length_101937_cov_7.854012': SeqRecord(seq=Seq('CCTGGAGCACGCGCTGCTGCTCTGTGACGACCCGATCCAGCGGATTCGCCTGAC...GAT', SingleLetterAlphabet()), id='NODE_25_length_101937_cov_7.854012', name='NODE_25_length_101937_cov_7.854012', description='NODE_25_length_101937_cov_7.854012', dbxrefs=[]),\n",
       " 'NODE_26_length_101718_cov_8.146401': SeqRecord(seq=Seq('ACCTGTCGCTCAACGGTGGCGTGGTTGAAGGCCGCACGGCCACCACCAACCTGC...CGC', SingleLetterAlphabet()), id='NODE_26_length_101718_cov_8.146401', name='NODE_26_length_101718_cov_8.146401', description='NODE_26_length_101718_cov_8.146401', dbxrefs=[]),\n",
       " 'NODE_27_length_92094_cov_7.136158': SeqRecord(seq=Seq('CGCACACCCCTGCCCCGCCCGCCGCCCTTCCCGTGCTAAACGAAAGAGCCCGGC...AAG', SingleLetterAlphabet()), id='NODE_27_length_92094_cov_7.136158', name='NODE_27_length_92094_cov_7.136158', description='NODE_27_length_92094_cov_7.136158', dbxrefs=[]),\n",
       " 'NODE_28_length_83515_cov_8.555536': SeqRecord(seq=Seq('CAGATTCTGGCCCCGGCCAAGAGCATCGAGCAGATGCAGCATGTAATCTATAAC...CGG', SingleLetterAlphabet()), id='NODE_28_length_83515_cov_8.555536', name='NODE_28_length_83515_cov_8.555536', description='NODE_28_length_83515_cov_8.555536', dbxrefs=[]),\n",
       " 'NODE_29_length_81821_cov_7.722379': SeqRecord(seq=Seq('CCCCGCTGGGCATTACCGTGCTGATGGAACTGATCGGCGACCTGCTGCCACCCG...CCC', SingleLetterAlphabet()), id='NODE_29_length_81821_cov_7.722379', name='NODE_29_length_81821_cov_7.722379', description='NODE_29_length_81821_cov_7.722379', dbxrefs=[]),\n",
       " 'NODE_30_length_81286_cov_9.311795': SeqRecord(seq=Seq('CCGATGTTCCGGGCGATGTCCTATGGATTTCTAGTTGTGTTTTGTGGTGGTCGT...GCG', SingleLetterAlphabet()), id='NODE_30_length_81286_cov_9.311795', name='NODE_30_length_81286_cov_9.311795', description='NODE_30_length_81286_cov_9.311795', dbxrefs=[]),\n",
       " 'NODE_31_length_61188_cov_8.238385': SeqRecord(seq=Seq('GAGAAAAAGGGGAGGCTTATTAGTTGGAAAGTTAATTTAGTTTTTTGACTTCAT...GCT', SingleLetterAlphabet()), id='NODE_31_length_61188_cov_8.238385', name='NODE_31_length_61188_cov_8.238385', description='NODE_31_length_61188_cov_8.238385', dbxrefs=[]),\n",
       " 'NODE_32_length_58672_cov_9.074883': SeqRecord(seq=Seq('CTTATGTTGGTTTTTTGTGTTTTTCTTTTTATTTATAACTCAATCTTATTTTGT...TTT', SingleLetterAlphabet()), id='NODE_32_length_58672_cov_9.074883', name='NODE_32_length_58672_cov_9.074883', description='NODE_32_length_58672_cov_9.074883', dbxrefs=[]),\n",
       " 'NODE_33_length_57693_cov_7.372789': SeqRecord(seq=Seq('GCGGCGGGTCAGTGAGTGCATTGACACGAGGGGGGTGGGAACGTTTACGGGTAT...ACC', SingleLetterAlphabet()), id='NODE_33_length_57693_cov_7.372789', name='NODE_33_length_57693_cov_7.372789', description='NODE_33_length_57693_cov_7.372789', dbxrefs=[]),\n",
       " 'NODE_34_length_55546_cov_7.420957': SeqRecord(seq=Seq('CACAGTGACCGACGGGCCGCCAGGCGCACAAGCCGGCGGATTCTGACGTGGTGG...CGA', SingleLetterAlphabet()), id='NODE_34_length_55546_cov_7.420957', name='NODE_34_length_55546_cov_7.420957', description='NODE_34_length_55546_cov_7.420957', dbxrefs=[]),\n",
       " 'NODE_35_length_54021_cov_6.469570': SeqRecord(seq=Seq('GTGCGTACCGGGGAGGCGGGGGAAATGAGCGGGAGAATACCTGGGGGTACGCTT...AGT', SingleLetterAlphabet()), id='NODE_35_length_54021_cov_6.469570', name='NODE_35_length_54021_cov_6.469570', description='NODE_35_length_54021_cov_6.469570', dbxrefs=[]),\n",
       " 'NODE_36_length_49610_cov_8.116505': SeqRecord(seq=Seq('TAGGAGGGGTTGGGTCGGGAGGGGGTGTGCCTATTGGGGTGAGTGCTGGGTAAG...GCG', SingleLetterAlphabet()), id='NODE_36_length_49610_cov_8.116505', name='NODE_36_length_49610_cov_8.116505', description='NODE_36_length_49610_cov_8.116505', dbxrefs=[]),\n",
       " 'NODE_37_length_44015_cov_7.612810': SeqRecord(seq=Seq('GGGGGCACCGCGGCAAGGATGCCGCGGTAGCCGCCCCCGGCCATGGATGGCCGA...ATC', SingleLetterAlphabet()), id='NODE_37_length_44015_cov_7.612810', name='NODE_37_length_44015_cov_7.612810', description='NODE_37_length_44015_cov_7.612810', dbxrefs=[]),\n",
       " 'NODE_38_length_42051_cov_7.993083': SeqRecord(seq=Seq('CCACACCACATCACGGTCGTCCGCACACTAAACAAACACAGTTTAAAAGACACA...GAC', SingleLetterAlphabet()), id='NODE_38_length_42051_cov_7.993083', name='NODE_38_length_42051_cov_7.993083', description='NODE_38_length_42051_cov_7.993083', dbxrefs=[]),\n",
       " 'NODE_39_length_41455_cov_7.424264': SeqRecord(seq=Seq('GCACAGCCAACATTGATATCGACTGACACTCCGCCTTCGCGGGCAAGCCTCGCT...CCC', SingleLetterAlphabet()), id='NODE_39_length_41455_cov_7.424264', name='NODE_39_length_41455_cov_7.424264', description='NODE_39_length_41455_cov_7.424264', dbxrefs=[]),\n",
       " 'NODE_40_length_39377_cov_7.895898': SeqRecord(seq=Seq('GCATTTTGAAGTCGCGAGAGAAAAAATGGATTAAATGTTGAAACCTGGTGTCGC...TAT', SingleLetterAlphabet()), id='NODE_40_length_39377_cov_7.895898', name='NODE_40_length_39377_cov_7.895898', description='NODE_40_length_39377_cov_7.895898', dbxrefs=[]),\n",
       " 'NODE_41_length_26710_cov_7.608171': SeqRecord(seq=Seq('GGCTTTGCTTTGGCTTTGCTTTGGCTTTGGCTTTGGCTTTGGCTTTTGATCTTG...GGC', SingleLetterAlphabet()), id='NODE_41_length_26710_cov_7.608171', name='NODE_41_length_26710_cov_7.608171', description='NODE_41_length_26710_cov_7.608171', dbxrefs=[]),\n",
       " 'NODE_42_length_24061_cov_7.601905': SeqRecord(seq=Seq('GCTGGCGGCTACGTGCCTCAGGCTACCCCTAAACGAGCACACGGCCCTCTCAAC...CCG', SingleLetterAlphabet()), id='NODE_42_length_24061_cov_7.601905', name='NODE_42_length_24061_cov_7.601905', description='NODE_42_length_24061_cov_7.601905', dbxrefs=[]),\n",
       " 'NODE_43_length_13214_cov_7.314205': SeqRecord(seq=Seq('GGGGGGGCGGGTTTGGCGGGGGGGGGGTTCTGTCATGCTTGTTTTGTTTTTGTA...CCC', SingleLetterAlphabet()), id='NODE_43_length_13214_cov_7.314205', name='NODE_43_length_13214_cov_7.314205', description='NODE_43_length_13214_cov_7.314205', dbxrefs=[]),\n",
       " 'NODE_44_length_8868_cov_8.455440': SeqRecord(seq=Seq('AAAGGGGACACCCATTAGCCGGTCTCAAGTCAAGGTTAAAAGCCTCCGCACCCT...GCT', SingleLetterAlphabet()), id='NODE_44_length_8868_cov_8.455440', name='NODE_44_length_8868_cov_8.455440', description='NODE_44_length_8868_cov_8.455440', dbxrefs=[]),\n",
       " 'NODE_45_length_3559_cov_14.119172': SeqRecord(seq=Seq('ATCCCGCGAAATTAATACGACTCACTATAGGGACACCACAACGGTTTCCCTCTA...TGG', SingleLetterAlphabet()), id='NODE_45_length_3559_cov_14.119172', name='NODE_45_length_3559_cov_14.119172', description='NODE_45_length_3559_cov_14.119172', dbxrefs=[]),\n",
       " 'NODE_46_length_2021_cov_10.363252': SeqRecord(seq=Seq('GTCAGGGTCACCAGATCGTCCGAGCTCAGGCTCGTCGCGTCATCGGGATCGGTG...GTT', SingleLetterAlphabet()), id='NODE_46_length_2021_cov_10.363252', name='NODE_46_length_2021_cov_10.363252', description='NODE_46_length_2021_cov_10.363252', dbxrefs=[]),\n",
       " 'NODE_47_length_1071_cov_5.239566': SeqRecord(seq=Seq('CGCTACCGAATCCACAAACAGGATGGAAGTATCCATATCAGCCACCACAATCGA...CAA', SingleLetterAlphabet()), id='NODE_47_length_1071_cov_5.239566', name='NODE_47_length_1071_cov_5.239566', description='NODE_47_length_1071_cov_5.239566', dbxrefs=[]),\n",
       " 'NODE_48_length_1033_cov_7.030905': SeqRecord(seq=Seq('TCGCGATGTTCATGGGCATTTACATGCGCTACATCCGCCCGGGTCGCATCGGTG...GTT', SingleLetterAlphabet()), id='NODE_48_length_1033_cov_7.030905', name='NODE_48_length_1033_cov_7.030905', description='NODE_48_length_1033_cov_7.030905', dbxrefs=[]),\n",
       " 'NODE_49_length_1022_cov_5.388827': SeqRecord(seq=Seq('AAACGATGGAGCCGCCTTCAGCGACCGAGTCAGTGGCGGTCAGCGACAGGTTGG...TTG', SingleLetterAlphabet()), id='NODE_49_length_1022_cov_5.388827', name='NODE_49_length_1022_cov_5.388827', description='NODE_49_length_1022_cov_5.388827', dbxrefs=[]),\n",
       " 'NODE_50_length_1014_cov_0.708005': SeqRecord(seq=Seq('AATGGATCAATGTCTTAGTATGATTAACGATTGAGGTCATGTGGGAGAGTGAGG...TTT', SingleLetterAlphabet()), id='NODE_50_length_1014_cov_0.708005', name='NODE_50_length_1014_cov_0.708005', description='NODE_50_length_1014_cov_0.708005', dbxrefs=[]),\n",
       " 'NODE_51_length_999_cov_9.625000': SeqRecord(seq=Seq('GACAAAGCGTTCCAGGACAAGCTGTATCCGTTTACCTGGGATGCCGTACGTTAC...GAT', SingleLetterAlphabet()), id='NODE_51_length_999_cov_9.625000', name='NODE_51_length_999_cov_9.625000', description='NODE_51_length_999_cov_9.625000', dbxrefs=[]),\n",
       " 'NODE_52_length_789_cov_6.539275': SeqRecord(seq=Seq('CTGACACTCTCGACACTTCGACGGTTAATCTGACAGCGACGTCTACTGTCGCTG...CGC', SingleLetterAlphabet()), id='NODE_52_length_789_cov_6.539275', name='NODE_52_length_789_cov_6.539275', description='NODE_52_length_789_cov_6.539275', dbxrefs=[]),\n",
       " 'NODE_53_length_658_cov_0.427495': SeqRecord(seq=Seq('GATCGGAAGAGCACACGTCTGAACTCCAGTCACTGACCAATCTCGTATGCCGTC...TGT', SingleLetterAlphabet()), id='NODE_53_length_658_cov_0.427495', name='NODE_53_length_658_cov_0.427495', description='NODE_53_length_658_cov_0.427495', dbxrefs=[]),\n",
       " 'NODE_54_length_650_cov_4.630975': SeqRecord(seq=Seq('ACTCAGGCGCTGGTGATGCTGGCTCGCAAGCTTGCTCGGGTGGTATTCGCCTTG...CAC', SingleLetterAlphabet()), id='NODE_54_length_650_cov_4.630975', name='NODE_54_length_650_cov_4.630975', description='NODE_54_length_650_cov_4.630975', dbxrefs=[]),\n",
       " 'NODE_55_length_601_cov_0.934599': SeqRecord(seq=Seq('AATATTTTGAATTGCTATAAGTCATGCGTATGATCATGAAACTTAATAGATACT...AGC', SingleLetterAlphabet()), id='NODE_55_length_601_cov_0.934599', name='NODE_55_length_601_cov_0.934599', description='NODE_55_length_601_cov_0.934599', dbxrefs=[]),\n",
       " 'NODE_56_length_601_cov_0.812236': SeqRecord(seq=Seq('AATACTGTACGTGGATAGTGGATATGAAACAACTGATGTCATAGCTGTTCTATA...ATC', SingleLetterAlphabet()), id='NODE_56_length_601_cov_0.812236', name='NODE_56_length_601_cov_0.812236', description='NODE_56_length_601_cov_0.812236', dbxrefs=[]),\n",
       " 'NODE_57_length_601_cov_0.803797': SeqRecord(seq=Seq('ATGTTTGTAGGTTGAATGGAGGTGTTATTAGATTATTTTATATTAGTATGGCTT...TAT', SingleLetterAlphabet()), id='NODE_57_length_601_cov_0.803797', name='NODE_57_length_601_cov_0.803797', description='NODE_57_length_601_cov_0.803797', dbxrefs=[]),\n",
       " 'NODE_58_length_600_cov_6.890063': SeqRecord(seq=Seq('ACCTGTCGCTCAACGGTGGCGTGGTTGAAGGCCGCACGGCCACCACCAACCTGC...ATC', SingleLetterAlphabet()), id='NODE_58_length_600_cov_6.890063', name='NODE_58_length_600_cov_6.890063', description='NODE_58_length_600_cov_6.890063', dbxrefs=[]),\n",
       " 'NODE_59_length_600_cov_0.900634': SeqRecord(seq=Seq('ATGTTATATGATTCTCTTGATCTTACGTCAGCTATACGCTTTAGTACACTACAT...ATT', SingleLetterAlphabet()), id='NODE_59_length_600_cov_0.900634', name='NODE_59_length_600_cov_0.900634', description='NODE_59_length_600_cov_0.900634', dbxrefs=[]),\n",
       " 'NODE_60_length_571_cov_0.898649': SeqRecord(seq=Seq('TATCACCATCTTCTTAAGCACTGCTTGCGACTGTTCTGATGTACGCTTTCGACC...TAA', SingleLetterAlphabet()), id='NODE_60_length_571_cov_0.898649', name='NODE_60_length_571_cov_0.898649', description='NODE_60_length_571_cov_0.898649', dbxrefs=[]),\n",
       " 'NODE_61_length_537_cov_8.990244': SeqRecord(seq=Seq('AGGGAAGCAGCGCTTTTCCGCTGCATAACCCTGCTTCGGGGTCATTATAGCGAT...CGA', SingleLetterAlphabet()), id='NODE_61_length_537_cov_8.990244', name='NODE_61_length_537_cov_8.990244', description='NODE_61_length_537_cov_8.990244', dbxrefs=[]),\n",
       " 'NODE_62_length_528_cov_0.980050': SeqRecord(seq=Seq('GGCGTGACGTTAAGTTGGTGGATGGGGGCGTGCTGGCGGTGGTGGGGCCGACAT...CCG', SingleLetterAlphabet()), id='NODE_62_length_528_cov_0.980050', name='NODE_62_length_528_cov_0.980050', description='NODE_62_length_528_cov_0.980050', dbxrefs=[]),\n",
       " 'NODE_63_length_504_cov_0.978780': SeqRecord(seq=Seq('AACGGGGGGGACGGACGGGGGGAGGGTGTTGGGGGCGGGTTGTGTGGGGTTTGT...TTT', SingleLetterAlphabet()), id='NODE_63_length_504_cov_0.978780', name='NODE_63_length_504_cov_0.978780', description='NODE_63_length_504_cov_0.978780', dbxrefs=[]),\n",
       " 'NODE_64_length_498_cov_0.929919': SeqRecord(seq=Seq('TGTAGAATTGTAGAAACGTCGTGATGTGGATTTGTGTATATAGATAGATGTTCT...ACT', SingleLetterAlphabet()), id='NODE_64_length_498_cov_0.929919', name='NODE_64_length_498_cov_0.929919', description='NODE_64_length_498_cov_0.929919', dbxrefs=[]),\n",
       " 'NODE_65_length_496_cov_0.937669': SeqRecord(seq=Seq('AGCGGTGTGATGGAGACGAATAGGAGTATGTTTATACGTCTGGTGAAGAGGAAA...ATT', SingleLetterAlphabet()), id='NODE_65_length_496_cov_0.937669', name='NODE_65_length_496_cov_0.937669', description='NODE_65_length_496_cov_0.937669', dbxrefs=[]),\n",
       " 'NODE_66_length_496_cov_0.834688': SeqRecord(seq=Seq('GGGTGTCCGGCACGCTGCGCAACGGGGGGAGCGGGCTGGCTCGGGAGGTGAGCC...CTC', SingleLetterAlphabet()), id='NODE_66_length_496_cov_0.834688', name='NODE_66_length_496_cov_0.834688', description='NODE_66_length_496_cov_0.834688', dbxrefs=[]),\n",
       " 'NODE_67_length_495_cov_0.937500': SeqRecord(seq=Seq('TTTATGAGATGTTGATTGATAATCATCTTTTGTTATTATATGTTGTTTGTTTAT...TCG', SingleLetterAlphabet()), id='NODE_67_length_495_cov_0.937500', name='NODE_67_length_495_cov_0.937500', description='NODE_67_length_495_cov_0.937500', dbxrefs=[]),\n",
       " 'NODE_68_length_494_cov_0.923706': SeqRecord(seq=Seq('GCTAGAGTACAGATGAGGTGCTCCCGAAAGATACGACGCTCCACAGCACATAAA...ACG', SingleLetterAlphabet()), id='NODE_68_length_494_cov_0.923706', name='NODE_68_length_494_cov_0.923706', description='NODE_68_length_494_cov_0.923706', dbxrefs=[]),\n",
       " 'NODE_69_length_493_cov_0.937158': SeqRecord(seq=Seq('TTTTTTGTTGTTTATTTTTTTTTGTTTTTTTGTTTTTTTGTTTTTTTTTTTTGT...GCG', SingleLetterAlphabet()), id='NODE_69_length_493_cov_0.937158', name='NODE_69_length_493_cov_0.937158', description='NODE_69_length_493_cov_0.937158', dbxrefs=[]),\n",
       " 'NODE_70_length_486_cov_0.958217': SeqRecord(seq=Seq('TTATTCTCGTCTATCTAATCATCGATATACACTTTGCCTTATACCGATTATACT...TTA', SingleLetterAlphabet()), id='NODE_70_length_486_cov_0.958217', name='NODE_70_length_486_cov_0.958217', description='NODE_70_length_486_cov_0.958217', dbxrefs=[]),\n",
       " 'NODE_71_length_486_cov_0.958217': SeqRecord(seq=Seq('GACAGTTCGCGAATCGTGCATGGGTACAAGCTCTGTCGACTCATAGACTACGTC...CGG', SingleLetterAlphabet()), id='NODE_71_length_486_cov_0.958217', name='NODE_71_length_486_cov_0.958217', description='NODE_71_length_486_cov_0.958217', dbxrefs=[]),\n",
       " 'NODE_72_length_485_cov_0.944134': SeqRecord(seq=Seq('TCATCCGGTACTCACTCGATACCAGGTGCGATGTCTCGTGCTCGTCACATCTAT...TGC', SingleLetterAlphabet()), id='NODE_72_length_485_cov_0.944134', name='NODE_72_length_485_cov_0.944134', description='NODE_72_length_485_cov_0.944134', dbxrefs=[]),\n",
       " 'NODE_73_length_484_cov_1.002801': SeqRecord(seq=Seq('GGCCCTGGCAGAGGTGGAGGGGTGAGGGCGTGAGAAGTACTGGGAGGCGCGAAG...TAC', SingleLetterAlphabet()), id='NODE_73_length_484_cov_1.002801', name='NODE_73_length_484_cov_1.002801', description='NODE_73_length_484_cov_1.002801', dbxrefs=[]),\n",
       " 'NODE_74_length_483_cov_0.721910': SeqRecord(seq=Seq('GATCGGAAGAGCACACGTCTGAACTCCAGTCACTGACCAATCTCGTATGCCGTC...ACC', SingleLetterAlphabet()), id='NODE_74_length_483_cov_0.721910', name='NODE_74_length_483_cov_0.721910', description='NODE_74_length_483_cov_0.721910', dbxrefs=[]),\n",
       " 'NODE_75_length_481_cov_0.974576': SeqRecord(seq=Seq('TTGTTTAGTATTTCTTGTTTTTGTTGGTTCTTTCCTTTCTGTTTGTGTTTTGTT...CGT', SingleLetterAlphabet()), id='NODE_75_length_481_cov_0.974576', name='NODE_75_length_481_cov_0.974576', description='NODE_75_length_481_cov_0.974576', dbxrefs=[]),\n",
       " 'NODE_76_length_480_cov_0.977337': SeqRecord(seq=Seq('GTGATTACCAGCTATCGCGTCTATCAATTTACTTTGAAGCGTGTTATTGGTTCT...CGG', SingleLetterAlphabet()), id='NODE_76_length_480_cov_0.977337', name='NODE_76_length_480_cov_0.977337', description='NODE_76_length_480_cov_0.977337', dbxrefs=[]),\n",
       " 'NODE_77_length_480_cov_0.864023': SeqRecord(seq=Seq('GCTTTTTATATTTAGTCACATGTTAGCGCTGAGGTTTTTATCGCATGATACTAC...TAT', SingleLetterAlphabet()), id='NODE_77_length_480_cov_0.864023', name='NODE_77_length_480_cov_0.864023', description='NODE_77_length_480_cov_0.864023', dbxrefs=[]),\n",
       " 'NODE_78_length_478_cov_0.982906': SeqRecord(seq=Seq('GCGTGTTGGCTGATCTGTAGCGATGACAGTTATATTTTCGGTCGTGCTTATTCT...ACT', SingleLetterAlphabet()), id='NODE_78_length_478_cov_0.982906', name='NODE_78_length_478_cov_0.982906', description='NODE_78_length_478_cov_0.982906', dbxrefs=[]),\n",
       " 'NODE_79_length_477_cov_0.985714': SeqRecord(seq=Seq('AATGAACATATTTTACTCATGTATGTTTTTTTAAATCATAAATGTCTACTCGTA...GTT', SingleLetterAlphabet()), id='NODE_79_length_477_cov_0.985714', name='NODE_79_length_477_cov_0.985714', description='NODE_79_length_477_cov_0.985714', dbxrefs=[]),\n",
       " 'NODE_80_length_473_cov_0.933526': SeqRecord(seq=Seq('TATATATATTGGTTTGTATTTTGTGTTGTTTTTGGTTTTTTTGGATGTGTTATT...CTC', SingleLetterAlphabet()), id='NODE_80_length_473_cov_0.933526', name='NODE_80_length_473_cov_0.933526', description='NODE_80_length_473_cov_0.933526', dbxrefs=[]),\n",
       " 'NODE_81_length_473_cov_0.742775': SeqRecord(seq=Seq('CAGGACTTACAAAAACCGCATCCTCCTGTGTGAGTGGGTTGTGAACACATGGCA...CTT', SingleLetterAlphabet()), id='NODE_81_length_473_cov_0.742775', name='NODE_81_length_473_cov_0.742775', description='NODE_81_length_473_cov_0.742775', dbxrefs=[]),\n",
       " 'NODE_82_length_471_cov_0.941860': SeqRecord(seq=Seq('AAATGACATGTTGCTATGATTGATTTGTTTATATGAGTGCTGAATTTATGACTG...TGC', SingleLetterAlphabet()), id='NODE_82_length_471_cov_0.941860', name='NODE_82_length_471_cov_0.941860', description='NODE_82_length_471_cov_0.941860', dbxrefs=[]),\n",
       " 'NODE_83_length_469_cov_1.008772': SeqRecord(seq=Seq('CGCTCTTCGTATCACTCGTATATGGTACTGCGCGTATATTTGCGCTGATTTCAT...TTT', SingleLetterAlphabet()), id='NODE_83_length_469_cov_1.008772', name='NODE_83_length_469_cov_1.008772', description='NODE_83_length_469_cov_1.008772', dbxrefs=[]),\n",
       " 'NODE_84_length_469_cov_0.918129': SeqRecord(seq=Seq('ATGTTTTTTTGCTTCTGTAGTGTTTATTTGTTTTTTTGTTGAGTTGTTGTGTTA...TAT', SingleLetterAlphabet()), id='NODE_84_length_469_cov_0.918129', name='NODE_84_length_469_cov_0.918129', description='NODE_84_length_469_cov_0.918129', dbxrefs=[]),\n",
       " 'NODE_85_length_468_cov_1.008798': SeqRecord(seq=Seq('TGTTTAGTTATGTTATGTTGTTTGTTGTTTATTTGTTTGAGTTTTTTATTTTTG...GTA', SingleLetterAlphabet()), id='NODE_85_length_468_cov_1.008798', name='NODE_85_length_468_cov_1.008798', description='NODE_85_length_468_cov_1.008798', dbxrefs=[]),\n",
       " 'NODE_86_length_468_cov_0.692082': SeqRecord(seq=Seq('GGTCTCATGGGCGTCATGTACAACACGCTTGTAGATCTCGTTGGCGTCCATGTC...GAG', SingleLetterAlphabet()), id='NODE_86_length_468_cov_0.692082', name='NODE_86_length_468_cov_0.692082', description='NODE_86_length_468_cov_0.692082', dbxrefs=[]),\n",
       " 'NODE_87_length_467_cov_0.970588': SeqRecord(seq=Seq('TCTAGACATGGTGAGTGATGCTAATAGGTTTTTGATGAGATAGCACTAACGATT...AGC', SingleLetterAlphabet()), id='NODE_87_length_467_cov_0.970588', name='NODE_87_length_467_cov_0.970588', description='NODE_87_length_467_cov_0.970588', dbxrefs=[]),\n",
       " 'NODE_88_length_465_cov_1.020710': SeqRecord(seq=Seq('TCATAGATTTGATTATTCGTATTTTTTTGTGATTACTTTTATTTGTTGTATTAT...GCT', SingleLetterAlphabet()), id='NODE_88_length_465_cov_1.020710', name='NODE_88_length_465_cov_1.020710', description='NODE_88_length_465_cov_1.020710', dbxrefs=[]),\n",
       " 'NODE_89_length_464_cov_0.946588': SeqRecord(seq=Seq('TTTGTATATATTATGATATTTTATAGATTTTTTATTTCTGTTTTTGTTTTTTTT...GTT', SingleLetterAlphabet()), id='NODE_89_length_464_cov_0.946588', name='NODE_89_length_464_cov_0.946588', description='NODE_89_length_464_cov_0.946588', dbxrefs=[]),\n",
       " 'NODE_90_length_463_cov_0.952381': SeqRecord(seq=Seq('GTTGAGGGTAATGGTGATGATGTCACCAACCCGATGAGCCTTGCGGTCGTCGTA...AGT', SingleLetterAlphabet()), id='NODE_90_length_463_cov_0.952381', name='NODE_90_length_463_cov_0.952381', description='NODE_90_length_463_cov_0.952381', dbxrefs=[]),\n",
       " 'NODE_91_length_462_cov_1.026866': SeqRecord(seq=Seq('TTGATGGTTAGTTTCATATGGTTTTATTGCTAGTCATTGACTTCTGATTTAATG...TGA', SingleLetterAlphabet()), id='NODE_91_length_462_cov_1.026866', name='NODE_91_length_462_cov_1.026866', description='NODE_91_length_462_cov_1.026866', dbxrefs=[]),\n",
       " 'NODE_92_length_460_cov_0.855856': SeqRecord(seq=Seq('TCTCTGTTTTTTGTTTTATTTTATATTGGTTAGTTTTTTTGTTTCTGTTCGTTT...GTT', SingleLetterAlphabet()), id='NODE_92_length_460_cov_0.855856', name='NODE_92_length_460_cov_0.855856', description='NODE_92_length_460_cov_0.855856', dbxrefs=[]),\n",
       " 'NODE_93_length_459_cov_1.638554': SeqRecord(seq=Seq('GTGCTATATCATGCAATAGCCAGCTCATCAGTCAAGACAAGTCTATCGCTTCAC...TAG', SingleLetterAlphabet()), id='NODE_93_length_459_cov_1.638554', name='NODE_93_length_459_cov_1.638554', description='NODE_93_length_459_cov_1.638554', dbxrefs=[]),\n",
       " 'NODE_94_length_458_cov_1.039275': SeqRecord(seq=Seq('TTGATGTGCATGATGTACGTCTTACTCGATGATGGTCTTGTAGTAGATCTGCAC...CCA', SingleLetterAlphabet()), id='NODE_94_length_458_cov_1.039275', name='NODE_94_length_458_cov_1.039275', description='NODE_94_length_458_cov_1.039275', dbxrefs=[]),\n",
       " 'NODE_95_length_458_cov_1.021148': SeqRecord(seq=Seq('ACTATTGTAATTGTTAGTTTCAGATGTTGTTGTAGTTTTTTGTTTATGTTGTGT...TTG', SingleLetterAlphabet()), id='NODE_95_length_458_cov_1.021148', name='NODE_95_length_458_cov_1.021148', description='NODE_95_length_458_cov_1.021148', dbxrefs=[]),\n",
       " 'NODE_96_length_458_cov_0.740181': SeqRecord(seq=Seq('CTATTGCTAACGTAGTACGTAAGCTAGAAGAACACGGTGCATTAGCTAACACTA...GAG', SingleLetterAlphabet()), id='NODE_96_length_458_cov_0.740181', name='NODE_96_length_458_cov_0.740181', description='NODE_96_length_458_cov_0.740181', dbxrefs=[]),\n",
       " 'NODE_97_length_457_cov_1.045455': SeqRecord(seq=Seq('TCCACAATACAGCTTGTATTCACGTACAGACCGCATCTATTAACTCTCCGATTA...ATG', SingleLetterAlphabet()), id='NODE_97_length_457_cov_1.045455', name='NODE_97_length_457_cov_1.045455', description='NODE_97_length_457_cov_1.045455', dbxrefs=[]),\n",
       " 'NODE_98_length_457_cov_0.936364': SeqRecord(seq=Seq('TGTGTTTCCATTATCATTTCTTTCAAAAACTTTTTGAATTTTCTTCTTAATTTC...TCC', SingleLetterAlphabet()), id='NODE_98_length_457_cov_0.936364', name='NODE_98_length_457_cov_0.936364', description='NODE_98_length_457_cov_0.936364', dbxrefs=[]),\n",
       " 'NODE_99_length_457_cov_0.681818': SeqRecord(seq=Seq('CAATTCAGATGCGGCGGTGATCTTAAACTTTGCTGAACGCAAAGTGTTTTTAGC...CCA', SingleLetterAlphabet()), id='NODE_99_length_457_cov_0.681818', name='NODE_99_length_457_cov_0.681818', description='NODE_99_length_457_cov_0.681818', dbxrefs=[]),\n",
       " 'NODE_100_length_456_cov_0.772036': SeqRecord(seq=Seq('GACCAGGTCAGCCATGTGGGTGCACACGCAGATCAGGAAGTGACGGTAGAGAGA...ATG', SingleLetterAlphabet()), id='NODE_100_length_456_cov_0.772036', name='NODE_100_length_456_cov_0.772036', description='NODE_100_length_456_cov_0.772036', dbxrefs=[]),\n",
       " 'NODE_101_length_454_cov_0.929664': SeqRecord(seq=Seq('TTTGATGGCCATGACTGCTGTTCTCAACGTGTTTGCCGTGGGGGAATCCGTGGG...AAT', SingleLetterAlphabet()), id='NODE_101_length_454_cov_0.929664', name='NODE_101_length_454_cov_0.929664', description='NODE_101_length_454_cov_0.929664', dbxrefs=[]),\n",
       " 'NODE_102_length_454_cov_0.642202': SeqRecord(seq=Seq('AACTAGCTCGACGAGAACAACACGTTCCACCCACTCAGGTGTACTAGCTGGTAG...ATC', SingleLetterAlphabet()), id='NODE_102_length_454_cov_0.642202', name='NODE_102_length_454_cov_0.642202', description='NODE_102_length_454_cov_0.642202', dbxrefs=[]),\n",
       " 'NODE_103_length_453_cov_2.276074': SeqRecord(seq=Seq('CAGCCGACCAATCTCTTGCAGATGTACATGATCCCTGTGGGAGCTGGCTTGCCT...GCC', SingleLetterAlphabet()), id='NODE_103_length_453_cov_2.276074', name='NODE_103_length_453_cov_2.276074', description='NODE_103_length_453_cov_2.276074', dbxrefs=[]),\n",
       " 'NODE_104_length_453_cov_1.000000': SeqRecord(seq=Seq('TTATCTATATATACTTGTGCGAATAGTAAAGCTGTATGCGTATATATGTTTGTG...CAA', SingleLetterAlphabet()), id='NODE_104_length_453_cov_1.000000', name='NODE_104_length_453_cov_1.000000', description='NODE_104_length_453_cov_1.000000', dbxrefs=[]),\n",
       " 'NODE_105_length_453_cov_0.926380': SeqRecord(seq=Seq('ACTTCGCCATGGTGACATGGACGACCCAGACAACTCCGGAGCTAACAGGTTGGC...TAT', SingleLetterAlphabet()), id='NODE_105_length_453_cov_0.926380', name='NODE_105_length_453_cov_0.926380', description='NODE_105_length_453_cov_0.926380', dbxrefs=[]),\n",
       " 'NODE_106_length_453_cov_0.769939': SeqRecord(seq=Seq('AGTGTGCTTTACTAATTATTATTTAGATGTACATGTTCTATGTTATATTCGTGT...ATC', SingleLetterAlphabet()), id='NODE_106_length_453_cov_0.769939', name='NODE_106_length_453_cov_0.769939', description='NODE_106_length_453_cov_0.769939', dbxrefs=[]),\n",
       " 'NODE_107_length_452_cov_1.000000': SeqRecord(seq=Seq('GTGTATCTGCTGCTTCACCTACTTACGCCTCCATCACATTCCTCTGTATCATTT...AAA', SingleLetterAlphabet()), id='NODE_107_length_452_cov_1.000000', name='NODE_107_length_452_cov_1.000000', description='NODE_107_length_452_cov_1.000000', dbxrefs=[]),\n",
       " 'NODE_108_length_452_cov_0.969231': SeqRecord(seq=Seq('GGGCCCAAGGCGAAAACTTGTAGGTTGGGGGGAGATGCTTTCCTTTGCCTTAAT...ATG', SingleLetterAlphabet()), id='NODE_108_length_452_cov_0.969231', name='NODE_108_length_452_cov_0.969231', description='NODE_108_length_452_cov_0.969231', dbxrefs=[]),\n",
       " 'NODE_109_length_452_cov_0.963077': SeqRecord(seq=Seq('AAGTTTTGTGTTTCTTCTATTGCGAATCGTCGATAGATATCAGATGTTCTATAT...AAA', SingleLetterAlphabet()), id='NODE_109_length_452_cov_0.963077', name='NODE_109_length_452_cov_0.963077', description='NODE_109_length_452_cov_0.963077', dbxrefs=[]),\n",
       " 'NODE_110_length_452_cov_0.849231': SeqRecord(seq=Seq('TAGGTAAATGCGTCCTTGTCGAATAGACATTTAATCACTGGTGACAGCTTGGCT...TTT', SingleLetterAlphabet()), id='NODE_110_length_452_cov_0.849231', name='NODE_110_length_452_cov_0.849231', description='NODE_110_length_452_cov_0.849231', dbxrefs=[]),\n",
       " 'NODE_111_length_451_cov_1.055556': SeqRecord(seq=Seq('CATCATCACTACGCTCATTTGAGTCGCATGAGCGTACATCTATAATAGTTGTGT...CTC', SingleLetterAlphabet()), id='NODE_111_length_451_cov_1.055556', name='NODE_111_length_451_cov_1.055556', description='NODE_111_length_451_cov_1.055556', dbxrefs=[]),\n",
       " 'NODE_112_length_451_cov_1.006173': SeqRecord(seq=Seq('TGTTATTTTCAGTTTTTTTATTGTTTTGTTTTGTTTTTTGTTGTATTTTGTTTT...GCG', SingleLetterAlphabet()), id='NODE_112_length_451_cov_1.006173', name='NODE_112_length_451_cov_1.006173', description='NODE_112_length_451_cov_1.006173', dbxrefs=[]),\n",
       " 'NODE_113_length_451_cov_0.987654': SeqRecord(seq=Seq('CTTTTGATCTGCCTGCCTCAGCCTCCCGAAGTGCTGGGATTACAGGCGTGAGCC...CAC', SingleLetterAlphabet()), id='NODE_113_length_451_cov_0.987654', name='NODE_113_length_451_cov_0.987654', description='NODE_113_length_451_cov_0.987654', dbxrefs=[]),\n",
       " 'NODE_114_length_451_cov_0.728395': SeqRecord(seq=Seq('CCACACCTTACACCACTCCCCTCCCCGACGCCCTTCCGATCTCGTGATCCGCCC...ACA', SingleLetterAlphabet()), id='NODE_114_length_451_cov_0.728395', name='NODE_114_length_451_cov_0.728395', description='NODE_114_length_451_cov_0.728395', dbxrefs=[]),\n",
       " 'NODE_115_length_450_cov_1.065015': SeqRecord(seq=Seq('TATCGCGCATAATACTTGCATGCTTTGATTGCCTATTATTCTTGCTGTTGGTGT...GTA', SingleLetterAlphabet()), id='NODE_115_length_450_cov_1.065015', name='NODE_115_length_450_cov_1.065015', description='NODE_115_length_450_cov_1.065015', dbxrefs=[]),\n",
       " 'NODE_116_length_450_cov_0.650155': SeqRecord(seq=Seq('TGTCTCATTAATACATCTTATTACCTTTCTTTCTCGCTTAGCATCTATCTAGTG...ATC', SingleLetterAlphabet()), id='NODE_116_length_450_cov_0.650155', name='NODE_116_length_450_cov_0.650155', description='NODE_116_length_450_cov_0.650155', dbxrefs=[]),\n",
       " 'NODE_117_length_449_cov_0.975155': SeqRecord(seq=Seq('GTTCCAGGTCCTTATCTACAAAAGCACTGTTAAAGGTTGGAAAATCGGCTAAAT...GTG', SingleLetterAlphabet()), id='NODE_117_length_449_cov_0.975155', name='NODE_117_length_449_cov_0.975155', description='NODE_117_length_449_cov_0.975155', dbxrefs=[]),\n",
       " 'NODE_118_length_449_cov_0.928571': SeqRecord(seq=Seq('ACGGAGGATGTTGGGTGGGAGGAGATAATCGGGTGGGGTGTGCGGAGGAGTGAT...CCC', SingleLetterAlphabet()), id='NODE_118_length_449_cov_0.928571', name='NODE_118_length_449_cov_0.928571', description='NODE_118_length_449_cov_0.928571', dbxrefs=[]),\n",
       " 'NODE_119_length_448_cov_1.071651': SeqRecord(seq=Seq('ATTTTTTGTGTGTGTAGTAGGTTTTAGTTTGTTTTTTATTTGTTTGTTTTGTTT...AGT', SingleLetterAlphabet()), id='NODE_119_length_448_cov_1.071651', name='NODE_119_length_448_cov_1.071651', description='NODE_119_length_448_cov_1.071651', dbxrefs=[]),\n",
       " 'NODE_120_length_447_cov_1.053125': SeqRecord(seq=Seq('ATAACGAGCCTGACCATCACTCTTACCATTACAGCCTGCGATCTGATCAGATCG...TTT', SingleLetterAlphabet()), id='NODE_120_length_447_cov_1.053125', name='NODE_120_length_447_cov_1.053125', description='NODE_120_length_447_cov_1.053125', dbxrefs=[]),\n",
       " 'NODE_121_length_447_cov_0.981250': SeqRecord(seq=Seq('ATGCTCGCCCTTCGCTTAAATGTCACGTCCTCAAAGAGGCCTTTTCTGGATGCT...TAC', SingleLetterAlphabet()), id='NODE_121_length_447_cov_0.981250', name='NODE_121_length_447_cov_0.981250', description='NODE_121_length_447_cov_0.981250', dbxrefs=[]),\n",
       " 'NODE_122_length_446_cov_0.927900': SeqRecord(seq=Seq('GTATGTTTTGTGATTTATATGGTATTAAATGTGATGTGTTTATGGTTTTTATTG...ACT', SingleLetterAlphabet()), id='NODE_122_length_446_cov_0.927900', name='NODE_122_length_446_cov_0.927900', description='NODE_122_length_446_cov_0.927900', dbxrefs=[]),\n",
       " 'NODE_123_length_444_cov_0.782334': SeqRecord(seq=Seq('TAGGCTGAATGAGCTTAGTATGACCTAGTACGTAGACGTTTACGGCGCAGGCCG...GTA', SingleLetterAlphabet()), id='NODE_123_length_444_cov_0.782334', name='NODE_123_length_444_cov_0.782334', description='NODE_123_length_444_cov_0.782334', dbxrefs=[]),\n",
       " 'NODE_124_length_443_cov_0.702532': SeqRecord(seq=Seq('AGATAATGTATGAGGTGTTGTATAGGTTGGAATGTAATTGTTGTTGTGTGTGAT...ATC', SingleLetterAlphabet()), id='NODE_124_length_443_cov_0.702532', name='NODE_124_length_443_cov_0.702532', description='NODE_124_length_443_cov_0.702532', dbxrefs=[]),\n",
       " 'NODE_125_length_442_cov_1.092063': SeqRecord(seq=Seq('GTGGTTTGTACGTGCTCGATCCATATTCATTCTAGTATGTCAACTGTCTATTAT...ACT', SingleLetterAlphabet()), id='NODE_125_length_442_cov_1.092063', name='NODE_125_length_442_cov_1.092063', description='NODE_125_length_442_cov_1.092063', dbxrefs=[]),\n",
       " 'NODE_126_length_442_cov_0.879365': SeqRecord(seq=Seq('TCTAGTATTCATGTTCCTGTACTTGTGTCCTTCTTCGTACGTATTAGAGTTCCG...AAC', SingleLetterAlphabet()), id='NODE_126_length_442_cov_0.879365', name='NODE_126_length_442_cov_0.879365', description='NODE_126_length_442_cov_0.879365', dbxrefs=[]),\n",
       " 'NODE_127_length_441_cov_0.869427': SeqRecord(seq=Seq('AGGCAAGCGGATGGCTGATGAAACCAAGCCGTCGACTGTCTCTTATACACATCT...CAC', SingleLetterAlphabet()), id='NODE_127_length_441_cov_0.869427', name='NODE_127_length_441_cov_0.869427', description='NODE_127_length_441_cov_0.869427', dbxrefs=[]),\n",
       " 'NODE_128_length_440_cov_0.859425': SeqRecord(seq=Seq('AGAACACGAAGCTACTTCAGGGGAGTGCGTCTACACATCTTCTGTATTACAGTT...TGT', SingleLetterAlphabet()), id='NODE_128_length_440_cov_0.859425', name='NODE_128_length_440_cov_0.859425', description='NODE_128_length_440_cov_0.859425', dbxrefs=[]),\n",
       " 'NODE_129_length_440_cov_0.843450': SeqRecord(seq=Seq('CAAATCGCATATATACAGATTTCACAGTAAATATAGAGGCTATCTCAGATTTCT...TGC', SingleLetterAlphabet()), id='NODE_129_length_440_cov_0.843450', name='NODE_129_length_440_cov_0.843450', description='NODE_129_length_440_cov_0.843450', dbxrefs=[]),\n",
       " 'NODE_130_length_439_cov_1.092949': SeqRecord(seq=Seq('TGGATTGTATTTGTGATGTCGTGACTGCTAGTTTTGTGGTAATATCCTCTCTCT...ACG', SingleLetterAlphabet()), id='NODE_130_length_439_cov_1.092949', name='NODE_130_length_439_cov_1.092949', description='NODE_130_length_439_cov_1.092949', dbxrefs=[]),\n",
       " 'NODE_131_length_438_cov_0.877814': SeqRecord(seq=Seq('AGGTTAGGATAAGAGAAGTGGCTTTGTACTTAATAATATAGTCTAGTGTGTGTT...GTC', SingleLetterAlphabet()), id='NODE_131_length_438_cov_0.877814', name='NODE_131_length_438_cov_0.877814', description='NODE_131_length_438_cov_0.877814', dbxrefs=[]),\n",
       " 'NODE_132_length_438_cov_0.836013': SeqRecord(seq=Seq('TGCTTCTTGAACAGTGTCTCTTATTTGGTCTCTGTATTTTGTTTTGTTTTTTTT...GAT', SingleLetterAlphabet()), id='NODE_132_length_438_cov_0.836013', name='NODE_132_length_438_cov_0.836013', description='NODE_132_length_438_cov_0.836013', dbxrefs=[]),\n",
       " 'NODE_133_length_437_cov_1.093548': SeqRecord(seq=Seq('TTTTGGTGTTTTTTATTTTGTGTTGTTTGTTGTTGTGTGTTTGTTTTTTTTGTT...TTC', SingleLetterAlphabet()), id='NODE_133_length_437_cov_1.093548', name='NODE_133_length_437_cov_1.093548', description='NODE_133_length_437_cov_1.093548', dbxrefs=[]),\n",
       " 'NODE_134_length_437_cov_0.909677': SeqRecord(seq=Seq('ACTGTGATATAACTGACGTAGCTCTGTGATATATGCTACAGTTCGAATATATCA...TTG', SingleLetterAlphabet()), id='NODE_134_length_437_cov_0.909677', name='NODE_134_length_437_cov_0.909677', description='NODE_134_length_437_cov_0.909677', dbxrefs=[]),\n",
       " 'NODE_135_length_437_cov_0.841935': SeqRecord(seq=Seq('ACATCACGTCTCTTCGTTGTGTGGTATGTGTTATGTTTTGGTTTAGATTGTGGT...CAT', SingleLetterAlphabet()), id='NODE_135_length_437_cov_0.841935', name='NODE_135_length_437_cov_0.841935', description='NODE_135_length_437_cov_0.841935', dbxrefs=[]),\n",
       " 'NODE_136_length_436_cov_1.135922': SeqRecord(seq=Seq('CTTTGATAATCGCCTCGGCGCTCATCAGGAAACGCTTGGGTTGGGCTACAAGTG...TGG', SingleLetterAlphabet()), id='NODE_136_length_436_cov_1.135922', name='NODE_136_length_436_cov_1.135922', description='NODE_136_length_436_cov_1.135922', dbxrefs=[]),\n",
       " 'NODE_137_length_435_cov_1.110390': SeqRecord(seq=Seq('TTGTGTTTCATATTCTGTTTATTTTATGTGTTGGGGTTAGGTTTTTTTTTTTTT...GAG', SingleLetterAlphabet()), id='NODE_137_length_435_cov_1.110390', name='NODE_137_length_435_cov_1.110390', description='NODE_137_length_435_cov_1.110390', dbxrefs=[]),\n",
       " 'NODE_138_length_435_cov_0.714286': SeqRecord(seq=Seq('CGTATGGATCAGTCGATACTATATCTGATATTCTACGATATATAGACTGAGTCT...ATC', SingleLetterAlphabet()), id='NODE_138_length_435_cov_0.714286', name='NODE_138_length_435_cov_0.714286', description='NODE_138_length_435_cov_0.714286', dbxrefs=[]),\n",
       " 'NODE_139_length_434_cov_0.644951': SeqRecord(seq=Seq('AATAGCGTGTACGCTCTTTGTCTGAGTTGCTGTCTATTGGTGTGGGAGTCTAAT...ATC', SingleLetterAlphabet()), id='NODE_139_length_434_cov_0.644951', name='NODE_139_length_434_cov_0.644951', description='NODE_139_length_434_cov_0.644951', dbxrefs=[]),\n",
       " 'NODE_140_length_433_cov_0.918301': SeqRecord(seq=Seq('GGATGGCTGATGAAACCAAGCCGTCGACTGTCTCTTATACACATCTCAACCGGC...AAC', SingleLetterAlphabet()), id='NODE_140_length_433_cov_0.918301', name='NODE_140_length_433_cov_0.918301', description='NODE_140_length_433_cov_0.918301', dbxrefs=[]),\n",
       " 'NODE_141_length_433_cov_0.859477': SeqRecord(seq=Seq('TGACCACTTTACTTTGGTTTCGCTGAATCTGTCTCTTATACACATCTCAACCGG...GCT', SingleLetterAlphabet()), id='NODE_141_length_433_cov_0.859477', name='NODE_141_length_433_cov_0.859477', description='NODE_141_length_433_cov_0.859477', dbxrefs=[]),\n",
       " 'NODE_142_length_433_cov_0.787582': SeqRecord(seq=Seq('AATCATCTCTTGTACTGTTAACAATGTCACATCTAATTACAAGCGTATACCTCT...TAT', SingleLetterAlphabet()), id='NODE_142_length_433_cov_0.787582', name='NODE_142_length_433_cov_0.787582', description='NODE_142_length_433_cov_0.787582', dbxrefs=[]),\n",
       " 'NODE_143_length_432_cov_0.849180': SeqRecord(seq=Seq('GATCGGAAGAGCGTCGTGTAGGGAAAGAGTGTAGATCTCGGTGGTCGCCGTATC...ATC', SingleLetterAlphabet()), id='NODE_143_length_432_cov_0.849180', name='NODE_143_length_432_cov_0.849180', description='NODE_143_length_432_cov_0.849180', dbxrefs=[]),\n",
       " 'NODE_144_length_432_cov_0.836066': SeqRecord(seq=Seq('TTCGAAGCGTTCAAGGACATCTAACAGGTTGGCTGATAAGTCCCCGGTCTGGCC...CAT', SingleLetterAlphabet()), id='NODE_144_length_432_cov_0.836066', name='NODE_144_length_432_cov_0.836066', description='NODE_144_length_432_cov_0.836066', dbxrefs=[]),\n",
       " 'NODE_145_length_431_cov_1.082237': SeqRecord(seq=Seq('GATCTCTATGGATCGGGGGCGGCTGGAGAAGAAGAGACGCTGCTGTTCGATGCG...AGT', SingleLetterAlphabet()), id='NODE_145_length_431_cov_1.082237', name='NODE_145_length_431_cov_1.082237', description='NODE_145_length_431_cov_1.082237', dbxrefs=[]),\n",
       " 'NODE_146_length_430_cov_1.033003': SeqRecord(seq=Seq('CCTCCACTCAGAGTCTGGCGATCGCAGACACGCTTGGGTTCATGGAAGATCGGC...ATT', SingleLetterAlphabet()), id='NODE_146_length_430_cov_1.033003', name='NODE_146_length_430_cov_1.033003', description='NODE_146_length_430_cov_1.033003', dbxrefs=[]),\n",
       " 'NODE_147_length_430_cov_0.838284': SeqRecord(seq=Seq('CTAGGTCTCTACTGAGCGGTACATTGGCAACGTACGCTGCAGGTCGACGTCCGG...TTT', SingleLetterAlphabet()), id='NODE_147_length_430_cov_0.838284', name='NODE_147_length_430_cov_0.838284', description='NODE_147_length_430_cov_0.838284', dbxrefs=[]),\n",
       " 'NODE_148_length_429_cov_0.688742': SeqRecord(seq=Seq('GATCGGAAGAGCACACGTCTGAACTCCAGTCACTGACCAATCTCGTATGCCGTC...AAT', SingleLetterAlphabet()), id='NODE_148_length_429_cov_0.688742', name='NODE_148_length_429_cov_0.688742', description='NODE_148_length_429_cov_0.688742', dbxrefs=[]),\n",
       " 'NODE_149_length_428_cov_0.930233': SeqRecord(seq=Seq('TGGTCTCTCGGAGGCGGCAGAATGTGGACGTACGCTGCAGGTCGACGGCCGGCC...ATT', SingleLetterAlphabet()), id='NODE_149_length_428_cov_0.930233', name='NODE_149_length_428_cov_0.930233', description='NODE_149_length_428_cov_0.930233', dbxrefs=[]),\n",
       " 'NODE_150_length_377_cov_6.848000': SeqRecord(seq=Seq('GGGGGCACCGCGGCAAGGATGCCGCGGTAGCCGCCCCCGGCCATGGATGGCCGA...GAT', SingleLetterAlphabet()), id='NODE_150_length_377_cov_6.848000', name='NODE_150_length_377_cov_6.848000', description='NODE_150_length_377_cov_6.848000', dbxrefs=[]),\n",
       " 'NODE_151_length_330_cov_6.798030': SeqRecord(seq=Seq('CGTTGGACAGGGTGACAACGACTGGCGAACCGGTGACTGGTGCGCTGACGGACG...GCG', SingleLetterAlphabet()), id='NODE_151_length_330_cov_6.798030', name='NODE_151_length_330_cov_6.798030', description='NODE_151_length_330_cov_6.798030', dbxrefs=[]),\n",
       " 'NODE_152_length_328_cov_11.805970': SeqRecord(seq=Seq('TCGACAGCACCGGCCAGTGGACGTACACCCTGGCCAATGGCACCGATGGTGTCG...CTA', SingleLetterAlphabet()), id='NODE_152_length_328_cov_11.805970', name='NODE_152_length_328_cov_11.805970', description='NODE_152_length_328_cov_11.805970', dbxrefs=[]),\n",
       " 'NODE_153_length_304_cov_6.305085': SeqRecord(seq=Seq('GCCGTCACGGTGTCGCCGTCAGCGTCCGTGGCGTTGATCGCCGTGCCCAGCGCG...AAT', SingleLetterAlphabet()), id='NODE_153_length_304_cov_6.305085', name='NODE_153_length_304_cov_6.305085', description='NODE_153_length_304_cov_6.305085', dbxrefs=[]),\n",
       " 'NODE_154_length_293_cov_3.566265': SeqRecord(seq=Seq('TCGGGATGCACCACGGCGCGCAGCTGGTCGAGGGTGACGTCACCATTGGCGGCG...TAT', SingleLetterAlphabet()), id='NODE_154_length_293_cov_3.566265', name='NODE_154_length_293_cov_3.566265', description='NODE_154_length_293_cov_3.566265', dbxrefs=[]),\n",
       " 'NODE_155_length_268_cov_13.716312': SeqRecord(seq=Seq('GTGACGGCGGCCGCGAATGGCCTGGTGATCACGGTCGACGACGACACGCCGATC...GTC', SingleLetterAlphabet()), id='NODE_155_length_268_cov_13.716312', name='NODE_155_length_268_cov_13.716312', description='NODE_155_length_268_cov_13.716312', dbxrefs=[]),\n",
       " 'NODE_156_length_265_cov_2.442029': SeqRecord(seq=Seq('TCGCAGGCAAGCCAGCTCCCACAGGGATCATGTACATCTGCAAGAGACTGATCG...CTG', SingleLetterAlphabet()), id='NODE_156_length_265_cov_2.442029', name='NODE_156_length_265_cov_2.442029', description='NODE_156_length_265_cov_2.442029', dbxrefs=[]),\n",
       " 'NODE_157_length_250_cov_25.487805': SeqRecord(seq=Seq('GACCCAGTGCCGTCAGGCCATTGGTCGTCAGCGAATAGCTCAGCGGCTCATCCG...GCC', SingleLetterAlphabet()), id='NODE_157_length_250_cov_25.487805', name='NODE_157_length_250_cov_25.487805', description='NODE_157_length_250_cov_25.487805', dbxrefs=[]),\n",
       " 'NODE_158_length_241_cov_13.710526': SeqRecord(seq=Seq('ACACCTTCACGCTGGTCGATCAGCTCGACCATGCAAGCCTCGATAACGTTGCGG...GGC', SingleLetterAlphabet()), id='NODE_158_length_241_cov_13.710526', name='NODE_158_length_241_cov_13.710526', description='NODE_158_length_241_cov_13.710526', dbxrefs=[]),\n",
       " 'NODE_159_length_235_cov_17.648148': SeqRecord(seq=Seq('GTGTCGCCGTCAGCGTCCGTGGCGTTGATCGCCGTGCCCAGCGCGATGCTCAGG...AGG', SingleLetterAlphabet()), id='NODE_159_length_235_cov_17.648148', name='NODE_159_length_235_cov_17.648148', description='NODE_159_length_235_cov_17.648148', dbxrefs=[]),\n",
       " 'NODE_160_length_205_cov_37.012821': SeqRecord(seq=Seq('CCGAGGCCGTCAGCGTGTGGGTGTTCGCGACCGCGTCATAGGCGACCGCATAGG...GCC', SingleLetterAlphabet()), id='NODE_160_length_205_cov_37.012821', name='NODE_160_length_205_cov_37.012821', description='NODE_160_length_205_cov_37.012821', dbxrefs=[]),\n",
       " 'NODE_161_length_198_cov_4.408451': SeqRecord(seq=Seq('GGGTCGCCACTGTCGCGATCGGCGTGTCGTCGTCGACCGTGATCACCAGGCCAT...TGT', SingleLetterAlphabet()), id='NODE_161_length_198_cov_4.408451', name='NODE_161_length_198_cov_4.408451', description='NODE_161_length_198_cov_4.408451', dbxrefs=[]),\n",
       " 'NODE_162_length_189_cov_8.758065': SeqRecord(seq=Seq('GGGTCGCCACTGTCGCGATCGGCGTGTCGTCGTCGACCGTGATCACCAGGCCAT...GCG', SingleLetterAlphabet()), id='NODE_162_length_189_cov_8.758065', name='NODE_162_length_189_cov_8.758065', description='NODE_162_length_189_cov_8.758065', dbxrefs=[]),\n",
       " 'NODE_163_length_183_cov_6.785714': SeqRecord(seq=Seq('AAACCCTGCTGGTCAACGCCTGCGAAACCCTGGCGTCAGCGAGCATGATGCTCA...GAT', SingleLetterAlphabet()), id='NODE_163_length_183_cov_6.785714', name='NODE_163_length_183_cov_6.785714', description='NODE_163_length_183_cov_6.785714', dbxrefs=[]),\n",
       " 'NODE_164_length_174_cov_2.042553': SeqRecord(seq=Seq('TGCCCCGCCATTCGGTGCCTCGCTTAGGCTCGGCATGCCCTCGCTCCGGCATTG...AAG', SingleLetterAlphabet()), id='NODE_164_length_174_cov_2.042553', name='NODE_164_length_174_cov_2.042553', description='NODE_164_length_174_cov_2.042553', dbxrefs=[]),\n",
       " 'NODE_165_length_170_cov_13.767442': SeqRecord(seq=Seq('GACCTGAGCATCGCGCTGGGCACGGCGATCAACGCCACGGACGCTGACGGCGAC...GGC', SingleLetterAlphabet()), id='NODE_165_length_170_cov_13.767442', name='NODE_165_length_170_cov_13.767442', description='NODE_165_length_170_cov_13.767442', dbxrefs=[]),\n",
       " 'NODE_166_length_166_cov_2.692308': SeqRecord(seq=Seq('ACGATCCGAACCACCTTCAGCGACGCGGTTCTCGATCAGACGATCCGAACCACC...GAA', SingleLetterAlphabet()), id='NODE_166_length_166_cov_2.692308', name='NODE_166_length_166_cov_2.692308', description='NODE_166_length_166_cov_2.692308', dbxrefs=[]),\n",
       " 'NODE_167_length_164_cov_8.297297': SeqRecord(seq=Seq('CGCCGGCGATGCCATCGCCCGGGCCGGCGTTGGCCGTGCCTTCCACTACGCCGT...TCC', SingleLetterAlphabet()), id='NODE_167_length_164_cov_8.297297', name='NODE_167_length_164_cov_8.297297', description='NODE_167_length_164_cov_8.297297', dbxrefs=[]),\n",
       " 'NODE_168_length_159_cov_4.843750': SeqRecord(seq=Seq('CGTCGACCGTGATCACCAGGCCGTTCGCGGCTGCCGTCACGGTGTCGCCGTCAG...GCG', SingleLetterAlphabet()), id='NODE_168_length_159_cov_4.843750', name='NODE_168_length_159_cov_4.843750', description='NODE_168_length_159_cov_4.843750', dbxrefs=[]),\n",
       " 'NODE_169_length_145_cov_17.055556': SeqRecord(seq=Seq('GTGACGGCGGCCGCGAATGGCCTGGTGATCACGGTCGACGACGACACGCCGATC...GCG', SingleLetterAlphabet()), id='NODE_169_length_145_cov_17.055556', name='NODE_169_length_145_cov_17.055556', description='NODE_169_length_145_cov_17.055556', dbxrefs=[]),\n",
       " 'NODE_170_length_141_cov_14.785714': SeqRecord(seq=Seq('CCGGGCCGGCGTTGGCCGTGCCTTCCACTACGCCGTCTTCGTCCACCGTGCCAG...CAG', SingleLetterAlphabet()), id='NODE_170_length_141_cov_14.785714', name='NODE_170_length_141_cov_14.785714', description='NODE_170_length_141_cov_14.785714', dbxrefs=[]),\n",
       " 'NODE_171_length_141_cov_7.071429': SeqRecord(seq=Seq('CTGACGGCGACACCGTGACGGCGGCCGCGAATGGCCTGGTGATCACGGTCGACG...CGG', SingleLetterAlphabet()), id='NODE_171_length_141_cov_7.071429', name='NODE_171_length_141_cov_7.071429', description='NODE_171_length_141_cov_7.071429', dbxrefs=[]),\n",
       " 'NODE_172_length_141_cov_5.714286': SeqRecord(seq=Seq('CTGACGGCGACACGGTGACGGCGGCCGCGAATGGCCTGGTGATCACGGTCGACG...CGG', SingleLetterAlphabet()), id='NODE_172_length_141_cov_5.714286', name='NODE_172_length_141_cov_5.714286', description='NODE_172_length_141_cov_5.714286', dbxrefs=[]),\n",
       " 'NODE_173_length_141_cov_4.214286': SeqRecord(seq=Seq('CCGGGCCGGCGTTGGCCGTGCCTTCCACTACGCCGTCTTCGTCCACCGTGCCAG...CAG', SingleLetterAlphabet()), id='NODE_173_length_141_cov_4.214286', name='NODE_173_length_141_cov_4.214286', description='NODE_173_length_141_cov_4.214286', dbxrefs=[]),\n",
       " 'NODE_174_length_129_cov_17.000000': SeqRecord(seq=Seq('CCCTGTGGGAGATTCTATGGTTGAGGGAAAGCCCTCAACTGGCTTTTGGCTGGT...TGG', SingleLetterAlphabet()), id='NODE_174_length_129_cov_17.000000', name='NODE_174_length_129_cov_17.000000', description='NODE_174_length_129_cov_17.000000', dbxrefs=[]),\n",
       " 'NODE_175_length_128_cov_1536.000000': SeqRecord(seq=Seq('GGGGGGGGGGGGGGGGGGGGGGGGGGGGGGGGGGGGGGGGGGGGGGGGGGGGGG...GGG', SingleLetterAlphabet()), id='NODE_175_length_128_cov_1536.000000', name='NODE_175_length_128_cov_1536.000000', description='NODE_175_length_128_cov_1536.000000', dbxrefs=[]),\n",
       " 'NODE_176_length_128_cov_150.000000': SeqRecord(seq=Seq('TTTTTTTTTTTTTTTTTTTTTTTTTTTTTTTTTTTTTTTTTTTTTTTTTTTTTT...TTT', SingleLetterAlphabet()), id='NODE_176_length_128_cov_150.000000', name='NODE_176_length_128_cov_150.000000', description='NODE_176_length_128_cov_150.000000', dbxrefs=[])}"
      ]
     },
     "execution_count": 13,
     "metadata": {},
     "output_type": "execute_result"
    }
   ],
   "source": [
    "record_dict"
   ]
  },
  {
   "cell_type": "code",
   "execution_count": 15,
   "metadata": {},
   "outputs": [],
   "source": [
    "fasta_string = open(\"contigs.fasta\").read()"
   ]
  },
  {
   "cell_type": "code",
   "execution_count": 18,
   "metadata": {},
   "outputs": [],
   "source": [
    "\n",
    "with open('test.txt', 'a') as f:\n",
    "    f.write(fasta_string)"
   ]
  },
  {
   "cell_type": "code",
   "execution_count": null,
   "metadata": {},
   "outputs": [],
   "source": [
    "\n",
    "\n",
    "\n",
    "myFile= open(\"test.txt\", \"rU\" )\n",
    "for aRow in myFile:\n",
    "    print(aRow.split('\\n'))\n",
    "myFile.close()"
   ]
  },
  {
   "cell_type": "code",
   "execution_count": 23,
   "metadata": {},
   "outputs": [],
   "source": [
    "#olnames=['Sequence-Name', 'Sequence-Role', 'Assigned-Molecule', 'Assigned-Molecule-Location/Type', 'GenBank-Accn', 'Relationship', 'RefSeq-Accn', 'Assembly-Unit', 'Sequence-Length', 'UCSC-style-name'] \n",
    "#It will convert tab delimiter text file into dataframe\n",
    "\n",
    "dataframe1 = pd.read_csv(\"test.txt\",delimiter=\"\\n\", header=None)\n",
    "#Write dataframe into CSV\n",
    "\n",
    "dataframe1.to_csv(\"test.csv\", encoding='utf-8', index=False)\n",
    "\n"
   ]
  },
  {
   "cell_type": "code",
   "execution_count": 31,
   "metadata": {},
   "outputs": [],
   "source": [
    "df = pd.read_csv('test.csv')\n"
   ]
  },
  {
   "cell_type": "code",
   "execution_count": 35,
   "metadata": {},
   "outputs": [],
   "source": [
    "title = []\n",
    "for i in df['0']:\n",
    "    if i.find(\">\") > -1:\n",
    "        title.append(i)\n",
    "    else:\n",
    "        continue\n",
    "    "
   ]
  },
  {
   "cell_type": "code",
   "execution_count": 45,
   "metadata": {},
   "outputs": [],
   "source": [
    "temp =[]\n",
    "for i in title:\n",
    "    temp.append(i.split(\"_\"))\n",
    "    "
   ]
  },
  {
   "cell_type": "code",
   "execution_count": 48,
   "metadata": {},
   "outputs": [],
   "source": [
    "coverages=[]\n",
    "for i in range(len(temp)):\n",
    "    coverages.append(temp[i][5])"
   ]
  },
  {
   "cell_type": "code",
   "execution_count": null,
   "metadata": {},
   "outputs": [],
   "source": []
  },
  {
   "cell_type": "code",
   "execution_count": 51,
   "metadata": {},
   "outputs": [],
   "source": [
    "cov = list(map(float, coverages))"
   ]
  },
  {
   "cell_type": "code",
   "execution_count": 52,
   "metadata": {},
   "outputs": [],
   "source": [
    "import matplotlib.pyplot as plt"
   ]
  },
  {
   "cell_type": "code",
   "execution_count": 64,
   "metadata": {},
   "outputs": [
    {
     "data": {
      "text/plain": [
       "(0, 300)"
      ]
     },
     "execution_count": 64,
     "metadata": {},
     "output_type": "execute_result"
    },
    {
     "data": {
      "image/png": "[encoded data removed]",
      "text/plain": [
       "<Figure size 432x288 with 1 Axes>"
      ]
     },
     "metadata": {
      "needs_background": "light"
     },
     "output_type": "display_data"
    }
   ],
   "source": [
    "import numpy as np\n",
    "\n",
    "# An \"interface\" to matplotlib.axes.Axes.hist() method\n",
    "n, bins, patches = plt.hist(x=cov, bins='auto', color='#0504aa',\n",
    "                            alpha=0.7, rwidth=0.85)\n",
    "plt.grid(axis='y', alpha=0.75)\n",
    "plt.xlabel('Value')\n",
    "plt.ylabel('Frequency')\n",
    "plt.title('Histogram')\n",
    "plt.text(23, 45, r'$\\mu=15, b=3$')\n",
    "maxfreq = n.max()\n",
    "# Set a clean upper y-axis limit.\n",
    "plt.ylim(0,100)#ymax=np.ceil(maxfreq / 10) * 10 if maxfreq % 10 else maxfreq + 10)\n",
    "plt.xlim(0,300)"
   ]
  },
  {
   "cell_type": "markdown",
   "metadata": {},
   "source": []
  },
  {
   "cell_type": "markdown",
   "metadata": {},
   "source": [
    "#### The histogram although has a mean at 15, shows a bimodal distribution. Although it does resemble an Extreme Value Distribution and I would say that, if it does, the 150 value seems significant."
   ]
  },
  {
   "cell_type": "markdown",
   "metadata": {},
   "source": [
    "![2](https://github.com/prithivnatarajan/compbio/blob/master/species.png?raw=true)"
   ]
  },
  {
   "cell_type": "markdown",
   "metadata": {},
   "source": [
    "##### Pseudomonas sp. is ubiquitously present worldwide of which Pseudomonas aeruginosa is a major nosocomial pathogen, which survives in moist environments and colonizes the respiratory tract of mechanically ventilated patients. It causes severe infections such as pneumonia in critically ill and immunocompromised patients. "
   ]
  },
  {
   "cell_type": "markdown",
   "metadata": {},
   "source": [
    "##### Research and write-up: \n",
    "Pseudomonas spp. are Gram negative bacteria. They contain an outer membrane and an inner membrane with the periplasmic space in the middle. On the surface of outer membrane, there are lipopolysaccharides, lipoproteins, and water protein channels or porins. The presence of these molecular compounds is aligned with the genomic annotation results performed by RAST Particularly, there are several genes encoding key enzymes related to the production and metabolism of membrane compounds, such as \n",
    "1. dTDP-rhamnose synthesis: \n",
    "• cETDP-4-dehydrorhamnose 3,5-epimerase (EC 5.1.3.13) ■ Glucose-1-phosphate thymidylyltransferase (EC 2.7.7.24) \n",
    "2. Exopolysaccharide Biosynthesis: \n",
    "• Glycosyl transferase, group 1 family protein • Capsular polysaccharide synthesis enzyme CpsA, sugar transferase. \n",
    "Pseudomonas spp. are known to resist to the antibiotic fluoroquinolones (FQs). Studies show that the FO resistance can be explained in two different mechanisms. First, the FO resistant Pseudomonas has mutations in the target genes encoding two enyzmes. including DNA gyrase and topoisomerase IV. These two enzymes play essential roles in Pseudomonas DNA replication. \n",
    "\n",
    "The RAST analysis shows that enzyme DNA gyrase is consisted of two subunits, A and B, encoded by two genes. Similarly, there are two genes encoding two subunits for topoisomerase IV (see Exhibition 1). The second mechanim of antibiotic resistance in Pseudomonas spp. is involved the mutations affecting the antibiotics pumps, which are responsible for drug efflux. Particularly, Exhibition 1 shows several genes identified from RAST annotation, including \n",
    "1. Multi antimicrobial extrusion protein (Na(+)/drug antiporter). MATE family of MDR efflux pumps \n",
    "2. IVlultidrug and toxin extrusion (MATE) family efflux pump YdhE/NorM, honiolog \n",
    "3. IVlacrolide-specific efflux protein MacA \n",
    "The mutations on these efflux pumps make Pseudomonas to be resistant to many different antibiotics, such as tetracycline and chloramphenicol_ In addition, the bacteria are also resistant to a class of beta-lactam antibiotic including penicillin since the analysis shows that Pseudomonas has gene encoding beta-lactamase. \n"
   ]
  },
  {
   "cell_type": "markdown",
   "metadata": {},
   "source": [
    "Rast results:\n"
   ]
  },
  {
   "cell_type": "markdown",
   "metadata": {},
   "source": [
    "![3](https://github.com/prithivnatarajan/compbio/blob/master/rast1.png?raw=true)\n",
    "![4](https://github.com/prithivnatarajan/compbio/blob/master/rast2.png?raw=true)\n",
    "![5](https://github.com/prithivnatarajan/compbio/blob/master/rast.png?raw=true)\n",
    "![6](https://github.com/prithivnatarajan/compbio/blob/master/basys.png?raw=true)\n",
    "![7](https://github.com/prithivnatarajan/compbio/blob/master/rastt.png?raw=true)\n",
    "![7](https://github.com/prithivnatarajan/compbio/blob/master/nghbrs.png?raw=true)"
   ]
  },
  {
   "cell_type": "code",
   "execution_count": null,
   "metadata": {},
   "outputs": [],
   "source": []
  }
 ],
 "metadata": {
  "kernelspec": {
   "display_name": "Python 3",
   "language": "python",
   "name": "python3"
  },
  "language_info": {
   "codemirror_mode": {
    "name": "ipython",
    "version": 3
   },
   "file_extension": ".py",
   "mimetype": "text/x-python",
   "name": "python",
   "nbconvert_exporter": "python",
   "pygments_lexer": "ipython3",
   "version": "3.6.6"
  }
 },
 "nbformat": 4,
 "nbformat_minor": 2
}
