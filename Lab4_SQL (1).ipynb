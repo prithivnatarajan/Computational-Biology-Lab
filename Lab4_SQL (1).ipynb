{
 "cells": [
  {
   "cell_type": "markdown",
   "metadata": {},
   "source": [
    "**LAB 4 DATABASE**"
   ]
  },
  {
   "cell_type": "code",
   "execution_count": null,
   "metadata": {
    "collapsed": true
   },
   "outputs": [],
   "source": [
    "https://github.com/prithivnatarajan/compbio/blob/master/lab4%20(2).db"
   ]
  },
  {
   "cell_type": "code",
   "execution_count": null,
   "metadata": {
    "collapsed": true
   },
   "outputs": [],
   "source": [
    "import sqlite3"
   ]
  },
  {
   "cell_type": "code",
   "execution_count": null,
   "metadata": {
    "collapsed": true
   },
   "outputs": [],
   "source": [
    "from Bio import Entrez\n",
    "from Bio import SeqIO"
   ]
  },
  {
   "cell_type": "code",
   "execution_count": null,
   "metadata": {
    "collapsed": true
   },
   "outputs": [],
   "source": [
    "Entrez.email = 'prithiv_natarajan@berkeley.edu'\n",
    "handle = Entrez.esearch(db=\"protein\",term = 'escherichia coli[ORGN] 4.1.2.13[ecno]', sort = 'relevance', idtype='acc')\n",
    "sequence=[]\n",
    "for i in Entrez.read(handle)['IdList']:\n",
    "  #handle = Entrez.efetch(db='gene', id=i,rettype='gb',retmode='text')\n",
    "    try:\n",
    "        h = Entrez.efetch(db=\"protein\", id=i, rettype=\"gb\", retmode=\"text\")\n",
    "        #record=Entrez.read(h)\n",
    "        #print(record['ID'])\n",
    "        for seq_record in SeqIO.parse(h, \"genbank\") :\n",
    "            print(seq_record.description)\n",
    "           # print(seq_record.description + \"...\")\n",
    "          #  print(\"Sequence length %i,\" % len(seq_record.seq))\n",
    "           # print(\"from: %s\" % seq_record.annotations)\n",
    "           # print(seq_record.seq)\n",
    "    except:\n",
    "        print('err')\n",
    "        pass\n",
    " \n",
    "handle.close()\n",
    "  #sequence.append(handle.read())\n",
    "#handle.close()\n",
    "#print(sequence)"
   ]
  },
  {
   "cell_type": "code",
   "execution_count": null,
   "metadata": {
    "collapsed": true,
    "scrolled": true
   },
   "outputs": [],
   "source": [
    "#sequence=[]\n",
    "#for i in Entrez.read(handle)['IdList']:\n",
    " #   handle = Entrez.esummary(db='protein', id=i,rettype='fasta',retmode='text')\n",
    "  #  sequence.append(handle.read())"
   ]
  },
  {
   "cell_type": "code",
   "execution_count": null,
   "metadata": {
    "collapsed": true
   },
   "outputs": [],
   "source": [
    "Entrez.email = 'prithiv_natarajan@berkeley.edu'\n",
    "handle = Entrez.esearch(db=\"protein\",term = 'escherichia coli[ORGN] 4.1.2.13[ecno]', sort = 'relevance', idtype='acc')\n",
    "sequence=[]\n",
    "for i in Entrez.read(handle)['IdList']:\n",
    "    h = Entrez.esummary(db='protein', id=i, rettype='gb', retmode=\"text\")\n",
    "    for seq_record in SeqIO.parse(h, \"genbank\") :\n",
    "            print(seq_record)\n",
    "    h.close()"
   ]
  },
  {
   "cell_type": "code",
   "execution_count": null,
   "metadata": {
    "collapsed": true
   },
   "outputs": [],
   "source": [
    "Entrez.email = 'prithiv_natarajan@berkeley.edu'\n",
    "handle = Entrez.esearch(db='protein',term = 'escherichia coli[ORGN] 4.1.2.13[ecno]', sort = 'relevance', idtype='acc')\n",
    "record = Entrez.read(handle)\n",
    "handle.close()\n",
    "print(record)"
   ]
  },
  {
   "cell_type": "code",
   "execution_count": null,
   "metadata": {
    "collapsed": true
   },
   "outputs": [],
   "source": [
    "Entrez.email = 'prithiv_natarajan@berkeley.edu'\n",
    "handle = Entrez.esearch(db='protein',term = 'escherichia coli[ORGN] 4.1.2.13[ecno]', sort = 'relevance', idtype='acc')\n",
    "record = Entrez.read(handle)\n",
    "handle.close()\n",
    "print(record)"
   ]
  },
  {
   "cell_type": "code",
   "execution_count": null,
   "metadata": {
    "collapsed": true
   },
   "outputs": [],
   "source": [
    "#Drosophila\n",
    "\n",
    "handle = Entrez.esearch(db='protein',term = 'drosophila[ORGN] 1.1.1.27[ecno]', sort = 'relevance', idtype='acc')\n",
    "record = Entrez.read(handle)\n",
    "handle.close()\n",
    "print(record)\n"
   ]
  },
  {
   "cell_type": "code",
   "execution_count": null,
   "metadata": {
    "collapsed": true
   },
   "outputs": [],
   "source": [
    "#glycolysis\n",
    "ecoli=['escherichia coli[ORGN] 3.1.3.10[ecno]','escherichia coli[ORGN] 5.4.4.2[ecno]','escherichia coli[ORGN] 4.1.2.13[ecno]',  'escherichia coli[ORGN] 1.1.1.27[ecno]']\n",
    "drosop=['drosophila[ORGN] 3.1.3.10[ecno]','drosophila[ORGN] 5.4.4.2[ecno]','drosophila[ORGN] 4.1.2.13[ecno]',  'drosophila[ORGN] 1.1.1.27[ecno]']\n",
    "human=['homo sapiens[ORGN] 3.1.3.10[ecno]','homo sapiens[ORGN] 5.4.4.2[ecno]','homo sapiens[ORGN] 4.1.2.13[ecno]',  'homo sapiens[ORGN] 1.1.1.27[ecno]']\n",
    "\n",
    "for i in ecoli:\n",
    "    Entrez.email = 'prithiv_natarajan@berkeley.edu'\n",
    "    handle = Entrez.esearch(db='nucleotide',term = i, sort = 'relevance', idtype='acc')\n",
    "    record = Entrez.read(handle)\n",
    "    handle.close()\n",
    "    print(record)"
   ]
  },
  {
   "cell_type": "code",
   "execution_count": null,
   "metadata": {
    "collapsed": true
   },
   "outputs": [],
   "source": [
    "#TCA\n",
    "ecoli_TCA=['escherichia coli[ORGN] 4.1.1.32[ecno]','escherichia coli[ORGN] 2.3.1.12[ecno]','escherichia coli[ORGN] 1.2.4.2[ecno]',  'escherichia coli[ORGN] 2.8.3.18[ecno]']\n",
    "drosop_TCA=['drosophila[ORGN] 4.1.1.32[ecno]','drosophila[ORGN] 2.3.1.12[ecno]','drosophila[ORGN] 1.2.4.2[ecno]',  'drosophila[ORGN] 2.8.3.18[ecno]']\n",
    "human_TCA=['homo sapiens[ORGN] 4.1.1.32[ecno]','homo sapiens[ORGN] 2.3.1.12[ecno]','homo sapiens[ORGN] 1.2.4.2[ecno]',  'homo sapiens[ORGN] 2.8.3.18[ecno]']\n",
    "for i in ecoli_TCA:\n",
    "    Entrez.email = 'prithiv_natarajan@berkeley.edu'\n",
    "    handle = Entrez.esearch(db='nucleotide',term = i, sort = 'relevance', idtype='acc')\n",
    "    record = Entrez.read(handle)\n",
    "    handle.close()\n",
    "    print(record)"
   ]
  },
  {
   "cell_type": "code",
   "execution_count": null,
   "metadata": {
    "collapsed": true
   },
   "outputs": [],
   "source": [
    "#pentosephosphate\n",
    "ecoli_pp=['escherichia coli[ORGN] 4.1.2.43[ecno]','escherichia coli[ORGN] 1.1.99.3[ecno]','escherichia coli[ORGN] 1.1.1.49[ecno]',  'escherichia coli[ORGN] 1.2.7.5[ecno]']\n",
    "drosop_pp=['drosophila[ORGN] 4.1.2.43[ecno]','drosophila[ORGN] 1.1.99.3[ecno]','drosophila[ORGN] 1.1.1.49[ecno]',  'drosophila[ORGN] 1.2.7.5[ecno]']\n",
    "human_pp=['homo sapiens[ORGN] 4.1.2.43[ecno]','homo sapiens[ORGN] 1.1.99.3[ecno]','homo sapiens[ORGN] 1.1.1.49[ecno]',  'homo sapiens[ORGN] 1.2.7.5[ecno]']\n",
    "for i in ecoli_pp:\n",
    "    Entrez.email = 'prithiv_natarajan@berkeley.edu'\n",
    "    handle = Entrez.esearch(db='protein',term = i, sort = 'relevance', idtype='acc')\n",
    "    record = Entrez.read(handle)\n",
    "    handle.close()\n",
    "    print(record)"
   ]
  },
  {
   "cell_type": "code",
   "execution_count": null,
   "metadata": {
    "collapsed": true
   },
   "outputs": [],
   "source": [
    "\"\"\"from Bio import Entrez\n",
    "from Bio import SeqIO\n",
    "handle = Entrez.efetch(db=\"nuccore\", id=\"6273291,6273290,6273289\", rettype=\"gb\", retmode=\"text\")\n",
    "for seq_record in SeqIO.parse(handle, \"genbank\") :\n",
    "    print seq_record.id, seq_record.description[:50] + \"...\"\n",
    "    print \"Sequence length %i,\" % len(seq_record.seq),\n",
    "    print \"from: %s\" % seq_record.annotations['source']\n",
    "handle.close()\"\"\""
   ]
  },
  {
   "cell_type": "code",
   "execution_count": null,
   "metadata": {
    "collapsed": true
   },
   "outputs": [],
   "source": [
    "conn = sqlite3.connect('lab4.db')"
   ]
  },
  {
   "cell_type": "code",
   "execution_count": null,
   "metadata": {
    "collapsed": true
   },
   "outputs": [],
   "source": [
    "c=conn.cursor()\n",
    "c.execute(\"\"\"CREATE TABLE pathway (name TEXT, description TEXT);\"\"\")"
   ]
  },
  {
   "cell_type": "code",
   "execution_count": null,
   "metadata": {
    "collapsed": true
   },
   "outputs": [],
   "source": [
    "conn.commit()"
   ]
  },
  {
   "cell_type": "code",
   "execution_count": null,
   "metadata": {
    "collapsed": true
   },
   "outputs": [],
   "source": [
    "conn = sqlite3.connect('lab4.db')\n",
    "c=conn.cursor()\n",
    "c.execute(\"\"\"CREATE TABLE gene (name TEXT, description TEXT, organism TEXT, nucleotide sequence TEXT);\"\"\")"
   ]
  },
  {
   "cell_type": "code",
   "execution_count": null,
   "metadata": {
    "collapsed": true
   },
   "outputs": [],
   "source": [
    "conn.commit()"
   ]
  },
  {
   "cell_type": "code",
   "execution_count": null,
   "metadata": {
    "collapsed": true
   },
   "outputs": [],
   "source": [
    "conn = sqlite3.connect('lab4.db')\n",
    "c=conn.cursor()\n"
   ]
  },
  {
   "cell_type": "code",
   "execution_count": 330,
   "metadata": {},
   "outputs": [
    {
     "data": {
      "text/plain": [
       "<sqlite3.Cursor at 0x10c3f8ab0>"
      ]
     },
     "execution_count": 330,
     "metadata": {},
     "output_type": "execute_result"
    }
   ],
   "source": [
    "c.execute(\"\"\"DROP TABLE enzyme\"\"\")\n",
    "c.execute(\"\"\"CREATE TABLE enzyme (name TEXT, function TEXT, EC TEXT, pathway TEXT);\"\"\")\n"
   ]
  },
  {
   "cell_type": "code",
   "execution_count": null,
   "metadata": {
    "collapsed": true
   },
   "outputs": [],
   "source": [
    "\n",
    "c.execute(\"\"\"DROP TABLE pathways\"\"\")"
   ]
  },
  {
   "cell_type": "code",
   "execution_count": null,
   "metadata": {
    "collapsed": true
   },
   "outputs": [],
   "source": [
    "c.execute(\"\"\"DROP TABLE genes\"\"\")\n",
    "c.execute(\"\"\"DROP TABLE enzymes\"\"\")"
   ]
  },
  {
   "cell_type": "code",
   "execution_count": null,
   "metadata": {
    "collapsed": true
   },
   "outputs": [],
   "source": [
    "#Glycolysis / Gluconeogenesis : \n",
    "#Citrate cycle (TCA cycle) :  \n",
    "#Pentose phosphate pathway : \n",
    "conn= sqlite3.connect('lab4.db')\n",
    "c=conn.cursor()\n",
    "c.execute(\"\"\"INSERT INTO pathway (name, description) VALUES ('Glycolysis / Gluconeogenesis','Glycolysis is the process of converting glucose into pyruvate and generating small amounts of ATP (energy) and NADH (reducing power). It is a central pathway that produces important precursor metabolites: six-carbon compounds of glucose-6P and fructose-6P and three-carbon compounds of glycerone-P, glyceraldehyde-3P, glycerate-3P, phosphoenolpyruvate, and pyruvate [MD:M00001]. ');\"\"\")\n",
    "c.execute(\"\"\"INSERT INTO pathway (name, description) VALUES ('Citrate cycle (TCA cycle)','The citrate cycle (TCA cycle, Krebs cycle) is an important aerobic pathway for the final steps of the oxidation of carbohydrates and fatty acids. The cycle starts with acetyl-CoA, the activated form of acetate, derived from glycolysis and pyruvate oxidation for carbohydrates and from beta oxidation of fatty acids.');\"\"\")\n",
    "c.execute(\"\"\"INSERT INTO pathway (name, description) VALUES ('Pentose phosphate','The pentose phosphate pathway is a process of glucose turnover that produces NADPH as reducing equivalents and pentoses as essential parts of nucleotides.');\"\"\")\n",
    "conn.commit()"
   ]
  },
  {
   "cell_type": "code",
   "execution_count": null,
   "metadata": {
    "collapsed": true
   },
   "outputs": [],
   "source": [
    "c.execute(\"SELECT * FROM pathway;\")\n",
    "print(c.fetchall())"
   ]
  },
  {
   "cell_type": "code",
   "execution_count": null,
   "metadata": {
    "collapsed": true
   },
   "outputs": [],
   "source": [
    "c.execute(\"DELETE FROM pathway;\")"
   ]
  },
  {
   "cell_type": "code",
   "execution_count": null,
   "metadata": {
    "collapsed": true
   },
   "outputs": [],
   "source": [
    "c.execute(\"SELECT * FROM pathway;\")\n",
    "print(c.fetchall())"
   ]
  },
  {
   "cell_type": "code",
   "execution_count": null,
   "metadata": {
    "collapsed": true
   },
   "outputs": [],
   "source": [
    "c.execute(\"\"\"INSERT INTO pathway (name, description) VALUES ('Glycolysis / Gluconeogenesis','Glycolysis is the process of converting glucose into pyruvate and generating small amounts of ATP (energy) and NADH (reducing power). It is a central pathway that produces important precursor metabolites: six-carbon compounds of glucose-6P and fructose-6P and three-carbon compounds of glycerone-P, glyceraldehyde-3P, glycerate-3P, phosphoenolpyruvate, and pyruvate [MD:M00001]. ');\"\"\")\n",
    "c.execute(\"\"\"INSERT INTO pathway (name, description) VALUES ('Citrate cycle (TCA cycle)','The citrate cycle (TCA cycle, Krebs cycle) is an important aerobic pathway for the final steps of the oxidation of carbohydrates and fatty acids. The cycle starts with acetyl-CoA, the activated form of acetate, derived from glycolysis and pyruvate oxidation for carbohydrates and from beta oxidation of fatty acids.');\"\"\")\n",
    "c.execute(\"\"\"INSERT INTO pathway (name, description) VALUES ('Pentose phosphate','The pentose phosphate pathway is a process of glucose turnover that produces NADPH as reducing equivalents and pentoses as essential parts of nucleotides.');\"\"\")\n",
    "conn.commit()"
   ]
  },
  {
   "cell_type": "code",
   "execution_count": null,
   "metadata": {
    "collapsed": true
   },
   "outputs": [],
   "source": [
    "c.execute(\"SELECT * FROM pathway;\")\n",
    "print(c.fetchall())"
   ]
  },
  {
   "cell_type": "code",
   "execution_count": 332,
   "metadata": {
    "collapsed": true
   },
   "outputs": [],
   "source": [
    "ecoli=['escherichia coli[ORGN] 3.1.3.10[ecno]','escherichia coli[ORGN] 5.4.4.2[ecno]','escherichia coli[ORGN] 4.1.2.13[ecno]',  'escherichia coli[ORGN] 1.1.1.27[ecno]']\n",
    "id_store=[]\n",
    "description_store=[]\n",
    "sequence_store=[]\n",
    "for f in ecoli:\n",
    "    Entrez.email = 'prithiv_natarajan@berkeley.edu'\n",
    "    handle = Entrez.esearch(db=\"protein\",term = f, sort = 'relevance', idtype='acc')\n",
    "    sequence_temp=[]\n",
    "    id_temp=[]\n",
    "    description_temp=[]\n",
    "    for i in Entrez.read(handle)['IdList']:\n",
    "      #handle = Entrez.efetch(db='gene', id=i,rettype='gb',retmode='text')\n",
    "            h = Entrez.efetch(db=\"protein\", id=i, rettype=\"gb\", retmode=\"text\")\n",
    "          #  print(Entrez.read(h))\n",
    "            for seq_record in SeqIO.parse(h, \"genbank\") :\n",
    "                id_temp.append(seq_record.id)\n",
    "                description_temp.append(seq_record.description)\n",
    "                sequence_temp.append(seq_record.seq)\n",
    "                \n",
    "    id_store.append(str(id_temp[0]))\n",
    "    description_store.append(description_temp[0]) \n",
    "    sequence_store.append(sequence_temp[0])\n",
    "               # print(seq_record.description + \"...\")\n",
    "              #  print(\"Sequence length %i,\" % len(seq_record.seq))\n",
    "               # print(\"from: %s\" % seq_record.annotations)\n",
    "               # print(seq_record.seq)\n",
    "\n",
    "handle.close()\n",
    "  #sequence.append(handle.read())\n",
    "#handle.close()\n",
    "#print(sequence)"
   ]
  },
  {
   "cell_type": "code",
   "execution_count": 333,
   "metadata": {
    "collapsed": true,
    "scrolled": true
   },
   "outputs": [],
   "source": [
    "econ_gly=['3.1.3.10','5.4.4.2','4.1.2.13','1.1.1.27']\n",
    "ecoli_id_gly = id_store\n",
    "ecoli_func_gly=description_store\n",
    "ecoli_seq_gly=sequence_store"
   ]
  },
  {
   "cell_type": "code",
   "execution_count": 334,
   "metadata": {
    "collapsed": true
   },
   "outputs": [],
   "source": [
    "drosop=['drosophila[ORGN] 3.1.3.10[ecno]','drosophila[ORGN] 5.4.4.2[ecno]','drosophila[ORGN] 4.1.2.13[ecno]',  'drosophila[ORGN] 1.1.1.27[ecno]']\n",
    "id_store=[]\n",
    "description_store=[]\n",
    "sequence_store=[]\n",
    "for f in drosop:\n",
    "    Entrez.email = 'prithiv_natarajan@berkeley.edu'\n",
    "    handle = Entrez.esearch(db=\"protein\",term = f, sort = 'relevance', idtype='acc')\n",
    "    sequence_temp=[]\n",
    "    id_temp=[]\n",
    "    description_temp=[]\n",
    "    for i in Entrez.read(handle)['IdList']:\n",
    "      #handle = Entrez.efetch(db='gene', id=i,rettype='gb',retmode='text')\n",
    "            h = Entrez.efetch(db=\"protein\", id=i, rettype=\"gb\", retmode=\"text\")\n",
    "          #  print(Entrez.read(h))\n",
    "            for seq_record in SeqIO.parse(h, \"genbank\") :\n",
    "                id_temp.append(seq_record.id)\n",
    "                description_temp.append(seq_record.description)\n",
    "                sequence_temp.append(seq_record.seq)\n",
    "    try:            \n",
    "        id_store.append(str(id_temp[0]))\n",
    "    except:\n",
    "        id_store.append('NA')\n",
    "        pass\n",
    "    try:\n",
    "        description_store.append(description_temp[0]) \n",
    "    except:\n",
    "        description_store.append('NA')\n",
    "        pass\n",
    "    try:\n",
    "        sequence_store.append(sequence_temp[0])\n",
    "    except:\n",
    "        sequence_store.append('NA')\n",
    "        pass\n",
    "               # print(seq_record.description + \"...\")\n",
    "              #  print(\"Sequence length %i,\" % len(seq_record.seq))\n",
    "               # print(\"from: %s\" % seq_record.annotations)\n",
    "               # print(seq_record.seq)\n",
    "\n",
    "handle.close()\n",
    "  #sequence.append(handle.read())\n",
    "#handle.close()\n",
    "#print(sequence)"
   ]
  },
  {
   "cell_type": "code",
   "execution_count": 335,
   "metadata": {
    "collapsed": true
   },
   "outputs": [],
   "source": [
    "drosop_id_gly = id_store\n",
    "drosop_func_gly=description_store\n",
    "drosop_seq_gly=sequence_store"
   ]
  },
  {
   "cell_type": "code",
   "execution_count": 336,
   "metadata": {},
   "outputs": [
    {
     "name": "stderr",
     "output_type": "stream",
     "text": [
      "/Applications/Ana/anaconda/lib/python3.6/site-packages/Bio/GenBank/__init__.py:1063: BiopythonParserWarning: Dropping bond qualifier in feature location\n",
      "  warnings.warn(\"Dropping bond qualifier in feature location\", BiopythonParserWarning)\n"
     ]
    }
   ],
   "source": [
    "human=['homo sapiens[ORGN] 3.1.3.10[ecno]','homo sapiens[ORGN] 5.4.4.2[ecno]','homo sapiens[ORGN] 4.1.2.13[ecno]',  'homo sapiens[ORGN] 1.1.1.27[ecno]']\n",
    "id_store=[]\n",
    "description_store=[]\n",
    "sequence_store=[]\n",
    "for f in human:\n",
    "    Entrez.email = 'prithiv_natarajan@berkeley.edu'\n",
    "    handle = Entrez.esearch(db=\"protein\",term = f, sort = 'relevance', idtype='acc')\n",
    "    sequence_temp=[]\n",
    "    id_temp=[]\n",
    "    description_temp=[]\n",
    "    for i in Entrez.read(handle)['IdList']:\n",
    "      #handle = Entrez.efetch(db='gene', id=i,rettype='gb',retmode='text')\n",
    "            h = Entrez.efetch(db=\"protein\", id=i, rettype=\"gb\", retmode=\"text\")\n",
    "          #  print(Entrez.read(h))\n",
    "            for seq_record in SeqIO.parse(h, \"genbank\") :\n",
    "                id_temp.append(seq_record.id)\n",
    "                description_temp.append(seq_record.description)\n",
    "                sequence_temp.append(seq_record.seq)\n",
    "    try:            \n",
    "        id_store.append(str(id_temp[0]))\n",
    "    except:\n",
    "        id_store.append('NA')\n",
    "        pass\n",
    "    try:\n",
    "        description_store.append(description_temp[0]) \n",
    "    except:\n",
    "        description_store.append('NA')\n",
    "        pass\n",
    "    try:\n",
    "        sequence_store.append(sequence_temp[0])\n",
    "    except:\n",
    "        sequence_store.append('NA')\n",
    "        pass\n",
    "               # print(seq_record.description + \"...\")\n",
    "              #  print(\"Sequence length %i,\" % len(seq_record.seq))\n",
    "               # print(\"from: %s\" % seq_record.annotations)\n",
    "               # print(seq_record.seq)\n",
    "\n",
    "handle.close()\n",
    "  #sequence.append(handle.read())\n",
    "#handle.close()\n",
    "#print(sequence)"
   ]
  },
  {
   "cell_type": "code",
   "execution_count": 340,
   "metadata": {
    "collapsed": true
   },
   "outputs": [],
   "source": [
    "human_id_gly = id_store\n",
    "human_func_gly=description_store\n",
    "human_seq_gly=sequence_store"
   ]
  },
  {
   "cell_type": "code",
   "execution_count": 370,
   "metadata": {
    "collapsed": true
   },
   "outputs": [],
   "source": [
    "#conn= sqlite3.connect('lab4.db')\n",
    "#c=conn.cursor()\n",
    "for i in range(4):\n",
    "    c.execute(\"\"\"INSERT INTO enzyme (name, function, EC, pathway) VALUES (?,?,?,?);\"\"\",(ecoli_id_gly[i],ecoli_func_gly[i],econ_gly[i],'gly'))\n"
   ]
  },
  {
   "cell_type": "code",
   "execution_count": 371,
   "metadata": {},
   "outputs": [
    {
     "name": "stdout",
     "output_type": "stream",
     "text": [
      "['AXZ00915.1', 'SVF14710.1', 'RID03522.1', 'RID38522.1']\n"
     ]
    }
   ],
   "source": [
    "print(ecoli_id_gly)"
   ]
  },
  {
   "cell_type": "code",
   "execution_count": 372,
   "metadata": {
    "collapsed": true
   },
   "outputs": [],
   "source": [
    "for i in range(4):\n",
    "    c.execute(\"\"\"INSERT INTO enzyme (name, function, EC,pathway) VALUES (?,?,?,?);\"\"\",(drosop_id_gly[i],drosop_func_gly[i],econ_gly[i],'gly'))\n"
   ]
  },
  {
   "cell_type": "code",
   "execution_count": 373,
   "metadata": {
    "collapsed": true
   },
   "outputs": [],
   "source": [
    "for i in range(4):\n",
    "    c.execute(\"\"\"INSERT INTO enzyme (name, function, EC,pathway) VALUES (?,?,?,?);\"\"\",(human_id_gly[i],human_func_gly[i],econ_gly[i],'gly'))\n"
   ]
  },
  {
   "cell_type": "code",
   "execution_count": 346,
   "metadata": {
    "collapsed": true
   },
   "outputs": [],
   "source": [
    "conn.commit()"
   ]
  },
  {
   "cell_type": "code",
   "execution_count": 347,
   "metadata": {},
   "outputs": [
    {
     "name": "stdout",
     "output_type": "stream",
     "text": [
      "[('AXZ00915.1', 'glucose-1-phosphatase [Escherichia coli]', '3.1.3.10', 'gly'), ('SVF14710.1', 'isochorismate synthase [Escherichia coli]', '5.4.4.2', 'gly'), ('RID03522.1', 'class II fructose-bisphosphate aldolase, partial [Escherichia coli]', '4.1.2.13', 'gly'), ('RID38522.1', 'L-lactate dehydrogenase, partial [Escherichia coli]', '1.1.1.27', 'gly'), ('AXZ00915.1', 'glucose-1-phosphatase [Escherichia coli]', '3.1.3.10', 'gly'), ('SVF14710.1', 'isochorismate synthase [Escherichia coli]', '5.4.4.2', 'gly'), ('RID03522.1', 'class II fructose-bisphosphate aldolase, partial [Escherichia coli]', '4.1.2.13', 'gly'), ('RID38522.1', 'L-lactate dehydrogenase, partial [Escherichia coli]', '1.1.1.27', 'gly'), ('NA', 'NA', '3.1.3.10', 'gly'), ('NA', 'NA', '5.4.4.2', 'gly'), ('XP_015027170.1', 'uncharacterized protein Dvir_GJ23350, isoform D [Drosophila virilis]', '4.1.2.13', 'gly'), ('XP_015030695.1', 'uncharacterized protein Dvir_GJ11996, isoform B [Drosophila virilis]', '1.1.1.27', 'gly'), ('NA', 'NA', '3.1.3.10', 'gly'), ('NA', 'NA', '5.4.4.2', 'gly'), ('NP_005156.1', 'fructose-bisphosphate aldolase C [Homo sapiens]', '4.1.2.13', 'gly'), ('NP_059144.1', 'L-lactate dehydrogenase C chain [Homo sapiens]', '1.1.1.27', 'gly')]\n"
     ]
    }
   ],
   "source": [
    "c.execute(\"SELECT * FROM enzyme;\")\n",
    "print(c.fetchall())"
   ]
  },
  {
   "cell_type": "code",
   "execution_count": 348,
   "metadata": {
    "collapsed": true
   },
   "outputs": [],
   "source": [
    "#human=['homo sapiens[ORGN] 3.1.3.10[ecno]','homo sapiens[ORGN] 5.4.4.2[ecno]','homo sapiens[ORGN] 4.1.2.13[ecno]',  'homo sapiens[ORGN] 1.1.1.27[ecno]']\n",
    "def get_enzyme(list1):\n",
    "    id_store=[]\n",
    "    description_store=[]\n",
    "    sequence_store=[]\n",
    "    for f in list1:\n",
    "        Entrez.email = 'prithiv_natarajan@berkeley.edu'\n",
    "        handle = Entrez.esearch(db=\"protein\",term = f, sort = 'relevance', idtype='acc')\n",
    "        sequence_temp=[]\n",
    "        id_temp=[]\n",
    "        description_temp=[]\n",
    "        for i in Entrez.read(handle)['IdList']:\n",
    "          #handle = Entrez.efetch(db='gene', id=i,rettype='gb',retmode='text')\n",
    "                h = Entrez.efetch(db=\"protein\", id=i, rettype=\"gb\", retmode=\"text\")\n",
    "              #  print(Entrez.read(h))\n",
    "                for seq_record in SeqIO.parse(h, \"genbank\") :\n",
    "                    id_temp.append(seq_record.id)\n",
    "                    description_temp.append(seq_record.description)\n",
    "                    sequence_temp.append(seq_record.seq)\n",
    "        try:            \n",
    "            id_store.append(str(id_temp[0]))\n",
    "        except:\n",
    "            id_store.append('NA')\n",
    "            pass\n",
    "        try:\n",
    "            description_store.append(description_temp[0]) \n",
    "        except:\n",
    "            description_store.append('NA')\n",
    "            pass\n",
    "        try:\n",
    "            sequence_store.append(sequence_temp[0])\n",
    "        except:\n",
    "            sequence_store.append('NA')\n",
    "            pass\n",
    "                   # print(seq_record.description + \"...\")\n",
    "                  #  print(\"Sequence length %i,\" % len(seq_record.seq))\n",
    "                   # print(\"from: %s\" % seq_record.annotations)\n",
    "                   # print(seq_record.seq)\n",
    "\n",
    "    handle.close()\n",
    "    return id_store, description_store,sequence_store\n",
    "  #sequence.append(handle.read())\n",
    "#handle.close()\n",
    "#print(sequence)"
   ]
  },
  {
   "cell_type": "code",
   "execution_count": 349,
   "metadata": {
    "collapsed": true
   },
   "outputs": [],
   "source": [
    "ecoli_pp=['escherichia coli[ORGN] 4.1.2.43[ecno]','escherichia coli[ORGN] 1.1.99.3[ecno]','escherichia coli[ORGN] 1.1.1.49[ecno]',  'escherichia coli[ORGN] 1.2.7.5[ecno]']\n",
    "drosop_pp=['drosophila[ORGN] 4.1.2.43[ecno]','drosophila[ORGN] 1.1.99.3[ecno]','drosophila[ORGN] 1.1.1.49[ecno]',  'drosophila[ORGN] 1.2.7.5[ecno]']\n",
    "human_pp=['homo sapiens[ORGN] 4.1.2.43[ecno]','homo sapiens[ORGN] 1.1.99.3[ecno]','homo sapiens[ORGN] 1.1.1.49[ecno]',  'homo sapiens[ORGN] 1.2.7.5[ecno]']\n",
    "ecoli_id_pp, ecoli_func_pp,ecoli_seq_pp=get_enzyme(ecoli_pp)\n",
    "drosop_id_pp, drosop_func_pp,drosop_seq_pp=get_enzyme(drosop_pp)\n",
    "human_id_pp, human_func_pp,human_seq_pp=get_enzyme(human_pp)\n",
    "\n"
   ]
  },
  {
   "cell_type": "code",
   "execution_count": 350,
   "metadata": {},
   "outputs": [
    {
     "name": "stderr",
     "output_type": "stream",
     "text": [
      "/Applications/Ana/anaconda/lib/python3.6/site-packages/Bio/GenBank/__init__.py:1063: BiopythonParserWarning: Dropping bond qualifier in feature location\n",
      "  warnings.warn(\"Dropping bond qualifier in feature location\", BiopythonParserWarning)\n"
     ]
    }
   ],
   "source": [
    "#TCA\n",
    "ecoli_TCA=['escherichia coli[ORGN] 4.1.1.32[ecno]','escherichia coli[ORGN] 2.3.1.12[ecno]','escherichia coli[ORGN] 1.2.4.2[ecno]',  'escherichia coli[ORGN] 2.8.3.18[ecno]']\n",
    "drosop_TCA=['drosophila[ORGN] 4.1.1.32[ecno]','drosophila[ORGN] 2.3.1.12[ecno]','drosophila[ORGN] 1.2.4.2[ecno]',  'drosophila[ORGN] 2.8.3.18[ecno]']\n",
    "human_TCA=['homo sapiens[ORGN] 4.1.1.32[ecno]','homo sapiens[ORGN] 2.3.1.12[ecno]','homo sapiens[ORGN] 1.2.4.2[ecno]',  'homo sapiens[ORGN] 2.8.3.18[ecno]']\n",
    "ecoli_id_TCA, ecoli_func_TCA,ecoli_seq_TCA=get_enzyme(ecoli_TCA)\n",
    "drosop_id_TCA, drosop_func_TCA,drosop_seq_TCA=get_enzyme(drosop_TCA)\n",
    "human_id_TCA, human_func_TCA,human_seq_TCA=get_enzyme(human_TCA)\n",
    "\n",
    "\n",
    "\n",
    "\n"
   ]
  },
  {
   "cell_type": "code",
   "execution_count": 357,
   "metadata": {
    "collapsed": true
   },
   "outputs": [],
   "source": [
    "econ_pp=['4.1.2.43','1.1.99.3','1.1.1.49','1.2.7.5']\n",
    "econ_TCA=['4.1.1.32','2.3.1.12','1.2.4.2','2.8.3.18']\n",
    "\n",
    "def insert_enzyme(id1,func,econ,path):\n",
    "    for i in range(len((id1))):\n",
    "        c.execute(\"\"\"INSERT INTO enzyme (name, function, EC,pathway) VALUES (?,?,?,?);\"\"\",(id1[i],func[i],econ[i],path))\n"
   ]
  },
  {
   "cell_type": "code",
   "execution_count": 358,
   "metadata": {
    "collapsed": true
   },
   "outputs": [],
   "source": [
    "#pp\n",
    "insert_enzyme(ecoli_id_pp, ecoli_func_pp,econ_pp,'pp')\n",
    "insert_enzyme(drosop_id_pp, drosop_func_pp,econ_pp,'pp')\n",
    "insert_enzyme(human_id_pp, human_func_pp,econ_pp,'pp')\n",
    "\n",
    "\n",
    "\n",
    "#TCA\n",
    "insert_enzyme(ecoli_id_TCA, ecoli_func_TCA,econ_TCA,'tca')\n",
    "insert_enzyme(drosop_id_TCA, drosop_func_TCA,econ_TCA,'tca')\n",
    "insert_enzyme(human_id_TCA, human_func_TCA,econ_TCA,'tca')"
   ]
  },
  {
   "cell_type": "code",
   "execution_count": 359,
   "metadata": {},
   "outputs": [
    {
     "name": "stdout",
     "output_type": "stream",
     "text": [
      "[('AXZ00915.1', 'glucose-1-phosphatase [Escherichia coli]', '3.1.3.10', 'gly'), ('SVF14710.1', 'isochorismate synthase [Escherichia coli]', '5.4.4.2', 'gly'), ('RID03522.1', 'class II fructose-bisphosphate aldolase, partial [Escherichia coli]', '4.1.2.13', 'gly'), ('RID38522.1', 'L-lactate dehydrogenase, partial [Escherichia coli]', '1.1.1.27', 'gly'), ('AXZ00915.1', 'glucose-1-phosphatase [Escherichia coli]', '3.1.3.10', 'gly'), ('SVF14710.1', 'isochorismate synthase [Escherichia coli]', '5.4.4.2', 'gly'), ('RID03522.1', 'class II fructose-bisphosphate aldolase, partial [Escherichia coli]', '4.1.2.13', 'gly'), ('RID38522.1', 'L-lactate dehydrogenase, partial [Escherichia coli]', '1.1.1.27', 'gly'), ('NA', 'NA', '3.1.3.10', 'gly'), ('NA', 'NA', '5.4.4.2', 'gly'), ('XP_015027170.1', 'uncharacterized protein Dvir_GJ23350, isoform D [Drosophila virilis]', '4.1.2.13', 'gly'), ('XP_015030695.1', 'uncharacterized protein Dvir_GJ11996, isoform B [Drosophila virilis]', '1.1.1.27', 'gly'), ('NA', 'NA', '3.1.3.10', 'gly'), ('NA', 'NA', '5.4.4.2', 'gly'), ('NP_005156.1', 'fructose-bisphosphate aldolase C [Homo sapiens]', '4.1.2.13', 'gly'), ('NP_059144.1', 'L-lactate dehydrogenase C chain [Homo sapiens]', '1.1.1.27', 'gly'), ('RDA14804.1', '3-hexulose-6-phosphate synthase [Escherichia coli]', '4.1.2.43', 'pp'), ('STH95453.1', 'gluconate 2-dehydrogenase cytochrome c subunit [Escherichia coli]', '1.1.99.3', 'pp'), ('RIC96590.1', 'glucose-6-phosphate dehydrogenase, partial [Escherichia coli]', '1.1.1.49', 'pp'), ('AXZ43947.1', 'aldehyde ferredoxin oxidoreductase [Escherichia coli]', '1.2.7.5', 'pp'), ('NA', 'NA', '4.1.2.43', 'pp'), ('NA', 'NA', '1.1.99.3', 'pp'), ('XP_002048320.1', 'uncharacterized protein Dvir_GJ11415 [Drosophila virilis]', '1.1.1.49', 'pp'), ('NA', 'NA', '1.2.7.5', 'pp'), ('SJM30842.1', 'putative 3-hexulose-6-phosphate synthase [Homo sapiens]', '4.1.2.43', 'pp'), ('SJM34653.1', 'Gluconate 2-dehydrogenase flavoprotein [Homo sapiens]', '1.1.99.3', 'pp'), ('P11413.4', 'RecName: Full=Glucose-6-phosphate 1-dehydrogenase; Short=G6PD', '1.1.1.49', 'pp'), ('NA', 'NA', '1.2.7.5', 'pp'), ('NA', 'NA', '4.1.1.32', 'tca'), ('AXZ40442.1', 'pyruvate dehydrogenase complex dihydrolipoyllysine-residue acetyltransferase [Escherichia coli]', '2.3.1.12', 'tca'), ('AXZ04348.1', '2-oxoglutarate dehydrogenase E1 component [Escherichia coli]', '1.2.4.2', 'tca'), ('NA', 'NA', '2.8.3.18', 'tca'), ('XP_002049346.1', 'uncharacterized protein Dvir_GJ21535 [Drosophila virilis]', '4.1.1.32', 'tca'), ('XP_015028645.1', 'uncharacterized protein Dvir_GJ20958, isoform B [Drosophila virilis]', '2.3.1.12', 'tca'), ('XP_015030712.1', 'uncharacterized protein Dvir_GJ12039, isoform E [Drosophila virilis]', '1.2.4.2', 'tca'), ('NA', 'NA', '2.8.3.18', 'tca'), ('Q16822.4', 'RecName: Full=Phosphoenolpyruvate carboxykinase [GTP], mitochondrial; Short=PEPCK-M; Flags: Precursor', '4.1.1.32', 'tca'), ('NP_001922.2', 'dihydrolipoyllysine-residue acetyltransferase component of pyruvate dehydrogenase complex, mitochondrial precursor [Homo sapiens]', '2.3.1.12', 'tca'), ('NP_001158508.1', '2-oxoglutarate dehydrogenase, mitochondrial isoform 3 precursor [Homo sapiens]', '1.2.4.2', 'tca'), ('NA', 'NA', '2.8.3.18', 'tca')]\n"
     ]
    }
   ],
   "source": [
    "c.execute(\"SELECT * FROM enzyme;\")\n",
    "print(c.fetchall())"
   ]
  },
  {
   "cell_type": "code",
   "execution_count": null,
   "metadata": {
    "collapsed": true
   },
   "outputs": [],
   "source": [
    "conn.commit()"
   ]
  },
  {
   "cell_type": "code",
   "execution_count": null,
   "metadata": {
    "collapsed": true
   },
   "outputs": [],
   "source": [
    "conn= sqlite3.connect('lab4.db')\n",
    "c=conn.cursor()"
   ]
  },
  {
   "cell_type": "code",
   "execution_count": null,
   "metadata": {
    "collapsed": true
   },
   "outputs": [],
   "source": [
    "c.execute(\"\"\"DROP TABLE gene\"\"\")\n",
    "c.execute(\"\"\"CREATE TABLE gene (name TEXT, description TEXT, organism TEXT, nucleotide sequence TEXT, pathway TEXT, econ TEXT, chrstart TEXT, chrstop TEXT);\"\"\")"
   ]
  },
  {
   "cell_type": "code",
   "execution_count": null,
   "metadata": {
    "collapsed": true
   },
   "outputs": [],
   "source": [
    "ecoli=['escherichia coli[ORGN] 3.1.3.10[ecno]','escherichia coli[ORGN] 5.4.4.2[ecno]','escherichia coli[ORGN] 4.1.2.13[ecno]',  'escherichia coli[ORGN] 1.1.1.27[ecno]']\n",
    "ecoli_pp=['escherichia coli[ORGN] 4.1.2.43[ecno]','escherichia coli[ORGN] 1.1.99.3[ecno]','escherichia coli[ORGN] 1.1.1.49[ecno]',  'escherichia coli[ORGN] 1.2.7.5[ecno]']\n",
    "ecoli_TCA=['escherichia coli[ORGN] 4.1.1.32[ecno]','escherichia coli[ORGN] 2.3.1.12[ecno]','escherichia coli[ORGN] 1.2.4.2[ecno]',  'escherichia coli[ORGN] 2.8.3.18[ecno]']\n",
    "Entrez.email = 'prithiv_natarajan@berkeley.edu'\n",
    "ecoli_details=[]\n",
    "for k in ecoli:\n",
    "    handle = Entrez.esearch(db=\"gene\",term = k, sort = 'relevance', idtype='acc')\n",
    "\n",
    "    for i in Entrez.read(handle)['IdList']:\n",
    "      #handle = Entrez.efetch(db='gene', id=i,rettype='gb',retmode='text')\n",
    "        try:\n",
    "            h = Entrez.efetch(db=\"gene\", id=i, rettype=\"gb\", retmode=\"text\")\n",
    "            record=h.read()\n",
    "            rec=record.split('\\n')\n",
    "            ecoli_details.append(rec)\n",
    "            break\n",
    "    #for seq_record in SeqIO.parse(h, \"genbank\") :\n",
    "                #print(seq_record)\n",
    "               # print(seq_record.description + \"...\")\n",
    "              #  print(\"Sequence length %i,\" % len(seq_record.seq))\n",
    "               # print(\"from: %s\" % seq_record.annotations)\n",
    "               # print(seq_record.seq)\n",
    "        except:\n",
    "            ecoli_details.append('NA')\n",
    "            pass\n",
    "handle.close()\n",
    "  #sequence.append(handle.read())\n",
    "#handle.close()\n",
    "#print(sequence)"
   ]
  },
  {
   "cell_type": "code",
   "execution_count": null,
   "metadata": {
    "collapsed": true
   },
   "outputs": [],
   "source": [
    "for k in ecoli_pp:\n",
    "    handle = Entrez.esearch(db=\"gene\",term = k, sort = 'relevance', idtype='acc')\n",
    "\n",
    "    for i in Entrez.read(handle)['IdList']:\n",
    "      #handle = Entrez.efetch(db='gene', id=i,rettype='gb',retmode='text')\n",
    "        try:\n",
    "            h = Entrez.efetch(db=\"gene\", id=i, rettype=\"gb\", retmode=\"text\")\n",
    "            record=h.read()\n",
    "            rec=record.split('\\n')\n",
    "            ecoli_details.append(rec)\n",
    "            break\n",
    "    #for seq_record in SeqIO.parse(h, \"genbank\") :\n",
    "                #print(seq_record)\n",
    "               # print(seq_record.description + \"...\")\n",
    "              #  print(\"Sequence length %i,\" % len(seq_record.seq))\n",
    "               # print(\"from: %s\" % seq_record.annotations)\n",
    "               # print(seq_record.seq)\n",
    "        except:\n",
    "            ecoli_details.append('NA')\n",
    "            pass\n",
    "handle.close()\n",
    "  #sequence.append(handle.read())\n",
    "#handle.close()\n",
    "#print(sequence)"
   ]
  },
  {
   "cell_type": "code",
   "execution_count": null,
   "metadata": {
    "collapsed": true
   },
   "outputs": [],
   "source": [
    "for k in ecoli_TCA:\n",
    "    handle = Entrez.esearch(db=\"gene\",term = k, sort = 'relevance', idtype='acc')\n",
    "\n",
    "    for i in Entrez.read(handle)['IdList']:\n",
    "      #handle = Entrez.efetch(db='gene', id=i,rettype='gb',retmode='text')\n",
    "        try:\n",
    "            h = Entrez.efetch(db=\"gene\", id=i, rettype=\"gb\", retmode=\"text\")\n",
    "            record=h.read()\n",
    "            rec=record.split('\\n')\n",
    "            ecoli_details.append(rec)\n",
    "            break\n",
    "    #for seq_record in SeqIO.parse(h, \"genbank\") :\n",
    "                #print(seq_record)\n",
    "               # print(seq_record.description + \"...\")\n",
    "              #  print(\"Sequence length %i,\" % len(seq_record.seq))\n",
    "               # print(\"from: %s\" % seq_record.annotations)\n",
    "               # print(seq_record.seq)\n",
    "        except:\n",
    "            ecoli_details.append('NA')\n",
    "            pass\n",
    "handle.close()\n",
    "  #sequence.append(handle.read())\n",
    "#handle.close()\n",
    "#print(sequence)"
   ]
  },
  {
   "cell_type": "code",
   "execution_count": 191,
   "metadata": {
    "collapsed": true
   },
   "outputs": [],
   "source": [
    "def details(list1, list2):\n",
    "    for k in list1:\n",
    "        handle = Entrez.esearch(db=\"gene\",term = k, sort = 'relevance', idtype='acc')\n",
    "\n",
    "        for i in Entrez.read(handle)['IdList']:\n",
    "          #handle = Entrez.efetch(db='gene', id=i,rettype='gb',retmode='text')\n",
    "            try:\n",
    "                h = Entrez.efetch(db=\"gene\", id=i, rettype=\"gb\", retmode=\"text\")\n",
    "                record=h.read()\n",
    "                rec=record.split('\\n')\n",
    "                list2.append(rec)\n",
    "                list2.append(k)\n",
    "                break\n",
    "        #for seq_record in SeqIO.parse(h, \"genbank\") :\n",
    "                    #print(seq_record)\n",
    "                   # print(seq_record.description + \"...\")\n",
    "                  #  print(\"Sequence length %i,\" % len(seq_record.seq))\n",
    "                   # print(\"from: %s\" % seq_record.annotations)\n",
    "                   # print(seq_record.seq)\n",
    "            except:\n",
    "                list2.append('NA')\n",
    "                pass\n",
    "\n",
    "handle.close()\n",
    "      #sequence.append(handle.read())\n",
    "    #handle.close()\n",
    "    #print(sequence)"
   ]
  },
  {
   "cell_type": "code",
   "execution_count": 195,
   "metadata": {
    "collapsed": true
   },
   "outputs": [],
   "source": [
    "ecoli=['escherichia coli[ORGN] 3.1.3.10[ecno]','escherichia coli[ORGN] 5.4.4.2[ecno]','escherichia coli[ORGN] 4.1.2.13[ecno]',  'escherichia coli[ORGN] 1.1.1.27[ecno]']\n",
    "drosop=['drosophila[ORGN] 3.1.3.10[ecno]','drosophila[ORGN] 5.4.4.2[ecno]','drosophila[ORGN] 4.1.2.13[ecno]',  'drosophila[ORGN] 1.1.1.27[ecno]']\n",
    "human=['homo sapiens[ORGN] 3.1.3.10[ecno]','homo sapiens[ORGN] 5.4.4.2[ecno]','homo sapiens[ORGN] 4.1.2.13[ecno]',  'homo sapiens[ORGN] 1.1.1.27[ecno]']\n",
    "ecoli_pp=['escherichia coli[ORGN] 4.1.2.43[ecno]','escherichia coli[ORGN] 1.1.99.3[ecno]','escherichia coli[ORGN] 1.1.1.49[ecno]',  'escherichia coli[ORGN] 1.2.7.5[ecno]']\n",
    "drosop_pp=['drosophila[ORGN] 4.1.2.43[ecno]','drosophila[ORGN] 1.1.99.3[ecno]','drosophila[ORGN] 1.1.1.49[ecno]',  'drosophila[ORGN] 1.2.7.5[ecno]']\n",
    "human_pp=['homo sapiens[ORGN] 4.1.2.43[ecno]','homo sapiens[ORGN] 1.1.99.3[ecno]','homo sapiens[ORGN] 1.1.1.49[ecno]',  'homo sapiens[ORGN] 1.2.7.5[ecno]']\n",
    "ecoli_TCA=['escherichia coli[ORGN] 4.1.1.32[ecno]','escherichia coli[ORGN] 2.3.1.12[ecno]','escherichia coli[ORGN] 1.2.4.2[ecno]',  'escherichia coli[ORGN] 2.8.3.18[ecno]']\n",
    "drosop_TCA=['drosophila[ORGN] 4.1.1.32[ecno]','drosophila[ORGN] 2.3.1.12[ecno]','drosophila[ORGN] 1.2.4.2[ecno]',  'drosophila[ORGN] 2.8.3.18[ecno]']\n",
    "human_TCA=['homo sapiens[ORGN] 4.1.1.32[ecno]','homo sapiens[ORGN] 2.3.1.12[ecno]','homo sapiens[ORGN] 1.2.4.2[ecno]',  'homo sapiens[ORGN] 2.8.3.18[ecno]']\n",
    "ecoli_details=[]\n",
    "drosop_details=[]\n",
    "human_details=[]\n",
    "details(human, human_details)\n",
    "details(human_pp, human_details)\n",
    "details(human_TCA, human_details)\n",
    "details(drosop, drosop_details)\n",
    "details(drosop_pp, drosop_details)\n",
    "details(drosop_TCA, drosop_details)\n",
    "details(ecoli,ecoli_details)\n",
    "details(ecoli_pp,ecoli_details)\n",
    "details(ecoli_TCA,ecoli_details)\n",
    "\n",
    "\n",
    "\n",
    "\n",
    "\n",
    "\n",
    "\n"
   ]
  },
  {
   "cell_type": "code",
   "execution_count": 204,
   "metadata": {
    "collapsed": true
   },
   "outputs": [],
   "source": [
    "ecoli_id_list=[]\n",
    "human_id_list=[]\n",
    "drosop_id_list=[]\n",
    "def idlist(list1, list2):\n",
    "    for i in list1:\n",
    "        if(i[1]!=''):\n",
    "            list2.append(i[1][3:])\n",
    "    for j in list2:\n",
    "        if(j==''):\n",
    "            list2.remove(j)\n",
    "idlist(ecoli_details,ecoli_id_list)\n",
    "idlist(drosop_details,drosop_id_list)\n",
    "idlist(human_details,human_id_list)\n",
    "\n",
    "         "
   ]
  },
  {
   "cell_type": "code",
   "execution_count": 207,
   "metadata": {},
   "outputs": [
    {
     "name": "stdout",
     "output_type": "stream",
     "text": [
      "['Dvir\\\\GJ23350', 'Dvir\\\\GJ11996', 'Dmoj\\\\G6pd', 'Dvir\\\\GJ21535', 'Dvir\\\\GJ20958', 'Dmoj\\\\GI13269']\n"
     ]
    }
   ],
   "source": [
    "\n",
    "print(drosop_id_list)\n"
   ]
  },
  {
   "cell_type": "code",
   "execution_count": 208,
   "metadata": {},
   "outputs": [
    {
     "name": "stdout",
     "output_type": "stream",
     "text": [
      "[['', '1. agp', 'glucose-1-phosphatase/inositol phosphatase [Escherichia coli str. K-12 substr. MG1655]', 'Other Aliases: b1002, ECK0993, JW0987', 'Annotation:  NC_000913.3 (1065585..1066826)', 'ID: 945773', '', ''], 'escherichia coli[ORGN] 3.1.3.10[ecno]', ['', '1. entC', 'isochorismate synthase 1 [Escherichia coli str. K-12 substr. MG1655]', 'Other Aliases: b0593, ECK0586, JW0585, fepF', 'Annotation:  NC_000913.3 (624885..626060)', 'ID: 945511', '', ''], 'escherichia coli[ORGN] 5.4.4.2[ecno]', ['', '1. fbaA', 'fructose-bisphosphate aldolase, class II [Escherichia coli str. K-12 substr. MG1655]', 'Other Aliases: b2925, ECK2921, JW2892, ald, fba, fda', 'Annotation:  NC_000913.3 (3070165..3071244, complement)', 'ID: 947415', '', ''], 'escherichia coli[ORGN] 4.1.2.13[ecno]', ['', '1. ldh', 'L-lactate dehydrogenase [Escherichia coli PMV-1]', 'Other Aliases: ECOPMV1_04503', 'Annotation:  NC_022370.1 (4606585..4607658)', 'This record was discontinued.', 'ID: 16988966', '', ''], 'escherichia coli[ORGN] 1.1.1.27[ecno]', ['', '1. zwf', 'glucose-6-phosphate 1-dehydrogenase [Escherichia coli str. K-12 substr. MG1655]', 'Other Aliases: b1852, ECK1853, JW1841', 'Annotation:  NC_000913.3 (1934839..1936314, complement)', 'ID: 946370', '', ''], 'escherichia coli[ORGN] 1.1.1.49[ecno]', ['', '1. EcDH1_1969', 'Aldehyde ferredoxin oxidoreductase [Escherichia coli DH1]', 'Other Aliases: EcDH1_1969', 'Annotation:  NC_017625.1 (2124648..2126750)', 'This record was discontinued.', 'ID: 12705570', '', ''], 'escherichia coli[ORGN] 1.2.7.5[ecno]', ['', '1. aceF', 'pyruvate dehydrogenase, dihydrolipoyltransacetylase component E2 [Escherichia coli str. K-12 substr. MG1655]', 'Other Aliases: b0115, ECK0114, JW0111', 'Annotation:  NC_000913.3 (125695..127587)', 'ID: 944794', '', ''], 'escherichia coli[ORGN] 2.3.1.12[ecno]', ['', '1. sucA', '2-oxoglutarate decarboxylase, thiamine triphosphate-binding [Escherichia coli str. K-12 substr. MG1655]', 'Other Aliases: b0726, ECK0714, JW0715, lys', 'Annotation:  NC_000913.3 (758706..761507)', 'ID: 945303', '', ''], 'escherichia coli[ORGN] 1.2.4.2[ecno]']\n"
     ]
    }
   ],
   "source": [
    "print(ecoli_details)"
   ]
  },
  {
   "cell_type": "code",
   "execution_count": 220,
   "metadata": {
    "collapsed": true
   },
   "outputs": [],
   "source": [
    "ecoli_name_list=[]\n",
    "human_name_list=[]\n",
    "drosop_name_list=[]\n",
    "def namelist(list1, list2):\n",
    "    for i in list1:\n",
    "        if(i[2]!=''):\n",
    "            list2.append(i[2])\n",
    "    for j in list2:\n",
    "        if(len(j)==1):\n",
    "            list2.remove(j)\n",
    "namelist(ecoli_details,ecoli_name_list)\n",
    "namelist(drosop_details,drosop_name_list)\n",
    "namelist(human_details,human_name_list)\n"
   ]
  },
  {
   "cell_type": "code",
   "execution_count": 221,
   "metadata": {},
   "outputs": [
    {
     "name": "stdout",
     "output_type": "stream",
     "text": [
      "[['', '1. agp', 'glucose-1-phosphatase/inositol phosphatase [Escherichia coli str. K-12 substr. MG1655]', 'Other Aliases: b1002, ECK0993, JW0987', 'Annotation:  NC_000913.3 (1065585..1066826)', 'ID: 945773', '', ''], 'escherichia coli[ORGN] 3.1.3.10[ecno]', ['', '1. entC', 'isochorismate synthase 1 [Escherichia coli str. K-12 substr. MG1655]', 'Other Aliases: b0593, ECK0586, JW0585, fepF', 'Annotation:  NC_000913.3 (624885..626060)', 'ID: 945511', '', ''], 'escherichia coli[ORGN] 5.4.4.2[ecno]', ['', '1. fbaA', 'fructose-bisphosphate aldolase, class II [Escherichia coli str. K-12 substr. MG1655]', 'Other Aliases: b2925, ECK2921, JW2892, ald, fba, fda', 'Annotation:  NC_000913.3 (3070165..3071244, complement)', 'ID: 947415', '', ''], 'escherichia coli[ORGN] 4.1.2.13[ecno]', ['', '1. ldh', 'L-lactate dehydrogenase [Escherichia coli PMV-1]', 'Other Aliases: ECOPMV1_04503', 'Annotation:  NC_022370.1 (4606585..4607658)', 'This record was discontinued.', 'ID: 16988966', '', ''], 'escherichia coli[ORGN] 1.1.1.27[ecno]', ['', '1. zwf', 'glucose-6-phosphate 1-dehydrogenase [Escherichia coli str. K-12 substr. MG1655]', 'Other Aliases: b1852, ECK1853, JW1841', 'Annotation:  NC_000913.3 (1934839..1936314, complement)', 'ID: 946370', '', ''], 'escherichia coli[ORGN] 1.1.1.49[ecno]', ['', '1. EcDH1_1969', 'Aldehyde ferredoxin oxidoreductase [Escherichia coli DH1]', 'Other Aliases: EcDH1_1969', 'Annotation:  NC_017625.1 (2124648..2126750)', 'This record was discontinued.', 'ID: 12705570', '', ''], 'escherichia coli[ORGN] 1.2.7.5[ecno]', ['', '1. aceF', 'pyruvate dehydrogenase, dihydrolipoyltransacetylase component E2 [Escherichia coli str. K-12 substr. MG1655]', 'Other Aliases: b0115, ECK0114, JW0111', 'Annotation:  NC_000913.3 (125695..127587)', 'ID: 944794', '', ''], 'escherichia coli[ORGN] 2.3.1.12[ecno]', ['', '1. sucA', '2-oxoglutarate decarboxylase, thiamine triphosphate-binding [Escherichia coli str. K-12 substr. MG1655]', 'Other Aliases: b0726, ECK0714, JW0715, lys', 'Annotation:  NC_000913.3 (758706..761507)', 'ID: 945303', '', ''], 'escherichia coli[ORGN] 1.2.4.2[ecno]']\n"
     ]
    }
   ],
   "source": [
    "print(ecoli_details)"
   ]
  },
  {
   "cell_type": "code",
   "execution_count": null,
   "metadata": {
    "collapsed": true
   },
   "outputs": [],
   "source": [
    "c.execute(\"\"\"DROP TABLE gene\"\"\")\n",
    "c.execute(\"\"\"CREATE TABLE gene (id TEXT, name TEXT, enzyme TEXT, organism TEXT, pathway TEXT, econ TEXT, chrstart TEXT, chrstop TEXT, nucleotide_seq TEXT);\"\"\")"
   ]
  },
  {
   "cell_type": "code",
   "execution_count": 227,
   "metadata": {
    "collapsed": true
   },
   "outputs": [],
   "source": [
    "ecoli_serial_list=[]\n",
    "human_serial_list=[]\n",
    "drosop_serial_list=[]\n",
    "def seriallist(list1, list2):\n",
    "    for i in list1:\n",
    "        if(i[-3]!=''):\n",
    "            list2.append(i[-3][4:])\n",
    "    for j in list2:\n",
    "        if(len(j)<=1):\n",
    "            list2.remove(j)\n",
    "seriallist(ecoli_details,ecoli_serial_list)\n",
    "seriallist(drosop_details,drosop_serial_list)\n",
    "seriallist(human_details,human_serial_list)"
   ]
  },
  {
   "cell_type": "code",
   "execution_count": 233,
   "metadata": {
    "collapsed": true
   },
   "outputs": [],
   "source": [
    "ecoli_q=len(ecoli_id_list)\n",
    "human_q=len(human_id_list)\n",
    "drosop_q=len(drosop_id_list)"
   ]
  },
  {
   "cell_type": "code",
   "execution_count": 238,
   "metadata": {
    "collapsed": true
   },
   "outputs": [],
   "source": [
    "ecoli_organism_list=['Escherichia Coli']*ecoli_q\n",
    "drosop_organism_list=['Drosophilia']*drosop_q\n",
    "human_organism_list=['Human']*human_q"
   ]
  },
  {
   "cell_type": "code",
   "execution_count": 240,
   "metadata": {},
   "outputs": [
    {
     "name": "stdout",
     "output_type": "stream",
     "text": [
      "[['', '1. ALDOA', 'Official Symbol: ALDOA and Name: aldolase, fructose-bisphosphate A [Homo sapiens (human)]', 'Other Aliases: ALDA, GSD12, HEL-S-87p', 'Other Designations: fructose-bisphosphate aldolase A; aldolase A, fructose-bisphosphate; epididymis secretory sperm binding protein Li 87p; fructose-1,6-bisphosphate triosephosphate-lyase; lung cancer antigen NY-LU-1; muscle-type aldolase', 'Chromosome: 16; Location: 16p11.2', 'Annotation: Chromosome 16 NC_000016.10 (30053090..30070420)', 'MIM: 103850', 'ID: 226', '', ''], 'homo sapiens[ORGN] 4.1.2.13[ecno]', ['', '1. LDHA', 'Official Symbol: LDHA and Name: lactate dehydrogenase A [Homo sapiens (human)]', 'Other Aliases: GSD11, HEL-S-133P, LDHM, PIG19', 'Other Designations: L-lactate dehydrogenase A chain; LDH muscle subunit; LDH-A; LDH-M; cell proliferation-inducing gene 19 protein; epididymis secretory sperm binding protein Li 133P; lactate dehydrogenase M; proliferation-inducing gene 19; renal carcinoma antigen NY-REN-59', 'Chromosome: 11; Location: 11p15.1', 'Annotation: Chromosome 11 NC_000011.10 (18394389..18408218)', 'MIM: 150000', 'ID: 3939', '', ''], 'homo sapiens[ORGN] 1.1.1.27[ecno]', ['', '1. G6PD', 'Official Symbol: G6PD and Name: glucose-6-phosphate dehydrogenase [Homo sapiens (human)]', 'Other Aliases: G6PD1', 'Other Designations: glucose-6-phosphate 1-dehydrogenase', 'Chromosome: X; Location: Xq28', 'Annotation: Chromosome X NC_000023.11 (154531390..154547586, complement)', 'MIM: 305900', 'ID: 2539', '', ''], 'homo sapiens[ORGN] 1.1.1.49[ecno]', ['', '1. PCK2', 'Official Symbol: PCK2 and Name: phosphoenolpyruvate carboxykinase 2, mitochondrial [Homo sapiens (human)]', 'Other Aliases: PEPCK, PEPCK-M, PEPCK2', 'Other Designations: phosphoenolpyruvate carboxykinase [GTP], mitochondrial; PEP carboxykinase; phosphopyruvate carboxylase', 'Chromosome: 14; Location: 14q11.2-q12', 'Annotation: Chromosome 14 NC_000014.9 (24094131..24104132)', 'MIM: 614095', 'ID: 5106', '', ''], 'homo sapiens[ORGN] 4.1.1.32[ecno]', ['', '1. DLAT', 'Official Symbol: DLAT and Name: dihydrolipoamide S-acetyltransferase [Homo sapiens (human)]', 'Other Aliases: DLTA, PDC-E2, PDCE2', 'Other Designations: dihydrolipoyllysine-residue acetyltransferase component of pyruvate dehydrogenase complex, mitochondrial; 70 kDa mitochondrial autoantigen of primary biliary cirrhosis; E2 component of pyruvate dehydrogenase complex; M2 antigen complex 70 kDa subunit; PBC; dihydrolipoamide acetyltransferase component of pyruvate dehydrogenase complex; pyruvate dehydrogenase complex component E2', 'Chromosome: 11; Location: 11q23.1', 'Annotation: Chromosome 11 NC_000011.10 (112024814..112064278)', 'MIM: 608770', 'ID: 1737', '', ''], 'homo sapiens[ORGN] 2.3.1.12[ecno]', ['', '1. OGDH', 'Official Symbol: OGDH and Name: oxoglutarate dehydrogenase [Homo sapiens (human)]', 'Other Aliases: AKGDH, E1k, OGDC', 'Other Designations: 2-oxoglutarate dehydrogenase, mitochondrial; 2-oxoglutarate dehydrogenase complex component E1; OGDC-E1; oxoglutarate (alpha-ketoglutarate) dehydrogenase (lipoamide); oxoglutarate decarboxylase; oxoglutarate dehydrogenase (succinyl-transferring); testicular tissue protein Li 131', 'Chromosome: 7; Location: 7p13', 'Annotation: Chromosome 7 NC_000007.14 (44606522..44709070)', 'MIM: 613022', 'ID: 4967', '', ''], 'homo sapiens[ORGN] 1.2.4.2[ecno]']\n"
     ]
    }
   ],
   "source": [
    "print(human_details)"
   ]
  },
  {
   "cell_type": "code",
   "execution_count": 241,
   "metadata": {},
   "outputs": [
    {
     "name": "stdout",
     "output_type": "stream",
     "text": [
      "[['', '1. Dvir\\\\GJ23350', 'Official Symbol: Dvir\\\\GJ23350 and Name: GJ23350 gene product from transcript GJ23350-RD [Drosophila virilis]', 'Other Aliases: Dvir_GJ23350, GJ23350, dvir_GLEANR_8708', 'Other Designations: GJ23350 gene product from transcript GJ23350-RD; Dvir\\\\GJ23350-PA; Dvir\\\\GJ23350-PB; Dvir\\\\GJ23350-PC; Dvir\\\\GJ23350-PD; GJ23350-PA; GJ23350-PB; GJ23350-PC; GJ23350-PD; uncharacterized protein', 'Chromosome: Unknown', 'ID: 6630016', '', ''], 'drosophila[ORGN] 4.1.2.13[ecno]', ['', '1. Dvir\\\\GJ11996', 'Official Symbol: Dvir\\\\GJ11996 and Name: GJ11996 gene product from transcript GJ11996-RB [Drosophila virilis]', 'Other Aliases: Dvir_GJ11996, GJ11996, dvir_GLEANR_11999', 'Other Designations: GJ11996 gene product from transcript GJ11996-RB; Dvir\\\\GJ11996-PA; Dvir\\\\GJ11996-PB; GJ11996-PA; GJ11996-PB; uncharacterized protein', 'Chromosome: Unknown', 'ID: 6623355', '', ''], 'drosophila[ORGN] 1.1.1.27[ecno]', ['', '1. Dmoj\\\\G6pd', 'Official Symbol: Dmoj\\\\G6pd and Name: GI11107 gene product from transcript GI11107-RA [Drosophila mojavensis]', 'Other Aliases: Dmoj_GI11107, Dmoj\\\\GI11107, G6pd, GI11107, dmoj_GLEANR_11020', 'Other Designations: GI11107 gene product from transcript GI11107-RA; Dmoj\\\\G6pd-PA; Dmoj\\\\GI11107-PA; G6pd; G6pd-PA; GI11107-PA', 'Chromosome: Unknown', 'ID: 6585954', '', ''], 'drosophila[ORGN] 1.1.1.49[ecno]', ['', '1. Dvir\\\\GJ21535', 'Official Symbol: Dvir\\\\GJ21535 and Name: GJ21535 gene product from transcript GJ21535-RA [Drosophila virilis]', 'Other Aliases: Dvir_GJ21535, GJ21535, dvir_GLEANR_6885', 'Other Designations: GJ21535 gene product from transcript GJ21535-RA; Dvir\\\\GJ21535-PA; GJ21535-PA', 'Chromosome: Unknown', 'ID: 6624795', '', ''], 'drosophila[ORGN] 4.1.1.32[ecno]', ['', '1. Dvir\\\\GJ20958', 'Official Symbol: Dvir\\\\GJ20958 and Name: GJ20958 gene product from transcript GJ20958-RA [Drosophila virilis]', 'Other Aliases: Dvir_GJ20958, GJ20958, dvir_GLEANR_636', 'Other Designations: GJ20958 gene product from transcript GJ20958-RA; Dvir\\\\GJ20958-PA; Dvir\\\\GJ20958-PB; GJ20958-PA; GJ20958-PB; uncharacterized protein', 'Chromosome: Unknown', 'ID: 6628476', '', ''], 'drosophila[ORGN] 2.3.1.12[ecno]', ['', '1. Dmoj\\\\GI13269', 'Official Symbol: Dmoj\\\\GI13269 and Name: GI13269 gene product from transcript GI13269-RE [Drosophila mojavensis]', 'Other Aliases: Dmoj_GI13269, GI13269, dmoj_GLEANR_13209', 'Other Designations: GI13269 gene product from transcript GI13269-RE; Dmoj\\\\GI13269-PA; Dmoj\\\\GI13269-PB; Dmoj\\\\GI13269-PC; Dmoj\\\\GI13269-PD; Dmoj\\\\GI13269-PE; Dmoj\\\\GI13269-PF; GI13269-PA; GI13269-PB; GI13269-PC; GI13269-PD; GI13269-PE; GI13269-PF; uncharacterized protein', 'Chromosome: Unknown', 'ID: 6582312', '', ''], 'drosophila[ORGN] 1.2.4.2[ecno]']\n"
     ]
    }
   ],
   "source": [
    "print(drosop_details)"
   ]
  },
  {
   "cell_type": "code",
   "execution_count": 259,
   "metadata": {
    "collapsed": true
   },
   "outputs": [],
   "source": [
    "ecoli_ecno_list=[]\n",
    "drosop_ecno_list=[]\n",
    "human_ecno_list=[]\n",
    "def ecnolist(list1, list2):\n",
    "    for i in list1:\n",
    "        try:\n",
    "            if(i[-14]!=''):\n",
    "                list2.append(i[-14:-6])\n",
    "        except:\n",
    "            list2.append('NA')\n",
    "            pass\n",
    "    for j in list2:\n",
    "        if(j=='NA'):\n",
    "            list2.remove(j)\n",
    "    \n",
    "ecnolist(ecoli_details,ecoli_ecno_list)\n",
    "ecnolist(human_details,human_ecno_list)\n",
    "ecnolist(drosop_details,drosop_ecno_list)"
   ]
  },
  {
   "cell_type": "code",
   "execution_count": 261,
   "metadata": {},
   "outputs": [
    {
     "name": "stdout",
     "output_type": "stream",
     "text": [
      "['4.1.2.13', '1.1.1.27', '1.1.1.49', '4.1.1.32', '2.3.1.12', ' 1.2.4.2']\n"
     ]
    }
   ],
   "source": [
    "print(human_ecno_list)"
   ]
  },
  {
   "cell_type": "code",
   "execution_count": 309,
   "metadata": {
    "collapsed": true
   },
   "outputs": [],
   "source": [
    "def chrlist(list1, list2):\n",
    "    for i in list1:\n",
    "        try:\n",
    "            if(i[4]!=''):\n",
    "                list2.append(i[4][13:])\n",
    "        except:\n",
    "            list2.append('NA')\n",
    "            pass\n",
    "    for j in list2:\n",
    "        if(j==''):\n",
    "            list2.remove(j)\n",
    "ecoli_chr_list=[]\n",
    "human_chr_list=[]\n",
    "drosop_chr_list=[]"
   ]
  },
  {
   "cell_type": "code",
   "execution_count": 310,
   "metadata": {
    "collapsed": true
   },
   "outputs": [],
   "source": [
    "chrlist(ecoli_details,ecoli_chr_list)\n",
    "\n"
   ]
  },
  {
   "cell_type": "code",
   "execution_count": 311,
   "metadata": {
    "collapsed": true
   },
   "outputs": [],
   "source": [
    "def chrlist1(list1, list2):\n",
    "    for i in list1:\n",
    "        try:\n",
    "            if(i[6]!=''):\n",
    "                list2.append(i[6][12:])\n",
    "        except:\n",
    "            list2.append('NA')\n",
    "            pass\n",
    "    for j in list2:\n",
    "        if(j==''):\n",
    "            list2.remove(j)\n",
    "chrlist1(human_details,human_chr_list)"
   ]
  },
  {
   "cell_type": "code",
   "execution_count": 312,
   "metadata": {},
   "outputs": [
    {
     "name": "stdout",
     "output_type": "stream",
     "text": [
      "['Chromosome 16 NC_000016.10 (30053090..30070420)', 'Chromosome 11 NC_000011.10 (18394389..18408218)', 'Chromosome X NC_000023.11 (154531390..154547586, complement)', 'Chromosome 14 NC_000014.9 (24094131..24104132)', 'Chromosome 11 NC_000011.10 (112024814..112064278)', 'Chromosome 7 NC_000007.14 (44606522..44709070)']\n"
     ]
    }
   ],
   "source": [
    "print(human_chr_list)"
   ]
  },
  {
   "cell_type": "code",
   "execution_count": 313,
   "metadata": {
    "collapsed": true
   },
   "outputs": [],
   "source": [
    "def chrlist2(list1, list2):\n",
    "    for i in list1:\n",
    "        try:\n",
    "            if(i[-4]!=''):\n",
    "                list2.append(i[-4])\n",
    "        except:\n",
    "            list2.append('NA')\n",
    "            pass\n",
    "    for j in list2:\n",
    "        if(len(j)<=1):\n",
    "            list2.remove(j)\n",
    "chrlist2(drosop_details,drosop_chr_list)"
   ]
  },
  {
   "cell_type": "code",
   "execution_count": 314,
   "metadata": {},
   "outputs": [
    {
     "name": "stdout",
     "output_type": "stream",
     "text": [
      "['Chromosome: Unknown', 'Chromosome: Unknown', 'Chromosome: Unknown', 'Chromosome: Unknown', 'Chromosome: Unknown', 'Chromosome: Unknown']\n"
     ]
    }
   ],
   "source": [
    "print(drosop_chr_list)"
   ]
  },
  {
   "cell_type": "code",
   "execution_count": 317,
   "metadata": {
    "collapsed": true
   },
   "outputs": [],
   "source": [
    "ecno_list_all=[]\n",
    "ecno_list_all=[ecoli_ecno_list,drosop_ecno_list,human_ecno_list]"
   ]
  },
  {
   "cell_type": "code",
   "execution_count": 318,
   "metadata": {},
   "outputs": [
    {
     "name": "stdout",
     "output_type": "stream",
     "text": [
      "[['3.1.3.10', ' 5.4.4.2', '4.1.2.13', '1.1.1.27', '1.1.1.49', ' 1.2.7.5', '2.3.1.12', ' 1.2.4.2'], ['4.1.2.13', '1.1.1.27', '1.1.1.49', '4.1.1.32', '2.3.1.12', ' 1.2.4.2'], ['4.1.2.13', '1.1.1.27', '1.1.1.49', '4.1.1.32', '2.3.1.12', ' 1.2.4.2']]\n"
     ]
    }
   ],
   "source": [
    "print(ecno_list_all)"
   ]
  },
  {
   "cell_type": "code",
   "execution_count": 325,
   "metadata": {
    "collapsed": true
   },
   "outputs": [],
   "source": [
    "\n",
    "pathway=['gly','gly','pp','tca','tca','tca']\n",
    "\n",
    "\n",
    "\n",
    "\n",
    "\n",
    "\n"
   ]
  },
  {
   "cell_type": "code",
   "execution_count": 321,
   "metadata": {},
   "outputs": [
    {
     "data": {
      "text/plain": [
       "<sqlite3.Cursor at 0x10c3f8ab0>"
      ]
     },
     "execution_count": 321,
     "metadata": {},
     "output_type": "execute_result"
    }
   ],
   "source": [
    "conn= sqlite3.connect('lab4.db')\n",
    "c=conn.cursor()\n",
    "c.execute(\"\"\"DROP TABLE gene\"\"\")\n",
    "c.execute(\"\"\"CREATE TABLE gene (id TEXT, name TEXT, enzyme TEXT, organism TEXT, pathway TEXT, ecno TEXT, chromosome TEXT);\"\"\")"
   ]
  },
  {
   "cell_type": "code",
   "execution_count": 322,
   "metadata": {
    "collapsed": true
   },
   "outputs": [],
   "source": [
    "for i in range(len(ecoli_id_list)):\n",
    "    c.execute(\"\"\"INSERT INTO gene (id, name, enzyme,organism,pathway,ecno,chromosome) VALUES (?,?,?,?,?,?,?);\"\"\",(ecoli_serial_list[i],ecoli_id_list[i],ecoli_name_list[i],'Escherichia Coli',pathway[i],ecoli_ecno_list[i],ecoli_chr_list[i]))\n",
    "    "
   ]
  },
  {
   "cell_type": "code",
   "execution_count": 324,
   "metadata": {
    "collapsed": true
   },
   "outputs": [],
   "source": [
    "for i in range(len(human_id_list)):\n",
    "    c.execute(\"\"\"INSERT INTO gene (id, name, enzyme,organism,pathway,ecno,chromosome) VALUES (?,?,?,?,?,?,?);\"\"\",(human_serial_list[i],human_id_list[i],human_name_list[i],'Human',pathway[i],human_ecno_list[i],human_chr_list[i]))\n",
    "    "
   ]
  },
  {
   "cell_type": "code",
   "execution_count": 326,
   "metadata": {
    "collapsed": true
   },
   "outputs": [],
   "source": [
    "for i in range(len(human_id_list)):\n",
    "    c.execute(\"\"\"INSERT INTO gene (id, name, enzyme,organism,pathway,ecno,chromosome) VALUES (?,?,?,?,?,?,?);\"\"\",(drosop_serial_list[i],drosop_id_list[i],drosop_name_list[i],'Drosophilia',pathway[i],drosop_ecno_list[i],drosop_chr_list[i]))\n",
    "    "
   ]
  },
  {
   "cell_type": "code",
   "execution_count": 328,
   "metadata": {
    "collapsed": true
   },
   "outputs": [],
   "source": [
    "conn.commit()"
   ]
  },
  {
   "cell_type": "code",
   "execution_count": 329,
   "metadata": {
    "collapsed": true
   },
   "outputs": [],
   "source": [
    "c.execute(\"\"\"DROP TABLE pathway\"\"\")\n",
    "c.execute(\"\"\"CREATE TABLE pathway (name TEXT, description TEXT);\"\"\")\n",
    "c.execute(\"\"\"INSERT INTO pathway (name, description) VALUES ('gly','Glycolysis is the process of converting glucose into pyruvate and generating small amounts of ATP (energy) and NADH (reducing power). It is a central pathway that produces important precursor metabolites: six-carbon compounds of glucose-6P and fructose-6P and three-carbon compounds of glycerone-P, glyceraldehyde-3P, glycerate-3P, phosphoenolpyruvate, and pyruvate [MD:M00001]. ');\"\"\")\n",
    "c.execute(\"\"\"INSERT INTO pathway (name, description) VALUES ('tca','The citrate cycle (TCA cycle, Krebs cycle) is an important aerobic pathway for the final steps of the oxidation of carbohydrates and fatty acids. The cycle starts with acetyl-CoA, the activated form of acetate, derived from glycolysis and pyruvate oxidation for carbohydrates and from beta oxidation of fatty acids.');\"\"\")\n",
    "c.execute(\"\"\"INSERT INTO pathway (name, description) VALUES ('pp','The pentose phosphate pathway is a process of glucose turnover that produces NADPH as reducing equivalents and pentoses as essential parts of nucleotides.');\"\"\")\n",
    "conn.commit()"
   ]
  },
  {
   "cell_type": "code",
   "execution_count": 360,
   "metadata": {
    "collapsed": true
   },
   "outputs": [],
   "source": [
    "conn.commit()"
   ]
  },
  {
   "cell_type": "code",
   "execution_count": 375,
   "metadata": {},
   "outputs": [
    {
     "name": "stdout",
     "output_type": "stream",
     "text": [
      "[('RDA14804.1', '3-hexulose-6-phosphate synthase [Escherichia coli]', '4.1.2.43', 'pp'), ('STH95453.1', 'gluconate 2-dehydrogenase cytochrome c subunit [Escherichia coli]', '1.1.99.3', 'pp'), ('RIC96590.1', 'glucose-6-phosphate dehydrogenase, partial [Escherichia coli]', '1.1.1.49', 'pp'), ('AXZ43947.1', 'aldehyde ferredoxin oxidoreductase [Escherichia coli]', '1.2.7.5', 'pp'), ('NA', 'NA', '4.1.2.43', 'pp'), ('NA', 'NA', '1.1.99.3', 'pp'), ('XP_002048320.1', 'uncharacterized protein Dvir_GJ11415 [Drosophila virilis]', '1.1.1.49', 'pp'), ('NA', 'NA', '1.2.7.5', 'pp'), ('SJM30842.1', 'putative 3-hexulose-6-phosphate synthase [Homo sapiens]', '4.1.2.43', 'pp'), ('SJM34653.1', 'Gluconate 2-dehydrogenase flavoprotein [Homo sapiens]', '1.1.99.3', 'pp'), ('P11413.4', 'RecName: Full=Glucose-6-phosphate 1-dehydrogenase; Short=G6PD', '1.1.1.49', 'pp'), ('NA', 'NA', '1.2.7.5', 'pp'), ('NA', 'NA', '4.1.1.32', 'tca'), ('AXZ40442.1', 'pyruvate dehydrogenase complex dihydrolipoyllysine-residue acetyltransferase [Escherichia coli]', '2.3.1.12', 'tca'), ('AXZ04348.1', '2-oxoglutarate dehydrogenase E1 component [Escherichia coli]', '1.2.4.2', 'tca'), ('NA', 'NA', '2.8.3.18', 'tca'), ('XP_002049346.1', 'uncharacterized protein Dvir_GJ21535 [Drosophila virilis]', '4.1.1.32', 'tca'), ('XP_015028645.1', 'uncharacterized protein Dvir_GJ20958, isoform B [Drosophila virilis]', '2.3.1.12', 'tca'), ('XP_015030712.1', 'uncharacterized protein Dvir_GJ12039, isoform E [Drosophila virilis]', '1.2.4.2', 'tca'), ('NA', 'NA', '2.8.3.18', 'tca'), ('Q16822.4', 'RecName: Full=Phosphoenolpyruvate carboxykinase [GTP], mitochondrial; Short=PEPCK-M; Flags: Precursor', '4.1.1.32', 'tca'), ('NP_001922.2', 'dihydrolipoyllysine-residue acetyltransferase component of pyruvate dehydrogenase complex, mitochondrial precursor [Homo sapiens]', '2.3.1.12', 'tca'), ('NP_001158508.1', '2-oxoglutarate dehydrogenase, mitochondrial isoform 3 precursor [Homo sapiens]', '1.2.4.2', 'tca'), ('NA', 'NA', '2.8.3.18', 'tca'), ('AXZ00915.1', 'glucose-1-phosphatase [Escherichia coli]', '3.1.3.10', 'gly'), ('SVF14710.1', 'isochorismate synthase [Escherichia coli]', '5.4.4.2', 'gly'), ('RID03522.1', 'class II fructose-bisphosphate aldolase, partial [Escherichia coli]', '4.1.2.13', 'gly'), ('RID38522.1', 'L-lactate dehydrogenase, partial [Escherichia coli]', '1.1.1.27', 'gly'), ('NA', 'NA', '3.1.3.10', 'gly'), ('NA', 'NA', '5.4.4.2', 'gly'), ('XP_015027170.1', 'uncharacterized protein Dvir_GJ23350, isoform D [Drosophila virilis]', '4.1.2.13', 'gly'), ('XP_015030695.1', 'uncharacterized protein Dvir_GJ11996, isoform B [Drosophila virilis]', '1.1.1.27', 'gly'), ('NA', 'NA', '3.1.3.10', 'gly'), ('NA', 'NA', '5.4.4.2', 'gly'), ('NP_005156.1', 'fructose-bisphosphate aldolase C [Homo sapiens]', '4.1.2.13', 'gly'), ('NP_059144.1', 'L-lactate dehydrogenase C chain [Homo sapiens]', '1.1.1.27', 'gly')]\n"
     ]
    }
   ],
   "source": [
    "\n",
    "c.execute(\"SELECT * FROM enzyme;\")\n",
    "print(c.fetchall())"
   ]
  },
  {
   "cell_type": "code",
   "execution_count": 376,
   "metadata": {
    "collapsed": true
   },
   "outputs": [],
   "source": [
    "conn.commit()"
   ]
  },
  {
   "cell_type": "code",
   "execution_count": 377,
   "metadata": {
    "collapsed": true
   },
   "outputs": [],
   "source": [
    "from sqlalchemy import Table, Column, Integer, ForeignKey\n",
    "from sqlalchemy.orm import relationship\n",
    "from sqlalchemy.ext.declarative import declarative_base\n",
    "\n",
    "Base = declarative_base()\n"
   ]
  },
  {
   "cell_type": "code",
   "execution_count": null,
   "metadata": {
    "collapsed": true
   },
   "outputs": [],
   "source": []
  }
 ],
 "metadata": {
  "kernelspec": {
   "display_name": "Python 3",
   "language": "python",
   "name": "python3"
  },
  "language_info": {
   "codemirror_mode": {
    "name": "ipython",
    "version": 3
   },
   "file_extension": ".py",
   "mimetype": "text/x-python",
   "name": "python",
   "nbconvert_exporter": "python",
   "pygments_lexer": "ipython3",
   "version": "3.6.1"
  }
 },
 "nbformat": 4,
 "nbformat_minor": 2
}
