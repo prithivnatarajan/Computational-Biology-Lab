{
 "cells": [
  {
   "cell_type": "code",
   "execution_count": 142,
   "metadata": {},
   "outputs": [
    {
     "ename": "NameError",
     "evalue": "name 'Bio' is not defined",
     "output_type": "error",
     "traceback": [
      "\u001b[0;31m---------------------------------------------------------------------------\u001b[0m",
      "\u001b[0;31mNameError\u001b[0m                                 Traceback (most recent call last)",
      "\u001b[0;32m<ipython-input-142-efc853961a82>\u001b[0m in \u001b[0;36m<module>\u001b[0;34m()\u001b[0m\n\u001b[0;32m----> 1\u001b[0;31m \u001b[0mBio\u001b[0m\u001b[0;34m.\u001b[0m\u001b[0mPhylo\u001b[0m\u001b[0;34m\u001b[0m\u001b[0m\n\u001b[0m",
      "\u001b[0;31mNameError\u001b[0m: name 'Bio' is not defined"
     ]
    }
   ],
   "source": [
    "Bio.Phylo\n"
   ]
  },
  {
   "cell_type": "code",
   "execution_count": 143,
   "metadata": {
    "collapsed": true
   },
   "outputs": [],
   "source": [
    "from Bio import SeqIO\n",
    "from Bio.SeqRecord import SeqRecord\n",
    "from Bio.Seq import Seq"
   ]
  },
  {
   "cell_type": "code",
   "execution_count": 144,
   "metadata": {},
   "outputs": [
    {
     "ename": "NameError",
     "evalue": "name 'Bio' is not defined",
     "output_type": "error",
     "traceback": [
      "\u001b[0;31m---------------------------------------------------------------------------\u001b[0m",
      "\u001b[0;31mNameError\u001b[0m                                 Traceback (most recent call last)",
      "\u001b[0;32m<ipython-input-144-efc853961a82>\u001b[0m in \u001b[0;36m<module>\u001b[0;34m()\u001b[0m\n\u001b[0;32m----> 1\u001b[0;31m \u001b[0mBio\u001b[0m\u001b[0;34m.\u001b[0m\u001b[0mPhylo\u001b[0m\u001b[0;34m\u001b[0m\u001b[0m\n\u001b[0m",
      "\u001b[0;31mNameError\u001b[0m: name 'Bio' is not defined"
     ]
    }
   ],
   "source": [
    "Bio.Phylo\n"
   ]
  },
  {
   "cell_type": "code",
   "execution_count": 145,
   "metadata": {
    "collapsed": true
   },
   "outputs": [],
   "source": [
    "from Bio import Phylo\n"
   ]
  },
  {
   "cell_type": "code",
   "execution_count": 146,
   "metadata": {
    "collapsed": true
   },
   "outputs": [],
   "source": [
    "tree = Phylo.read(\"tree.nwk\", \"newick\")"
   ]
  },
  {
   "cell_type": "code",
   "execution_count": 147,
   "metadata": {},
   "outputs": [
    {
     "name": "stdout",
     "output_type": "stream",
     "text": [
      "Tree(rooted=False, weight=1.0)\n",
      "    Clade()\n",
      "        Clade(branch_length=6e-09, confidence=0.889)\n",
      "            Clade(branch_length=5e-09, confidence=0.927)\n",
      "                Clade(branch_length=5e-09, confidence=0.913)\n",
      "                    Clade(branch_length=0.002260478, name='rh.61')\n",
      "                    Clade(branch_length=0.001726521, confidence=0.311)\n",
      "                        Clade(branch_length=0.00739237, name='rh.58')\n",
      "                        Clade(branch_length=0.031427893, confidence=1.0)\n",
      "                            Clade(branch_length=0.010456104, confidence=0.518)\n",
      "                                Clade(branch_length=0.083046743, confidence=1.0)\n",
      "                                    Clade(branch_length=0.000922101, name='pi.2')\n",
      "                                    Clade(branch_length=0.000908506, confidence=0.839)\n",
      "                                        Clade(branch_length=0.00275232, name='pi.3')\n",
      "                                        Clade(branch_length=0.002291146, name='pi.1')\n",
      "                                Clade(branch_length=0.010489709, confidence=0.678)\n",
      "                                    Clade(branch_length=0.03043532, confidence=1.0)\n",
      "                                        Clade(branch_length=0.006802447, confidence=0.994)\n",
      "                                            Clade(branch_length=5e-09, name='rh.10')\n",
      "                                            Clade(branch_length=0.001808039, confidence=0.965)\n",
      "                                                Clade(branch_length=0.002263659, name='bb.1')\n",
      "                                                Clade(branch_length=0.001357175, name='bb.2')\n",
      "                                        Clade(branch_length=0.004067558, confidence=0.938)\n",
      "                                            Clade(branch_length=0.008127909, name='hu.17')\n",
      "                                            Clade(branch_length=0.001897441, name='hu.6')\n",
      "                                    Clade(branch_length=0.014936723, confidence=0.96)\n",
      "                                        Clade(branch_length=0.028571636, name='rh.2')\n",
      "                                        Clade(branch_length=0.036653913, confidence=1.0)\n",
      "                                            Clade(branch_length=0.01335957, name='rh.40')\n",
      "                                            Clade(branch_length=0.005081033, confidence=0.983)\n",
      "                                                Clade(branch_length=0.001361312, name='hu.67')\n",
      "                                                Clade(branch_length=0.000445654, confidence=0.776)\n",
      "                                                    Clade(branch_length=0.000903293, name='hu.37')\n",
      "                                                    Clade(branch_length=5e-09, confidence=0.912)\n",
      "                                                        Clade(branch_length=5e-09, confidence=0.959)\n",
      "                                                            Clade(branch_length=0.000902846, name='hu.40')\n",
      "                                                            Clade(branch_length=0.002259039, name='hu.66')\n",
      "                                                        Clade(branch_length=5e-09, confidence=0.904)\n",
      "                                                            Clade(branch_length=0.000449605, confidence=0.76)\n",
      "                                                                Clade(branch_length=0.001809725, name='hu.41')\n",
      "                                                                Clade(branch_length=0.001809563, name='rh.38')\n",
      "                                                            Clade(branch_length=0.001354935, name='hu.42')\n",
      "                            Clade(branch_length=0.01594507, confidence=0.895)\n",
      "                                Clade(branch_length=0.033057626, confidence=0.999)\n",
      "                                    Clade(branch_length=0.01575295, confidence=0.444)\n",
      "                                        Clade(branch_length=0.038179383, confidence=1.0)\n",
      "                                            Clade(branch_length=0.059977893, confidence=1.0)\n",
      "                                                Clade(branch_length=0.002763999, name='cy.3')\n",
      "                                                Clade(branch_length=6e-09, confidence=0.0)\n",
      "                                                    Clade(branch_length=5e-09, confidence=0.994)\n",
      "                                                        Clade(branch_length=0.002763228, name='cy.6')\n",
      "                                                        Clade(branch_length=0.003225292, name='cy.4')\n",
      "                                                    Clade(branch_length=5e-09, confidence=0.793)\n",
      "                                                        Clade(branch_length=0.002301811, name='cy.5')\n",
      "                                                        Clade(branch_length=0.000459635, name='rh.13')\n",
      "                                            Clade(branch_length=0.032187497, confidence=1.0)\n",
      "                                                Clade(branch_length=0.001377398, name='rh.35')\n",
      "                                                Clade(branch_length=5e-09, confidence=0.826)\n",
      "                                                    Clade(branch_length=0.000924451, name='rh.36')\n",
      "                                                    Clade(branch_length=0.001377487, name='rh.37')\n",
      "                                        Clade(branch_length=0.036919137, confidence=1.0)\n",
      "                                            Clade(branch_length=0.027736913, name='cy.2')\n",
      "                                            Clade(branch_length=0.018295016, confidence=0.95)\n",
      "                                                Clade(branch_length=0.011404269, name='rh.54')\n",
      "                                                Clade(branch_length=0.02511114, confidence=0.999)\n",
      "                                                    Clade(branch_length=0.010487788, name='rh.55')\n",
      "                                                    Clade(branch_length=0.004197786, confidence=0.951)\n",
      "                                                        Clade(branch_length=0.000449307, name='rh.48')\n",
      "                                                        Clade(branch_length=0.002723164, name='rh.62')\n",
      "                                    Clade(branch_length=0.124150892, confidence=1.0)\n",
      "                                        Clade(branch_length=0.008850276, name='hu.43')\n",
      "                                        Clade(branch_length=0.010775713, confidence=0.999)\n",
      "                                            Clade(branch_length=0.004358408, name='hu.48')\n",
      "                                            Clade(branch_length=0.02571393, confidence=1.0)\n",
      "                                                Clade(branch_length=0.002049215, name='hu.44')\n",
      "                                                Clade(branch_length=0.005233629, name='hu.46')\n",
      "                                Clade(branch_length=0.02198547, confidence=0.889)\n",
      "                                    Clade(branch_length=0.178247095, confidence=1.0)\n",
      "                                        Clade(branch_length=0.007744906, name='hu.14')\n",
      "                                        Clade(branch_length=0.014135313, confidence=1.0)\n",
      "                                            Clade(branch_length=0.001364273, name='hu.31')\n",
      "                                            Clade(branch_length=0.001373403, name='hu.32')\n",
      "                                    Clade(branch_length=0.060146312, name='rh.43')\n",
      "                Clade(branch_length=0.000902877, name='rh.64')\n",
      "            Clade(branch_length=5e-09, confidence=0.751)\n",
      "                Clade(branch_length=5e-09, confidence=0.397)\n",
      "                    Clade(branch_length=0.000570874, confidence=0.764)\n",
      "                        Clade(branch_length=0.003575718, name='rh.57')\n",
      "                        Clade(branch_length=0.002647316, name='rh.51')\n",
      "                    Clade(branch_length=0.003167973, name='rh.49')\n",
      "                Clade(branch_length=0.001354044, name='rh.53')\n",
      "        Clade(branch_length=0.001354279, name='rh.50')\n",
      "        Clade(branch_length=5e-09, confidence=0.273)\n",
      "            Clade(branch_length=0.001806706, name='rh.52')\n",
      "            Clade(branch_length=0.00407526, name='hu.39')\n"
     ]
    }
   ],
   "source": [
    "print(tree)\n"
   ]
  },
  {
   "cell_type": "code",
   "execution_count": 148,
   "metadata": {},
   "outputs": [
    {
     "data": {
      "image/png": "[encoded data removed]",
      "text/plain": [
       "<Figure size 432x288 with 1 Axes>"
      ]
     },
     "metadata": {},
     "output_type": "display_data"
    }
   ],
   "source": [
    "Phylo.draw(tree)"
   ]
  },
  {
   "cell_type": "code",
   "execution_count": 149,
   "metadata": {},
   "outputs": [
    {
     "data": {
      "text/plain": [
       "Tree(rooted=False, weight=1.0)"
      ]
     },
     "execution_count": 149,
     "metadata": {},
     "output_type": "execute_result"
    }
   ],
   "source": [
    "tree"
   ]
  },
  {
   "cell_type": "code",
   "execution_count": 150,
   "metadata": {},
   "outputs": [
    {
     "ename": "TypeError",
     "evalue": "'Tree' object is not callable",
     "output_type": "error",
     "traceback": [
      "\u001b[0;31m---------------------------------------------------------------------------\u001b[0m",
      "\u001b[0;31mTypeError\u001b[0m                                 Traceback (most recent call last)",
      "\u001b[0;32m<ipython-input-150-acda52551a48>\u001b[0m in \u001b[0;36m<module>\u001b[0;34m()\u001b[0m\n\u001b[0;32m----> 1\u001b[0;31m \u001b[0mtree\u001b[0m\u001b[0;34m(\u001b[0m\u001b[0;34m'rh.43'\u001b[0m\u001b[0;34m)\u001b[0m\u001b[0;34m\u001b[0m\u001b[0m\n\u001b[0m",
      "\u001b[0;31mTypeError\u001b[0m: 'Tree' object is not callable"
     ]
    }
   ],
   "source": [
    "tree('rh.43')"
   ]
  },
  {
   "cell_type": "code",
   "execution_count": 151,
   "metadata": {},
   "outputs": [
    {
     "name": "stdout",
     "output_type": "stream",
     "text": [
      "bb.1 2217\n",
      "bb.2 2217\n",
      "cy.2 2214\n",
      "cy.3 2187\n",
      "cy.4 2187\n",
      "cy.5 2187\n",
      "cy.6 2187\n",
      "hu.14 2211\n",
      "hu.17 2217\n",
      "hu.31 2211\n",
      "hu.32 2211\n",
      "hu.37 2217\n",
      "hu.39 2217\n",
      "hu.40 2217\n",
      "hu.41 2217\n",
      "hu.42 2217\n",
      "hu.43 2214\n",
      "hu.44 2211\n",
      "hu.46 2211\n",
      "hu.48 2211\n",
      "hu.6 2217\n",
      "hu.66 2217\n",
      "hu.67 2217\n",
      "pi.1 2196\n",
      "pi.2 2196\n",
      "pi.3 2196\n",
      "rh.10 2217\n",
      "rh.13 2187\n",
      "rh.2 2217\n",
      "rh.35 2190\n",
      "rh.36 2190\n",
      "rh.37 2190\n",
      "rh.38 2217\n",
      "rh.40 2217\n",
      "rh.43 2211\n",
      "rh.48 2214\n",
      "rh.49 2217\n",
      "rh.50 2217\n",
      "rh.51 2217\n",
      "rh.52 2217\n",
      "rh.53 2217\n",
      "rh.54 2214\n",
      "rh.55 2214\n",
      "rh.57 2217\n",
      "rh.58 2217\n",
      "rh.61 2217\n",
      "rh.62 2214\n",
      "rh.64 2217\n"
     ]
    }
   ],
   "source": [
    "for record in SeqIO.parse(\"seqs.fa\", \"fasta\"):\n",
    "      print(\"%s %i\" % (record.id, len(record)))"
   ]
  },
  {
   "cell_type": "code",
   "execution_count": 152,
   "metadata": {},
   "outputs": [
    {
     "ename": "SyntaxError",
     "evalue": "invalid syntax (<ipython-input-152-ff3131ea32aa>, line 4)",
     "output_type": "error",
     "traceback": [
      "\u001b[0;36m  File \u001b[0;32m\"<ipython-input-152-ff3131ea32aa>\"\u001b[0;36m, line \u001b[0;32m4\u001b[0m\n\u001b[0;31m    print result_handle.read()\u001b[0m\n\u001b[0m                      ^\u001b[0m\n\u001b[0;31mSyntaxError\u001b[0m\u001b[0;31m:\u001b[0m invalid syntax\n"
     ]
    }
   ],
   "source": [
    "from Bio.Blast import NCBIWWW\n",
    "fasta_string = open(\"seqs.fa\").read()\n",
    "result_handle = NCBIWWW.qblast(\"blastn\", \"nt\", fasta_string)\n",
    "print result_handle.read()"
   ]
  },
  {
   "cell_type": "code",
   "execution_count": 153,
   "metadata": {
    "collapsed": true
   },
   "outputs": [],
   "source": [
    "from Bio import Align\n",
    "from Bio import SeqIO\n",
    "seq1 = SeqIO.parse(\"seqs.fa\",\"fasta\")"
   ]
  },
  {
   "cell_type": "code",
   "execution_count": 154,
   "metadata": {},
   "outputs": [
    {
     "data": {
      "text/plain": [
       "<filter at 0x11bf84780>"
      ]
     },
     "execution_count": 154,
     "metadata": {},
     "output_type": "execute_result"
    }
   ],
   "source": [
    "tree.find_elements(\"rh.43\")"
   ]
  },
  {
   "cell_type": "code",
   "execution_count": 155,
   "metadata": {},
   "outputs": [
    {
     "ename": "SyntaxError",
     "evalue": "invalid character in identifier (<ipython-input-155-057fdb0fcab2>, line 2)",
     "output_type": "error",
     "traceback": [
      "\u001b[0;36m  File \u001b[0;32m\"<ipython-input-155-057fdb0fcab2>\"\u001b[0;36m, line \u001b[0;32m2\u001b[0m\n\u001b[0;31m    SeqIO.write(my_recs, open(“seqs.fa”, “w”), ”fasta”)\u001b[0m\n\u001b[0m                                  ^\u001b[0m\n\u001b[0;31mSyntaxError\u001b[0m\u001b[0;31m:\u001b[0m invalid character in identifier\n"
     ]
    }
   ],
   "source": [
    "my_recs = []\n",
    "SeqIO.write(my_recs, open(“seqs.fa”, “w”), ”fasta”)"
   ]
  },
  {
   "cell_type": "code",
   "execution_count": 156,
   "metadata": {},
   "outputs": [
    {
     "ename": "SyntaxError",
     "evalue": "invalid character in identifier (<ipython-input-156-182071301dcb>, line 2)",
     "output_type": "error",
     "traceback": [
      "\u001b[0;36m  File \u001b[0;32m\"<ipython-input-156-182071301dcb>\"\u001b[0;36m, line \u001b[0;32m2\u001b[0m\n\u001b[0;31m    SeqIO.write(my_recs, open(“seqs.fasta”, “w”), ”fasta”)\u001b[0m\n\u001b[0m                                  ^\u001b[0m\n\u001b[0;31mSyntaxError\u001b[0m\u001b[0;31m:\u001b[0m invalid character in identifier\n"
     ]
    }
   ],
   "source": [
    "my_recs = []\n",
    "SeqIO.write(my_recs, open(“seqs.fasta”, “w”), ”fasta”)"
   ]
  },
  {
   "cell_type": "code",
   "execution_count": 157,
   "metadata": {},
   "outputs": [
    {
     "ename": "SyntaxError",
     "evalue": "invalid character in identifier (<ipython-input-157-057fdb0fcab2>, line 2)",
     "output_type": "error",
     "traceback": [
      "\u001b[0;36m  File \u001b[0;32m\"<ipython-input-157-057fdb0fcab2>\"\u001b[0;36m, line \u001b[0;32m2\u001b[0m\n\u001b[0;31m    SeqIO.write(my_recs, open(“seqs.fa”, “w”), ”fasta”)\u001b[0m\n\u001b[0m                                  ^\u001b[0m\n\u001b[0;31mSyntaxError\u001b[0m\u001b[0;31m:\u001b[0m invalid character in identifier\n"
     ]
    }
   ],
   "source": [
    "my_recs = []\n",
    "SeqIO.write(my_recs, open(“seqs.fa”, “w”), ”fasta”)"
   ]
  },
  {
   "cell_type": "code",
   "execution_count": 158,
   "metadata": {},
   "outputs": [
    {
     "name": "stdout",
     "output_type": "stream",
     "text": [
      "ID: rh.43\n",
      "Name: rh.43\n",
      "Description: rh.43\n",
      "Number of features: 0\n",
      "Seq('atggctgccgatggttatcttccagattggctcgaggacaacctctctgagggc...taa', SingleLetterAlphabet())\n"
     ]
    }
   ],
   "source": [
    "from Bio import SeqIO\n",
    "record_dict = SeqIO.to_dict(SeqIO.parse(\"seqs.fa\", \"fasta\"))\n",
    "print(record_dict[\"rh.43\"])"
   ]
  },
  {
   "cell_type": "code",
   "execution_count": 159,
   "metadata": {},
   "outputs": [
    {
     "name": "stdout",
     "output_type": "stream",
     "text": [
      "Help on function qblast in module Bio.Blast.NCBIWWW:\n",
      "\n",
      "qblast(program, database, sequence, url_base='https://blast.ncbi.nlm.nih.gov/Blast.cgi', auto_format=None, composition_based_statistics=None, db_genetic_code=None, endpoints=None, entrez_query='(none)', expect=10.0, filter=None, gapcosts=None, genetic_code=None, hitlist_size=50, i_thresh=None, layout=None, lcase_mask=None, matrix_name=None, nucl_penalty=None, nucl_reward=None, other_advanced=None, perc_ident=None, phi_pattern=None, query_file=None, query_believe_defline=None, query_from=None, query_to=None, searchsp_eff=None, service=None, threshold=None, ungapped_alignment=None, word_size=None, alignments=500, alignment_view=None, descriptions=500, entrez_links_new_window=None, expect_low=None, expect_high=None, format_entrez_query=None, format_object=None, format_type='XML', ncbi_gi=None, results_file=None, show_overview=None, megablast=None, template_type=None, template_length=None)\n",
      "    BLAST search using NCBI's QBLAST server or a cloud service provider.\n",
      "    \n",
      "    Supports all parameters of the qblast API for Put and Get.\n",
      "    \n",
      "    Please note that BLAST on the cloud supports the NCBI-BLAST Common\n",
      "    URL API (http://ncbi.github.io/blast-cloud/dev/api.html). To\n",
      "    use this feature, please set url_base to\n",
      "    'http://host.my.cloud.service.provider.com/cgi-bin/blast.cgi' and\n",
      "    format_object='Alignment'. For more details, please see\n",
      "    https://blast.ncbi.nlm.nih.gov/Blast.cgi?PAGE_TYPE=BlastDocs&DOC_TYPE=CloudBlast\n",
      "    \n",
      "    Some useful parameters:\n",
      "    \n",
      "     - program        blastn, blastp, blastx, tblastn, or tblastx (lower case)\n",
      "     - database       Which database to search against (e.g. \"nr\").\n",
      "     - sequence       The sequence to search.\n",
      "     - ncbi_gi        TRUE/FALSE whether to give 'gi' identifier.\n",
      "     - descriptions   Number of descriptions to show.  Def 500.\n",
      "     - alignments     Number of alignments to show.  Def 500.\n",
      "     - expect         An expect value cutoff.  Def 10.0.\n",
      "     - matrix_name    Specify an alt. matrix (PAM30, PAM70, BLOSUM80, BLOSUM45).\n",
      "     - filter         \"none\" turns off filtering.  Default no filtering\n",
      "     - format_type    \"HTML\", \"Text\", \"ASN.1\", or \"XML\".  Def. \"XML\".\n",
      "     - entrez_query   Entrez query to limit Blast search\n",
      "     - hitlist_size   Number of hits to return. Default 50\n",
      "     - megablast      TRUE/FALSE whether to use MEga BLAST algorithm (blastn only)\n",
      "     - service        plain, psi, phi, rpsblast, megablast (lower case)\n",
      "    \n",
      "    This function does no checking of the validity of the parameters\n",
      "    and passes the values to the server as is.  More help is available at:\n",
      "    https://ncbi.github.io/blast-cloud/dev/api.html\n",
      "\n"
     ]
    }
   ],
   "source": [
    "from Bio.Blast import NCBIWWW\n",
    "help(NCBIWWW.qblast)"
   ]
  },
  {
   "cell_type": "code",
   "execution_count": null,
   "metadata": {},
   "outputs": [],
   "source": []
  },
  {
   "cell_type": "code",
   "execution_count": null,
   "metadata": {},
   "outputs": [],
   "source": []
  },
  {
   "cell_type": "code",
   "execution_count": null,
   "metadata": {},
   "outputs": [],
   "source": []
  },
  {
   "cell_type": "code",
   "execution_count": null,
   "metadata": {},
   "outputs": [],
   "source": []
  },
  {
   "cell_type": "code",
   "execution_count": 163,
   "metadata": {},
   "outputs": [
    {
     "name": "stdout",
     "output_type": "stream",
     "text": [
      "atggctgccgatggttatcttccagattggctcgaggacaacctctctgagggcattcgcgagtggtgggacttgaaacctggagccccgaaacccaaagccaaccagcaaaagcaggacgacggccggggcctggtgcttcctggctacaagtacctcggacccttcaacggactcgacaagggggagcccgtcaacgcggcggacgcagcggccctcgagcacgacaaggcctacgaccagcagctcgaagcgggtgacaatccgtacctgcggtataaccacgccgacgccgagtttcaggagcgtctgcaagaagatacgtcttttgggggcaacctcgggcgagcagtcttccaggccaagaagcgggttctcgaacctctcggtctggttgaggaaggcgctaagacggctcctggaaagaagagaccagtagagcagtcaccccaagaaccagactcctcctcgggcatcggcaagaaaggccaacagcccgccagaaaaagactcaattttggccagactggcgactcagagtcagttccagaccctcaacctctcggagaacctccagcagcgccctctggtgtgggacctaatacaatggctgcaggcggtggcgcaccaatggcagacaataacgaaggcgccgacggagtgggtagttcctcgggaaattggcattgcgattccacatggctgggcgacagagtcatcaccaccagcacccgaacctgggccctgcccacctacaacaaccacctctacaagcaaatctccaacgggacatcgggaggagccaccaacgacaacacctacttcggctacagcaccccctgggggtattttgactttaacagattccactgccacttttcaccacgtgactggcagcgactcatcaacaacaactggggattccggcccaagagactcagcttcaagctcttcaacatccaggtcaaggaggtcacgcagaatgaaggcaccaagaccatcgccaataacctcaccagcaccatccaggtgtttacggactcggagtaccagctgccgtacgttctcggctctgcccaccagggctgcctgcctccgttcccggcggacgtgttcatgattccccagtacggctacctaacactcaacaacggtagtcaggccgtgggacgctcctccttctactgcctggaatactttccttcgcagatgctgagaaccggcaacaacttccagtttacttacaccttcgaggacgtgcctttccacagcagctacgcccacagccagagcttggaccggctgatgaatcctctgattgaccagtacctgtactacttgtctcggactcaaacaacaggaggcacggcaaatacgcagactctgggcttcagccaaggtgggcctaatacaatggccaatcaggcaaagaactggctgccaggaccctgttaccgccaacaacgcgtctcaacgacaaccgggcaaaacaacaatagcaactttgcctggactgctgggaccaaataccatctgaatggaagaaattcattggctaatcctggcatcgctatggcaacacacaaagacgacgaggagcgttttttcccagtaacgggatcctgtttttggcaacaaaatgctgccagagacaatgcggattacagcgatgtcatgctcaccagcgaggaagaaatcaaaaccactaaccctgtggctacagaggaatacggtatcgtggcagataacttgcagcagcaaaacacggctcctcaaattggaactgtcaacagccagggggccttacccggtatggtctggcagaaccgggacgtgtacctgcagggtcccatctgggccaagattcctcacacggacggcaacttccacccgtctccgctgatgggcggctttggcctgaaacatcctccgcctcagatcctgatcaagaacacgcctgtacctgcggatcctccgaccaccttcaaccagtcaaagctgaactctttcatcacgcaatacagcaccggacaggtcagcgtggaaattgaatgggagctacagaaggaaaacagcaagcgctggaaccccgagatccagtacacctccaactactacaaatctacaagtgtggactttgctgttaatacagaaggcgtgtactctgaaccccgccccattggcacccgttacctcacccgtaatctgtaa\n"
     ]
    }
   ],
   "source": [
    "print(record_dict[\"rh.43\"].seq)"
   ]
  },
  {
   "cell_type": "code",
   "execution_count": 164,
   "metadata": {},
   "outputs": [
    {
     "name": "stdout",
     "output_type": "stream",
     "text": [
      "rh.43\n"
     ]
    }
   ],
   "source": [
    "print(record_dict[\"rh.43\"].id)"
   ]
  },
  {
   "cell_type": "code",
   "execution_count": 165,
   "metadata": {
    "collapsed": true
   },
   "outputs": [],
   "source": [
    "seq=record_dict[\"rh.43\"].seq"
   ]
  },
  {
   "cell_type": "code",
   "execution_count": null,
   "metadata": {},
   "outputs": [],
   "source": []
  },
  {
   "cell_type": "code",
   "execution_count": 166,
   "metadata": {},
   "outputs": [
    {
     "data": {
      "text/plain": [
       "Bio.Seq.Seq"
      ]
     },
     "execution_count": 166,
     "metadata": {},
     "output_type": "execute_result"
    }
   ],
   "source": [
    "type(seq)"
   ]
  },
  {
   "cell_type": "code",
   "execution_count": 167,
   "metadata": {
    "collapsed": true
   },
   "outputs": [],
   "source": [
    "from Bio.Blast import NCBIWWW"
   ]
  },
  {
   "cell_type": "code",
   "execution_count": 168,
   "metadata": {
    "collapsed": true
   },
   "outputs": [],
   "source": [
    "fasta_string = open(\"seqs.fa\").read()"
   ]
  },
  {
   "cell_type": "code",
   "execution_count": null,
   "metadata": {},
   "outputs": [],
   "source": []
  },
  {
   "cell_type": "code",
   "execution_count": null,
   "metadata": {},
   "outputs": [],
   "source": []
  },
  {
   "cell_type": "code",
   "execution_count": null,
   "metadata": {
    "collapsed": true
   },
   "outputs": [],
   "source": []
  },
  {
   "cell_type": "code",
   "execution_count": null,
   "metadata": {},
   "outputs": [],
   "source": []
  },
  {
   "cell_type": "code",
   "execution_count": 170,
   "metadata": {},
   "outputs": [
    {
     "name": "stderr",
     "output_type": "stream",
     "text": [
      "/Applications/Ana/anaconda/lib/python3.6/site-packages/ipykernel_launcher.py:3: UserWarning: \n",
      "This call to matplotlib.use() has no effect because the backend has already\n",
      "been chosen; matplotlib.use() must be called *before* pylab, matplotlib.pyplot,\n",
      "or matplotlib.backends is imported for the first time.\n",
      "\n",
      "The backend was *originally* set to 'module://ipykernel.pylab.backend_inline' by the following code:\n",
      "  File \"/Applications/Ana/anaconda/lib/python3.6/runpy.py\", line 193, in _run_module_as_main\n",
      "    \"__main__\", mod_spec)\n",
      "  File \"/Applications/Ana/anaconda/lib/python3.6/runpy.py\", line 85, in _run_code\n",
      "    exec(code, run_globals)\n",
      "  File \"/Applications/Ana/anaconda/lib/python3.6/site-packages/ipykernel_launcher.py\", line 16, in <module>\n",
      "    app.launch_new_instance()\n",
      "  File \"/Applications/Ana/anaconda/lib/python3.6/site-packages/traitlets/config/application.py\", line 658, in launch_instance\n",
      "    app.start()\n",
      "  File \"/Applications/Ana/anaconda/lib/python3.6/site-packages/ipykernel/kernelapp.py\", line 477, in start\n",
      "    ioloop.IOLoop.instance().start()\n",
      "  File \"/Applications/Ana/anaconda/lib/python3.6/site-packages/zmq/eventloop/ioloop.py\", line 177, in start\n",
      "    super(ZMQIOLoop, self).start()\n",
      "  File \"/Applications/Ana/anaconda/lib/python3.6/site-packages/tornado/ioloop.py\", line 888, in start\n",
      "    handler_func(fd_obj, events)\n",
      "  File \"/Applications/Ana/anaconda/lib/python3.6/site-packages/tornado/stack_context.py\", line 277, in null_wrapper\n",
      "    return fn(*args, **kwargs)\n",
      "  File \"/Applications/Ana/anaconda/lib/python3.6/site-packages/zmq/eventloop/zmqstream.py\", line 440, in _handle_events\n",
      "    self._handle_recv()\n",
      "  File \"/Applications/Ana/anaconda/lib/python3.6/site-packages/zmq/eventloop/zmqstream.py\", line 472, in _handle_recv\n",
      "    self._run_callback(callback, msg)\n",
      "  File \"/Applications/Ana/anaconda/lib/python3.6/site-packages/zmq/eventloop/zmqstream.py\", line 414, in _run_callback\n",
      "    callback(*args, **kwargs)\n",
      "  File \"/Applications/Ana/anaconda/lib/python3.6/site-packages/tornado/stack_context.py\", line 277, in null_wrapper\n",
      "    return fn(*args, **kwargs)\n",
      "  File \"/Applications/Ana/anaconda/lib/python3.6/site-packages/ipykernel/kernelbase.py\", line 283, in dispatcher\n",
      "    return self.dispatch_shell(stream, msg)\n",
      "  File \"/Applications/Ana/anaconda/lib/python3.6/site-packages/ipykernel/kernelbase.py\", line 235, in dispatch_shell\n",
      "    handler(stream, idents, msg)\n",
      "  File \"/Applications/Ana/anaconda/lib/python3.6/site-packages/ipykernel/kernelbase.py\", line 399, in execute_request\n",
      "    user_expressions, allow_stdin)\n",
      "  File \"/Applications/Ana/anaconda/lib/python3.6/site-packages/ipykernel/ipkernel.py\", line 196, in do_execute\n",
      "    res = shell.run_cell(code, store_history=store_history, silent=silent)\n",
      "  File \"/Applications/Ana/anaconda/lib/python3.6/site-packages/ipykernel/zmqshell.py\", line 533, in run_cell\n",
      "    return super(ZMQInteractiveShell, self).run_cell(*args, **kwargs)\n",
      "  File \"/Applications/Ana/anaconda/lib/python3.6/site-packages/IPython/core/interactiveshell.py\", line 2717, in run_cell\n",
      "    interactivity=interactivity, compiler=compiler, result=result)\n",
      "  File \"/Applications/Ana/anaconda/lib/python3.6/site-packages/IPython/core/interactiveshell.py\", line 2821, in run_ast_nodes\n",
      "    if self.run_code(code, result):\n",
      "  File \"/Applications/Ana/anaconda/lib/python3.6/site-packages/IPython/core/interactiveshell.py\", line 2881, in run_code\n",
      "    exec(code_obj, self.user_global_ns, self.user_ns)\n",
      "  File \"<ipython-input-170-7fb83cf97bc4>\", line 1, in <module>\n",
      "    get_ipython().magic('matplotlib inline')\n",
      "  File \"/Applications/Ana/anaconda/lib/python3.6/site-packages/IPython/core/interactiveshell.py\", line 2158, in magic\n",
      "    return self.run_line_magic(magic_name, magic_arg_s)\n",
      "  File \"/Applications/Ana/anaconda/lib/python3.6/site-packages/IPython/core/interactiveshell.py\", line 2079, in run_line_magic\n",
      "    result = fn(*args,**kwargs)\n",
      "  File \"<decorator-gen-104>\", line 2, in matplotlib\n",
      "  File \"/Applications/Ana/anaconda/lib/python3.6/site-packages/IPython/core/magic.py\", line 188, in <lambda>\n",
      "    call = lambda f, *a, **k: f(*a, **k)\n",
      "  File \"/Applications/Ana/anaconda/lib/python3.6/site-packages/IPython/core/magics/pylab.py\", line 100, in matplotlib\n",
      "    gui, backend = self.shell.enable_matplotlib(args.gui)\n",
      "  File \"/Applications/Ana/anaconda/lib/python3.6/site-packages/IPython/core/interactiveshell.py\", line 2949, in enable_matplotlib\n",
      "    pt.activate_matplotlib(backend)\n",
      "  File \"/Applications/Ana/anaconda/lib/python3.6/site-packages/IPython/core/pylabtools.py\", line 308, in activate_matplotlib\n",
      "    matplotlib.pyplot.switch_backend(backend)\n",
      "  File \"/Applications/Ana/anaconda/lib/python3.6/site-packages/matplotlib/pyplot.py\", line 231, in switch_backend\n",
      "    matplotlib.use(newbackend, warn=False, force=True)\n",
      "  File \"/Applications/Ana/anaconda/lib/python3.6/site-packages/matplotlib/__init__.py\", line 1400, in use\n",
      "    reload(sys.modules['matplotlib.backends'])\n",
      "  File \"/Applications/Ana/anaconda/lib/python3.6/importlib/__init__.py\", line 166, in reload\n",
      "    _bootstrap._exec(spec, module)\n",
      "  File \"/Applications/Ana/anaconda/lib/python3.6/site-packages/matplotlib/backends/__init__.py\", line 16, in <module>\n",
      "    line for line in traceback.format_stack()\n",
      "\n",
      "\n",
      "  This is separate from the ipykernel package so we can avoid doing imports until\n"
     ]
    }
   ],
   "source": [
    "%matplotlib inline\n",
    "import matplotlib\n",
    "matplotlib.use('TkAgg')\n"
   ]
  },
  {
   "cell_type": "code",
   "execution_count": 171,
   "metadata": {
    "collapsed": true
   },
   "outputs": [],
   "source": [
    "import matplotlib.pyplot as plt"
   ]
  },
  {
   "cell_type": "code",
   "execution_count": null,
   "metadata": {},
   "outputs": [],
   "source": []
  },
  {
   "cell_type": "code",
   "execution_count": null,
   "metadata": {},
   "outputs": [],
   "source": []
  },
  {
   "cell_type": "code",
   "execution_count": 176,
   "metadata": {
    "collapsed": true
   },
   "outputs": [],
   "source": [
    "record_dict = SeqIO.to_dict(SeqIO.parse(\"seqs.fa\", \"fasta\"))\n",
    "seq_rh43 = record_dict[\"rh.43\"].seq\n"
   ]
  },
  {
   "cell_type": "code",
   "execution_count": 177,
   "metadata": {},
   "outputs": [
    {
     "data": {
      "image/png": "[encoded data removed]",
      "text/plain": [
       "<Figure size 432x288 with 1 Axes>"
      ]
     },
     "metadata": {},
     "output_type": "display_data"
    }
   ],
   "source": [
    "Phylo.draw(tree)"
   ]
  },
  {
   "cell_type": "code",
   "execution_count": 178,
   "metadata": {
    "collapsed": true
   },
   "outputs": [],
   "source": [
    "record_dict = SeqIO.to_dict(SeqIO.parse(\"seqs.fa\", \"fasta\"))\n",
    "seq_rh64 = record_dict[\"rh.64\"].seq"
   ]
  },
  {
   "cell_type": "code",
   "execution_count": 179,
   "metadata": {
    "collapsed": true
   },
   "outputs": [],
   "source": [
    "record_dict = SeqIO.to_dict(SeqIO.parse(\"seqs.fa\", \"fasta\"))\n",
    "seq_rh61 = record_dict[\"rh.61\"].seq"
   ]
  },
  {
   "cell_type": "code",
   "execution_count": 180,
   "metadata": {},
   "outputs": [
    {
     "name": "stdout",
     "output_type": "stream",
     "text": [
      "atggctgccgatggttatcttccagattggctcgaggacaacctctctgagggcattcgcgagtggtgggacttgaaacctggagccccgaaacccaaagccaaccagcaaaagcaggacgacggccggggcctggtgcttcctggctacaagtacctcggacccttcaacggactcgacaagggggagcccgtcaacgcggcggacgcagcggccctcgagcacgacaaggcctacgaccagcagctcgaagcgggtgacaatccgtacctgcggtataaccacgccgacgccgagtttcaggagcgtctgcaagaagatacgtcttttgggggcaacctcgggcgagcagtcttccaggccaagaagcgggttctcgaacctctcggtctggttgaggaaggcgctaagacggctcctggaaagaagagaccagtagagcagtcaccccaagaaccagactcctcctcgggcatcggcaagaaaggccaacagcccgccagaaaaagactcaattttggccagactggcgactcagagtcagttccagaccctcaacctctcggagaacctccagcagcgccctctggtgtgggacctaatacaatggctgcaggcggtggcgcaccaatggcagacaataacgaaggcgccgacggagtgggtagttcctcgggaaattggcattgcgattccacatggctgggcgacagagtcatcaccaccagcacccgaacctgggccctgcccacctacaacaaccacctctacaagcaaatctccaacgggacatcgggaggagccaccaacgacaacacctacttcggctacagcaccccctgggggtattttgactttaacagattccactgccacttttcaccacgtgactggcagcgactcatcaacaacaactggggattccggcccaagagactcagcttcaagctcttcaacatccaggtcaaggaggtcacgcagaatgaaggcaccaagaccatcgccaataacctcaccagcaccatccaggtgtttacggactcggagtaccagctgccgtacgttctcggctctgcccaccagggctgcctgcctccgttcccggcggacgtgttcatgattccccagtacggctacctaacactcaacaacggtagtcaggccgtgggacgctcctccttctactgcctggaatactttccttcgcagatgctgagaaccggcaacaacttccagtttacttacaccttcgaggacgtgcctttccacagcagctacgcccacagccagagcttggaccggctgatgaatcctctgattgaccagtacctgtactacttgtctcggactcaaacaacaggaggcacggcaaatacgcagactctgggcttcagccaaggtgggcctaatacaatggccaatcaggcaaagaactggctgccaggaccctgttaccgccaacaacgcgtctcaacgacaaccgggcaaaacaacaatagcaactttgcctggactgctgggaccaaataccatctgaatggaagaaattcattggctaatcctggcatcgctatggcaacacacaaagacgacgaggagcgttttttcccagtaacgggatcctgtttttggcaacaaaatgctgccagagacaatgcggattacagcgatgtcatgctcaccagcgaggaagaaatcaaaaccactaaccctgtggctacagaggaatacggtatcgtggcagataacttgcagcagcaaaacacggctcctcaaattggaactgtcaacagccagggggccttacccggtatggtctggcagaaccgggacgtgtacctgcagggtcccatctgggccaagattcctcacacggacggcaacttccacccgtctccgctgatgggcggctttggcctgaaacatcctccgcctcagatcctgatcaagaacacgcctgtacctgcggatcctccgaccaccttcaaccagtcaaagctgaactctttcatcacgcaatacagcaccggacaggtcagcgtggaaattgaatgggagctacagaaggaaaacagcaagcgctggaaccccgagatccagtacacctccaactactacaaatctacaagtgtggactttgctgttaatacagaaggcgtgtactctgaaccccgccccattggcacccgttacctcacccgtaatctgtaa\n"
     ]
    }
   ],
   "source": [
    "print(seq_rh43)"
   ]
  },
  {
   "cell_type": "code",
   "execution_count": 181,
   "metadata": {},
   "outputs": [
    {
     "name": "stdout",
     "output_type": "stream",
     "text": [
      "atggctgccgatggttatcttccagattggctcgaggacaacctctctgagggcattcgcgagtggtgggacctgaaacctggagccccgaaacccaaggccaaccagcaaaagcaggacgacggccggggtctggtgcttcctggctacaagtacctcggacccttcaacggactcgacaagggggagcccgtcaacgcggcggacgcagcggccctcgagcacgacaaggcctacgaccagcagctcaaagcgggtgacaatccgtacctgcggtataatcacgccgacgccgagtttcaggagcgtctgcaagaagatacgtcttttgggggcaacctcgggcgagcagtcttccaggccaagaagcgggttctcgaacctctcggtctggttgaggaaggcgctaagacggctcctggaaagaagagaccggtagagccgtcaccacagcgttcccccgactcctccacgggcatcggcaagaaaggccagcagcccgccagaaagagactcaatttcggtcagactggcgactcagagtcagtccccgaccctcaacctatcggagaacctccagcagcgccctctagtgtgggatctggtacaatggctgcaggcggtggcgcaccaatggcagacaataacgaaggtgccgacggagtgggtagttcctcgggaaattggcattgcgattccacatggctgggcgacagagtcatcaccaccagcacccgaacctgggccctgcccacctacaacaaccacctctacaagcaaatctccaacgggacctcgggaggcagcaccaacgacaacacctactttggctacagcaccccctgggggtattttgactttaacagattccactgccacttctcaccacgtgactggcagcgacccatcaacaacaactggggattccggcccaagagactcagcttcaagctcttcaacatccaggtcaaagaggtcacgcagaatgaaggcaccaagaccatcgccaataacctcaccagcaccatccaggtgtttacggactcggaataccagctgccgtacgtcctcggctctgcccaccagggctgcctgcctccgttcccggcggacgtcttcatgattcctcagtacggctacctgactctcaacaacggtagtcaggccgtgggacgttcctccttctactgcctggagtacttcccctctcagatgctgagaacgggcaacaacttttccttcagctaccctttcgaggacgtgcctttccacagcagctacgcgcacagccagagtttggacaggctgatgaatcctctcatcgaccagtacctgtactacctgtcaagaacccagtctacgggaggcacagcgggaacccagcagttgctgttttctcaggccgggcctagcaacatgtcggctcaggccagaaactggctgcctggaccctgctacagacagcagcgcgtctccacgacactgtcgcaaaacaacaacagcaactttgcctggactggtgccaccaagtatcatctgaacggcagagactctctggtgaatccgggcgtcgccatggcaaccaacaaggacgacgaggaccgcttcttcccatccagcggcatcctcatgtttggcaagcagggagctggaaaagacaacgtggactatagcaacgtgatgctaaccagcgaggaagaaatcaagaccaccaaccccgtggccacagaacagtatggcgtggtggctgataacctacagcagcaagacaccgctcctattgtgggggccgtcaacagccagggagccttacctggcatggtctggcagaaccgggacgtgtacctgcagggtcctatttgggccaagattcctcacacagatggcaactttcacccgtctcctttaatgggcggctttggacttaaacatccgcctcctcaggtcctcatcaaaaacactcctgttcctgcggatcctccaacagcgttcaaccaggccaagctgaattctttcatcacgcagtacagcaccggacaagtcagcgtggagatcgagtgggagctgcagaaggagaacagcaagcgctggaacccagagattcagtatacttccaactactacaaatctacaaatgtggactttgctgttaatactgagggtgtttactctgagcctcgccccattggcactcgttacctcacccgtaatctgtaa\n"
     ]
    }
   ],
   "source": [
    "print(seq_rh61)"
   ]
  },
  {
   "cell_type": "code",
   "execution_count": 182,
   "metadata": {},
   "outputs": [
    {
     "name": "stdout",
     "output_type": "stream",
     "text": [
      "atggctgccgatggttatcttccagattggctcgaggacaacctctctgagggcattcgcgagtggtgggacctgaaacctggagccccgaaacccaaagccaaccagcaaaagcaggacgacggccggggtctggtgcttcctggctacaagtacctcggacccttcaacggactcgacaagggggagcccgtcaacgcggcggacgcagcggccctcgagcacgacaaggcctacgaccagcagctcaaagcgggtgacaatccgtacctgcggtataatcacgccgacgccgagtttcaggagcgtctgcaagaagatacgtcttttgggggcaacctcgggcgagcagtcttccaggccaagaagcgggttctcgaacctctcggtctggttgaggaaggcgctaagacggctcctggaaagaagagaccggtagagccgtcaccacagcgttcccccgactcctccacgggcatcggcaagaaaggccagcagcccgccagaaagagactcaatttcggtcagactggcgactcagagtcagtccccgaccctcaacctatcggagaacctccagcagcgccctctagtgtgggatctggtacaatggctgcaggcggtggcgcaccaatggcagacaataacgaaggtgccgacggagtgggtagttcctcgggaaattggcattgcgattccacatggctgggcgacagagtcatcaccaccagcacccgaacctgggccctgcccacctacaacaaccacctctacaagcaaatctccaacgggacctcgggaggcagcaccaacgacaacacctactttggctacagcaccccctgggggtattttgactttaacagattccactgccacttctcaccacgtgactggcagcgactcatcaacaacaactggggattccggcccaagagactcagcttcaagctcttcaacatccaggtcaaagaggtcacgcagaatgaaggcaccaagaccatcgccaataacctcaccagcaccatccaggtgtttacggactcggaataccagctgccgtacgtcctcggctctgcccaccagggctgcctgcctccgttcccggcggacgtcttcatgattcctcagtacggctacctgactctcaacaacggtagtcaggccgtgggacgttcctccttctactgcctggagtacttcccctctcagatgctgagaacgggcaacaacttttccttcagctacactttcgaggacgtgcctttccacagcagctacgcgcacagccagagtttggacaggctgatgaatcctctcatcgaccagtacctgtactacctgtcaagaacccagtctacgggaggcacagcgggaacccagcagttgctgttttctcaggccgggcctagcaacatgtcggctcaggccagaaactggctgcctggaccctgctacagacagcagcgcgtctccacgacactgtcgcaaaacaacaacagcaactttgcctggactggtgccaccaagtatcatctgaacggcagagactctctggtgaatccgggcgtcgccatggcaaccaacaaggacgacgaggaccgcttcttcccatccagcggcatcctcatgtttggcaagcagggagctggaaaagacaacgtggactatagcaacgtgatgctaaccagcgaggaagaaatcaagaccaccaaccccgtggccacagaacagtatggcgtggtggctgataacctacagcagcaaaacaccgctcctattgtgggggccgtcaacagccagggagccttacctggcatggtctggcagaaccgggacgtgtacctgcagggtcctatttgggccaagattcctcacacagatggcaactttcacccgtctcctttaatgggcggctttggacttaaacatccgcctcctcagatcctcatcaaaaacactcctgttcctgcggatcctccaacagcgttcaaccaggccaagctgaattctttcatcacgcagtacagcaccggacaagtcagcgtggagatcgtgtgggagctgcagaaggagaacagcaagcgcaggaacccagagattcagtatacttccaactactacaaatctacaaatgtggactttgctgttaatactgagggtgtttactctgagcctcgccccattggcactcgttacctcacccgtaatctgtaa\n"
     ]
    }
   ],
   "source": [
    "print(seq_rh64)"
   ]
  },
  {
   "cell_type": "code",
   "execution_count": null,
   "metadata": {},
   "outputs": [],
   "source": []
  },
  {
   "cell_type": "code",
   "execution_count": 184,
   "metadata": {},
   "outputs": [
    {
     "name": "stdout",
     "output_type": "stream",
     "text": [
      " , rh.61\n",
      " |\n",
      " |_ rh.58\n",
      " |\n",
      " |                               , pi.2\n",
      " |           ____________________|\n",
      " |          |                    , pi.3\n",
      " |          |                    |\n",
      " |          |                    | pi.1\n",
      " |          |\n",
      " |          |           , rh.10\n",
      " |        __|          _|\n",
      " |       |  |         | , bb.1\n",
      " |       |  |         | |\n",
      " |       |  |  _______| | bb.2\n",
      " |       |  | |       |\n",
      " |       |  | |       | _ hu.17\n",
      " |       |  | |       ||\n",
      " |       |  |_|        | hu.6\n",
      " |       |    |\n",
      " |       |    |    _______ rh.2\n",
      " |       |    |   |\n",
      " |       |    |___|          __ rh.40\n",
      " |       |        |         |\n",
      " |       |        |_________|, hu.67\n",
      " |       |                  ||\n",
      " |       |                  |, hu.37\n",
      " |       |                   |\n",
      " |       |                   , hu.40\n",
      " |       |                   |\n",
      " |       |                   | hu.66\n",
      " |       |                   |\n",
      " |       |                   , hu.41\n",
      " |       |                   |\n",
      " |       |                   | rh.38\n",
      " |       |                   |\n",
      " |       |                   | hu.42\n",
      " |       |\n",
      " |_______|                                         , cy.3\n",
      " |       |                                         |\n",
      " |       |                          _______________, cy.6\n",
      " |       |                         |               |\n",
      " |       |                         |               | cy.4\n",
      " |       |                         |               |\n",
      " |       |                 ________|               , cy.5\n",
      " |       |                |        |               |\n",
      " |       |                |        |               | rh.13\n",
      " |       |                |        |\n",
      " |       |                |        |        , rh.35\n",
      " |       |             ___|        |________|\n",
      " |       |            |   |                 , rh.36\n",
      " |       |            |   |                 |\n",
      " |       |            |   |                 | rh.37\n",
      " |       |            |   |\n",
      " |       |            |   |         ______ cy.2\n",
      " |       |            |   |________|\n",
      " |       |            |            |     __ rh.54\n",
      " |       |    ________|            |____|\n",
      " |       |   |        |                 |      __ rh.55\n",
      " |       |   |        |                 |_____|\n",
      " |       |   |        |                       |, rh.48\n",
      " |       |   |        |                       ||\n",
      " |       |   |        |                        | rh.62\n",
      " |       |   |        |\n",
      " |       |   |        |                               __ hu.43\n",
      " |       |   |        |______________________________|\n",
      " |       |___|                                       |  , hu.48\n",
      " |           |                                       |__|\n",
      " |           |                                          |      , hu.44\n",
      " |           |                                          |______|\n",
      " |           |                                                 | hu.46\n",
      " |           |\n",
      " |           |                                                    _ hu.14\n",
      " |           |      _____________________________________________|\n",
      " |           |     |                                             |  , hu.31\n",
      " |           |_____|                                             |__|\n",
      " |                 |                                                | hu.32\n",
      " |                 |\n",
      " |                 |______________ rh.43\n",
      "_|\n",
      " | rh.64\n",
      " |\n",
      " , rh.57\n",
      " |\n",
      " | rh.51\n",
      " |\n",
      " | rh.49\n",
      " |\n",
      " | rh.53\n",
      " |\n",
      " | rh.50\n",
      " |\n",
      " , rh.52\n",
      " |\n",
      " | hu.39\n",
      "\n"
     ]
    }
   ],
   "source": [
    "\n",
    "Phylo.draw_ascii(tree, file=None, column_width=80)"
   ]
  },
  {
   "cell_type": "code",
   "execution_count": 185,
   "metadata": {
    "collapsed": true
   },
   "outputs": [],
   "source": [
    "record_dict = SeqIO.to_dict(SeqIO.parse(\"seqs.fa\", \"fasta\")) #from_pi.1,pi.2,pi.3\n",
    "seq_pi1 = record_dict[\"pi.1\"].seq\n",
    "\n",
    "\n",
    "record_dict = SeqIO.to_dict(SeqIO.parse(\"seqs.fa\", \"fasta\"))#from_rh35,36,37\n",
    "seq_rh36 = record_dict[\"rh.36\"].seq\n",
    "\n",
    "\n",
    "\n",
    "\n",
    "record_dict = SeqIO.to_dict(SeqIO.parse(\"seqs.fa\", \"fasta\"))#from_hu_40,67,37,40,66,41,38,42\n",
    "seq_hu40 = record_dict[\"hu.40\"].seq\n",
    "\n",
    "\n",
    "\n",
    "record_dict = SeqIO.to_dict(SeqIO.parse(\"seqs.fa\", \"fasta\"))#from_bb.1,2,rh10\n",
    "seq_bb1= record_dict[\"bb.1\"].seq\n",
    "\n",
    "\n",
    "\n",
    "\n",
    "record_dict = SeqIO.to_dict(SeqIO.parse(\"seqs.fa\", \"fasta\"))#from_cy3,6,4,5r,h13\n",
    "seq_cy3 = record_dict[\"cy.3\"].seq\n",
    "\n",
    "\n",
    "\n",
    "\n",
    "record_dict = SeqIO.to_dict(SeqIO.parse(\"seqs.fa\", \"fasta\"))#from_rh64,57,51,50,52,39\n",
    "seq_rh64 = record_dict[\"rh.64\"].seq"
   ]
  },
  {
   "cell_type": "code",
   "execution_count": 186,
   "metadata": {},
   "outputs": [
    {
     "name": "stdout",
     "output_type": "stream",
     "text": [
      "atggctgctgacggttatcttccagattggctcgaggacaacctctctgagggcattcgcgagtggtgggcgctgaaacctggagccccgcaacccaaagccaaccagcaaaagcaggacgacggccggggtctggtgcttcctggctacaagtacctcggacccttcaacggactcgacaagggggagcccgtcaacgaggcggacgccgcggccctcgagcacgacaaggcctacgaccagcagctcaaagcgggtgacaatccgtacctgcggtataatcacgccgacgccgagtttcaagagcgtctgcaagaagatacgtcctttgggggcaacctcgggcgagcagtcttccaggccaaaaagagggtactcgagcctctgggtctggttgaggaaggcgctaagacggctcctggaaagaagcggccagtagaaccggactccagctcgggcatcggcaagtcaggccagcagcccgcgaaaaagagactgaattttgggcagactggcgactcagagtcagtgcctgacccccaacctctctcagaaccacccgcaggtccctctggtctgggatctggtacaatggctgctggcggtggcgctccaatggcagacaataacgaaggcgccgacggagtgggtaatgtctcaggaaattggcattgcgattccacatggctgggcgaccgagtcatcaccaccagcactcggacctgggccctccccacctacaacaaccacctctacaagcaaatctccaacgggacctcgggaggcagcagcaacgacaacacctactttggctacagcaccccctgggggtattttgactttaacagattccactgccacttttcaccacgtgactggcagcgactcatcaacaacaactgggggttccggcccaagaagctcaacttcaagctcttcaacatccaggtcaaggaggtcacccagaatgaaggcaccaagaccatcgccaataacctcaccagcacggtgcaggtctttacggactcggagtaccagctcccgtacgtgctcggctctgcccaccagggctgcctgcctccgttcccggcggacgtgttcatgattccgcagtacgggtacctgacgctgaacaacgggagccaggccgtggggcgatcctccttctactgcctggagtactttccctcgcagatgctgagaacgggcaacaactttaccttcagctacaccttcgaggacgtgcccttccacagcagctacgcgcacagccagagcctggaccggctgatgaacccgctgattgaccagtacctgtactacctgtctcggactcagaccaacgggaccaatgccacgcagactctgttgtttgctcaggccgggcctcagaacatgtcggctcaggccaagaactggctgcctggtccttgctatcggcagcagcgcgtctctacgacagtgtcgcaaaacaacaacagcaactttacctggaccggggcgaccaagtaccacctgaacggccgagactccctggtgagccccggtgtcgccatggcaacgcacaaggacgacgaggagcgcttcttcccgagcagcggggtcctgatgtttggcaagcagggcgctggaaaggacaatgtcgagtacaccaacgtgatgctcaccagcgaggaggagatcaagaccaccaaccctgtggccacggagcagtacggcgtggtggctgacaatctgcagcagaccaactcagctcccattgtgggggcagtcaacagccagggggccttacccggtatggtctggcagaaccgggacgtgtacctgcagggtcccatctgggccaagatcccgcatacggacggcaactttcacccgtctcctctcatgggcggctttggactgaaacacccgcctccccagatcctgatcaaaaacacgccggtacctgcggatcccccggtgaactttacggacgctaagctggcgagtttcatcacgcagtacagcaccgggcaggtcagcgtggagattgagtgggagctgcagaaggagaacagcaagcgctggaatcccgagattcagtacacttccaattattataaatcagctaatgtggactttgccgtcaatgcagatggtgtatatagtgaaccccgccccattggcactcgttacctcacccgtaatctgtaa\n"
     ]
    }
   ],
   "source": [
    "print(seq_pi1)"
   ]
  },
  {
   "cell_type": "code",
   "execution_count": 187,
   "metadata": {
    "scrolled": false
   },
   "outputs": [
    {
     "name": "stdout",
     "output_type": "stream",
     "text": [
      "atggctgccgatggttatcttccagattggctcgaggacaacctctctgagggcattcgcgagtggtgggacttgaaacctggagccccgaaacccaaagccaaccagcaaaagcaggacgacggccggggtctggtgcttcctggctacaagtacctcagacccttcaacggactcgacaagggagagccggtcaacgaggcagacgccgcggccctcgagcacgacaaggcctacgacaagcagctcgagcagggggacaacccgtacctcaagtacaaccacgccgacgccgagtttcaggagcgtcttcaagaagatacgtcttttgggggcaacctcgggcgagcagtcttccaggccaagaagcgggttctcgaacctctcggtctggttgaggaagtcgctaagacggctcctggaaagaagagacccatagaatcccccgactcctccacgggcatcggcaagaaaggccagcagcccgctaaaaagaagctcaactttgggcagactggcgactcagagtcagtgcccgacccccaacctctcggagaacctcccgccgcgccctcaggtctgggatctggtacaatggctgcaggcggtggcgcaccaatggcagacaataacgaaggcgccgacggagtgggtaatgcctccggaaattggcattgcgattccacatggctgggcgacagagtcatcaccaccagcacccgcacctgggccctgcccacctacaacaaccacctctacaagcagatatcaagtcagagcggggctaccaacgacaaccacttcttcagctacagcaccccctggggctattttgacttcaacagattccactgccacttctcaccacgtgactggcagcgactcatcaacaacaactggggattccggcccagaaagctgcggttcaagttgttcaacatccaggtcaaggaggtcacgacgaacgacggcgttacgaccatcgctaataaccttaccagcacgattcaggtcttctcggactcggagtaccaactgccgtacgtcctcggctctgcgcaccagggctgcctccctccgttccctgcggacgtgttcatgattcctcagtacggatatctgactctaaacaacggcagtcagtctgtgggacgttcctccttctactgcctggagtactttccttctcagatgctgagaacgggcaataactttgaattcagctacacctttgaggaagtgcctttccacagcagctatgtgcacagccagagcctagaccggctgatgaatcccctcatcgaccagtacctgtactacctggcccggacccagagcactacggggtccacaagggagctgcagttccatcaggctgggcccaacaccatggccgagcaatcaaagaactggctgcccggaccctgttatcggcagcagagactgtcaaaaaacatagacagcaacaacaacagtaactttgcctggaccggggccactaaataccatctgaatggtagaaattcattaaccaacccgggcgtagccatggccaccaacaaggacgacgaggaccagttctttcccatcaacggagtgctggtttttggcaaaacgggggctgccaacaagacaacgctggaaaacgtgctaatgaccagcgaggaggagatcaaaaccaccaatcccgtggctacagaagaatacggtgtggtctccagcaacctgcaatcgtctacggccggaccccagacacagactgtcaacagccagggggctctgcccggcatggtctggcagaaccgggacgtgtgcctgcagggtcccatctgggccaaaattcctcacacggacggcaactttcacccgtctcccctgatgggcggatttggactcaaacacccgcctcctcaaattctcatcaaaaacaccccggtacctgctaatcctccagaggtgtttactcctgccaagtttgcctcatttatcacgcagtacagcaccggccaggtcagcgtggagatcgagtgggaactgcagaaagaaaacagcaaacgctggaatccagagattcagtacacctcaaattatgccaagtctaataatgtggaatttgctgtcaacaacgaaggggtttatactgagcctcgccccattggcacccgttacctcacccgtaacctgtaa\n"
     ]
    }
   ],
   "source": [
    "print(seq_cy3)"
   ]
  },
  {
   "cell_type": "code",
   "execution_count": 188,
   "metadata": {
    "collapsed": true
   },
   "outputs": [],
   "source": [
    "record_dict = SeqIO.to_dict(SeqIO.parse(\"seqs.fa\", \"fasta\"))\n",
    "rec=[]\n",
    "for i in record_dict:\n",
    "    rec.append(record_dict[i].id)\n",
    "\n"
   ]
  },
  {
   "cell_type": "code",
   "execution_count": 189,
   "metadata": {},
   "outputs": [
    {
     "name": "stdout",
     "output_type": "stream",
     "text": [
      "['bb.1', 'bb.2', 'cy.2', 'cy.3', 'cy.4', 'cy.5', 'cy.6', 'hu.14', 'hu.17', 'hu.31', 'hu.32', 'hu.37', 'hu.39', 'hu.40', 'hu.41', 'hu.42', 'hu.43', 'hu.44', 'hu.46', 'hu.48', 'hu.6', 'hu.66', 'hu.67', 'pi.1', 'pi.2', 'pi.3', 'rh.10', 'rh.13', 'rh.2', 'rh.35', 'rh.36', 'rh.37', 'rh.38', 'rh.40', 'rh.43', 'rh.48', 'rh.49', 'rh.50', 'rh.51', 'rh.52', 'rh.53', 'rh.54', 'rh.55', 'rh.57', 'rh.58', 'rh.61', 'rh.62', 'rh.64']\n"
     ]
    }
   ],
   "source": [
    "print(rec\n",
    "     )"
   ]
  },
  {
   "cell_type": "code",
   "execution_count": 190,
   "metadata": {
    "collapsed": true
   },
   "outputs": [],
   "source": [
    "all_nodes=rec"
   ]
  },
  {
   "cell_type": "code",
   "execution_count": 191,
   "metadata": {},
   "outputs": [
    {
     "data": {
      "text/plain": [
       "<filter at 0x11bbe7c50>"
      ]
     },
     "execution_count": 191,
     "metadata": {},
     "output_type": "execute_result"
    }
   ],
   "source": [
    "tree.find_clades()"
   ]
  },
  {
   "cell_type": "code",
   "execution_count": 192,
   "metadata": {
    "collapsed": true
   },
   "outputs": [],
   "source": [
    "r = []\n",
    "for i in tree.find_clades():\n",
    "    r.append(i.name)\n",
    "    "
   ]
  },
  {
   "cell_type": "code",
   "execution_count": 193,
   "metadata": {},
   "outputs": [
    {
     "data": {
      "text/plain": [
       "<function print>"
      ]
     },
     "execution_count": 193,
     "metadata": {},
     "output_type": "execute_result"
    }
   ],
   "source": [
    "print"
   ]
  },
  {
   "cell_type": "code",
   "execution_count": 194,
   "metadata": {},
   "outputs": [
    {
     "data": {
      "text/plain": [
       "<function print>"
      ]
     },
     "execution_count": 194,
     "metadata": {},
     "output_type": "execute_result"
    }
   ],
   "source": [
    "print"
   ]
  },
  {
   "cell_type": "code",
   "execution_count": 195,
   "metadata": {},
   "outputs": [
    {
     "name": "stdout",
     "output_type": "stream",
     "text": [
      "[None, None, None, None, 'rh.61', None, 'rh.58', None, None, None, 'pi.2', None, 'pi.3', 'pi.1', None, None, None, 'rh.10', None, 'bb.1', 'bb.2', None, 'hu.17', 'hu.6', None, 'rh.2', None, 'rh.40', None, 'hu.67', None, 'hu.37', None, None, 'hu.40', 'hu.66', None, None, 'hu.41', 'rh.38', 'hu.42', None, None, None, None, None, 'cy.3', None, None, 'cy.6', 'cy.4', None, 'cy.5', 'rh.13', None, 'rh.35', None, 'rh.36', 'rh.37', None, 'cy.2', None, 'rh.54', None, 'rh.55', None, 'rh.48', 'rh.62', None, 'hu.43', None, 'hu.48', None, 'hu.44', 'hu.46', None, None, 'hu.14', None, 'hu.31', 'hu.32', 'rh.43', 'rh.64', None, None, None, 'rh.57', 'rh.51', 'rh.49', 'rh.53', 'rh.50', None, 'rh.52', 'hu.39']\n"
     ]
    }
   ],
   "source": [
    "print(r)"
   ]
  },
  {
   "cell_type": "code",
   "execution_count": 196,
   "metadata": {},
   "outputs": [
    {
     "name": "stdout",
     "output_type": "stream",
     "text": [
      " , rh.61\n",
      " |\n",
      " |_ rh.58\n",
      " |\n",
      " |                               , pi.2\n",
      " |           ____________________|\n",
      " |          |                    , pi.3\n",
      " |          |                    |\n",
      " |          |                    | pi.1\n",
      " |          |\n",
      " |          |           , rh.10\n",
      " |        __|          _|\n",
      " |       |  |         | , bb.1\n",
      " |       |  |         | |\n",
      " |       |  |  _______| | bb.2\n",
      " |       |  | |       |\n",
      " |       |  | |       | _ hu.17\n",
      " |       |  | |       ||\n",
      " |       |  |_|        | hu.6\n",
      " |       |    |\n",
      " |       |    |    _______ rh.2\n",
      " |       |    |   |\n",
      " |       |    |___|          __ rh.40\n",
      " |       |        |         |\n",
      " |       |        |_________|, hu.67\n",
      " |       |                  ||\n",
      " |       |                  |, hu.37\n",
      " |       |                   |\n",
      " |       |                   , hu.40\n",
      " |       |                   |\n",
      " |       |                   | hu.66\n",
      " |       |                   |\n",
      " |       |                   , hu.41\n",
      " |       |                   |\n",
      " |       |                   | rh.38\n",
      " |       |                   |\n",
      " |       |                   | hu.42\n",
      " |       |\n",
      " |_______|                                         , cy.3\n",
      " |       |                                         |\n",
      " |       |                          _______________, cy.6\n",
      " |       |                         |               |\n",
      " |       |                         |               | cy.4\n",
      " |       |                         |               |\n",
      " |       |                 ________|               , cy.5\n",
      " |       |                |        |               |\n",
      " |       |                |        |               | rh.13\n",
      " |       |                |        |\n",
      " |       |                |        |        , rh.35\n",
      " |       |             ___|        |________|\n",
      " |       |            |   |                 , rh.36\n",
      " |       |            |   |                 |\n",
      " |       |            |   |                 | rh.37\n",
      " |       |            |   |\n",
      " |       |            |   |         ______ cy.2\n",
      " |       |            |   |________|\n",
      " |       |            |            |     __ rh.54\n",
      " |       |    ________|            |____|\n",
      " |       |   |        |                 |      __ rh.55\n",
      " |       |   |        |                 |_____|\n",
      " |       |   |        |                       |, rh.48\n",
      " |       |   |        |                       ||\n",
      " |       |   |        |                        | rh.62\n",
      " |       |   |        |\n",
      " |       |   |        |                               __ hu.43\n",
      " |       |   |        |______________________________|\n",
      " |       |___|                                       |  , hu.48\n",
      " |           |                                       |__|\n",
      " |           |                                          |      , hu.44\n",
      " |           |                                          |______|\n",
      " |           |                                                 | hu.46\n",
      " |           |\n",
      " |           |                                                    _ hu.14\n",
      " |           |      _____________________________________________|\n",
      " |           |     |                                             |  , hu.31\n",
      " |           |_____|                                             |__|\n",
      " |                 |                                                | hu.32\n",
      " |                 |\n",
      " |                 |______________ rh.43\n",
      "_|\n",
      " | rh.64\n",
      " |\n",
      " , rh.57\n",
      " |\n",
      " | rh.51\n",
      " |\n",
      " | rh.49\n",
      " |\n",
      " | rh.53\n",
      " |\n",
      " | rh.50\n",
      " |\n",
      " , rh.52\n",
      " |\n",
      " | hu.39\n",
      "\n"
     ]
    }
   ],
   "source": [
    "\n",
    "Phylo.draw_ascii(tree, file=None, column_width=80)"
   ]
  },
  {
   "cell_type": "code",
   "execution_count": 197,
   "metadata": {},
   "outputs": [],
   "source": [
    "record_dict = SeqIO.to_dict(SeqIO.parse(\"seqs.aligned.fa\", \"fasta\"))\n",
    "rec=[]\n",
    "for i in record_dict:\n",
    "    rec.append(record_dict[i].id)\n"
   ]
  },
  {
   "cell_type": "code",
   "execution_count": 198,
   "metadata": {},
   "outputs": [
    {
     "name": "stdout",
     "output_type": "stream",
     "text": [
      "['hu.31', 'hu.32', 'hu.14', 'hu.44', 'hu.46', 'hu.43', 'hu.48', 'pi.3', 'pi.1', 'pi.2', 'rh.43', 'rh.58', 'rh.57', 'hu.39', 'rh.49', 'rh.51', 'rh.61', 'rh.52', 'rh.50', 'rh.53', 'rh.64', 'bb.1', 'bb.2', 'rh.10', 'hu.17', 'hu.6', 'rh.2', 'rh.40', 'hu.41', 'rh.38', 'hu.66', 'hu.67', 'hu.42', 'hu.37', 'hu.40', 'cy.2', 'rh.54', 'rh.55', 'rh.48', 'rh.62', 'rh.35', 'rh.36', 'rh.37', 'cy.4', 'cy.6', 'cy.3', 'cy.5', 'rh.13']\n"
     ]
    }
   ],
   "source": [
    "print(rec)"
   ]
  },
  {
   "cell_type": "code",
   "execution_count": 199,
   "metadata": {},
   "outputs": [
    {
     "name": "stdout",
     "output_type": "stream",
     "text": [
      "[None, None, None, None, 'rh.61', None, 'rh.58', None, None, None, 'pi.2', None, 'pi.3', 'pi.1', None, None, None, 'rh.10', None, 'bb.1', 'bb.2', None, 'hu.17', 'hu.6', None, 'rh.2', None, 'rh.40', None, 'hu.67', None, 'hu.37', None, None, 'hu.40', 'hu.66', None, None, 'hu.41', 'rh.38', 'hu.42', None, None, None, None, None, 'cy.3', None, None, 'cy.6', 'cy.4', None, 'cy.5', 'rh.13', None, 'rh.35', None, 'rh.36', 'rh.37', None, 'cy.2', None, 'rh.54', None, 'rh.55', None, 'rh.48', 'rh.62', None, 'hu.43', None, 'hu.48', None, 'hu.44', 'hu.46', None, None, 'hu.14', None, 'hu.31', 'hu.32', 'rh.43', 'rh.64', None, None, None, 'rh.57', 'rh.51', 'rh.49', 'rh.53', 'rh.50', None, 'rh.52', 'hu.39']\n"
     ]
    }
   ],
   "source": [
    "print(r)"
   ]
  },
  {
   "cell_type": "code",
   "execution_count": 200,
   "metadata": {},
   "outputs": [],
   "source": [
    "clusters = []\n",
    "list1 = []\n",
    "for i in r:\n",
    "    if i == (None):\n",
    "        if len(list1)>0:\n",
    "             clusters.append(list1)\n",
    "        list1=[]\n",
    "        continue\n",
    "    else: \n",
    "        list1.append(i)\n",
    "       \n",
    "            \n",
    "            \n",
    "    "
   ]
  },
  {
   "cell_type": "code",
   "execution_count": 201,
   "metadata": {},
   "outputs": [
    {
     "name": "stdout",
     "output_type": "stream",
     "text": [
      "[['rh.61'], ['rh.58'], ['pi.2'], ['pi.3', 'pi.1'], ['rh.10'], ['bb.1', 'bb.2'], ['hu.17', 'hu.6'], ['rh.2'], ['rh.40'], ['hu.67'], ['hu.37'], ['hu.40', 'hu.66'], ['hu.41', 'rh.38', 'hu.42'], ['cy.3'], ['cy.6', 'cy.4'], ['cy.5', 'rh.13'], ['rh.35'], ['rh.36', 'rh.37'], ['cy.2'], ['rh.54'], ['rh.55'], ['rh.48', 'rh.62'], ['hu.43'], ['hu.48'], ['hu.44', 'hu.46'], ['hu.14'], ['hu.31', 'hu.32', 'rh.43', 'rh.64'], ['rh.57', 'rh.51', 'rh.49', 'rh.53', 'rh.50']]\n"
     ]
    }
   ],
   "source": [
    "print(clusters)"
   ]
  },
  {
   "cell_type": "code",
   "execution_count": 202,
   "metadata": {},
   "outputs": [
    {
     "name": "stdout",
     "output_type": "stream",
     "text": [
      " , rh.61\n",
      " |\n",
      " |_ rh.58\n",
      " |\n",
      " |                               , pi.2\n",
      " |           ____________________|\n",
      " |          |                    , pi.3\n",
      " |          |                    |\n",
      " |          |                    | pi.1\n",
      " |          |\n",
      " |          |           , rh.10\n",
      " |        __|          _|\n",
      " |       |  |         | , bb.1\n",
      " |       |  |         | |\n",
      " |       |  |  _______| | bb.2\n",
      " |       |  | |       |\n",
      " |       |  | |       | _ hu.17\n",
      " |       |  | |       ||\n",
      " |       |  |_|        | hu.6\n",
      " |       |    |\n",
      " |       |    |    _______ rh.2\n",
      " |       |    |   |\n",
      " |       |    |___|          __ rh.40\n",
      " |       |        |         |\n",
      " |       |        |_________|, hu.67\n",
      " |       |                  ||\n",
      " |       |                  |, hu.37\n",
      " |       |                   |\n",
      " |       |                   , hu.40\n",
      " |       |                   |\n",
      " |       |                   | hu.66\n",
      " |       |                   |\n",
      " |       |                   , hu.41\n",
      " |       |                   |\n",
      " |       |                   | rh.38\n",
      " |       |                   |\n",
      " |       |                   | hu.42\n",
      " |       |\n",
      " |_______|                                         , cy.3\n",
      " |       |                                         |\n",
      " |       |                          _______________, cy.6\n",
      " |       |                         |               |\n",
      " |       |                         |               | cy.4\n",
      " |       |                         |               |\n",
      " |       |                 ________|               , cy.5\n",
      " |       |                |        |               |\n",
      " |       |                |        |               | rh.13\n",
      " |       |                |        |\n",
      " |       |                |        |        , rh.35\n",
      " |       |             ___|        |________|\n",
      " |       |            |   |                 , rh.36\n",
      " |       |            |   |                 |\n",
      " |       |            |   |                 | rh.37\n",
      " |       |            |   |\n",
      " |       |            |   |         ______ cy.2\n",
      " |       |            |   |________|\n",
      " |       |            |            |     __ rh.54\n",
      " |       |    ________|            |____|\n",
      " |       |   |        |                 |      __ rh.55\n",
      " |       |   |        |                 |_____|\n",
      " |       |   |        |                       |, rh.48\n",
      " |       |   |        |                       ||\n",
      " |       |   |        |                        | rh.62\n",
      " |       |   |        |\n",
      " |       |   |        |                               __ hu.43\n",
      " |       |   |        |______________________________|\n",
      " |       |___|                                       |  , hu.48\n",
      " |           |                                       |__|\n",
      " |           |                                          |      , hu.44\n",
      " |           |                                          |______|\n",
      " |           |                                                 | hu.46\n",
      " |           |\n",
      " |           |                                                    _ hu.14\n",
      " |           |      _____________________________________________|\n",
      " |           |     |                                             |  , hu.31\n",
      " |           |_____|                                             |__|\n",
      " |                 |                                                | hu.32\n",
      " |                 |\n",
      " |                 |______________ rh.43\n",
      "_|\n",
      " | rh.64\n",
      " |\n",
      " , rh.57\n",
      " |\n",
      " | rh.51\n",
      " |\n",
      " | rh.49\n",
      " |\n",
      " | rh.53\n",
      " |\n",
      " | rh.50\n",
      " |\n",
      " , rh.52\n",
      " |\n",
      " | hu.39\n",
      "\n"
     ]
    }
   ],
   "source": [
    "\n",
    "Phylo.draw_ascii(tree, file=None, column_width=80)"
   ]
  },
  {
   "cell_type": "code",
   "execution_count": 203,
   "metadata": {
    "collapsed": true
   },
   "outputs": [],
   "source": [
    "def count(sentence, match):\n",
    "    c = 0\n",
    "    for i in sentence:\n",
    "        if i == match:\n",
    "            c = c+1;\n",
    "    return c"
   ]
  },
  {
   "cell_type": "code",
   "execution_count": 204,
   "metadata": {},
   "outputs": [
    {
     "data": {
      "text/plain": [
       "3"
      ]
     },
     "execution_count": 204,
     "metadata": {},
     "output_type": "execute_result"
    }
   ],
   "source": [
    "count('wilugwlgihweg','w')"
   ]
  },
  {
   "cell_type": "code",
   "execution_count": 205,
   "metadata": {
    "collapsed": true
   },
   "outputs": [],
   "source": [
    "def countACTG(sequence_name):\n",
    "    count_A = count(sequence_name, 'A')\n",
    "    count_C = count(sequence_name, 'C')\n",
    "    count_G = count(sequence_name, 'G')\n",
    "    count_T = count(sequence_name, 'T')\n",
    "    return [count_A,count_C,count_G,count_T]"
   ]
  },
  {
   "cell_type": "code",
   "execution_count": null,
   "metadata": {
    "collapsed": true
   },
   "outputs": [],
   "source": []
  },
  {
   "cell_type": "code",
   "execution_count": null,
   "metadata": {
    "collapsed": true
   },
   "outputs": [],
   "source": []
  },
  {
   "cell_type": "code",
   "execution_count": 206,
   "metadata": {
    "collapsed": true
   },
   "outputs": [],
   "source": [
    "def count_per_cluster(n_cluster):\n",
    "    cluster_analysis = []\n",
    "    k=-1\n",
    "    for i in n_cluster:\n",
    "        print(i)\n",
    "        length = len(i)\n",
    "        blank_sequence=\"\"\n",
    "        k=k+1\n",
    "        for j in range(length):\n",
    "            record_dict = SeqIO.to_dict(SeqIO.parse(\"seqs.aligned.fa\", \"fasta\"))\n",
    "            print(n_cluster[k][j])\n",
    "            short_sequence1 = record_dict[n_cluster[k][j]].seq\n",
    "            blank_sequence = blank_sequence+short_sequence1\n",
    "            cluster_analysis.append(countACTG(blank_sequence))\n",
    "    return cluster_analysis"
   ]
  },
  {
   "cell_type": "code",
   "execution_count": 207,
   "metadata": {},
   "outputs": [
    {
     "name": "stdout",
     "output_type": "stream",
     "text": [
      "['rh.61']\n",
      "rh.61\n",
      "['rh.58']\n",
      "rh.58\n",
      "['pi.2']\n",
      "pi.2\n",
      "['pi.3', 'pi.1']\n",
      "pi.3\n",
      "pi.1\n",
      "['rh.10']\n",
      "rh.10\n",
      "['bb.1', 'bb.2']\n",
      "bb.1\n",
      "bb.2\n",
      "['hu.17', 'hu.6']\n",
      "hu.17\n",
      "hu.6\n",
      "['rh.2']\n",
      "rh.2\n",
      "['rh.40']\n",
      "rh.40\n",
      "['hu.67']\n",
      "hu.67\n",
      "['hu.37']\n",
      "hu.37\n",
      "['hu.40', 'hu.66']\n",
      "hu.40\n",
      "hu.66\n",
      "['hu.41', 'rh.38', 'hu.42']\n",
      "hu.41\n",
      "rh.38\n",
      "hu.42\n",
      "['cy.3']\n",
      "cy.3\n",
      "['cy.6', 'cy.4']\n",
      "cy.6\n",
      "cy.4\n",
      "['cy.5', 'rh.13']\n",
      "cy.5\n",
      "rh.13\n",
      "['rh.35']\n",
      "rh.35\n",
      "['rh.36', 'rh.37']\n",
      "rh.36\n",
      "rh.37\n",
      "['cy.2']\n",
      "cy.2\n",
      "['rh.54']\n",
      "rh.54\n",
      "['rh.55']\n",
      "rh.55\n",
      "['rh.48', 'rh.62']\n",
      "rh.48\n",
      "rh.62\n",
      "['hu.43']\n",
      "hu.43\n",
      "['hu.48']\n",
      "hu.48\n",
      "['hu.44', 'hu.46']\n",
      "hu.44\n",
      "hu.46\n",
      "['hu.14']\n",
      "hu.14\n",
      "['hu.31', 'hu.32', 'rh.43', 'rh.64']\n",
      "hu.31\n",
      "hu.32\n",
      "rh.43\n",
      "rh.64\n",
      "['rh.57', 'rh.51', 'rh.49', 'rh.53', 'rh.50']\n",
      "rh.57\n",
      "rh.51\n",
      "rh.49\n",
      "rh.53\n",
      "rh.50\n"
     ]
    }
   ],
   "source": [
    "analysis = count_per_cluster(clusters)"
   ]
  },
  {
   "cell_type": "code",
   "execution_count": 208,
   "metadata": {},
   "outputs": [
    {
     "name": "stdout",
     "output_type": "stream",
     "text": [
      "[[547, 685, 571, 414], [548, 683, 571, 415], [520, 677, 608, 391], [519, 679, 608, 390], [1038, 1356, 1216, 782], [563, 673, 565, 416], [560, 674, 569, 414], [1118, 1349, 1138, 829], [559, 666, 575, 417], [1116, 1340, 1147, 831], [560, 667, 568, 422], [577, 651, 561, 428], [583, 656, 557, 421], [585, 660, 555, 417], [584, 659, 556, 418], [1165, 1318, 1115, 836], [585, 659, 555, 418], [1170, 1320, 1110, 834], [1754, 1979, 1667, 1251], [563, 669, 553, 402], [558, 669, 557, 403], [1115, 1340, 1117, 802], [556, 672, 559, 400], [1116, 1342, 1116, 800], [557, 662, 545, 426], [557, 661, 546, 426], [1115, 1323, 1091, 851], [557, 663, 565, 429], [560, 664, 558, 432], [553, 667, 567, 427], [553, 668, 567, 426], [1105, 1338, 1135, 850], [572, 658, 543, 441], [575, 654, 541, 441], [582, 653, 535, 441], [1164, 1312, 1070, 876], [605, 620, 538, 448], [601, 624, 541, 445], [1204, 1247, 1081, 890], [1785, 1922, 1633, 1293], [2336, 2605, 2201, 1708], [546, 685, 573, 413], [1096, 1368, 1143, 827], [1646, 2051, 1713, 1241], [2197, 2733, 2281, 1657], [2745, 3416, 2852, 2072]]\n"
     ]
    }
   ],
   "source": [
    "print(analysis)"
   ]
  },
  {
   "cell_type": "code",
   "execution_count": 209,
   "metadata": {},
   "outputs": [
    {
     "name": "stdout",
     "output_type": "stream",
     "text": [
      "SingleLetterAlphabet() alignment with 48 rows and 2238 columns\n",
      "ATGGCTGCCGATGGTTATCTTCCAGATTGGCTCGAGGACACTCT...TAA hu.31\n",
      "ATGGCTGCCGATGGTTATCTTCCAGATTGGCTCGAGGACACTCT...TAA hu.32\n",
      "ATGGCTGCCGATGGTTATCTTCCAGATTGGCTCGAGGACAACCT...TAA hu.14\n",
      "ATGGCTGCCGATGGTTATCTTCCAGATTGGCTCGAGGACACTCT...TAA hu.44\n",
      "ATGGCTGCCGACGGTTATCTTCCAGATTGGCTCGAGGACACTCT...TAA hu.46\n",
      "ATGGCTGCTGACGGTTATCTTCCAGATTGGCTCGAGGACAACCT...TAA hu.43\n",
      "ATGGCTGCCGATGGTTATCTTCCAGATTGGCTCGAGGACAACCT...TAA hu.48\n",
      "ATGGCTGCTGACGGTTATCTTCCAGATTGGCTCGAGGACAACCT...TAA pi.3\n",
      "ATGGCTGCTGACGGTTATCTTCCAGATTGGCTCGAGGACAACCT...TAA pi.1\n",
      "ATGGCTGCTGACGGTTATCTTCCAGATTGGCTCGAGGACAACCT...TAA pi.2\n",
      "ATGGCTGCCGATGGTTATCTTCCAGATTGGCTCGAGGACAACCT...TAA rh.43\n",
      "ATGGCTGCTGACGGTTATCTTCCAGATTGGCTCGAGGACAACCT...TAA rh.58\n",
      "ATGGCTGCCGATGGTTATCTTCCAGATTGGCTCGAGGACAACCT...TAA rh.57\n",
      "ATGGCTGCCGATGGTTATCTTCCAGATTGGCTCGAGGACAACCT...TAA hu.39\n",
      "ATGGCTGCCGATGGTTATCTTCCAGATTGGCTCGAGGACAACCT...TAA rh.49\n",
      "ATGGTTGCCGATGGTTATCTTCCAGATTGGCTCGAGGACAACCT...TAA rh.51\n",
      "ATGGCTGCCGATGGTTATCTTCCAGATTGGCTCGAGGACAACCT...TAA rh.61\n",
      "ATGGCTGCCGATGGTTATCTTCCAGATTGGCTCGAGGACAACCT...TAA rh.52\n",
      "...\n",
      "ATGGCTGCCGATGGTTATCTTCCAGATTGGCTCGAGGACAACCT...TAA rh.13\n"
     ]
    }
   ],
   "source": [
    "from Bio import AlignIO\n",
    "align = AlignIO.read(\"seqs.aligned.fa\", \"fasta\")\n",
    "print(align)\n"
   ]
  },
  {
   "cell_type": "code",
   "execution_count": 210,
   "metadata": {},
   "outputs": [
    {
     "data": {
      "text/plain": [
       "Bio.Align.MultipleSeqAlignment"
      ]
     },
     "execution_count": 210,
     "metadata": {},
     "output_type": "execute_result"
    }
   ],
   "source": [
    "type(align)"
   ]
  },
  {
   "cell_type": "code",
   "execution_count": 211,
   "metadata": {},
   "outputs": [
    {
     "data": {
      "text/plain": [
       "28"
      ]
     },
     "execution_count": 211,
     "metadata": {},
     "output_type": "execute_result"
    }
   ],
   "source": [
    "len(clusters)"
   ]
  },
  {
   "cell_type": "code",
   "execution_count": 212,
   "metadata": {
    "collapsed": true
   },
   "outputs": [],
   "source": [
    "import numpy as np\n",
    "align_array = np.array([list(rec) for rec in align], np.character)"
   ]
  },
  {
   "cell_type": "code",
   "execution_count": null,
   "metadata": {},
   "outputs": [],
   "source": []
  },
  {
   "cell_type": "code",
   "execution_count": 213,
   "metadata": {
    "collapsed": true
   },
   "outputs": [],
   "source": [
    "align_array = np.array([list(rec) for rec in align], np.character, order=\"F\")"
   ]
  },
  {
   "cell_type": "code",
   "execution_count": 214,
   "metadata": {},
   "outputs": [
    {
     "name": "stdout",
     "output_type": "stream",
     "text": [
      "[[b'A' b'T' b'G' ..., b'T' b'A' b'A']\n",
      " [b'A' b'T' b'G' ..., b'T' b'A' b'A']\n",
      " [b'A' b'T' b'G' ..., b'T' b'A' b'A']\n",
      " ..., \n",
      " [b'A' b'T' b'G' ..., b'T' b'A' b'A']\n",
      " [b'A' b'T' b'G' ..., b'T' b'A' b'A']\n",
      " [b'A' b'T' b'G' ..., b'T' b'A' b'A']]\n"
     ]
    }
   ],
   "source": [
    "print(align_array)"
   ]
  },
  {
   "cell_type": "code",
   "execution_count": 215,
   "metadata": {},
   "outputs": [
    {
     "name": "stdout",
     "output_type": "stream",
     "text": [
      "b'T'\n"
     ]
    }
   ],
   "source": [
    "print(align_array[1][1])"
   ]
  },
  {
   "cell_type": "code",
   "execution_count": 216,
   "metadata": {},
   "outputs": [
    {
     "data": {
      "text/plain": [
       "'T'"
      ]
     },
     "execution_count": 216,
     "metadata": {},
     "output_type": "execute_result"
    }
   ],
   "source": [
    "align_array[1][1].decode('utf-8')"
   ]
  },
  {
   "cell_type": "code",
   "execution_count": 217,
   "metadata": {},
   "outputs": [
    {
     "name": "stdout",
     "output_type": "stream",
     "text": [
      "48\n"
     ]
    }
   ],
   "source": [
    "row = len(align_array)\n",
    "print(row)\n",
    "col = len(align_array[0])-1\n",
    "positional_analysis=[]\n",
    "blanks=\"\"\n",
    "for j in range(col):\n",
    "    for i in range(row):\n",
    "        blanks = blanks + align_array[i][j].decode(\"utf-8\")\n",
    "    positional_analysis.append(blanks)\n",
    "    blanks=\"\"\n",
    "    \n",
    "        \n",
    "    "
   ]
  },
  {
   "cell_type": "code",
   "execution_count": 218,
   "metadata": {
    "collapsed": true
   },
   "outputs": [],
   "source": [
    "def countAorT(sequence_name):\n",
    "    count_A = count(sequence_name, 'A')\n",
    "    count_C = count(sequence_name, 'C')\n",
    "    count_G = count(sequence_name, 'G')\n",
    "    count_T = count(sequence_name, 'T')\n",
    "    return [count_A+count_T,count_G+count_C]\n",
    "def countAorT_percentage(sequence_name):\n",
    "    count_A = count(sequence_name, 'A')\n",
    "    count_C = count(sequence_name, 'C')\n",
    "    count_G = count(sequence_name, 'G')\n",
    "    count_T = count(sequence_name, 'T')\n",
    "    total = count_A+count_C+count_G+count_T\n",
    "    if total==0:\n",
    "        total = total + 1\n",
    "    else:\n",
    "        total = count_A+count_C+count_G+count_T\n",
    "    perA = float((count_A+count_T)/total)\n",
    "    perG = float((count_G+count_C)/total)    \n",
    "    return [perA,perG]\n",
    "a_or_t_analysis = []\n",
    "a_or_t_percentage = []\n",
    "for i in positional_analysis:\n",
    "    a_or_t_analysis.append(countAorT(i))\n",
    "    a_or_t_percentage.append(countAorT_percentage(i))\n",
    "    "
   ]
  },
  {
   "cell_type": "code",
   "execution_count": 219,
   "metadata": {},
   "outputs": [
    {
     "name": "stdout",
     "output_type": "stream",
     "text": [
      "[[1.0, 0.0], [1.0, 0.0], [0.0, 1.0], [0.0, 1.0], [0.020833333333333332, 0.9791666666666666], [1.0, 0.0], [0.0, 1.0], [0.0, 1.0], [0.3333333333333333, 0.6666666666666666], [0.0, 1.0], [1.0, 0.0], [0.6458333333333334, 0.3541666666666667], [0.0, 1.0], [0.0, 1.0], [1.0, 0.0], [1.0, 0.0], [1.0, 0.0], [1.0, 0.0], [0.0, 1.0], [1.0, 0.0], [1.0, 0.0], [0.0, 1.0], [0.0, 1.0], [1.0, 0.0], [0.0, 1.0], [1.0, 0.0], [1.0, 0.0], [1.0, 0.0], [0.0, 1.0], [0.0, 1.0], [0.0, 1.0], [1.0, 0.0], [0.020833333333333332, 0.9791666666666666], [0.0, 1.0], [1.0, 0.0], [0.0, 1.0], [0.0, 1.0], [0.9791666666666666, 0.020833333333333332], [0.0, 1.0], [1.0, 0.0], [0.9166666666666666, 0.08333333333333333], [0.08333333333333333, 0.9166666666666666], [0.0, 1.0], [1.0, 0.0], [0.020833333333333332, 0.9791666666666666], [1.0, 0.0], [0.0, 1.0], [1.0, 0.0], [0.0, 1.0], [1.0, 0.0], [0.10416666666666667, 0.8958333333333334], [0.0, 1.0], [0.0, 1.0], [0.10416666666666667, 0.8958333333333334], [1.0, 0.0], [1.0, 0.0], [1.0, 0.0], [0.08333333333333333, 0.9166666666666666], [0.0, 1.0], [0.08333333333333333, 0.9166666666666666], [0.0, 1.0], [1.0, 0.0], [0.0, 1.0], [1.0, 0.0], [0.0, 1.0], [0.0, 1.0], [1.0, 0.0], [0.0, 1.0], [0.0, 1.0], [0.08333333333333333, 0.9166666666666666], [0.8541666666666666, 0.14583333333333334], [0.020833333333333332, 0.9791666666666666], [0.22916666666666666, 0.7708333333333334], [1.0, 0.0], [0.0, 1.0], [1.0, 0.0], [0.9791666666666666, 0.020833333333333332], [1.0, 0.0], [0.0, 1.0], [0.0, 1.0], [1.0, 0.0], [0.0, 1.0], [0.0, 1.0], [0.9166666666666666, 0.08333333333333333], [0.0, 1.0], [0.0, 1.0], [0.0625, 0.9375], [0.0, 1.0], [0.0, 1.0], [0.10416666666666667, 0.8958333333333334], [0.8333333333333334, 0.16666666666666666], [0.9166666666666666, 0.08333333333333333], [0.6666666666666666, 0.3333333333333333], [0.0, 1.0], [0.0, 1.0], [0.08333333333333333, 0.9166666666666666], [1.0, 0.0], [1.0, 0.0], [0.625, 0.375], [0.0, 1.0], [0.0, 1.0], [0.020833333333333332, 0.9791666666666666], [0.9166666666666666, 0.08333333333333333], [0.9166666666666666, 0.08333333333333333], [0.10416666666666667, 0.8958333333333334], [0.0, 1.0], [1.0, 0.0], [0.020833333333333332, 0.9791666666666666], [0.0, 1.0], [0.9166666666666666, 0.08333333333333333], [0.6458333333333334, 0.3541666666666667], [0.8958333333333334, 0.10416666666666667], [1.0, 0.0], [0.10416666666666667, 0.8958333333333334], [0.08333333333333333, 0.9166666666666666], [1.0, 0.0], [0.020833333333333332, 0.9791666666666666], [0.0, 1.0], [0.9791666666666666, 0.020833333333333332], [0.0, 1.0], [0.041666666666666664, 0.9583333333333334], [1.0, 0.0], [0.0, 1.0], [0.08333333333333333, 0.9166666666666666], [0.0, 1.0], [0.020833333333333332, 0.9791666666666666], [0.08333333333333333, 0.9166666666666666], [0.0, 1.0], [0.020833333333333332, 0.9791666666666666], [0.0, 1.0], [0.0, 1.0], [0.9791666666666666, 0.020833333333333332], [0.0, 1.0], [1.0, 0.0], [0.10416666666666667, 0.8958333333333334], [0.0, 1.0], [1.0, 0.0], [0.0, 1.0], [0.0, 1.0], [1.0, 0.0], [1.0, 0.0], [0.0, 1.0], [0.020833333333333332, 0.9791666666666666], [0.9791666666666666, 0.020833333333333332], [0.0, 1.0], [0.0, 1.0], [0.020833333333333332, 0.9791666666666666], [1.0, 0.0], [0.9791666666666666, 0.020833333333333332], [0.0, 1.0], [1.0, 0.0], [0.9791666666666666, 0.020833333333333332], [0.020833333333333332, 0.9791666666666666], [1.0, 0.0], [1.0, 0.0], [0.0, 1.0], [0.0, 1.0], [1.0, 0.0], [0.020833333333333332, 0.9791666666666666], [0.020833333333333332, 0.9791666666666666], [0.0, 1.0], [1.0, 0.0], [0.0, 1.0], [0.0, 1.0], [0.0, 1.0], [0.9375, 0.0625], [0.9375, 0.0625], [0.0, 1.0], [1.0, 0.0], [1.0, 0.0], [0.0, 1.0], [0.0, 1.0], [0.0, 1.0], [1.0, 0.0], [0.0, 1.0], [1.0, 0.0], [0.0, 1.0], [0.0, 1.0], [1.0, 0.0], [0.0, 1.0], [1.0, 0.0], [1.0, 0.0], [0.0, 1.0], [0.0, 1.0], [0.0, 1.0], [0.14583333333333334, 0.8541666666666666], [0.0, 1.0], [1.0, 0.0], [0.0, 1.0], [0.0, 1.0], [0.0, 1.0], [0.0, 1.0], [0.0, 1.0], [1.0, 0.0], [0.0, 1.0], [1.0, 0.0], [1.0, 0.0], [0.020833333333333332, 0.9791666666666666], [0.0, 1.0], [0.20833333333333334, 0.7916666666666666], [0.0625, 0.9375], [0.0, 1.0], [0.0, 1.0], [0.20833333333333334, 0.7916666666666666], [0.0, 1.0], [1.0, 0.0], [0.0, 1.0], [0.0, 1.0], [0.0, 1.0], [0.7291666666666666, 0.2708333333333333], [0.0, 1.0], [0.0, 1.0], [0.0, 1.0], [0.0, 1.0], [0.0, 1.0], [0.0, 1.0], [0.0, 1.0], [1.0, 0.0], [0.0, 1.0], [0.0, 1.0], [1.0, 0.0], [0.0, 1.0], [0.0, 1.0], [1.0, 0.0], [0.0, 1.0], [0.0, 1.0], [1.0, 0.0], [0.0, 1.0], [1.0, 0.0], [1.0, 0.0], [0.041666666666666664, 0.9583333333333334], [0.0, 1.0], [0.0, 1.0], [0.0, 1.0], [1.0, 0.0], [1.0, 0.0], [0.0, 1.0], [0.0, 1.0], [1.0, 0.0], [0.0, 1.0], [0.10416666666666667, 0.8958333333333334], [0.9583333333333334, 0.041666666666666664], [0.0, 1.0], [0.0, 1.0], [1.0, 0.0], [0.0, 1.0], [0.0, 1.0], [1.0, 0.0], [0.020833333333333332, 0.9791666666666666], [0.8125, 0.1875], [1.0, 0.0], [0.7708333333333334, 0.22916666666666666], [0.041666666666666664, 0.9583333333333334], [0.10416666666666667, 0.8958333333333334], [0.0, 1.0], [0.0, 1.0], [0.0, 1.0], [0.8958333333333334, 0.10416666666666667], [0.0, 1.0], [1.0, 0.0], [0.0, 1.0], [1.0, 0.0], [1.0, 0.0], [0.7708333333333334, 0.22916666666666666], [0.0, 1.0], [0.0, 1.0], [0.0, 1.0], [0.9791666666666666, 0.020833333333333332], [1.0, 0.0], [0.0, 1.0], [0.0, 1.0], [0.9791666666666666, 0.020833333333333332], [0.0, 1.0], [0.20833333333333334, 0.7916666666666666], [0.20833333333333334, 0.7916666666666666], [0.0, 1.0], [1.0, 0.0], [1.0, 0.0], [0.7916666666666666, 0.20833333333333334], [1.0, 0.0], [1.0, 0.0], [0.2916666666666667, 0.7083333333333334], [0.0, 1.0], [1.0, 0.0], [0.0, 1.0], [0.0, 1.0], [0.0, 1.0], [0.0, 1.0], [0.0, 1.0], [1.0, 0.0], [0.0, 1.0], [0.0, 1.0], [0.0, 1.0], [0.020833333333333332, 0.9791666666666666], [0.0, 1.0], [1.0, 0.0], [0.0, 1.0], [0.9791666666666666, 0.020833333333333332], [1.0, 0.0], [0.9166666666666666, 0.08333333333333333], [0.0, 1.0], [1.0, 0.0], [0.0625, 0.9375], [0.0, 1.0], [1.0, 0.0], [0.0, 1.0], [0.0, 1.0], [0.0, 1.0], [0.875, 0.125], [0.0, 1.0], [1.0, 0.0], [0.1875, 0.8125], [0.10416666666666667, 0.8958333333333334], [1.0, 0.0], [1.0, 0.0], [0.0, 1.0], [1.0, 0.0], [1.0, 0.0], [0.0, 1.0], [1.0, 0.0], [1.0, 0.0], [1.0, 0.0], [0.0, 1.0], [0.0, 1.0], [0.9791666666666666, 0.020833333333333332], [0.0, 1.0], [0.9375, 0.0625], [1.0, 0.0], [1.0, 0.0], [1.0, 0.0], [0.0, 1.0], [0.0, 1.0], [0.0, 1.0], [0.0, 1.0], [0.0, 1.0], [0.0, 1.0], [1.0, 0.0], [1.0, 0.0], [0.0, 1.0], [0.0, 1.0], [1.0, 0.0], [0.0, 1.0], [0.0, 1.0], [0.0, 1.0], [0.020833333333333332, 0.9791666666666666], [0.0, 1.0], [0.0, 1.0], [0.9791666666666666, 0.020833333333333332], [0.0, 1.0], [0.0, 1.0], [1.0, 0.0], [0.0, 1.0], [1.0, 0.0], [0.0, 1.0], [1.0, 0.0], [1.0, 0.0], [0.0, 1.0], [0.0, 1.0], [1.0, 0.0], [0.0, 1.0], [0.0, 1.0], [0.0, 1.0], [0.0, 1.0], [1.0, 0.0], [1.0, 0.0], [0.125, 0.875], [1.0, 0.0], [1.0, 0.0], [0.0, 1.0], [0.125, 0.875], [0.0, 1.0], [0.0, 1.0], [0.0, 1.0], [1.0, 0.0], [1.0, 0.0], [0.0, 1.0], [1.0, 0.0], [0.0625, 0.9375], [0.0, 1.0], [1.0, 0.0], [0.9375, 0.0625], [0.0, 1.0], [0.0, 1.0], [1.0, 0.0], [0.0, 1.0], [1.0, 0.0], [0.0625, 0.9375], [0.0, 1.0], [0.0, 1.0], [1.0, 0.0], [0.0, 1.0], [0.9791666666666666, 0.020833333333333332], [0.0, 1.0], [0.0, 1.0], [0.9791666666666666, 0.020833333333333332], [1.0, 0.0], [0.0, 1.0], [1.0, 0.0], [0.0, 1.0], [0.0, 1.0], [1.0, 0.0], [1.0, 0.0], [0.0, 1.0], [0.020833333333333332, 0.9791666666666666], [0.25, 0.75], [0.0, 1.0], [0.0, 1.0], [1.0, 0.0], [0.9791666666666666, 0.020833333333333332], [1.0, 0.0], [0.0, 1.0], [1.0, 0.0], [0.0, 1.0], [0.0, 1.0], [0.0, 1.0], [0.0, 1.0], [1.0, 0.0], [0.020833333333333332, 0.9791666666666666], [0.0, 1.0], [0.9791666666666666, 0.020833333333333332], [0.0, 1.0], [0.0, 1.0], [1.0, 0.0], [1.0, 0.0], [1.0, 0.0], [0.0, 1.0], [1.0, 0.0], [1.0, 0.0], [0.0625, 0.9375], [0.875, 0.125], [0.0, 1.0], [0.875, 0.125], [0.0, 1.0], [0.0, 1.0], [0.14583333333333334, 0.8541666666666666], [0.16666666666666666, 0.8333333333333334], [1.0, 0.0], [1.0, 0.0], [0.0, 1.0], [1.0, 0.0], [0.44680851063829785, 0.5531914893617021], [0.0, 1.0], [0.175, 0.825], [0.15, 0.85], [0.972972972972973, 0.02702702702702703], [0.0, 1.0], [0.918918918918919, 0.08108108108108109], [0.0, 1.0], [0.0, 1.0], [0.8378378378378378, 0.16216216216216217], [0.0, 1.0], [1.0, 0.0], [0.10810810810810811, 0.8918918918918919], [0.0, 1.0], [0.15789473684210525, 0.8421052631578947], [0.967741935483871, 0.03225806451612903], [1.0, 0.0], [0.0, 1.0], [0.26666666666666666, 0.7333333333333333], [0.0, 1.0], [0.0, 1.0], [0.26666666666666666, 0.7333333333333333], [0.0, 1.0], [1.0, 0.0], [0.0, 1.0], [1.0, 0.0], [0.0, 1.0], [0.0, 1.0], [0.9791666666666666, 0.020833333333333332], [0.0, 1.0], [0.10416666666666667, 0.8958333333333334], [0.9166666666666666, 0.08333333333333333], [0.0, 1.0], [0.0, 1.0], [0.0, 1.0], [0.0, 1.0], [0.0625, 0.9375], [1.0, 0.0], [1.0, 0.0], [0.0625, 0.9375], [0.0, 1.0], [0.0, 1.0], [0.0, 1.0], [1.0, 0.0], [1.0, 0.0], [0.125, 0.875], [1.0, 0.0], [0.7708333333333334, 0.22916666666666666], [0.8958333333333334, 0.10416666666666667], [0.0, 1.0], [0.0, 1.0], [0.0625, 0.9375], [0.041666666666666664, 0.9583333333333334], [0.9166666666666666, 0.08333333333333333], [0.08333333333333333, 0.9166666666666666], [0.0, 1.0], [0.9583333333333334, 0.041666666666666664], [0.0, 1.0], [0.0, 1.0], [0.0, 1.0], [0.0, 1.0], [0.0, 1.0], [0.0, 1.0], [0.5625, 0.4375], [0.9791666666666666, 0.020833333333333332], [0.6458333333333334, 0.3541666666666667], [1.0, 0.0], [1.0, 0.0], [1.0, 0.0], [0.020833333333333332, 0.9791666666666666], [1.0, 0.0], [0.20833333333333334, 0.7916666666666666], [0.8333333333333334, 0.16666666666666666], [0.0, 1.0], [1.0, 0.0], [0.0, 1.0], [1.0, 0.0], [0.9791666666666666, 0.020833333333333332], [0.5, 0.5], [1.0, 0.0], [1.0, 0.0], [0.7083333333333334, 0.2916666666666667], [0.0, 1.0], [0.0, 1.0], [0.5833333333333334, 0.4166666666666667], [0.0, 1.0], [0.9583333333333334, 0.041666666666666664], [0.0, 1.0], [1.0, 0.0], [0.0, 1.0], [1.0, 0.0], [0.0, 1.0], [0.0, 1.0], [0.0, 1.0], [0.0, 1.0], [1.0, 0.0], [0.0, 1.0], [1.0, 0.0], [0.0, 1.0], [0.9791666666666666, 0.020833333333333332], [0.0, 1.0], [1.0, 0.0], [0.0, 1.0], [1.0, 0.0], [0.0, 1.0], [1.0, 0.0], [0.0, 1.0], [1.0, 0.0], [0.020833333333333332, 0.9791666666666666], [0.0, 1.0], [0.0, 1.0], [0.10416666666666667, 0.8958333333333334], [0.0, 1.0], [1.0, 0.0], [0.0625, 0.9375], [0.0, 1.0], [0.0, 1.0], [0.8333333333333334, 0.16666666666666666], [0.0, 1.0], [1.0, 0.0], [1.0, 0.0], [0.0, 1.0], [0.020833333333333332, 0.9791666666666666], [1.0, 0.0], [0.6458333333333334, 0.3541666666666667], [1.0, 0.0], [0.0625, 0.9375], [0.0625, 0.9375], [0.0, 1.0], [1.0, 0.0], [0.0, 1.0], [1.0, 0.0], [0.9791666666666666, 0.020833333333333332], [0.0, 1.0], [0.0, 1.0], [0.8958333333333334, 0.10416666666666667], [0.0, 1.0], [0.0, 1.0], [0.6875, 0.3125], [0.0, 1.0], [0.0, 1.0], [0.8958333333333334, 0.10416666666666667], [0.0625, 0.9375], [0.0, 1.0], [0.0625, 0.9375], [0.0, 1.0], [0.0, 1.0], [0.0, 1.0], [0.9375, 0.0625], [0.0, 1.0], [1.0, 0.0], [0.3125, 0.6875], [0.0, 1.0], [1.0, 0.0], [0.0, 1.0], [1.0, 0.0], [0.0, 1.0], [0.0, 1.0], [0.0, 1.0], [1.0, 0.0], [0.9166666666666666, 0.08333333333333333], [0.0, 1.0], [1.0, 0.0], [0.08333333333333333, 0.9166666666666666], [0.08333333333333333, 0.9166666666666666], [1.0, 0.0], [1.0, 0.0], [0.0, 1.0], [1.0, 0.0], [0.9791666666666666, 0.020833333333333332], [1.0, 0.0], [0.0, 1.0], [0.0, 1.0], [0.0, 1.0], [0.9791666666666666, 0.020833333333333332], [0.125, 0.875], [0.0, 1.0], [1.0, 0.0], [0.0, 1.0], [0.0, 1.0], [0.0625, 0.9375], [0.0, 1.0], [0.0, 1.0], [1.0, 0.0], [0.0, 1.0], [0.0, 1.0], [0.0, 1.0], [0.0, 1.0], [0.0, 1.0], [0.9583333333333334, 0.041666666666666664], [0.0, 1.0], [0.0, 1.0], [1.0, 0.0], [0.9375, 0.0625], [0.9791666666666666, 0.020833333333333332], [0.0, 1.0], [0.0, 1.0], [0.0, 1.0], [1.0, 0.0], [0.0, 1.0], [1.0, 0.0], [0.0, 1.0], [1.0, 0.0], [1.0, 0.0], [1.0, 0.0], [1.0, 0.0], [1.0, 0.0], [0.0, 1.0], [0.041666666666666664, 0.9583333333333334], [1.0, 0.0], [0.9583333333333334, 0.041666666666666664], [0.0, 1.0], [0.0, 1.0], [0.375, 0.625], [0.0, 1.0], [0.0, 1.0], [0.0, 1.0], [0.0, 1.0], [1.0, 0.0], [0.0625, 0.9375], [0.0, 1.0], [0.0, 1.0], [1.0, 0.0], [0.0, 1.0], [1.0, 0.0], [0.0, 1.0], [0.0, 1.0], [0.0, 1.0], [1.0, 0.0], [1.0, 0.0], [0.3958333333333333, 0.6041666666666666], [1.0, 0.0], [0.6041666666666666, 0.3958333333333333], [0.041666666666666664, 0.9583333333333334], [0.0, 1.0], [1.0, 0.0], [0.0, 1.0], [0.5833333333333334, 0.4166666666666667], [0.0, 1.0], [0.0, 1.0], [1.0, 0.0], [1.0, 0.0], [1.0, 0.0], [1.0, 0.0], [1.0, 0.0], [0.0, 1.0], [0.0, 1.0], [0.0, 1.0], [1.0, 0.0], [0.9791666666666666, 0.020833333333333332], [1.0, 0.0], [0.0, 1.0], [0.0, 1.0], [0.0, 1.0], [1.0, 0.0], [1.0, 0.0], [1.0, 0.0], [0.0, 1.0], [0.0, 1.0], [0.9166666666666666, 0.08333333333333333], [0.0625, 0.9375], [1.0, 0.0], [0.9791666666666666, 0.020833333333333332], [0.0, 1.0], [0.0, 1.0], [0.0, 1.0], [1.0, 0.0], [0.0, 1.0], [0.0, 1.0], [0.0, 1.0], [0.0, 1.0], [0.0, 1.0], [1.0, 0.0], [0.0, 1.0], [0.9166666666666666, 0.08333333333333333], [0.0, 1.0], [1.0, 0.0], [0.0, 1.0], [1.0, 0.0], [0.020833333333333332, 0.9791666666666666], [1.0, 0.0], [1.0, 0.0], [0.020833333333333332, 0.9791666666666666], [1.0, 0.0], [0.0, 1.0], [0.0, 1.0], [1.0, 0.0], [0.0, 1.0], [0.0, 1.0], [1.0, 0.0], [0.0, 1.0], [0.0, 1.0], [1.0, 0.0], [0.0, 1.0], [0.0625, 0.9375], [0.0625, 0.9375], [0.0, 1.0], [0.7291666666666666, 0.2708333333333333], [0.9791666666666666, 0.020833333333333332], [0.0, 1.0], [0.0, 1.0], [1.0, 0.0], [0.0, 1.0], [0.0, 1.0], [0.0, 1.0], [0.0, 1.0], [0.08333333333333333, 0.9166666666666666], [0.16666666666666666, 0.8333333333333334], [1.0, 0.0], [0.0, 1.0], [0.0, 1.0], [0.0, 1.0], [0.0, 1.0], [1.0, 0.0], [0.0, 1.0], [0.0, 1.0], [1.0, 0.0], [1.0, 0.0], [0.0, 1.0], [1.0, 0.0], [1.0, 0.0], [0.08333333333333333, 0.9166666666666666], [1.0, 0.0], [1.0, 0.0], [0.0625, 0.9375], [0.0, 1.0], [1.0, 0.0], [0.020833333333333332, 0.9791666666666666], [0.0, 1.0], [1.0, 0.0], [0.0, 1.0], [1.0, 0.0], [1.0, 0.0], [0.0, 1.0], [0.9791666666666666, 0.020833333333333332], [1.0, 0.0], [0.0, 1.0], [0.0, 1.0], [1.0, 0.0], [0.8958333333333334, 0.10416666666666667], [1.0, 0.0], [0.9791666666666666, 0.020833333333333332], [0.2708333333333333, 0.7291666666666666], [1.0, 0.0], [0.0, 1.0], [0.10416666666666667, 0.8958333333333334], [1.0, 0.0], [0.6458333333333334, 0.3541666666666667], [0.4583333333333333, 0.5416666666666666], [0.1276595744680851, 0.8723404255319149], [0.22727272727272727, 0.7727272727272727], [0.022727272727272728, 0.9772727272727273], [1.0, 0.0], [0.0, 1.0], [0.5897435897435898, 0.41025641025641024], [0.9767441860465116, 0.023255813953488372], [0.0, 1.0], [0.28205128205128205, 0.717948717948718], [0.10256410256410256, 0.8974358974358975], [0.0, 1.0], [0.8125, 0.1875], [0.0, 1.0], [0.0, 1.0], [0.5416666666666666, 0.4583333333333333], [0.7291666666666666, 0.2708333333333333], [0.0, 1.0], [0.1875, 0.8125], [1.0, 0.0], [0.0, 1.0], [0.08333333333333333, 0.9166666666666666], [1.0, 0.0], [1.0, 0.0], [0.125, 0.875], [0.0, 1.0], [1.0, 0.0], [0.0, 1.0], [1.0, 0.0], [1.0, 0.0], [0.0, 1.0], [0.6041666666666666, 0.3958333333333333], [0.3333333333333333, 0.6666666666666666], [0.0, 1.0], [1.0, 0.0], [1.0, 0.0], [0.0, 1.0], [1.0, 0.0], [1.0, 0.0], [0.2916666666666667, 0.7083333333333334], [0.020833333333333332, 0.9791666666666666], [0.0, 1.0], [0.0, 1.0], [1.0, 0.0], [1.0, 0.0], [0.0, 1.0], [0.9791666666666666, 0.020833333333333332], [0.0, 1.0], [0.0, 1.0], [1.0, 0.0], [0.0, 1.0], [0.0, 1.0], [0.0, 1.0], [0.0, 1.0], [0.0, 1.0], [1.0, 0.0], [0.0, 1.0], [0.0, 1.0], [0.0, 1.0], [0.0, 1.0], [0.0, 1.0], [1.0, 0.0], [1.0, 0.0], [1.0, 0.0], [0.9791666666666666, 0.020833333333333332], [1.0, 0.0], [1.0, 0.0], [0.0, 1.0], [1.0, 0.0], [0.08333333333333333, 0.9166666666666666], [1.0, 0.0], [1.0, 0.0], [0.4791666666666667, 0.5208333333333334], [1.0, 0.0], [1.0, 0.0], [0.0, 1.0], [1.0, 0.0], [0.0, 1.0], [1.0, 0.0], [1.0, 0.0], [1.0, 0.0], [0.0, 1.0], [0.0, 1.0], [1.0, 0.0], [0.0, 1.0], [1.0, 0.0], [0.0, 1.0], [0.08333333333333333, 0.9166666666666666], [0.0, 1.0], [1.0, 0.0], [0.0, 1.0], [1.0, 0.0], [1.0, 0.0], [0.16666666666666666, 0.8333333333333334], [1.0, 0.0], [0.0, 1.0], [1.0, 0.0], [0.0, 1.0], [0.0, 1.0], [1.0, 0.0], [0.0, 1.0], [0.0, 1.0], [0.9791666666666666, 0.020833333333333332], [0.0, 1.0], [1.0, 0.0], [0.0, 1.0], [1.0, 0.0], [0.0, 1.0], [0.0, 1.0], [0.0, 1.0], [1.0, 0.0], [0.0, 1.0], [0.0, 1.0], [0.0, 1.0], [0.9375, 0.0625], [0.0, 1.0], [0.9791666666666666, 0.020833333333333332], [0.0, 1.0], [1.0, 0.0], [1.0, 0.0], [0.0, 1.0], [1.0, 0.0], [1.0, 0.0], [0.0, 1.0], [1.0, 0.0], [0.9791666666666666, 0.020833333333333332], [0.020833333333333332, 0.9791666666666666], [1.0, 0.0], [1.0, 0.0], [0.08333333333333333, 0.9166666666666666], [1.0, 0.0], [0.0, 1.0], [0.0, 1.0], [0.0, 1.0], [0.0, 1.0], [0.9791666666666666, 0.020833333333333332], [1.0, 0.0], [1.0, 0.0], [0.0, 1.0], [0.0, 1.0], [0.0, 1.0], [0.0, 1.0], [0.0, 1.0], [0.0, 1.0], [0.22916666666666666, 0.7708333333333334], [1.0, 0.0], [0.8958333333333334, 0.10416666666666667], [0.2708333333333333, 0.7291666666666666], [0.9375, 0.0625], [0.3125, 0.6875], [0.6458333333333334, 0.3541666666666667], [0.0, 1.0], [1.0, 0.0], [0.0, 1.0], [0.8125, 0.1875], [0.4166666666666667, 0.5833333333333334], [0.0, 1.0], [1.0, 0.0], [1.0, 0.0], [0.0, 1.0], [1.0, 0.0], [1.0, 0.0], [0.08333333333333333, 0.9166666666666666], [0.10416666666666667, 0.8958333333333334], [0.9791666666666666, 0.020833333333333332], [0.0, 1.0], [0.9791666666666666, 0.020833333333333332], [1.0, 0.0], [0.0, 1.0], [1.0, 0.0], [1.0, 0.0], [0.0, 1.0], [1.0, 0.0], [1.0, 0.0], [0.0625, 0.9375], [0.0, 1.0], [1.0, 0.0], [0.10416666666666667, 0.8958333333333334], [0.0, 1.0], [1.0, 0.0], [0.0, 1.0], [0.9791666666666666, 0.020833333333333332], [1.0, 0.0], [0.2708333333333333, 0.7291666666666666], [0.0, 1.0], [1.0, 0.0], [0.0, 1.0], [0.0, 1.0], [1.0, 0.0], [0.0625, 0.9375], [1.0, 0.0], [0.0, 1.0], [0.125, 0.875], [0.3541666666666667, 0.6458333333333334], [0.6458333333333334, 0.3541666666666667], [0.0, 1.0], [0.9583333333333334, 0.041666666666666664], [0.9791666666666666, 0.020833333333333332], [0.8333333333333334, 0.16666666666666666], [0.0625, 0.9375], [1.0, 0.0], [0.7291666666666666, 0.2708333333333333], [0.0, 1.0], [0.0, 1.0], [0.0625, 0.9375], [0.5833333333333334, 0.4166666666666667], [0.4166666666666667, 0.5833333333333334], [0.125, 0.875], [0.9791666666666666, 0.020833333333333332], [0.6458333333333334, 0.3541666666666667], [0.08333333333333333, 0.9166666666666666], [1.0, 0.0], [0.0, 1.0], [0.0, 1.0], [0.9791666666666666, 0.020833333333333332], [0.9791666666666666, 0.020833333333333332], [0.0, 1.0], [0.0, 1.0], [0.0, 1.0], [0.2916666666666667, 0.7083333333333334], [1.0, 0.0], [1.0, 0.0], [1.0, 0.0], [1.0, 0.0], [0.9791666666666666, 0.020833333333333332], [0.0, 1.0], [0.0, 1.0], [1.0, 0.0], [0.7083333333333334, 0.2916666666666667], [0.9791666666666666, 0.020833333333333332], [0.0, 1.0], [0.0, 1.0], [1.0, 0.0], [0.0, 1.0], [0.0, 1.0], [1.0, 0.0], [0.0, 1.0], [0.0, 1.0], [0.6458333333333334, 0.3541666666666667], [1.0, 0.0], [0.6458333333333334, 0.3541666666666667], [0.0, 1.0], [1.0, 0.0], [0.08333333333333333, 0.9166666666666666], [0.0, 1.0], [1.0, 0.0], [0.1875, 0.8125], [1.0, 0.0], [1.0, 0.0], [0.6666666666666666, 0.3333333333333333], [1.0, 0.0], [0.0, 1.0], [0.0, 1.0], [0.0, 1.0], [1.0, 0.0], [0.0, 1.0], [1.0, 0.0], [0.0, 1.0], [0.0625, 0.9375], [0.020833333333333332, 0.9791666666666666], [1.0, 0.0], [0.625, 0.375], [1.0, 0.0], [1.0, 0.0], [0.0625, 0.9375], [0.0, 1.0], [1.0, 0.0], [0.10416666666666667, 0.8958333333333334], [0.0, 1.0], [0.9791666666666666, 0.020833333333333332], [0.08333333333333333, 0.9166666666666666], [0.0, 1.0], [0.0, 1.0], [0.0, 1.0], [1.0, 0.0], [1.0, 0.0], [0.0, 1.0], [0.0, 1.0], [1.0, 0.0], [0.020833333333333332, 0.9791666666666666], [0.0, 1.0], [0.9791666666666666, 0.020833333333333332], [0.0, 1.0], [0.0, 1.0], [0.0, 1.0], [0.0, 1.0], [1.0, 0.0], [0.0, 1.0], [0.7083333333333334, 0.2916666666666667], [0.0, 1.0], [0.0, 1.0], [0.125, 0.875], [0.0, 1.0], [0.9791666666666666, 0.020833333333333332], [0.0, 1.0], [0.0, 1.0], [1.0, 0.0], [0.0, 1.0], [0.0, 1.0], [0.0, 1.0], [0.0, 1.0], [0.9791666666666666, 0.020833333333333332], [0.0, 1.0], [0.0, 1.0], [0.0, 1.0], [0.9583333333333334, 0.041666666666666664], [0.0, 1.0], [0.0, 1.0], [0.0, 1.0], [0.9375, 0.0625], [0.0, 1.0], [0.0, 1.0], [0.0, 1.0], [1.0, 0.0], [1.0, 0.0], [0.0, 1.0], [0.0, 1.0], [0.0, 1.0], [0.16666666666666666, 0.8333333333333334], [0.0, 1.0], [0.0, 1.0], [0.0, 1.0], [0.0, 1.0], [1.0, 0.0], [0.0, 1.0], [0.0, 1.0], [1.0, 0.0], [0.0625, 0.9375], [1.0, 0.0], [1.0, 0.0], [0.0, 1.0], [1.0, 0.0], [1.0, 0.0], [0.0, 1.0], [1.0, 0.0], [1.0, 0.0], [1.0, 0.0], [0.0, 1.0], [0.0, 1.0], [0.6041666666666666, 0.3958333333333333], [0.0, 1.0], [1.0, 0.0], [0.08333333333333333, 0.9166666666666666], [1.0, 0.0], [1.0, 0.0], [0.0, 1.0], [0.0, 1.0], [0.0, 1.0], [0.10416666666666667, 0.8958333333333334], [1.0, 0.0], [1.0, 0.0], [0.1875, 0.8125], [0.0, 1.0], [1.0, 0.0], [0.1875, 0.8125], [1.0, 0.0], [0.0, 1.0], [0.7708333333333334, 0.22916666666666666], [0.0, 1.0], [0.9791666666666666, 0.020833333333333332], [0.1875, 0.8125], [0.9791666666666666, 0.020833333333333332], [1.0, 0.0], [0.0625, 0.9375], [0.9375, 0.0625], [1.0, 0.0], [0.5, 0.5], [0.0, 1.0], [0.020833333333333332, 0.9791666666666666], [0.4375, 0.5625], [0.9791666666666666, 0.020833333333333332], [0.0, 1.0], [0.6458333333333334, 0.3541666666666667], [0.0, 1.0], [1.0, 0.0], [0.3958333333333333, 0.6041666666666666], [0.2708333333333333, 0.7291666666666666], [0.0, 1.0], [0.14583333333333334, 0.8541666666666666], [0.020833333333333332, 0.9791666666666666], [1.0, 0.0], [0.16666666666666666, 0.8333333333333334], [0.0, 1.0], [0.0, 1.0], [0.5833333333333334, 0.4166666666666667], [0.0, 1.0], [0.0, 1.0], [0.9791666666666666, 0.020833333333333332], [1.0, 0.0], [0.0, 1.0], [0.10416666666666667, 0.8958333333333334], [1.0, 0.0], [0.0, 1.0], [0.0625, 0.9375], [1.0, 0.0], [0.9791666666666666, 0.020833333333333332], [0.14583333333333334, 0.8541666666666666], [1.0, 0.0], [0.9791666666666666, 0.020833333333333332], [0.0, 1.0], [1.0, 0.0], [0.0, 1.0], [0.0, 1.0], [0.0, 1.0], [1.0, 0.0], [0.0, 1.0], [0.0, 1.0], [1.0, 0.0], [0.5, 0.5], [1.0, 0.0], [1.0, 0.0], [0.4375, 0.5625], [1.0, 0.0], [1.0, 0.0], [0.4583333333333333, 0.5416666666666666], [0.0, 1.0], [0.0, 1.0], [0.5833333333333334, 0.4166666666666667], [1.0, 0.0], [0.0, 1.0], [0.8541666666666666, 0.14583333333333334], [0.0, 1.0], [1.0, 0.0], [0.4791666666666667, 0.5208333333333334], [0.9791666666666666, 0.020833333333333332], [1.0, 0.0], [0.0, 1.0], [0.0, 1.0], [0.9583333333333334, 0.041666666666666664], [0.0625, 0.9375], [0.8333333333333334, 0.16666666666666666], [0.0, 1.0], [0.9791666666666666, 0.020833333333333332], [1.0, 0.0], [0.0, 1.0], [0.16666666666666666, 0.8333333333333334], [0.0, 1.0], [0.0, 1.0], [0.25, 0.75], [0.9791666666666666, 0.020833333333333332], [1.0, 0.0], [0.10416666666666667, 0.8958333333333334], [1.0, 0.0], [1.0, 0.0], [0.16666666666666666, 0.8333333333333334], [1.0, 0.0], [0.9791666666666666, 0.020833333333333332], [0.8333333333333334, 0.16666666666666666], [0.4375, 0.5625], [0.5625, 0.4375], [0.2916666666666667, 0.7083333333333334], [1.0, 0.0], [1.0, 0.0], [0.020833333333333332, 0.9791666666666666], [1.0, 0.0], [0.0, 1.0], [0.10416666666666667, 0.8958333333333334], [1.0, 0.0], [1.0, 0.0], [0.0, 1.0], [0.8125, 0.1875], [0.16666666666666666, 0.8333333333333334], [0.20833333333333334, 0.7916666666666666], [1.0, 0.0], [1.0, 0.0], [0.3541666666666667, 0.6458333333333334], [0.0, 1.0], [1.0, 0.0], [0.0, 1.0], [0.0625, 0.9375], [1.0, 0.0], [0.1875, 0.8125], [0.0, 1.0], [1.0, 0.0], [0.125, 0.875], [0.0, 1.0], [0.0, 1.0], [0.875, 0.125], [0.9583333333333334, 0.041666666666666664], [1.0, 0.0], [0.10416666666666667, 0.8958333333333334], [0.0, 1.0], [1.0, 0.0], [0.0625, 0.9375], [1.0, 0.0], [0.0, 1.0], [0.0, 1.0], [0.9791666666666666, 0.020833333333333332], [0.0, 1.0], [0.0, 1.0], [1.0, 0.0], [0.9583333333333334, 0.041666666666666664], [0.10416666666666667, 0.8958333333333334], [0.0, 1.0], [0.041666666666666664, 0.9583333333333334], [0.3125, 0.6875], [0.0, 1.0], [1.0, 0.0], [0.041666666666666664, 0.9583333333333334], [1.0, 0.0], [0.0, 1.0], [0.0, 1.0], [0.0, 1.0], [1.0, 0.0], [0.16666666666666666, 0.8333333333333334], [1.0, 0.0], [0.0, 1.0], [0.20833333333333334, 0.7916666666666666], [0.3958333333333333, 0.6041666666666666], [0.9791666666666666, 0.020833333333333332], [0.10416666666666667, 0.8958333333333334], [0.0, 1.0], [1.0, 0.0], [0.0, 1.0], [0.20833333333333334, 0.7916666666666666], [0.0, 1.0], [0.22916666666666666, 0.7708333333333334], [0.0, 1.0], [1.0, 0.0], [0.0625, 0.9375], [1.0, 0.0], [1.0, 0.0], [0.0, 1.0], [1.0, 0.0], [1.0, 0.0], [0.75, 0.25], [0.0, 1.0], [0.0, 1.0], [0.6875, 0.3125], [0.0, 1.0], [1.0, 0.0], [0.0625, 0.9375], [0.9791666666666666, 0.020833333333333332], [1.0, 0.0], [0.08333333333333333, 0.9166666666666666], [0.0, 1.0], [1.0, 0.0], [0.0, 1.0], [0.0, 1.0], [1.0, 0.0], [0.14583333333333334, 0.8541666666666666], [1.0, 0.0], [1.0, 0.0], [0.0, 1.0], [0.08333333333333333, 0.9166666666666666], [1.0, 0.0], [0.0, 1.0], [0.9791666666666666, 0.020833333333333332], [1.0, 0.0], [0.1875, 0.8125], [1.0, 0.0], [1.0, 0.0], [0.0625, 0.9375], [0.20833333333333334, 0.7916666666666666], [0.9791666666666666, 0.020833333333333332], [0.1875, 0.8125], [0.7291666666666666, 0.2708333333333333], [0.08333333333333333, 0.9166666666666666], [0.4791666666666667, 0.5208333333333334], [0.6458333333333334, 0.3541666666666667], [0.0625, 0.9375], [0.5833333333333334, 0.4166666666666667], [1.0, 0.0], [0.0, 1.0], [0.625, 0.375], [1.0, 0.0], [1.0, 0.0], [1.0, 0.0], [1.0, 0.0], [1.0, 0.0], [0.0, 1.0], [0.9166666666666666, 0.08333333333333333], [0.10416666666666667, 0.8958333333333334], [1.0, 0.0], [0.35, 0.65], [0.3, 0.7], [0.8333333333333334, 0.16666666666666666], [0.1875, 0.8125], [0.3958333333333333, 0.6041666666666666], [0.8958333333333334, 0.10416666666666667], [0.0, 1.0], [0.375, 0.625], [0.0, 1.0], [0.0625, 0.9375], [0.8888888888888888, 0.1111111111111111], [0.3333333333333333, 0.6666666666666666], [0.0, 1.0], [0.4666666666666667, 0.5333333333333333], [0.9166666666666666, 0.08333333333333333], [0.0, 1.0], [0.6444444444444445, 0.35555555555555557], [0.26666666666666666, 0.7333333333333333], [0.43243243243243246, 0.5675675675675675], [0.7297297297297297, 0.2702702702702703], [0.13513513513513514, 0.8648648648648649], [0.13513513513513514, 0.8648648648648649], [0.6756756756756757, 0.32432432432432434], [1.0, 0.0], [0.15151515151515152, 0.8484848484848485], [0.3333333333333333, 0.6666666666666666], [0.0, 1.0], [0.7083333333333334, 0.2916666666666667], [0.0625, 0.9375], [0.14583333333333334, 0.8541666666666666], [0.8541666666666666, 0.14583333333333334], [0.4375, 0.5625], [0.5625, 0.4375], [1.0, 0.0], [0.0625, 0.9375], [0.3125, 0.6875], [0.9791666666666666, 0.020833333333333332], [0.4166666666666667, 0.5833333333333334], [1.0, 0.0], [0.9791666666666666, 0.020833333333333332], [0.7708333333333334, 0.22916666666666666], [0.7708333333333334, 0.22916666666666666], [0.2708333333333333, 0.7291666666666666], [0.8333333333333334, 0.16666666666666666], [0.0, 1.0], [0.8958333333333334, 0.10416666666666667], [0.3541666666666667, 0.6458333333333334], [0.0, 1.0], [0.0, 1.0], [0.3541666666666667, 0.6458333333333334], [0.08333333333333333, 0.9166666666666666], [0.0, 1.0], [0.14583333333333334, 0.8541666666666666], [0.0, 1.0], [0.0, 1.0], [0.75, 0.25], [0.6666666666666666, 0.3333333333333333], [0.3541666666666667, 0.6458333333333334], [0.4791666666666667, 0.5208333333333334], [0.9166666666666666, 0.08333333333333333], [0.625, 0.375], [0.10416666666666667, 0.8958333333333334], [0.9791666666666666, 0.020833333333333332], [1.0, 0.0], [0.0, 1.0], [0.6458333333333334, 0.3541666666666667], [0.0, 1.0], [0.14583333333333334, 0.8541666666666666], [0.020833333333333332, 0.9791666666666666], [0.4375, 0.5625], [0.7708333333333334, 0.22916666666666666], [0.0, 1.0], [0.9791666666666666, 0.020833333333333332], [0.20833333333333334, 0.7916666666666666], [0.16666666666666666, 0.8333333333333334], [0.0, 1.0], [0.4166666666666667, 0.5833333333333334], [1.0, 0.0], [0.7291666666666666, 0.2708333333333333], [0.5208333333333334, 0.4791666666666667], [1.0, 0.0], [1.0, 0.0], [0.020833333333333332, 0.9791666666666666], [1.0, 0.0], [0.0625, 0.9375], [0.0, 1.0], [0.10416666666666667, 0.8958333333333334], [1.0, 0.0], [0.4791666666666667, 0.5208333333333334], [0.0, 1.0], [0.0, 1.0], [0.7916666666666666, 0.20833333333333334], [0.0, 1.0], [0.0, 1.0], [0.8958333333333334, 0.10416666666666667], [0.0, 1.0], [0.0, 1.0], [0.3125, 0.6875], [1.0, 0.0], [0.0, 1.0], [0.22916666666666666, 0.7708333333333334], [1.0, 0.0], [1.0, 0.0], [0.3125, 0.6875], [0.2708333333333333, 0.7291666666666666], [0.0, 1.0], [0.2916666666666667, 0.7083333333333334], [0.0, 1.0], [1.0, 0.0], [0.25, 0.75], [0.0, 1.0], [0.9791666666666666, 0.020833333333333332], [0.3125, 0.6875], [0.25, 0.75], [0.0, 1.0], [0.5, 0.5], [0.0, 1.0], [1.0, 0.0], [0.125, 0.875], [1.0, 0.0], [0.0, 1.0], [0.5625, 0.4375], [1.0, 0.0], [0.3541666666666667, 0.6458333333333334], [0.22916666666666666, 0.7708333333333334], [0.9791666666666666, 0.020833333333333332], [0.16666666666666666, 0.8333333333333334], [0.75, 0.25], [0.2708333333333333, 0.7291666666666666], [0.9791666666666666, 0.020833333333333332], [0.1875, 0.8125], [0.7083333333333334, 0.2916666666666667], [0.2708333333333333, 0.7291666666666666], [0.25, 0.75], [0.16666666666666666, 0.8333333333333334], [0.8958333333333334, 0.10416666666666667], [0.8125, 0.1875], [1.0, 0.0], [0.9791666666666666, 0.020833333333333332], [0.10416666666666667, 0.8958333333333334], [0.9791666666666666, 0.020833333333333332], [1.0, 0.0], [0.0, 1.0], [1.0, 0.0], [1.0, 0.0], [0.020833333333333332, 0.9791666666666666], [1.0, 0.0], [0.0, 1.0], [0.10416666666666667, 0.8958333333333334], [0.9375, 0.0625], [1.0, 0.0], [0.22916666666666666, 0.7708333333333334], [1.0, 0.0], [1.0, 0.0], [1.0, 0.0], [0.14583333333333334, 0.8541666666666666], [0.0, 1.0], [0.3958333333333333, 0.6041666666666666], [1.0, 0.0], [0.0, 1.0], [0.0, 1.0], [0.9375, 0.0625], [0.0, 1.0], [0.7083333333333334, 0.2916666666666667], [0.0, 1.0], [0.0, 1.0], [0.8333333333333334, 0.16666666666666666], [0.0, 1.0], [0.0, 1.0], [0.14583333333333334, 0.8541666666666666], [1.0, 0.0], [0.0, 1.0], [0.3125, 0.6875], [1.0, 0.0], [0.9375, 0.0625], [0.6041666666666666, 0.3958333333333333], [1.0, 0.0], [0.9375, 0.0625], [0.6875, 0.3125], [0.08333333333333333, 0.9166666666666666], [0.9375, 0.0625], [0.625, 0.375], [0.0, 1.0], [1.0, 0.0], [0.0625, 0.9375], [1.0, 0.0], [1.0, 0.0], [0.5208333333333334, 0.4791666666666667], [0.0, 1.0], [0.0, 1.0], [0.4166666666666667, 0.5833333333333334], [0.7916666666666666, 0.20833333333333334], [0.0, 1.0], [1.0, 0.0], [0.3541666666666667, 0.6458333333333334], [1.0, 0.0], [0.3333333333333333, 0.6666666666666666], [1.0, 0.0], [0.0, 1.0], [0.75, 0.25], [0.6041666666666666, 0.3958333333333333], [1.0, 0.0], [0.10416666666666667, 0.8958333333333334], [0.3125, 0.6875], [0.8125, 0.1875], [0.3958333333333333, 0.6041666666666666], [1.0, 0.0], [0.9791666666666666, 0.020833333333333332], [0.75, 0.25], [0.020833333333333332, 0.9791666666666666], [0.0, 1.0], [0.25, 0.75], [0.0, 1.0], [0.0, 1.0], [0.4791666666666667, 0.5208333333333334], [0.16666666666666666, 0.8333333333333334], [0.8541666666666666, 0.14583333333333334], [0.3333333333333333, 0.6666666666666666], [0.0, 1.0], [0.0, 1.0], [0.2916666666666667, 0.7083333333333334], [0.9791666666666666, 0.020833333333333332], [1.0, 0.0], [0.0, 1.0], [0.0, 1.0], [0.0, 1.0], [0.75, 0.25], [1.0, 0.0], [0.0, 1.0], [0.14583333333333334, 0.8541666666666666], [0.375, 0.625], [1.0, 0.0], [0.020833333333333332, 0.9791666666666666], [1.0, 0.0], [1.0, 0.0], [0.16666666666666666, 0.8333333333333334], [0.0, 1.0], [1.0, 0.0], [0.125, 0.875], [0.0, 1.0], [0.9375, 0.0625], [0.125, 0.875], [0.0, 1.0], [1.0, 0.0], [0.1875, 0.8125], [0.0, 1.0], [0.9791666666666666, 0.020833333333333332], [0.22916666666666666, 0.7708333333333334], [0.08333333333333333, 0.9166666666666666], [0.25, 0.75], [0.20833333333333334, 0.7916666666666666], [1.0, 0.0], [1.0, 0.0], [0.16666666666666666, 0.8333333333333334], [0.9791666666666666, 0.020833333333333332], [1.0, 0.0], [0.4375, 0.5625], [0.0, 1.0], [0.0, 1.0], [0.4583333333333333, 0.5416666666666666], [0.9791666666666666, 0.020833333333333332], [0.3333333333333333, 0.6666666666666666], [0.02127659574468085, 0.9787234042553191], [1.0, 0.0], [0.1875, 0.8125], [0.1875, 0.8125], [0.0, 1.0], [0.0, 1.0], [0.6458333333333334, 0.3541666666666667], [0.2916666666666667, 0.7083333333333334], [0.9375, 0.0625], [0.14583333333333334, 0.8541666666666666], [0.25, 0.75], [1.0, 0.0], [0.14583333333333334, 0.8541666666666666], [0.8297872340425532, 0.1702127659574468], [1.0, 0.0], [0.4375, 0.5625], [1.0, 0.0], [1.0, 0.0], [0.9791666666666666, 0.020833333333333332], [0.0, 1.0], [0.0, 1.0], [0.3541666666666667, 0.6458333333333334], [0.9791666666666666, 0.020833333333333332], [1.0, 0.0], [0.6382978723404256, 0.3617021276595745], [0.2708333333333333, 0.7291666666666666], [0.7291666666666666, 0.2708333333333333], [0.1875, 0.8125], [0.10416666666666667, 0.8958333333333334], [0.020833333333333332, 0.9791666666666666], [0.7291666666666666, 0.2708333333333333], [0.0625, 0.9375], [0.0, 1.0], [0.9166666666666666, 0.08333333333333333], [0.041666666666666664, 0.9583333333333334], [0.0, 1.0], [0.3076923076923077, 0.6923076923076923], [0.2708333333333333, 0.7291666666666666], [0.9791666666666666, 0.020833333333333332], [0.0, 1.0], [0.0, 1.0], [1.0, 0.0], [1.0, 0.0], [0.0, 1.0], [0.7916666666666666, 0.20833333333333334], [0.75, 0.25], [0.9166666666666666, 0.08333333333333333], [0.08333333333333333, 0.9166666666666666], [0.9791666666666666, 0.020833333333333332], [0.0, 1.0], [1.0, 0.0], [0.9166666666666666, 0.08333333333333333], [0.2708333333333333, 0.7291666666666666], [0.20833333333333334, 0.7916666666666666], [0.75, 0.25], [0.3541666666666667, 0.6458333333333334], [0.0, 1.0], [0.625, 0.375], [0.12903225806451613, 0.8709677419354839], [0.9032258064516129, 0.0967741935483871], [0.9032258064516129, 0.0967741935483871], [0.5161290322580645, 0.4838709677419355], [0.9032258064516129, 0.0967741935483871], [0.4166666666666667, 0.5833333333333334], [0.2708333333333333, 0.7291666666666666], [0.9791666666666666, 0.020833333333333332], [0.7083333333333334, 0.2916666666666667], [0.25, 0.75], [0.0, 1.0], [1.0, 0.0], [0.3333333333333333, 0.6666666666666666], [0.8333333333333334, 0.16666666666666666], [1.0, 0.0], [0.20833333333333334, 0.7916666666666666], [0.4166666666666667, 0.5833333333333334], [1.0, 0.0], [0.625, 0.375], [1.0, 0.0], [0.0, 1.0], [0.1875, 0.8125], [0.9166666666666666, 0.08333333333333333], [0.25, 0.75], [0.20833333333333334, 0.7916666666666666], [0.0, 1.0], [1.0, 0.0], [0.4166666666666667, 0.5833333333333334], [0.0, 1.0], [1.0, 0.0], [0.625, 0.375], [0.0, 1.0], [1.0, 0.0], [0.7708333333333334, 0.22916666666666666], [1.0, 0.0], [1.0, 0.0], [0.5, 0.5], [0.8958333333333334, 0.10416666666666667], [0.8958333333333334, 0.10416666666666667], [0.6666666666666666, 0.3333333333333333], [0.8125, 0.1875], [0.0, 1.0], [0.1875, 0.8125], [1.0, 0.0], [0.0, 1.0], [0.4583333333333333, 0.5416666666666666], [1.0, 0.0], [1.0, 0.0], [0.14583333333333334, 0.8541666666666666], [0.0, 1.0], [0.0, 1.0], [0.5416666666666666, 0.4583333333333333], [0.0, 1.0], [1.0, 0.0], [0.3125, 0.6875], [0.0, 1.0], [0.0, 1.0], [0.2708333333333333, 0.7291666666666666], [1.0, 0.0], [0.0, 1.0], [0.7083333333333334, 0.2916666666666667], [0.0, 1.0], [1.0, 0.0], [0.7708333333333334, 0.22916666666666666], [0.14583333333333334, 0.8541666666666666], [0.8541666666666666, 0.14583333333333334], [0.5416666666666666, 0.4583333333333333], [1.0, 0.0], [1.0, 0.0], [0.375, 0.625], [0.0, 1.0], [0.0, 1.0], [0.4791666666666667, 0.5208333333333334], [0.20833333333333334, 0.7916666666666666], [0.8541666666666666, 0.14583333333333334], [0.16666666666666666, 0.8333333333333334], [0.0, 1.0], [1.0, 0.0], [0.0625, 0.9375], [0.2708333333333333, 0.7291666666666666], [0.0, 1.0], [0.5625, 0.4375], [0.3333333333333333, 0.6666666666666666], [0.6666666666666666, 0.3333333333333333], [0.3958333333333333, 0.6041666666666666], [1.0, 0.0], [1.0, 0.0], [0.16666666666666666, 0.8333333333333334], [0.3125, 0.6875], [1.0, 0.0], [0.25, 0.75], [0.0, 1.0], [1.0, 0.0], [0.25, 0.75], [0.24444444444444444, 0.7555555555555555], [0.6222222222222222, 0.37777777777777777], [0.17777777777777778, 0.8222222222222222], [0.5111111111111111, 0.4888888888888889], [0.35555555555555557, 0.6444444444444445], [0.6222222222222222, 0.37777777777777777], [0.9791666666666666, 0.020833333333333332], [0.6875, 0.3125], [0.3333333333333333, 0.6666666666666666], [0.6458333333333334, 0.3541666666666667], [0.0, 1.0], [0.3958333333333333, 0.6041666666666666], [0.0, 1.0], [0.14583333333333334, 0.8541666666666666], [0.6875, 0.3125], [0.0, 1.0], [0.0, 1.0], [0.7083333333333334, 0.2916666666666667], [0.5625, 0.4375], [0.875, 0.125], [0.6458333333333334, 0.3541666666666667], [0.375, 0.625], [0.5833333333333334, 0.4166666666666667], [0.3958333333333333, 0.6041666666666666], [0.0, 1.0], [0.3333333333333333, 0.6666666666666666], [0.3958333333333333, 0.6041666666666666], [0.4375, 0.5625], [0.3541666666666667, 0.6458333333333334], [0.625, 0.375], [0.0, 1.0], [0.0, 1.0], [0.0, 1.0], [1.0, 0.0], [0.0, 1.0], [0.0, 1.0], [0.0625, 0.9375], [1.0, 0.0], [0.0625, 0.9375], [0.8541666666666666, 0.14583333333333334], [1.0, 0.0], [0.14583333333333334, 0.8541666666666666], [0.9166666666666666, 0.08333333333333333], [0.16666666666666666, 0.8333333333333334], [0.1875, 0.8125], [0.08333333333333333, 0.9166666666666666], [1.0, 0.0], [0.3333333333333333, 0.6666666666666666], [0.0, 1.0], [0.0, 1.0], [0.7916666666666666, 0.20833333333333334], [0.0625, 0.9375], [0.0625, 0.9375], [0.3125, 0.6875], [0.7708333333333334, 0.22916666666666666], [1.0, 0.0], [0.8333333333333334, 0.16666666666666666], [0.0, 1.0], [0.0, 1.0], [0.75, 0.25], [0.0, 1.0], [0.0, 1.0], [0.22916666666666666, 0.7708333333333334], [1.0, 0.0], [1.0, 0.0], [0.0, 1.0], [0.0, 1.0], [1.0, 0.0], [0.0625, 0.9375], [1.0, 0.0], [0.0, 1.0], [0.0, 1.0], [0.0, 1.0], [1.0, 0.0], [0.10416666666666667, 0.8958333333333334], [0.8541666666666666, 0.14583333333333334], [0.9791666666666666, 0.020833333333333332], [0.08333333333333333, 0.9166666666666666], [0.14583333333333334, 0.8541666666666666], [0.0, 1.0], [0.3125, 0.6875], [0.0, 1.0], [1.0, 0.0], [0.0625, 0.9375], [0.0, 1.0], [1.0, 0.0], [0.0, 1.0], [1.0, 0.0], [0.9791666666666666, 0.020833333333333332], [0.0625, 0.9375], [0.020833333333333332, 0.9791666666666666], [1.0, 0.0], [0.0, 1.0], [0.0, 1.0], [1.0, 0.0], [0.0625, 0.9375], [0.0, 1.0], [0.0, 1.0], [0.9791666666666666, 0.020833333333333332], [0.0, 1.0], [0.0, 1.0], [0.3125, 0.6875], [1.0, 0.0], [1.0, 0.0], [0.3541666666666667, 0.6458333333333334], [1.0, 0.0], [0.0, 1.0], [0.0, 1.0], [0.0, 1.0], [0.0, 1.0], [0.0, 1.0], [0.9791666666666666, 0.020833333333333332], [1.0, 0.0], [0.375, 0.625], [1.0, 0.0], [1.0, 0.0], [0.9375, 0.0625], [0.0, 1.0], [0.0, 1.0], [0.9375, 0.0625], [0.0, 1.0], [1.0, 0.0], [0.0625, 0.9375], [1.0, 0.0], [0.0, 1.0], [0.3125, 0.6875], [0.0, 1.0], [1.0, 0.0], [0.375, 0.625], [0.0, 1.0], [0.0, 1.0], [0.14583333333333334, 0.8541666666666666], [0.9166666666666666, 0.08333333333333333], [1.0, 0.0], [0.020833333333333332, 0.9791666666666666], [1.0, 0.0], [1.0, 0.0], [0.8333333333333334, 0.16666666666666666], [0.0, 1.0], [1.0, 0.0], [0.125, 0.875], [0.0, 1.0], [0.0, 1.0], [0.2708333333333333, 0.7291666666666666], [1.0, 0.0], [0.0, 1.0], [0.875, 0.125], [0.0, 1.0], [0.0, 1.0], [0.4583333333333333, 0.5416666666666666], [0.22916666666666666, 0.7708333333333334], [1.0, 0.0], [0.4791666666666667, 0.5208333333333334], [1.0, 0.0], [1.0, 0.0], [0.0, 1.0], [0.0, 1.0], [0.0, 1.0], [0.3125, 0.6875], [0.0, 1.0], [0.0, 1.0], [0.3125, 0.6875], [0.9791666666666666, 0.020833333333333332], [1.0, 0.0], [1.0, 0.0], [0.0, 1.0], [0.0, 1.0], [0.9791666666666666, 0.020833333333333332], [0.0625, 0.9375], [1.0, 0.0], [0.22916666666666666, 0.7708333333333334], [0.9791666666666666, 0.020833333333333332], [1.0, 0.0], [0.6041666666666666, 0.3958333333333333], [0.08333333333333333, 0.9166666666666666], [1.0, 0.0], [0.3333333333333333, 0.6666666666666666], [0.0, 1.0], [0.0, 1.0], [0.1875, 0.8125], [0.0, 1.0], [0.0, 1.0], [0.9791666666666666, 0.020833333333333332], [0.0, 1.0], [0.0, 1.0], [0.9166666666666666, 0.08333333333333333], [0.0, 1.0], [1.0, 0.0], [0.10416666666666667, 0.8958333333333334], [0.9791666666666666, 0.020833333333333332], [1.0, 0.0], [0.10416666666666667, 0.8958333333333334], [0.0, 1.0], [1.0, 0.0], [0.0, 1.0], [0.9791666666666666, 0.020833333333333332], [1.0, 0.0], [0.10416666666666667, 0.8958333333333334], [1.0, 0.0], [1.0, 0.0], [0.6875, 0.3125], [1.0, 0.0], [0.9791666666666666, 0.020833333333333332], [0.125, 0.875], [1.0, 0.0], [0.0, 1.0], [0.5625, 0.4375], [0.0, 1.0], [0.0, 1.0], [0.6458333333333334, 0.3541666666666667], [0.0, 1.0], [1.0, 0.0], [1.0, 0.0], [0.0, 1.0], [0.0, 1.0], [0.875, 0.125], [0.0, 1.0], [0.0, 1.0], [0.2708333333333333, 0.7291666666666666], [0.3541666666666667, 0.6458333333333334], [1.0, 0.0], [1.0, 0.0], [0.0, 1.0], [0.0, 1.0], [0.8541666666666666, 0.14583333333333334], [0.0, 1.0], [0.0, 1.0], [0.6458333333333334, 0.3541666666666667], [0.5833333333333334, 0.4166666666666667], [0.3125, 0.6875], [0.4375, 0.5625], [0.375, 0.625], [0.4166666666666667, 0.5833333333333334], [0.041666666666666664, 0.9583333333333334], [1.0, 0.0], [1.0, 0.0], [0.4166666666666667, 0.5833333333333334], [1.0, 0.0], [0.2916666666666667, 0.7083333333333334], [0.4166666666666667, 0.5833333333333334], [0.0625, 0.9375], [0.6458333333333334, 0.3541666666666667], [0.4583333333333333, 0.5416666666666666], [0.10416666666666667, 0.8958333333333334], [0.0625, 0.9375], [0.25, 0.75], [1.0, 0.0], [1.0, 0.0], [0.16666666666666666, 0.8333333333333334], [0.5208333333333334, 0.4791666666666667], [1.0, 0.0], [0.3541666666666667, 0.6458333333333334], [0.2916666666666667, 0.7083333333333334], [0.2916666666666667, 0.7083333333333334], [0.5833333333333334, 0.4166666666666667], [1.0, 0.0], [0.0, 1.0], [0.6458333333333334, 0.3541666666666667], [1.0, 0.0], [1.0, 0.0], [0.125, 0.875], [1.0, 0.0], [1.0, 0.0], [0.14583333333333334, 0.8541666666666666], [0.9791666666666666, 0.020833333333333332], [0.0, 1.0], [0.10416666666666667, 0.8958333333333334], [0.0, 1.0], [1.0, 0.0], [0.10416666666666667, 0.8958333333333334], [1.0, 0.0], [1.0, 0.0], [0.0625, 0.9375], [0.9791666666666666, 0.020833333333333332], [0.0, 1.0], [0.0625, 0.9375], [0.9791666666666666, 0.020833333333333332], [0.0, 1.0], [0.14583333333333334, 0.8541666666666666], [0.0, 1.0], [0.0, 1.0], [0.6666666666666666, 0.3333333333333333], [0.0, 1.0], [1.0, 0.0], [0.4375, 0.5625], [0.0, 1.0], [1.0, 0.0], [0.0, 1.0], [1.0, 0.0], [0.0, 1.0], [0.08333333333333333, 0.9166666666666666], [0.0, 1.0], [0.9791666666666666, 0.020833333333333332], [0.0, 1.0], [0.0, 1.0], [1.0, 0.0], [0.4583333333333333, 0.5416666666666666], [1.0, 0.0], [1.0, 0.0], [0.3125, 0.6875], [0.0, 1.0], [1.0, 0.0], [0.22916666666666666, 0.7708333333333334], [1.0, 0.0], [0.0, 1.0], [0.0, 1.0], [0.0, 1.0], [1.0, 0.0], [0.10416666666666667, 0.8958333333333334], [0.0, 1.0], [0.9791666666666666, 0.020833333333333332], [0.020833333333333332, 0.9791666666666666], [0.0, 1.0], [1.0, 0.0], [0.0, 1.0], [1.0, 0.0], [1.0, 0.0], [0.375, 0.625], [0.0, 1.0], [1.0, 0.0], [0.4375, 0.5625], [1.0, 0.0], [1.0, 0.0], [0.0, 1.0], [1.0, 0.0], [0.0, 1.0], [0.0, 1.0], [1.0, 0.0], [1.0, 0.0], [0.3125, 0.6875], [0.020833333333333332, 0.9791666666666666], [0.0, 1.0], [0.041666666666666664, 0.9583333333333334], [1.0, 0.0], [0.0, 1.0], [0.0, 1.0], [0.9791666666666666, 0.020833333333333332], [0.9791666666666666, 0.020833333333333332], [0.25, 0.75], [0.0, 1.0], [0.0, 1.0], [0.75, 0.25], [0.0, 1.0], [1.0, 0.0], [0.16666666666666666, 0.8333333333333334], [0.9166666666666666, 0.08333333333333333], [1.0, 0.0], [0.8333333333333334, 0.16666666666666666], [0.0, 1.0], [1.0, 0.0], [0.0625, 0.9375], [1.0, 0.0], [1.0, 0.0], [0.4166666666666667, 0.5833333333333334], [1.0, 0.0], [0.0, 1.0], [0.7708333333333334, 0.22916666666666666], [1.0, 0.0], [0.0, 1.0], [0.25, 0.75], [1.0, 0.0], [1.0, 0.0], [0.3958333333333333, 0.6041666666666666], [1.0, 0.0], [1.0, 0.0], [0.5, 0.5], [0.6458333333333334, 0.3541666666666667], [0.75, 0.25], [0.16666666666666666, 0.8333333333333334], [1.0, 0.0], [1.0, 0.0], [0.75, 0.25], [0.8958333333333334, 0.10416666666666667], [0.10416666666666667, 0.8958333333333334], [0.8958333333333334, 0.10416666666666667], [0.8333333333333334, 0.16666666666666666], [0.25, 0.75], [0.9166666666666666, 0.08333333333333333], [0.8958333333333334, 0.10416666666666667], [0.8541666666666666, 0.14583333333333334], [0.9166666666666666, 0.08333333333333333], [0.0, 1.0], [0.9791666666666666, 0.020833333333333332], [0.20833333333333334, 0.7916666666666666], [0.0, 1.0], [1.0, 0.0], [0.3125, 0.6875], [1.0, 0.0], [1.0, 0.0], [1.0, 0.0], [0.10416666666666667, 0.8958333333333334], [0.0, 1.0], [0.8333333333333334, 0.16666666666666666], [0.0, 1.0], [1.0, 0.0], [0.4583333333333333, 0.5416666666666666], [0.7916666666666666, 0.20833333333333334], [0.9791666666666666, 0.020833333333333332], [0.5625, 0.4375], [0.875, 0.125], [0.1875, 0.8125], [0.7083333333333334, 0.2916666666666667], [0.10416666666666667, 0.8958333333333334], [1.0, 0.0], [0.4791666666666667, 0.5208333333333334], [0.0, 1.0], [0.0, 1.0], [0.8125, 0.1875], [0.2708333333333333, 0.7291666666666666], [0.7291666666666666, 0.2708333333333333], [0.9583333333333334, 0.041666666666666664], [1.0, 0.0], [1.0, 0.0], [0.75, 0.25], [1.0, 0.0], [0.0, 1.0], [0.9791666666666666, 0.020833333333333332], [0.0, 1.0], [1.0, 0.0], [0.14583333333333334, 0.8541666666666666], [0.0, 1.0], [0.0, 1.0], [0.8541666666666666, 0.14583333333333334], [0.0, 1.0], [0.0, 1.0], [0.0, 1.0], [0.0, 1.0], [0.0, 1.0], [0.020833333333333332, 0.9791666666666666], [1.0, 0.0], [1.0, 0.0], [0.9375, 0.0625], [0.0, 1.0], [0.0, 1.0], [0.25, 0.75], [1.0, 0.0], [0.0, 1.0], [0.625, 0.375], [0.08333333333333333, 0.9166666666666666], [0.0, 1.0], [0.9791666666666666, 0.020833333333333332], [1.0, 0.0], [1.0, 0.0], [0.041666666666666664, 0.9583333333333334], [0.0, 1.0], [0.9791666666666666, 0.020833333333333332], [0.08333333333333333, 0.9166666666666666], [0.9791666666666666, 0.020833333333333332], [0.0, 1.0], [0.10416666666666667, 0.8958333333333334], [0.0, 1.0], [0.0, 1.0], [1.0, 0.0], [0.9166666666666666, 0.08333333333333333], [0.9166666666666666, 0.08333333333333333], [0.7916666666666666, 0.20833333333333334], [0.0, 1.0], [1.0, 0.0], [0.0, 1.0], [1.0, 0.0], [1.0, 0.0]]\n"
     ]
    }
   ],
   "source": [
    "print(a_or_t_percentage)"
   ]
  },
  {
   "cell_type": "code",
   "execution_count": 220,
   "metadata": {},
   "outputs": [
    {
     "name": "stderr",
     "output_type": "stream",
     "text": [
      "/Applications/Ana/anaconda/lib/python3.6/site-packages/ipykernel_launcher.py:2: UserWarning: \n",
      "This call to matplotlib.use() has no effect because the backend has already\n",
      "been chosen; matplotlib.use() must be called *before* pylab, matplotlib.pyplot,\n",
      "or matplotlib.backends is imported for the first time.\n",
      "\n",
      "The backend was *originally* set to 'module://ipykernel.pylab.backend_inline' by the following code:\n",
      "  File \"/Applications/Ana/anaconda/lib/python3.6/runpy.py\", line 193, in _run_module_as_main\n",
      "    \"__main__\", mod_spec)\n",
      "  File \"/Applications/Ana/anaconda/lib/python3.6/runpy.py\", line 85, in _run_code\n",
      "    exec(code, run_globals)\n",
      "  File \"/Applications/Ana/anaconda/lib/python3.6/site-packages/ipykernel_launcher.py\", line 16, in <module>\n",
      "    app.launch_new_instance()\n",
      "  File \"/Applications/Ana/anaconda/lib/python3.6/site-packages/traitlets/config/application.py\", line 658, in launch_instance\n",
      "    app.start()\n",
      "  File \"/Applications/Ana/anaconda/lib/python3.6/site-packages/ipykernel/kernelapp.py\", line 477, in start\n",
      "    ioloop.IOLoop.instance().start()\n",
      "  File \"/Applications/Ana/anaconda/lib/python3.6/site-packages/zmq/eventloop/ioloop.py\", line 177, in start\n",
      "    super(ZMQIOLoop, self).start()\n",
      "  File \"/Applications/Ana/anaconda/lib/python3.6/site-packages/tornado/ioloop.py\", line 888, in start\n",
      "    handler_func(fd_obj, events)\n",
      "  File \"/Applications/Ana/anaconda/lib/python3.6/site-packages/tornado/stack_context.py\", line 277, in null_wrapper\n",
      "    return fn(*args, **kwargs)\n",
      "  File \"/Applications/Ana/anaconda/lib/python3.6/site-packages/zmq/eventloop/zmqstream.py\", line 440, in _handle_events\n",
      "    self._handle_recv()\n",
      "  File \"/Applications/Ana/anaconda/lib/python3.6/site-packages/zmq/eventloop/zmqstream.py\", line 472, in _handle_recv\n",
      "    self._run_callback(callback, msg)\n",
      "  File \"/Applications/Ana/anaconda/lib/python3.6/site-packages/zmq/eventloop/zmqstream.py\", line 414, in _run_callback\n",
      "    callback(*args, **kwargs)\n",
      "  File \"/Applications/Ana/anaconda/lib/python3.6/site-packages/tornado/stack_context.py\", line 277, in null_wrapper\n",
      "    return fn(*args, **kwargs)\n",
      "  File \"/Applications/Ana/anaconda/lib/python3.6/site-packages/ipykernel/kernelbase.py\", line 283, in dispatcher\n",
      "    return self.dispatch_shell(stream, msg)\n",
      "  File \"/Applications/Ana/anaconda/lib/python3.6/site-packages/ipykernel/kernelbase.py\", line 235, in dispatch_shell\n",
      "    handler(stream, idents, msg)\n",
      "  File \"/Applications/Ana/anaconda/lib/python3.6/site-packages/ipykernel/kernelbase.py\", line 399, in execute_request\n",
      "    user_expressions, allow_stdin)\n",
      "  File \"/Applications/Ana/anaconda/lib/python3.6/site-packages/ipykernel/ipkernel.py\", line 196, in do_execute\n",
      "    res = shell.run_cell(code, store_history=store_history, silent=silent)\n",
      "  File \"/Applications/Ana/anaconda/lib/python3.6/site-packages/ipykernel/zmqshell.py\", line 533, in run_cell\n",
      "    return super(ZMQInteractiveShell, self).run_cell(*args, **kwargs)\n",
      "  File \"/Applications/Ana/anaconda/lib/python3.6/site-packages/IPython/core/interactiveshell.py\", line 2717, in run_cell\n",
      "    interactivity=interactivity, compiler=compiler, result=result)\n",
      "  File \"/Applications/Ana/anaconda/lib/python3.6/site-packages/IPython/core/interactiveshell.py\", line 2821, in run_ast_nodes\n",
      "    if self.run_code(code, result):\n",
      "  File \"/Applications/Ana/anaconda/lib/python3.6/site-packages/IPython/core/interactiveshell.py\", line 2881, in run_code\n",
      "    exec(code_obj, self.user_global_ns, self.user_ns)\n",
      "  File \"<ipython-input-170-7fb83cf97bc4>\", line 1, in <module>\n",
      "    get_ipython().magic('matplotlib inline')\n",
      "  File \"/Applications/Ana/anaconda/lib/python3.6/site-packages/IPython/core/interactiveshell.py\", line 2158, in magic\n",
      "    return self.run_line_magic(magic_name, magic_arg_s)\n",
      "  File \"/Applications/Ana/anaconda/lib/python3.6/site-packages/IPython/core/interactiveshell.py\", line 2079, in run_line_magic\n",
      "    result = fn(*args,**kwargs)\n",
      "  File \"<decorator-gen-104>\", line 2, in matplotlib\n",
      "  File \"/Applications/Ana/anaconda/lib/python3.6/site-packages/IPython/core/magic.py\", line 188, in <lambda>\n",
      "    call = lambda f, *a, **k: f(*a, **k)\n",
      "  File \"/Applications/Ana/anaconda/lib/python3.6/site-packages/IPython/core/magics/pylab.py\", line 100, in matplotlib\n",
      "    gui, backend = self.shell.enable_matplotlib(args.gui)\n",
      "  File \"/Applications/Ana/anaconda/lib/python3.6/site-packages/IPython/core/interactiveshell.py\", line 2949, in enable_matplotlib\n",
      "    pt.activate_matplotlib(backend)\n",
      "  File \"/Applications/Ana/anaconda/lib/python3.6/site-packages/IPython/core/pylabtools.py\", line 308, in activate_matplotlib\n",
      "    matplotlib.pyplot.switch_backend(backend)\n",
      "  File \"/Applications/Ana/anaconda/lib/python3.6/site-packages/matplotlib/pyplot.py\", line 231, in switch_backend\n",
      "    matplotlib.use(newbackend, warn=False, force=True)\n",
      "  File \"/Applications/Ana/anaconda/lib/python3.6/site-packages/matplotlib/__init__.py\", line 1400, in use\n",
      "    reload(sys.modules['matplotlib.backends'])\n",
      "  File \"/Applications/Ana/anaconda/lib/python3.6/importlib/__init__.py\", line 166, in reload\n",
      "    _bootstrap._exec(spec, module)\n",
      "  File \"/Applications/Ana/anaconda/lib/python3.6/site-packages/matplotlib/backends/__init__.py\", line 16, in <module>\n",
      "    line for line in traceback.format_stack()\n",
      "\n",
      "\n",
      "  \n"
     ]
    }
   ],
   "source": [
    "import matplotlib\n",
    "matplotlib.use('Agg')\n",
    "import matplotlib.pyplot as plt\n",
    "%matplotlib inline "
   ]
  },
  {
   "cell_type": "code",
   "execution_count": 221,
   "metadata": {
    "collapsed": true
   },
   "outputs": [],
   "source": [
    "x = [i for i in range(col)]\n",
    "y = a_or_t_percentage"
   ]
  },
  {
   "cell_type": "code",
   "execution_count": 222,
   "metadata": {
    "scrolled": true
   },
   "outputs": [
    {
     "name": "stdout",
     "output_type": "stream",
     "text": [
      "0\n",
      "1\n"
     ]
    },
    {
     "data": {
      "image/png": "[encoded data removed]",
      "text/plain": [
       "<Figure size 432x288 with 1 Axes>"
      ]
     },
     "metadata": {},
     "output_type": "display_data"
    }
   ],
   "source": [
    "import matplotlib.pyplot as plt\n",
    "plt.xlabel(\"Position\")\n",
    "plt.ylabel(\"AorT/GorC\")\n",
    "plt.title(\"A test graph\")\n",
    "for i in range(2):\n",
    "    print(i)\n",
    "    plt.plot(x,[pt[i] for pt in y],label = 'Percent %s'%i)\n",
    "plt.legend()\n",
    "plt.show()\n"
   ]
  },
  {
   "cell_type": "code",
   "execution_count": 223,
   "metadata": {},
   "outputs": [
    {
     "data": {
      "text/plain": [
       "[['rh.61'],\n",
       " ['rh.58'],\n",
       " ['pi.2'],\n",
       " ['pi.3', 'pi.1'],\n",
       " ['rh.10'],\n",
       " ['bb.1', 'bb.2'],\n",
       " ['hu.17', 'hu.6'],\n",
       " ['rh.2'],\n",
       " ['rh.40'],\n",
       " ['hu.67'],\n",
       " ['hu.37'],\n",
       " ['hu.40', 'hu.66'],\n",
       " ['hu.41', 'rh.38', 'hu.42'],\n",
       " ['cy.3'],\n",
       " ['cy.6', 'cy.4'],\n",
       " ['cy.5', 'rh.13'],\n",
       " ['rh.35'],\n",
       " ['rh.36', 'rh.37'],\n",
       " ['cy.2'],\n",
       " ['rh.54'],\n",
       " ['rh.55'],\n",
       " ['rh.48', 'rh.62'],\n",
       " ['hu.43'],\n",
       " ['hu.48'],\n",
       " ['hu.44', 'hu.46'],\n",
       " ['hu.14'],\n",
       " ['hu.31', 'hu.32', 'rh.43', 'rh.64'],\n",
       " ['rh.57', 'rh.51', 'rh.49', 'rh.53', 'rh.50']]"
      ]
     },
     "execution_count": 223,
     "metadata": {},
     "output_type": "execute_result"
    }
   ],
   "source": [
    "clusters\n"
   ]
  },
  {
   "cell_type": "code",
   "execution_count": null,
   "metadata": {},
   "outputs": [],
   "source": []
  },
  {
   "cell_type": "code",
   "execution_count": 226,
   "metadata": {
    "collapsed": true
   },
   "outputs": [],
   "source": [
    "def aligned_seq(name):\n",
    "    f=\"\"\n",
    "    for record in align:\n",
    "        if(record.id==name):\n",
    "            f = record.seq\n",
    "    return f\n"
   ]
  },
  {
   "cell_type": "code",
   "execution_count": 227,
   "metadata": {},
   "outputs": [
    {
     "data": {
      "text/plain": [
       "[['rh.61'],\n",
       " ['rh.58'],\n",
       " ['pi.2'],\n",
       " ['pi.3', 'pi.1'],\n",
       " ['rh.10'],\n",
       " ['bb.1', 'bb.2'],\n",
       " ['hu.17', 'hu.6'],\n",
       " ['rh.2'],\n",
       " ['rh.40'],\n",
       " ['hu.67'],\n",
       " ['hu.37'],\n",
       " ['hu.40', 'hu.66'],\n",
       " ['hu.41', 'rh.38', 'hu.42'],\n",
       " ['cy.3'],\n",
       " ['cy.6', 'cy.4'],\n",
       " ['cy.5', 'rh.13'],\n",
       " ['rh.35'],\n",
       " ['rh.36', 'rh.37'],\n",
       " ['cy.2'],\n",
       " ['rh.54'],\n",
       " ['rh.55'],\n",
       " ['rh.48', 'rh.62'],\n",
       " ['hu.43'],\n",
       " ['hu.48'],\n",
       " ['hu.44', 'hu.46'],\n",
       " ['hu.14'],\n",
       " ['hu.31', 'hu.32', 'rh.43', 'rh.64'],\n",
       " ['rh.57', 'rh.51', 'rh.49', 'rh.53', 'rh.50']]"
      ]
     },
     "execution_count": 227,
     "metadata": {},
     "output_type": "execute_result"
    }
   ],
   "source": [
    "clusters"
   ]
  },
  {
   "cell_type": "code",
   "execution_count": 228,
   "metadata": {
    "collapsed": true
   },
   "outputs": [],
   "source": [
    "clusters_index = {rec+1:clusters[rec] for rec in range(len(clusters))}\n",
    "        "
   ]
  },
  {
   "cell_type": "code",
   "execution_count": 229,
   "metadata": {},
   "outputs": [
    {
     "name": "stdout",
     "output_type": "stream",
     "text": [
      "{1: ['rh.61'], 2: ['rh.58'], 3: ['pi.2'], 4: ['pi.3', 'pi.1'], 5: ['rh.10'], 6: ['bb.1', 'bb.2'], 7: ['hu.17', 'hu.6'], 8: ['rh.2'], 9: ['rh.40'], 10: ['hu.67'], 11: ['hu.37'], 12: ['hu.40', 'hu.66'], 13: ['hu.41', 'rh.38', 'hu.42'], 14: ['cy.3'], 15: ['cy.6', 'cy.4'], 16: ['cy.5', 'rh.13'], 17: ['rh.35'], 18: ['rh.36', 'rh.37'], 19: ['cy.2'], 20: ['rh.54'], 21: ['rh.55'], 22: ['rh.48', 'rh.62'], 23: ['hu.43'], 24: ['hu.48'], 25: ['hu.44', 'hu.46'], 26: ['hu.14'], 27: ['hu.31', 'hu.32', 'rh.43', 'rh.64'], 28: ['rh.57', 'rh.51', 'rh.49', 'rh.53', 'rh.50']}\n"
     ]
    }
   ],
   "source": [
    "print(clusters_index)"
   ]
  },
  {
   "cell_type": "code",
   "execution_count": 230,
   "metadata": {
    "scrolled": true
   },
   "outputs": [
    {
     "name": "stdout",
     "output_type": "stream",
     "text": [
      "['rh.61']\n",
      "['rh.58']\n",
      "['pi.2']\n",
      "['pi.3', 'pi.1']\n",
      "['rh.10']\n",
      "['bb.1', 'bb.2']\n",
      "['hu.17', 'hu.6']\n",
      "['rh.2']\n",
      "['rh.40']\n",
      "['hu.67']\n",
      "['hu.37']\n",
      "['hu.40', 'hu.66']\n",
      "['hu.41', 'rh.38', 'hu.42']\n",
      "['cy.3']\n",
      "['cy.6', 'cy.4']\n",
      "['cy.5', 'rh.13']\n",
      "['rh.35']\n",
      "['rh.36', 'rh.37']\n",
      "['cy.2']\n",
      "['rh.54']\n",
      "['rh.55']\n",
      "['rh.48', 'rh.62']\n",
      "['hu.43']\n",
      "['hu.48']\n",
      "['hu.44', 'hu.46']\n",
      "['hu.14']\n",
      "['hu.31', 'hu.32', 'rh.43', 'rh.64']\n",
      "['rh.57', 'rh.51', 'rh.49', 'rh.53', 'rh.50']\n"
     ]
    }
   ],
   "source": [
    "list_of_cluster_sequences = []\n",
    "for rec in clusters_index.values():\n",
    "    print(rec)\n",
    "    blanki=\"\"\n",
    "    for i in range(len(rec)):\n",
    "          blanki=blanki+aligned_seq(rec[i])\n",
    "    list_of_cluster_sequences.append(blanki)\n",
    "\n",
    "        "
   ]
  },
  {
   "cell_type": "code",
   "execution_count": 231,
   "metadata": {},
   "outputs": [
    {
     "name": "stdout",
     "output_type": "stream",
     "text": [
      "28\n"
     ]
    }
   ],
   "source": [
    "print(len(list_of_cluster_sequences)) #list of sequences of 28 clusters"
   ]
  },
  {
   "cell_type": "code",
   "execution_count": 232,
   "metadata": {
    "collapsed": true
   },
   "outputs": [],
   "source": [
    "\n",
    "count_cluster_seq=[]\n",
    "for rec in list_of_cluster_sequences:\n",
    "    count_cluster_seq.append(countAorT_percentage(rec)) #percentage of ACTG w/o position for 28 clusters"
   ]
  },
  {
   "cell_type": "code",
   "execution_count": 233,
   "metadata": {},
   "outputs": [
    {
     "name": "stdout",
     "output_type": "stream",
     "text": [
      "[[0.43346865133062695, 0.566531348669373], [0.43437077131258456, 0.5656292286874154], [0.41484517304189433, 0.5851548269581056], [0.4143897996357013, 0.5856102003642987], [0.4415877311682454, 0.5584122688317547], [0.439106901217862, 0.560893098782138], [0.439106901217862, 0.560893098782138], [0.4429409111411818, 0.5570590888588183], [0.45331529093369416, 0.5466847090663058], [0.4528642309427154, 0.5471357690572847], [0.4519621109607578, 0.5480378890392422], [0.4512855209742896, 0.5487144790257105], [0.4518117576304315, 0.5481882423695685], [0.4412437128486511, 0.5587562871513488], [0.4382716049382716, 0.5617283950617284], [0.4380429812528578, 0.5619570187471422], [0.4488584474885845, 0.5511415525114155], [0.4488584474885845, 0.5511415525114155], [0.44534778681120146, 0.5546522131887985], [0.4480578139114724, 0.5519421860885275], [0.44263775971093045, 0.5573622402890696], [0.4415085817524842, 0.5584914182475158], [0.45754290876242093, 0.542457091237579], [0.459520578923564, 0.540479421076436], [0.46132971506105835, 0.5386702849389416], [0.4762550881953867, 0.5237449118046132], [0.4569491525423729, 0.5430508474576271], [0.43455119530897607, 0.5654488046910239]]\n"
     ]
    }
   ],
   "source": [
    "print(count_cluster_seq)"
   ]
  },
  {
   "cell_type": "code",
   "execution_count": 234,
   "metadata": {
    "collapsed": true
   },
   "outputs": [],
   "source": [
    "x_total = len(clusters)"
   ]
  },
  {
   "cell_type": "code",
   "execution_count": 235,
   "metadata": {},
   "outputs": [
    {
     "data": {
      "text/plain": [
       "28"
      ]
     },
     "execution_count": 235,
     "metadata": {},
     "output_type": "execute_result"
    }
   ],
   "source": [
    "x_total"
   ]
  },
  {
   "cell_type": "code",
   "execution_count": 236,
   "metadata": {},
   "outputs": [
    {
     "data": {
      "text/plain": [
       "28"
      ]
     },
     "execution_count": 236,
     "metadata": {},
     "output_type": "execute_result"
    }
   ],
   "source": [
    "len(count_cluster_seq)"
   ]
  },
  {
   "cell_type": "code",
   "execution_count": 237,
   "metadata": {},
   "outputs": [
    {
     "name": "stdout",
     "output_type": "stream",
     "text": [
      "{1: ['rh.61'], 2: ['rh.58'], 3: ['pi.2'], 4: ['pi.3', 'pi.1'], 5: ['rh.10'], 6: ['bb.1', 'bb.2'], 7: ['hu.17', 'hu.6'], 8: ['rh.2'], 9: ['rh.40'], 10: ['hu.67'], 11: ['hu.37'], 12: ['hu.40', 'hu.66'], 13: ['hu.41', 'rh.38', 'hu.42'], 14: ['cy.3'], 15: ['cy.6', 'cy.4'], 16: ['cy.5', 'rh.13'], 17: ['rh.35'], 18: ['rh.36', 'rh.37'], 19: ['cy.2'], 20: ['rh.54'], 21: ['rh.55'], 22: ['rh.48', 'rh.62'], 23: ['hu.43'], 24: ['hu.48'], 25: ['hu.44', 'hu.46'], 26: ['hu.14'], 27: ['hu.31', 'hu.32', 'rh.43', 'rh.64'], 28: ['rh.57', 'rh.51', 'rh.49', 'rh.53', 'rh.50']}\n"
     ]
    }
   ],
   "source": [
    "print(clusters_index)"
   ]
  },
  {
   "cell_type": "code",
   "execution_count": 238,
   "metadata": {},
   "outputs": [
    {
     "name": "stdout",
     "output_type": "stream",
     "text": [
      "SingleLetterAlphabet() alignment with 48 rows and 2238 columns\n",
      "ATGGCTGCCGATGGTTATCTTCCAGATTGGCTCGAGGACACTCT...TAA hu.31\n",
      "ATGGCTGCCGATGGTTATCTTCCAGATTGGCTCGAGGACACTCT...TAA hu.32\n",
      "ATGGCTGCCGATGGTTATCTTCCAGATTGGCTCGAGGACAACCT...TAA hu.14\n",
      "ATGGCTGCCGATGGTTATCTTCCAGATTGGCTCGAGGACACTCT...TAA hu.44\n",
      "ATGGCTGCCGACGGTTATCTTCCAGATTGGCTCGAGGACACTCT...TAA hu.46\n",
      "ATGGCTGCTGACGGTTATCTTCCAGATTGGCTCGAGGACAACCT...TAA hu.43\n",
      "ATGGCTGCCGATGGTTATCTTCCAGATTGGCTCGAGGACAACCT...TAA hu.48\n",
      "ATGGCTGCTGACGGTTATCTTCCAGATTGGCTCGAGGACAACCT...TAA pi.3\n",
      "ATGGCTGCTGACGGTTATCTTCCAGATTGGCTCGAGGACAACCT...TAA pi.1\n",
      "ATGGCTGCTGACGGTTATCTTCCAGATTGGCTCGAGGACAACCT...TAA pi.2\n",
      "ATGGCTGCCGATGGTTATCTTCCAGATTGGCTCGAGGACAACCT...TAA rh.43\n",
      "ATGGCTGCTGACGGTTATCTTCCAGATTGGCTCGAGGACAACCT...TAA rh.58\n",
      "ATGGCTGCCGATGGTTATCTTCCAGATTGGCTCGAGGACAACCT...TAA rh.57\n",
      "ATGGCTGCCGATGGTTATCTTCCAGATTGGCTCGAGGACAACCT...TAA hu.39\n",
      "ATGGCTGCCGATGGTTATCTTCCAGATTGGCTCGAGGACAACCT...TAA rh.49\n",
      "ATGGTTGCCGATGGTTATCTTCCAGATTGGCTCGAGGACAACCT...TAA rh.51\n",
      "ATGGCTGCCGATGGTTATCTTCCAGATTGGCTCGAGGACAACCT...TAA rh.61\n",
      "ATGGCTGCCGATGGTTATCTTCCAGATTGGCTCGAGGACAACCT...TAA rh.52\n",
      "...\n",
      "ATGGCTGCCGATGGTTATCTTCCAGATTGGCTCGAGGACAACCT...TAA rh.13\n"
     ]
    }
   ],
   "source": [
    "print(align)"
   ]
  },
  {
   "cell_type": "code",
   "execution_count": 239,
   "metadata": {},
   "outputs": [
    {
     "data": {
      "text/plain": [
       "48"
      ]
     },
     "execution_count": 239,
     "metadata": {},
     "output_type": "execute_result"
    }
   ],
   "source": [
    "len(align)"
   ]
  },
  {
   "cell_type": "code",
   "execution_count": 240,
   "metadata": {
    "collapsed": true
   },
   "outputs": [],
   "source": [
    "def convert_cluster_to_nparray(list1):\n",
    "    temp_align_array=[]\n",
    "    for i in list1:\n",
    "        print(i)\n",
    "        temp_align_array.append(np.array([list(rec.seq) for rec in align if rec.name==i], np.character, order=\"F\"))\n",
    "    return temp_align_array"
   ]
  },
  {
   "cell_type": "code",
   "execution_count": 241,
   "metadata": {},
   "outputs": [
    {
     "name": "stdout",
     "output_type": "stream",
     "text": [
      "hu.17\n",
      "hu.6\n",
      "[array([[b'A', b'T', b'G', ..., b'T', b'A', b'A']], \n",
      "      dtype='|S1'), array([[b'A', b'T', b'G', ..., b'T', b'A', b'A']], \n",
      "      dtype='|S1')]\n"
     ]
    }
   ],
   "source": [
    "temp = convert_cluster_to_nparray(clusters[6])\n",
    "print(temp)"
   ]
  },
  {
   "cell_type": "code",
   "execution_count": 279,
   "metadata": {},
   "outputs": [],
   "source": [
    "def pos_analysis(temp1):\n",
    "    row = len(temp1)\n",
    "    col = len(temp1[0])-1\n",
    "    positional_analysis_1=[]\n",
    "    blanks=\"\"\n",
    "    for j in range(col):\n",
    "        for i in range(row):\n",
    "            blanks = blanks + temp1[i][j].decode(\"utf-8\")\n",
    "        positional_analysis_1.append(blanks)\n",
    "        blanks=\"\"\n",
    "    return positional_analysis_1\n",
    "pa1 = pos_analysis(temp)"
   ]
  },
  {
   "cell_type": "code",
   "execution_count": 280,
   "metadata": {
    "collapsed": true
   },
   "outputs": [],
   "source": [
    "a_or_t_analysis_1 = []\n",
    "a_or_t_percentage_1= []\n",
    "for i in pa1:\n",
    "    a_or_t_analysis_1.append(countAorT(i))\n",
    "    a_or_t_percentage_1.append(countAorT_percentage(i))\n",
    "    "
   ]
  },
  {
   "cell_type": "code",
   "execution_count": 281,
   "metadata": {},
   "outputs": [
    {
     "name": "stdout",
     "output_type": "stream",
     "text": [
      "[]\n"
     ]
    }
   ],
   "source": [
    "print(a_or_t_percentage_1)\n"
   ]
  },
  {
   "cell_type": "code",
   "execution_count": 282,
   "metadata": {
    "collapsed": true
   },
   "outputs": [],
   "source": [
    "def plot_positions(list2):\n",
    "    x = [i for i in range(len(list2))]\n",
    "    y = list2\n",
    "    import matplotlib.pyplot as plt\n",
    "    plt.xlabel(\"Position\")\n",
    "    plt.ylabel(\"AorT (orange) /GorC (blue)\")\n",
    "    plt.title(\"Graph\")\n",
    "    for i in range(2):\n",
    "        print(i)\n",
    "        plt.plot(x,[pt[i] for pt in y])\n",
    "    fig = plt.gcf()\n",
    "    fig.set_size_inches(11,8)\n",
    "    plt.show()\n",
    "    \n"
   ]
  },
  {
   "cell_type": "code",
   "execution_count": 283,
   "metadata": {},
   "outputs": [
    {
     "name": "stdout",
     "output_type": "stream",
     "text": [
      "0\n",
      "1\n"
     ]
    },
    {
     "data": {
      "image/png": "[encoded data removed]",
      "text/plain": [
       "<Figure size 792x576 with 1 Axes>"
      ]
     },
     "metadata": {},
     "output_type": "display_data"
    }
   ],
   "source": [
    "plot_positions(a_or_t_percentage) #for ALL species\n"
   ]
  },
  {
   "cell_type": "code",
   "execution_count": 284,
   "metadata": {},
   "outputs": [
    {
     "name": "stdout",
     "output_type": "stream",
     "text": [
      "0\n",
      "1\n"
     ]
    },
    {
     "data": {
      "image/png": "[encoded data removed]",
      "text/plain": [
       "<Figure size 792x576 with 1 Axes>"
      ]
     },
     "metadata": {},
     "output_type": "display_data"
    }
   ],
   "source": [
    "plot_positions(a_or_t_percentage_1)"
   ]
  },
  {
   "cell_type": "code",
   "execution_count": 285,
   "metadata": {},
   "outputs": [
    {
     "name": "stdout",
     "output_type": "stream",
     "text": [
      "rh.61\n",
      "0\n",
      "1\n"
     ]
    },
    {
     "data": {
      "image/png": "[encoded data removed]",
      "text/plain": [
       "<Figure size 792x576 with 1 Axes>"
      ]
     },
     "metadata": {},
     "output_type": "display_data"
    },
    {
     "name": "stdout",
     "output_type": "stream",
     "text": [
      "rh.58\n",
      "0\n",
      "1\n"
     ]
    },
    {
     "data": {
      "image/png": "[encoded data removed]",
      "text/plain": [
       "<Figure size 792x576 with 1 Axes>"
      ]
     },
     "metadata": {},
     "output_type": "display_data"
    },
    {
     "name": "stdout",
     "output_type": "stream",
     "text": [
      "pi.2\n",
      "0\n",
      "1\n"
     ]
    },
    {
     "data": {
      "image/png": "[encoded data removed]",
      "text/plain": [
       "<Figure size 792x576 with 1 Axes>"
      ]
     },
     "metadata": {},
     "output_type": "display_data"
    },
    {
     "name": "stdout",
     "output_type": "stream",
     "text": [
      "pi.3\n",
      "pi.1\n",
      "0\n",
      "1\n"
     ]
    },
    {
     "data": {
      "image/png": "[encoded data removed]",
      "text/plain": [
       "<Figure size 792x576 with 1 Axes>"
      ]
     },
     "metadata": {},
     "output_type": "display_data"
    },
    {
     "name": "stdout",
     "output_type": "stream",
     "text": [
      "rh.10\n",
      "0\n",
      "1\n"
     ]
    },
    {
     "data": {
      "image/png": "[encoded data removed]",
      "text/plain": [
       "<Figure size 792x576 with 1 Axes>"
      ]
     },
     "metadata": {},
     "output_type": "display_data"
    },
    {
     "name": "stdout",
     "output_type": "stream",
     "text": [
      "bb.1\n",
      "bb.2\n",
      "0\n",
      "1\n"
     ]
    },
    {
     "data": {
      "image/png": "[encoded data removed]",
      "text/plain": [
       "<Figure size 792x576 with 1 Axes>"
      ]
     },
     "metadata": {},
     "output_type": "display_data"
    },
    {
     "name": "stdout",
     "output_type": "stream",
     "text": [
      "hu.17\n",
      "hu.6\n",
      "0\n",
      "1\n"
     ]
    },
    {
     "data": {
      "image/png": "[encoded data removed]",
      "text/plain": [
       "<Figure size 792x576 with 1 Axes>"
      ]
     },
     "metadata": {},
     "output_type": "display_data"
    },
    {
     "name": "stdout",
     "output_type": "stream",
     "text": [
      "rh.2\n",
      "0\n",
      "1\n"
     ]
    },
    {
     "data": {
      "image/png": "[encoded data removed]",
      "text/plain": [
       "<Figure size 792x576 with 1 Axes>"
      ]
     },
     "metadata": {},
     "output_type": "display_data"
    },
    {
     "name": "stdout",
     "output_type": "stream",
     "text": [
      "rh.40\n",
      "0\n",
      "1\n"
     ]
    },
    {
     "data": {
      "image/png": "[encoded data removed]",
      "text/plain": [
       "<Figure size 792x576 with 1 Axes>"
      ]
     },
     "metadata": {},
     "output_type": "display_data"
    },
    {
     "name": "stdout",
     "output_type": "stream",
     "text": [
      "hu.67\n",
      "0\n",
      "1\n"
     ]
    },
    {
     "data": {
      "image/png": "[encoded data removed]",
      "text/plain": [
       "<Figure size 792x576 with 1 Axes>"
      ]
     },
     "metadata": {},
     "output_type": "display_data"
    },
    {
     "name": "stdout",
     "output_type": "stream",
     "text": [
      "hu.37\n",
      "0\n",
      "1\n"
     ]
    },
    {
     "data": {
      "image/png": "[encoded data removed]",
      "text/plain": [
       "<Figure size 792x576 with 1 Axes>"
      ]
     },
     "metadata": {},
     "output_type": "display_data"
    },
    {
     "name": "stdout",
     "output_type": "stream",
     "text": [
      "hu.40\n",
      "hu.66\n",
      "0\n",
      "1\n"
     ]
    },
    {
     "data": {
      "image/png": "[encoded data removed]",
      "text/plain": [
       "<Figure size 792x576 with 1 Axes>"
      ]
     },
     "metadata": {},
     "output_type": "display_data"
    },
    {
     "name": "stdout",
     "output_type": "stream",
     "text": [
      "hu.41\n",
      "rh.38\n",
      "hu.42\n",
      "0\n",
      "1\n"
     ]
    },
    {
     "data": {
      "image/png": "[encoded data removed]",
      "text/plain": [
       "<Figure size 792x576 with 1 Axes>"
      ]
     },
     "metadata": {},
     "output_type": "display_data"
    },
    {
     "name": "stdout",
     "output_type": "stream",
     "text": [
      "cy.3\n",
      "0\n",
      "1\n"
     ]
    },
    {
     "data": {
      "image/png": "[encoded data removed]",
      "text/plain": [
       "<Figure size 792x576 with 1 Axes>"
      ]
     },
     "metadata": {},
     "output_type": "display_data"
    },
    {
     "name": "stdout",
     "output_type": "stream",
     "text": [
      "cy.6\n",
      "cy.4\n",
      "0\n",
      "1\n"
     ]
    },
    {
     "data": {
      "image/png": "[encoded data removed]",
      "text/plain": [
       "<Figure size 792x576 with 1 Axes>"
      ]
     },
     "metadata": {},
     "output_type": "display_data"
    },
    {
     "name": "stdout",
     "output_type": "stream",
     "text": [
      "cy.5\n",
      "rh.13\n",
      "0\n",
      "1\n"
     ]
    },
    {
     "data": {
      "image/png": "[encoded data removed]",
      "text/plain": [
       "<Figure size 792x576 with 1 Axes>"
      ]
     },
     "metadata": {},
     "output_type": "display_data"
    },
    {
     "name": "stdout",
     "output_type": "stream",
     "text": [
      "rh.35\n",
      "0\n",
      "1\n"
     ]
    },
    {
     "data": {
      "image/png": "[encoded data removed]",
      "text/plain": [
       "<Figure size 792x576 with 1 Axes>"
      ]
     },
     "metadata": {},
     "output_type": "display_data"
    },
    {
     "name": "stdout",
     "output_type": "stream",
     "text": [
      "rh.36\n",
      "rh.37\n",
      "0\n",
      "1\n"
     ]
    },
    {
     "data": {
      "image/png": "[encoded data removed]",
      "text/plain": [
       "<Figure size 792x576 with 1 Axes>"
      ]
     },
     "metadata": {},
     "output_type": "display_data"
    },
    {
     "name": "stdout",
     "output_type": "stream",
     "text": [
      "cy.2\n",
      "0\n",
      "1\n"
     ]
    },
    {
     "data": {
      "image/png": "[encoded data removed]",
      "text/plain": [
       "<Figure size 792x576 with 1 Axes>"
      ]
     },
     "metadata": {},
     "output_type": "display_data"
    },
    {
     "name": "stdout",
     "output_type": "stream",
     "text": [
      "rh.54\n",
      "0\n",
      "1\n"
     ]
    },
    {
     "data": {
      "image/png": "[encoded data removed]",
      "text/plain": [
       "<Figure size 792x576 with 1 Axes>"
      ]
     },
     "metadata": {},
     "output_type": "display_data"
    },
    {
     "name": "stdout",
     "output_type": "stream",
     "text": [
      "rh.55\n",
      "0\n",
      "1\n"
     ]
    },
    {
     "data": {
      "image/png": "[encoded data removed]",
      "text/plain": [
       "<Figure size 792x576 with 1 Axes>"
      ]
     },
     "metadata": {},
     "output_type": "display_data"
    },
    {
     "name": "stdout",
     "output_type": "stream",
     "text": [
      "rh.48\n",
      "rh.62\n",
      "0\n",
      "1\n"
     ]
    },
    {
     "data": {
      "image/png": "[encoded data removed]",
      "text/plain": [
       "<Figure size 792x576 with 1 Axes>"
      ]
     },
     "metadata": {},
     "output_type": "display_data"
    },
    {
     "name": "stdout",
     "output_type": "stream",
     "text": [
      "hu.43\n",
      "0\n",
      "1\n"
     ]
    },
    {
     "data": {
      "image/png": "[encoded data removed]",
      "text/plain": [
       "<Figure size 792x576 with 1 Axes>"
      ]
     },
     "metadata": {},
     "output_type": "display_data"
    },
    {
     "name": "stdout",
     "output_type": "stream",
     "text": [
      "hu.48\n",
      "0\n",
      "1\n"
     ]
    },
    {
     "data": {
      "image/png": "[encoded data removed]",
      "text/plain": [
       "<Figure size 792x576 with 1 Axes>"
      ]
     },
     "metadata": {},
     "output_type": "display_data"
    },
    {
     "name": "stdout",
     "output_type": "stream",
     "text": [
      "hu.44\n",
      "hu.46\n",
      "0\n",
      "1\n"
     ]
    },
    {
     "data": {
      "image/png": "[encoded data removed]",
      "text/plain": [
       "<Figure size 792x576 with 1 Axes>"
      ]
     },
     "metadata": {},
     "output_type": "display_data"
    },
    {
     "name": "stdout",
     "output_type": "stream",
     "text": [
      "hu.14\n",
      "0\n",
      "1\n"
     ]
    },
    {
     "data": {
      "image/png": "[encoded data removed]",
      "text/plain": [
       "<Figure size 792x576 with 1 Axes>"
      ]
     },
     "metadata": {},
     "output_type": "display_data"
    },
    {
     "name": "stdout",
     "output_type": "stream",
     "text": [
      "hu.31\n",
      "hu.32\n",
      "rh.43\n",
      "rh.64\n",
      "0\n",
      "1\n"
     ]
    },
    {
     "data": {
      "image/png": "[encoded data removed]",
      "text/plain": [
       "<Figure size 792x576 with 1 Axes>"
      ]
     },
     "metadata": {},
     "output_type": "display_data"
    },
    {
     "name": "stdout",
     "output_type": "stream",
     "text": [
      "rh.57\n",
      "rh.51\n",
      "rh.49\n",
      "rh.53\n",
      "rh.50\n",
      "0\n",
      "1\n"
     ]
    },
    {
     "data": {
      "image/png": "[encoded data removed]",
      "text/plain": [
       "<Figure size 792x576 with 1 Axes>"
      ]
     },
     "metadata": {},
     "output_type": "display_data"
    }
   ],
   "source": [
    "for record in range(len(clusters)):\n",
    "    temporary = convert_cluster_to_nparray(clusters[record])\n",
    "    pa1_temp = pos_analysis(temp)\n",
    "    a_or_t_analysis_temp = []\n",
    "    a_or_t_percentage_temp = []\n",
    "    for i in pa1_temp:\n",
    "        a_or_t_analysis_temp.append(countAorT(i))\n",
    "        a_or_t_percentage_temp.append(countAorT_percentage(i))\n",
    "    plot_positions(a_or_t_percentage_temp)"
   ]
  },
  {
   "cell_type": "code",
   "execution_count": 286,
   "metadata": {},
   "outputs": [
    {
     "name": "stdout",
     "output_type": "stream",
     "text": [
      "pi.3\n",
      "pi.1\n",
      "[b'A' b'T' b'G' ..., b'T' b'A' b'A']\n"
     ]
    }
   ],
   "source": [
    "clusters[3]\n",
    "temp_test = convert_cluster_to_nparray(clusters[3])\n",
    "print(temp_test[0][0])"
   ]
  },
  {
   "cell_type": "code",
   "execution_count": 287,
   "metadata": {
    "collapsed": true
   },
   "outputs": [],
   "source": [
    "def count_length(temp2):\n",
    "    temp_test_2 = convert_cluster_to_nparray(temp2)\n",
    "    row = len(temp2)\n",
    "    print(row)\n",
    "    col = len(temp_test_2[0][0])-1\n",
    "    print(col)\n",
    "    count_len=[]\n",
    "    blanks=\"\"\n",
    "    for i in range(row):\n",
    "        count=0\n",
    "        for j in range(col):\n",
    "            if(temp_test_2[i][0][j].decode(\"utf-8\")!='-'):\n",
    "                count=count+1\n",
    "        print(count)\n",
    "    return count_len"
   ]
  },
  {
   "cell_type": "code",
   "execution_count": 288,
   "metadata": {},
   "outputs": [
    {
     "name": "stdout",
     "output_type": "stream",
     "text": [
      "bb.1\n",
      "bb.2\n",
      "2\n",
      "2237\n",
      "2216\n",
      "2216\n"
     ]
    },
    {
     "data": {
      "text/plain": [
       "[]"
      ]
     },
     "execution_count": 288,
     "metadata": {},
     "output_type": "execute_result"
    }
   ],
   "source": [
    "count_length(clusters[5])"
   ]
  },
  {
   "cell_type": "code",
   "execution_count": 289,
   "metadata": {},
   "outputs": [
    {
     "name": "stdout",
     "output_type": "stream",
     "text": [
      "rh.61\n",
      "1\n",
      "2237\n",
      "2216\n",
      "rh.58\n",
      "1\n",
      "2237\n",
      "2216\n",
      "pi.2\n",
      "1\n",
      "2237\n",
      "2195\n",
      "pi.3\n",
      "pi.1\n",
      "2\n",
      "2237\n",
      "2195\n",
      "2195\n",
      "rh.10\n",
      "1\n",
      "2237\n",
      "2216\n",
      "bb.1\n",
      "bb.2\n",
      "2\n",
      "2237\n",
      "2216\n",
      "2216\n",
      "hu.17\n",
      "hu.6\n",
      "2\n",
      "2237\n",
      "2216\n",
      "2216\n",
      "rh.2\n",
      "1\n",
      "2237\n",
      "2216\n",
      "rh.40\n",
      "1\n",
      "2237\n",
      "2216\n",
      "hu.67\n",
      "1\n",
      "2237\n",
      "2216\n",
      "hu.37\n",
      "1\n",
      "2237\n",
      "2216\n",
      "hu.40\n",
      "hu.66\n",
      "2\n",
      "2237\n",
      "2216\n",
      "2216\n",
      "hu.41\n",
      "rh.38\n",
      "hu.42\n",
      "3\n",
      "2237\n",
      "2216\n",
      "2216\n",
      "2216\n",
      "cy.3\n",
      "1\n",
      "2237\n",
      "2186\n",
      "cy.6\n",
      "cy.4\n",
      "2\n",
      "2237\n",
      "2186\n",
      "2186\n",
      "cy.5\n",
      "rh.13\n",
      "2\n",
      "2237\n",
      "2186\n",
      "2186\n",
      "rh.35\n",
      "1\n",
      "2237\n",
      "2189\n",
      "rh.36\n",
      "rh.37\n",
      "2\n",
      "2237\n",
      "2189\n",
      "2189\n",
      "cy.2\n",
      "1\n",
      "2237\n",
      "2213\n",
      "rh.54\n",
      "1\n",
      "2237\n",
      "2213\n",
      "rh.55\n",
      "1\n",
      "2237\n",
      "2213\n",
      "rh.48\n",
      "rh.62\n",
      "2\n",
      "2237\n",
      "2213\n",
      "2213\n",
      "hu.43\n",
      "1\n",
      "2237\n",
      "2213\n",
      "hu.48\n",
      "1\n",
      "2237\n",
      "2210\n",
      "hu.44\n",
      "hu.46\n",
      "2\n",
      "2237\n",
      "2210\n",
      "2210\n",
      "hu.14\n",
      "1\n",
      "2237\n",
      "2210\n",
      "hu.31\n",
      "hu.32\n",
      "rh.43\n",
      "rh.64\n",
      "4\n",
      "2237\n",
      "2210\n",
      "2210\n",
      "2210\n",
      "2216\n",
      "rh.57\n",
      "rh.51\n",
      "rh.49\n",
      "rh.53\n",
      "rh.50\n",
      "5\n",
      "2237\n",
      "2216\n",
      "2216\n",
      "2216\n",
      "2216\n",
      "2216\n"
     ]
    }
   ],
   "source": [
    "for i in range(len(clusters)):\n",
    "    count_length(clusters[i])"
   ]
  },
  {
   "cell_type": "code",
   "execution_count": 290,
   "metadata": {
    "collapsed": true
   },
   "outputs": [],
   "source": [
    "from Bio import AlignIO\n",
    "align = AlignIO.read(\"seqs.aligned.fa\", \"fasta\")\n",
    "cluster_1 = {'bb.1','rh.38','rh.37','hu.46'}\n",
    "cluster_2 ={'hu.32','cy.5','hu.40','rh.61'}\n",
    "cluster_3={'pi.3','rh.48','hu.31','hu.39'}\n",
    "cluster_4={'rh.53','hu.43','rh.36','bb.2'}\n",
    "#Define clusters for box plots\n"
   ]
  },
  {
   "cell_type": "code",
   "execution_count": 291,
   "metadata": {},
   "outputs": [
    {
     "data": {
      "text/plain": [
       "<<class 'Bio.Align.MultipleSeqAlignment'> instance (48 records of length 2238, SingleLetterAlphabet()) at 11f115400>"
      ]
     },
     "execution_count": 291,
     "metadata": {},
     "output_type": "execute_result"
    }
   ],
   "source": [
    "align"
   ]
  },
  {
   "cell_type": "code",
   "execution_count": 292,
   "metadata": {},
   "outputs": [
    {
     "name": "stdout",
     "output_type": "stream",
     "text": [
      "SingleLetterAlphabet() alignment with 48 rows and 2238 columns\n",
      "ATGGCTGCCGATGGTTATCTTCCAGATTGGCTCGAGGACACTCT...TAA hu.31\n",
      "ATGGCTGCCGATGGTTATCTTCCAGATTGGCTCGAGGACACTCT...TAA hu.32\n",
      "ATGGCTGCCGATGGTTATCTTCCAGATTGGCTCGAGGACAACCT...TAA hu.14\n",
      "ATGGCTGCCGATGGTTATCTTCCAGATTGGCTCGAGGACACTCT...TAA hu.44\n",
      "ATGGCTGCCGACGGTTATCTTCCAGATTGGCTCGAGGACACTCT...TAA hu.46\n",
      "ATGGCTGCTGACGGTTATCTTCCAGATTGGCTCGAGGACAACCT...TAA hu.43\n",
      "ATGGCTGCCGATGGTTATCTTCCAGATTGGCTCGAGGACAACCT...TAA hu.48\n",
      "ATGGCTGCTGACGGTTATCTTCCAGATTGGCTCGAGGACAACCT...TAA pi.3\n",
      "ATGGCTGCTGACGGTTATCTTCCAGATTGGCTCGAGGACAACCT...TAA pi.1\n",
      "ATGGCTGCTGACGGTTATCTTCCAGATTGGCTCGAGGACAACCT...TAA pi.2\n",
      "ATGGCTGCCGATGGTTATCTTCCAGATTGGCTCGAGGACAACCT...TAA rh.43\n",
      "ATGGCTGCTGACGGTTATCTTCCAGATTGGCTCGAGGACAACCT...TAA rh.58\n",
      "ATGGCTGCCGATGGTTATCTTCCAGATTGGCTCGAGGACAACCT...TAA rh.57\n",
      "ATGGCTGCCGATGGTTATCTTCCAGATTGGCTCGAGGACAACCT...TAA hu.39\n",
      "ATGGCTGCCGATGGTTATCTTCCAGATTGGCTCGAGGACAACCT...TAA rh.49\n",
      "ATGGTTGCCGATGGTTATCTTCCAGATTGGCTCGAGGACAACCT...TAA rh.51\n",
      "ATGGCTGCCGATGGTTATCTTCCAGATTGGCTCGAGGACAACCT...TAA rh.61\n",
      "ATGGCTGCCGATGGTTATCTTCCAGATTGGCTCGAGGACAACCT...TAA rh.52\n",
      "...\n",
      "ATGGCTGCCGATGGTTATCTTCCAGATTGGCTCGAGGACAACCT...TAA rh.13\n"
     ]
    }
   ],
   "source": [
    "print(align)"
   ]
  },
  {
   "cell_type": "code",
   "execution_count": 293,
   "metadata": {},
   "outputs": [
    {
     "data": {
      "text/plain": [
       "Bio.Align.MultipleSeqAlignment"
      ]
     },
     "execution_count": 293,
     "metadata": {},
     "output_type": "execute_result"
    }
   ],
   "source": [
    "type(align)"
   ]
  },
  {
   "cell_type": "code",
   "execution_count": 294,
   "metadata": {},
   "outputs": [
    {
     "data": {
      "text/plain": [
       "SeqRecord(seq=Seq('ATGGCTGCCGATGGTTATCTTCCAGATTGGCTCGAGGACACTCTCTCTGAAGGA...TAA', SingleLetterAlphabet()), id='hu.32', name='hu.32', description='hu.32', dbxrefs=[])"
      ]
     },
     "execution_count": 294,
     "metadata": {},
     "output_type": "execute_result"
    }
   ],
   "source": [
    "align[1]"
   ]
  },
  {
   "cell_type": "code",
   "execution_count": 295,
   "metadata": {},
   "outputs": [],
   "source": [
    "str1 = aligned_seq('rh.43')"
   ]
  },
  {
   "cell_type": "code",
   "execution_count": 296,
   "metadata": {},
   "outputs": [
    {
     "data": {
      "text/plain": [
       "2238"
      ]
     },
     "execution_count": 296,
     "metadata": {},
     "output_type": "execute_result"
    }
   ],
   "source": [
    "len(str1)"
   ]
  },
  {
   "cell_type": "code",
   "execution_count": 297,
   "metadata": {},
   "outputs": [],
   "source": [
    "def count_sequence_length(name):\n",
    "    str_seq = \"\"\n",
    "    count = 0\n",
    "    str_seq=aligned_seq(name)\n",
    "    for i in str_seq:\n",
    "        if i!='-':\n",
    "            count = count+1\n",
    "        else:\n",
    "            continue\n",
    "    return count"
   ]
  },
  {
   "cell_type": "code",
   "execution_count": 298,
   "metadata": {},
   "outputs": [
    {
     "data": {
      "text/plain": [
       "2211"
      ]
     },
     "execution_count": 298,
     "metadata": {},
     "output_type": "execute_result"
    }
   ],
   "source": [
    "count_sequence_length('rh.43')"
   ]
  },
  {
   "cell_type": "code",
   "execution_count": 299,
   "metadata": {
    "collapsed": true
   },
   "outputs": [],
   "source": [
    "count_cluster1=[]\n",
    "for i in cluster_1:\n",
    "    count_cluster1.append(count_sequence_length(i))\n",
    "\n",
    "    "
   ]
  },
  {
   "cell_type": "code",
   "execution_count": 300,
   "metadata": {},
   "outputs": [
    {
     "name": "stdout",
     "output_type": "stream",
     "text": [
      "[2217, 2211, 2217, 2190]\n"
     ]
    }
   ],
   "source": [
    "print(count_cluster1)"
   ]
  },
  {
   "cell_type": "code",
   "execution_count": 301,
   "metadata": {
    "collapsed": true
   },
   "outputs": [],
   "source": [
    "count_cluster2=[]\n",
    "for i in cluster_2:\n",
    "    count_cluster2.append(count_sequence_length(i))\n",
    "\n",
    "count_cluster3=[]\n",
    "for i in cluster_3:\n",
    "    count_cluster3.append(count_sequence_length(i))\n",
    "\n",
    "count_cluster4=[]\n",
    "for i in cluster_4:\n",
    "    count_cluster4.append(count_sequence_length(i))\n"
   ]
  },
  {
   "cell_type": "code",
   "execution_count": 302,
   "metadata": {},
   "outputs": [
    {
     "name": "stdout",
     "output_type": "stream",
     "text": [
      "[2217, 2217, 2187, 2211]\n"
     ]
    }
   ],
   "source": [
    "print(count_cluster2)\n",
    "\n"
   ]
  },
  {
   "cell_type": "code",
   "execution_count": 303,
   "metadata": {},
   "outputs": [
    {
     "name": "stdout",
     "output_type": "stream",
     "text": [
      "[2211, 2214, 2217, 2196] [2190, 2217, 2214, 2217]\n"
     ]
    }
   ],
   "source": [
    "print(count_cluster3, count_cluster4)"
   ]
  },
  {
   "cell_type": "code",
   "execution_count": 304,
   "metadata": {
    "collapsed": true
   },
   "outputs": [],
   "source": [
    "data_to_plot = [count_cluster1, count_cluster2,count_cluster3,count_cluster4]"
   ]
  },
  {
   "cell_type": "code",
   "execution_count": null,
   "metadata": {
    "collapsed": true
   },
   "outputs": [],
   "source": []
  },
  {
   "cell_type": "code",
   "execution_count": 305,
   "metadata": {},
   "outputs": [
    {
     "data": {
      "text/plain": [
       "<Figure size 432x288 with 0 Axes>"
      ]
     },
     "execution_count": 305,
     "metadata": {},
     "output_type": "execute_result"
    },
    {
     "data": {
      "text/plain": [
       "<Figure size 432x288 with 0 Axes>"
      ]
     },
     "metadata": {},
     "output_type": "display_data"
    }
   ],
   "source": [
    "plt.figure()\n",
    "\n",
    "\n",
    "\n"
   ]
  },
  {
   "cell_type": "code",
   "execution_count": 306,
   "metadata": {},
   "outputs": [
    {
     "data": {
      "image/png": "[encoded data removed]",
      "text/plain": [
       "<Figure size 432x288 with 1 Axes>"
      ]
     },
     "metadata": {},
     "output_type": "display_data"
    }
   ],
   "source": [
    "bp = plt.boxplot(data_to_plot)"
   ]
  },
  {
   "cell_type": "code",
   "execution_count": 307,
   "metadata": {
    "collapsed": true
   },
   "outputs": [],
   "source": [
    "plt.show()"
   ]
  },
  {
   "cell_type": "code",
   "execution_count": 311,
   "metadata": {},
   "outputs": [],
   "source": [
    "temp_1=[0 for i in range(max(count_cluster1))]\n"
   ]
  },
  {
   "cell_type": "code",
   "execution_count": 404,
   "metadata": {},
   "outputs": [],
   "source": [
    "def count_per(list1, count_list1): #count ACTG in each position\n",
    "    temp_A = [0 for i in range(max(count_list1))] #initializing the count for A/T with 0s\n",
    "    temp_G = [0 for i in range(max(count_list1))] #initializing the count for G/C with 0s\n",
    "    temp_str = \"\"\n",
    "    for j in range(4):\n",
    "        temp_str = list(aligned_seq(list(list1)[j]))\n",
    "        h=0\n",
    "        for k in temp_str:\n",
    "            if k == 'A' or k == 'T':\n",
    "                temp_A[h]=temp_A[h]+1\n",
    "            elif k=='G' or k =='C':\n",
    "                temp_G[h]=temp_G[h]+1\n",
    "            elif k=='-':\n",
    "                continue\n",
    "            else:\n",
    "                continue\n",
    "            h=h+1\n",
    "    return temp_A, temp_G\n",
    " \n",
    "                \n",
    "                \n",
    "    \n",
    "    "
   ]
  },
  {
   "cell_type": "code",
   "execution_count": 405,
   "metadata": {},
   "outputs": [],
   "source": [
    "[A1,G1] = count_per(cluster_1,count_cluster1)"
   ]
  },
  {
   "cell_type": "code",
   "execution_count": 406,
   "metadata": {},
   "outputs": [],
   "source": [
    "[A2,G2] = count_per(cluster_2,count_cluster2)"
   ]
  },
  {
   "cell_type": "code",
   "execution_count": 407,
   "metadata": {},
   "outputs": [],
   "source": [
    "[A3,G3] = count_per(cluster_3,count_cluster3)"
   ]
  },
  {
   "cell_type": "code",
   "execution_count": 408,
   "metadata": {
    "collapsed": true
   },
   "outputs": [],
   "source": [
    "[A4,G4] = count_per(cluster_4,count_cluster4)"
   ]
  },
  {
   "cell_type": "code",
   "execution_count": 409,
   "metadata": {},
   "outputs": [],
   "source": [
    "T1 = [x + y +1 for x, y in zip(A1, G1)]"
   ]
  },
  {
   "cell_type": "code",
   "execution_count": 410,
   "metadata": {},
   "outputs": [],
   "source": [
    "T2 = [x + y +1 for x, y in zip(A2, G2)]"
   ]
  },
  {
   "cell_type": "code",
   "execution_count": 411,
   "metadata": {
    "collapsed": true
   },
   "outputs": [],
   "source": [
    "T3 = [x + y +1 for x, y in zip(A3, G3)]"
   ]
  },
  {
   "cell_type": "code",
   "execution_count": 412,
   "metadata": {
    "collapsed": true
   },
   "outputs": [],
   "source": [
    "T4 = [x + y +1 for x, y in zip(A4, G4)]"
   ]
  },
  {
   "cell_type": "code",
   "execution_count": 413,
   "metadata": {},
   "outputs": [],
   "source": [
    "P_A_1 = [float(x/y) for x, y in zip(A1, T1)]"
   ]
  },
  {
   "cell_type": "code",
   "execution_count": 414,
   "metadata": {},
   "outputs": [],
   "source": [
    "P_A_2 = [float(x/y) for x, y in zip(A2, T2)]"
   ]
  },
  {
   "cell_type": "code",
   "execution_count": 415,
   "metadata": {
    "collapsed": true
   },
   "outputs": [],
   "source": [
    "P_A_3 = [float(x/y) for x, y in zip(A3, T3)]"
   ]
  },
  {
   "cell_type": "code",
   "execution_count": 416,
   "metadata": {},
   "outputs": [],
   "source": [
    "P_A_4 = [float(x/y) for x, y in zip(A4, T4)]"
   ]
  },
  {
   "cell_type": "code",
   "execution_count": 417,
   "metadata": {
    "collapsed": true
   },
   "outputs": [],
   "source": [
    "P_G_2 = [float(x/y) for x, y in zip(G2, T2)]"
   ]
  },
  {
   "cell_type": "code",
   "execution_count": 418,
   "metadata": {
    "collapsed": true
   },
   "outputs": [],
   "source": [
    "P_G_1 = [float(x/y) for x, y in zip(G1, T1)]"
   ]
  },
  {
   "cell_type": "code",
   "execution_count": 419,
   "metadata": {
    "collapsed": true
   },
   "outputs": [],
   "source": [
    "P_G_3 = [float(x/y) for x, y in zip(G3, T3)]"
   ]
  },
  {
   "cell_type": "code",
   "execution_count": 420,
   "metadata": {
    "collapsed": true
   },
   "outputs": [],
   "source": [
    "P_G_4 = [float(x/y) for x, y in zip(G4, T4)]"
   ]
  },
  {
   "cell_type": "code",
   "execution_count": 421,
   "metadata": {
    "collapsed": true
   },
   "outputs": [],
   "source": [
    "x1 = [i for i in range(len(P_A_1))]\n",
    "x2 = [i for i in range(len(P_A_2))]\n",
    "x3 = [i for i in range(len(P_A_3))]\n",
    "x4 = [i for i in range(len(P_A_4))]"
   ]
  },
  {
   "cell_type": "code",
   "execution_count": 422,
   "metadata": {},
   "outputs": [
    {
     "data": {
      "image/png": "[encoded data removed]",
      "text/plain": [
       "<Figure size 792x576 with 1 Axes>"
      ]
     },
     "metadata": {},
     "output_type": "display_data"
    }
   ],
   "source": [
    "plt.bar(x1, P_A_1)\n",
    "plt.bar(x1, P_G_1)\n",
    "fig = plt.gcf()\n",
    "fig.set_size_inches(11,8)\n",
    "plt.show()"
   ]
  },
  {
   "cell_type": "code",
   "execution_count": 423,
   "metadata": {},
   "outputs": [
    {
     "data": {
      "image/png": "[encoded data removed]",
      "text/plain": [
       "<Figure size 792x576 with 1 Axes>"
      ]
     },
     "metadata": {},
     "output_type": "display_data"
    }
   ],
   "source": [
    "plt.bar(x2, P_A_2)\n",
    "plt.bar(x2, P_G_2)\n",
    "fig = plt.gcf()\n",
    "fig.set_size_inches(11,8)\n",
    "plt.show()"
   ]
  },
  {
   "cell_type": "code",
   "execution_count": 424,
   "metadata": {},
   "outputs": [
    {
     "data": {
      "image/png": "[encoded data removed]",
      "text/plain": [
       "<Figure size 792x576 with 1 Axes>"
      ]
     },
     "metadata": {},
     "output_type": "display_data"
    }
   ],
   "source": [
    "plt.bar(x3, P_A_3)\n",
    "plt.bar(x3, P_G_3)\n",
    "fig = plt.gcf()\n",
    "fig.set_size_inches(11,8)\n",
    "plt.show()"
   ]
  },
  {
   "cell_type": "code",
   "execution_count": 425,
   "metadata": {},
   "outputs": [
    {
     "data": {
      "image/png": "[encoded data removed]",
      "text/plain": [
       "<Figure size 792x576 with 1 Axes>"
      ]
     },
     "metadata": {},
     "output_type": "display_data"
    }
   ],
   "source": [
    "plt.bar(x4, P_A_4)\n",
    "plt.bar(x4, P_G_4)\n",
    "fig = plt.gcf()\n",
    "fig.set_size_inches(11,8)\n",
    "plt.show()"
   ]
  },
  {
   "cell_type": "code",
   "execution_count": null,
   "metadata": {
    "collapsed": true
   },
   "outputs": [],
   "source": []
  },
  {
   "cell_type": "code",
   "execution_count": null,
   "metadata": {
    "collapsed": true
   },
   "outputs": [],
   "source": []
  },
  {
   "cell_type": "code",
   "execution_count": null,
   "metadata": {
    "collapsed": true
   },
   "outputs": [],
   "source": []
  },
  {
   "cell_type": "code",
   "execution_count": null,
   "metadata": {
    "collapsed": true
   },
   "outputs": [],
   "source": []
  }
 ],
 "metadata": {
  "kernelspec": {
   "display_name": "Python 3",
   "language": "python",
   "name": "python3"
  },
  "language_info": {
   "codemirror_mode": {
    "name": "ipython",
    "version": 3
   },
   "file_extension": ".py",
   "mimetype": "text/x-python",
   "name": "python",
   "nbconvert_exporter": "python",
   "pygments_lexer": "ipython3",
   "version": "3.6.1"
  }
 },
 "nbformat": 4,
 "nbformat_minor": 2
}
